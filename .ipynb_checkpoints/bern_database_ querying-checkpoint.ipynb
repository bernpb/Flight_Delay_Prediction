{
 "cells": [
  {
   "cell_type": "markdown",
   "id": "a4daa5fe-7ccd-4f8c-838f-c3034fa039b7",
   "metadata": {},
   "source": [
    "Connect to the database using credentials below:\n",
    "\n",
    "    host: mid-term-project.ca2jkepgjpne.us-east-2.rds.amazonaws.com\n",
    "    port: 5432\n",
    "    user: lhl_student\n",
    "    pwd: lhl_student\n",
    "    database: mid_term_project\n",
    "\n",
    "The database contains all tables we need for the mid-term project.\n",
    "\n"
   ]
  },
  {
   "cell_type": "code",
   "execution_count": 5,
   "id": "878c92c5-31ec-4b05-8f43-bf69b055c875",
   "metadata": {},
   "outputs": [],
   "source": [
    "import pandas as pd\n",
    "import numpy as np"
   ]
  },
  {
   "cell_type": "code",
   "execution_count": 2,
   "id": "f7ee566f-ea40-4ae3-b608-789f56a2c2eb",
   "metadata": {},
   "outputs": [],
   "source": [
    "import psycopg2\n",
    "\n",
    "# Connect to your postgres DB\n",
    "conn = psycopg2.connect(host = 'mid-term-project.ca2jkepgjpne.us-east-2.rds.amazonaws.com',\n",
    "                       port = '5432',\n",
    "                       user = 'lhl_student',\n",
    "                       password = 'lhl_student',\n",
    "                       database = 'mid_term_project')\n",
    "\n",
    "# Open a cursor to perform database operations\n",
    "cur = conn.cursor()\n"
   ]
  },
  {
   "cell_type": "code",
   "execution_count": 35,
   "id": "e8c3b554-d4b5-4617-894f-6e5931be5730",
   "metadata": {},
   "outputs": [
    {
     "data": {
      "text/html": [
       "<div>\n",
       "<style scoped>\n",
       "    .dataframe tbody tr th:only-of-type {\n",
       "        vertical-align: middle;\n",
       "    }\n",
       "\n",
       "    .dataframe tbody tr th {\n",
       "        vertical-align: top;\n",
       "    }\n",
       "\n",
       "    .dataframe thead th {\n",
       "        text-align: right;\n",
       "    }\n",
       "</style>\n",
       "<table border=\"1\" class=\"dataframe\">\n",
       "  <thead>\n",
       "    <tr style=\"text-align: right;\">\n",
       "      <th></th>\n",
       "      <th>fl_date</th>\n",
       "    </tr>\n",
       "  </thead>\n",
       "  <tbody>\n",
       "    <tr>\n",
       "      <th>0</th>\n",
       "      <td>2019-12-31</td>\n",
       "    </tr>\n",
       "    <tr>\n",
       "      <th>1</th>\n",
       "      <td>2019-12-30</td>\n",
       "    </tr>\n",
       "    <tr>\n",
       "      <th>2</th>\n",
       "      <td>2019-12-29</td>\n",
       "    </tr>\n",
       "    <tr>\n",
       "      <th>3</th>\n",
       "      <td>2019-12-28</td>\n",
       "    </tr>\n",
       "    <tr>\n",
       "      <th>4</th>\n",
       "      <td>2019-12-27</td>\n",
       "    </tr>\n",
       "    <tr>\n",
       "      <th>...</th>\n",
       "      <td>...</td>\n",
       "    </tr>\n",
       "    <tr>\n",
       "      <th>725</th>\n",
       "      <td>2018-01-05</td>\n",
       "    </tr>\n",
       "    <tr>\n",
       "      <th>726</th>\n",
       "      <td>2018-01-04</td>\n",
       "    </tr>\n",
       "    <tr>\n",
       "      <th>727</th>\n",
       "      <td>2018-01-03</td>\n",
       "    </tr>\n",
       "    <tr>\n",
       "      <th>728</th>\n",
       "      <td>2018-01-02</td>\n",
       "    </tr>\n",
       "    <tr>\n",
       "      <th>729</th>\n",
       "      <td>2018-01-01</td>\n",
       "    </tr>\n",
       "  </tbody>\n",
       "</table>\n",
       "<p>730 rows × 1 columns</p>\n",
       "</div>"
      ],
      "text/plain": [
       "        fl_date\n",
       "0    2019-12-31\n",
       "1    2019-12-30\n",
       "2    2019-12-29\n",
       "3    2019-12-28\n",
       "4    2019-12-27\n",
       "..          ...\n",
       "725  2018-01-05\n",
       "726  2018-01-04\n",
       "727  2018-01-03\n",
       "728  2018-01-02\n",
       "729  2018-01-01\n",
       "\n",
       "[730 rows x 1 columns]"
      ]
     },
     "execution_count": 35,
     "metadata": {},
     "output_type": "execute_result"
    }
   ],
   "source": [
    "pd.read_sql(\"SELECT DISTINCT fl_date FROM flights ORDER BY fl_date DESC\"\n",
    "            ,conn)"
   ]
  },
  {
   "cell_type": "markdown",
   "id": "f1277a05-5dbf-423d-ac28-4989db334f0e",
   "metadata": {},
   "source": [
    "Selecting flights from the following ranges: <br>\n",
    "(January 1, 2018 - January 15th, 2018)<br>\n",
    "(December 15, 2018 - January 15, 2019) <br>\n",
    "(December 15, 2019 - December 31, 2019)\n",
    "\n",
    "These values are likely to by the most representative of the test set, as they are dates that bound the holiday period, where flight habits are most likely to change for many people.  Could potentially extend it to other holidays important American holidays such as thanksgiving or July 4th."
   ]
  },
  {
   "cell_type": "code",
   "execution_count": null,
   "id": "0f863c31-d730-4d10-bfed-b8c1930584d9",
   "metadata": {},
   "outputs": [],
   "source": [
    "flight_data = pd.read_sql(\"SELECT * FROM flights WHERE (fl_date BETWEEN '2018-12-15'AND '2019-01-15') OR (fl_date BETWEEN '2018-01-01' AND '2018-01-15') OR (fl_date BETWEEN '2019-12-15' AND '2019-12-31')\"\n",
    "            ,conn)"
   ]
  },
  {
   "cell_type": "code",
   "execution_count": null,
   "id": "0c104000-5c05-4403-a312-70f31dd0021a",
   "metadata": {},
   "outputs": [],
   "source": [
    "flight_data"
   ]
  },
  {
   "cell_type": "code",
   "execution_count": null,
   "id": "f1f264d7-c8bd-4932-b1d7-4ed0a3c43caa",
   "metadata": {},
   "outputs": [],
   "source": []
  }
 ],
 "metadata": {
  "kernelspec": {
   "display_name": "bootcamp_env",
   "language": "python",
   "name": "bootcamp_env"
  },
  "language_info": {
   "codemirror_mode": {
    "name": "ipython",
    "version": 3
   },
   "file_extension": ".py",
   "mimetype": "text/x-python",
   "name": "python",
   "nbconvert_exporter": "python",
   "pygments_lexer": "ipython3",
   "version": "3.6.10"
  }
 },
 "nbformat": 4,
 "nbformat_minor": 5
}
