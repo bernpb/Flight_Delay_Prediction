{
 "cells": [
  {
   "cell_type": "markdown",
   "metadata": {},
   "source": [
    "# Machine Learning\n",
    "\n",
    "In this file, instructions how to approach the challenge can be found."
   ]
  },
  {
   "cell_type": "markdown",
   "metadata": {},
   "source": [
    "We are going to work on different types of Machine Learning problems:\n",
    "\n",
    "- **Regression Problem**: The goal is to predict delay of flights.\n",
    "- **(Stretch) Multiclass Classification**: If the plane was delayed, we will predict what type of delay it is (will be).\n",
    "- **(Stretch) Binary Classification**: The goal is to predict if the flight will be cancelled."
   ]
  },
  {
   "cell_type": "code",
   "execution_count": 1,
   "metadata": {},
   "outputs": [],
   "source": [
    "# Import the necessary libraries\n",
    "import pandas as pd\n",
    "import numpy as np\n",
    "import matplotlib.pyplot as plt\n",
    "import seaborn as sns\n",
    "import pickle\n",
    "\n",
    "# Preprocessing\n",
    "from sklearn.model_selection import train_test_split, GridSearchCV\n",
    "from sklearn.preprocessing import StandardScaler\n",
    "from sklearn.preprocessing import PolynomialFeatures\n",
    "from sklearn.decomposition import PCA\n",
    "from sklearn.discriminant_analysis import LinearDiscriminantAnalysis\n",
    "from sklearn.feature_selection import RFE\n",
    "\n",
    "# Models\n",
    "from sklearn.ensemble import RandomForestRegressor\n",
    "from sklearn.linear_model import LinearRegression, Ridge, Lasso\n",
    "from sklearn.naive_bayes import GaussianNB\n",
    "from sklearn.cluster import KMeans\n",
    "import xgboost as xgb\n",
    "\n",
    "# Metrics\n",
    "from sklearn.metrics import r2_score\n",
    "from sklearn.metrics import mean_absolute_error\n",
    "from sklearn.metrics import mean_squared_error\n",
    "from sklearn.metrics import accuracy_score\n",
    "from sklearn.metrics import f1_score\n",
    "from sklearn.metrics import precision_score\n",
    "from sklearn.metrics import recall_score\n",
    "from sklearn.metrics import confusion_matrix"
   ]
  },
  {
   "cell_type": "code",
   "execution_count": 2,
   "metadata": {},
   "outputs": [],
   "source": [
    "# Define some useful functions\n",
    "\n",
    "def dummify(df, column):\n",
    "    temp_list = list(df[column])\n",
    "    temp_df = pd.DataFrame(temp_list, columns = [column])\n",
    "    dummy_df = pd.get_dummies(temp_df, columns = [column], prefix = ['type_is'])\n",
    "    return dummy_df\n",
    "\n",
    "def binary_classifier_metrics(y_test, y_pred):\n",
    "    \n",
    "    \"\"\"\n",
    "    Quick function to return metrics for binary classification models.\n",
    "    \n",
    "    Requires the imports of the functions below.\n",
    "    \"\"\"\n",
    "    \n",
    "    print('Accuracy: ', accuracy_score(y_test, y_pred))\n",
    "    print('F1 score: ', f1_score(y_test, y_pred))\n",
    "    print('Precision score: ', precision_score(y_test, y_pred))\n",
    "    print('Recall score: ', recall_score(y_test, y_pred))\n",
    "    print('Confusion Matrix: \\n', confusion_matrix(y_test, y_pred))\n",
    "\n",
    "    \n",
    "def regression_metrics(y_test, y_pred):\n",
    "    print('R2 Score: ', r2_score(y_test, y_pred))\n",
    "    print('Mean Absolute Error: ', mean_absolute_error(y_test, y_pred))\n",
    "    print('Mean Squared Error: ', mean_squared_error(y_test, y_pred))\n",
    "    \n",
    "    \n",
    "def grid_search_results(grid_search, X, y):\n",
    "    \"\"\"\n",
    "    Returns grid search results in a readable format\n",
    "    \"\"\"\n",
    "    \n",
    "    print('Best Score: ',grid_search.score(X, y, ))\n",
    "    print('Best Params: ', grid_search.best_params_)"
   ]
  },
  {
   "cell_type": "code",
   "execution_count": 3,
   "metadata": {},
   "outputs": [],
   "source": [
    "def grid_search_results(grid_search, X, y):\n",
    "    print('Best Score: ',grid_search.score(X, y, ))\n",
    "    print('Best Params: ', grid_search.best_params_)"
   ]
  },
  {
   "cell_type": "code",
   "execution_count": null,
   "metadata": {},
   "outputs": [],
   "source": []
  },
  {
   "cell_type": "markdown",
   "metadata": {},
   "source": [
    "## Main Task: Regression Problem"
   ]
  },
  {
   "cell_type": "markdown",
   "metadata": {},
   "source": [
    "The target variable is **ARR_DELAY**. We need to be careful which columns to use and which don't. For example, DEP_DELAY is going to be the perfect predictor, but we can't use it because in real-life scenario, we want to predict the delay before the flight takes of --> We can use average delay from earlier days but not the one from the actual flight we predict.  \n",
    "\n",
    "For example, variables **CARRIER_DELAY, WEATHER_DELAY, NAS_DELAY, SECURITY_DELAY, LATE_AIRCRAFT_DELAY** shouldn't be used directly as predictors as well. However, we can create various transformations from earlier values.\n",
    "\n",
    "We will be evaluating your models by predicting the ARR_DELAY for all flights **1 week in advance**."
   ]
  },
  {
   "cell_type": "code",
   "execution_count": 4,
   "metadata": {},
   "outputs": [],
   "source": [
    "data = pd.read_csv('data/clean_df.csv')"
   ]
  },
  {
   "cell_type": "code",
   "execution_count": 5,
   "metadata": {},
   "outputs": [
    {
     "data": {
      "text/html": [
       "<div>\n",
       "<style scoped>\n",
       "    .dataframe tbody tr th:only-of-type {\n",
       "        vertical-align: middle;\n",
       "    }\n",
       "\n",
       "    .dataframe tbody tr th {\n",
       "        vertical-align: top;\n",
       "    }\n",
       "\n",
       "    .dataframe thead th {\n",
       "        text-align: right;\n",
       "    }\n",
       "</style>\n",
       "<table border=\"1\" class=\"dataframe\">\n",
       "  <thead>\n",
       "    <tr style=\"text-align: right;\">\n",
       "      <th></th>\n",
       "      <th>Unnamed: 0</th>\n",
       "      <th>mkt_unique_carrier</th>\n",
       "      <th>mkt_carrier_fl_num</th>\n",
       "      <th>tail_num</th>\n",
       "      <th>origin</th>\n",
       "      <th>dest</th>\n",
       "      <th>crs_dep_time</th>\n",
       "      <th>crs_arr_time</th>\n",
       "      <th>arr_delay</th>\n",
       "      <th>cancelled</th>\n",
       "      <th>...</th>\n",
       "      <th>carrier_on_time_pct</th>\n",
       "      <th>carrier_mean_delay</th>\n",
       "      <th>plane_on_time_pct</th>\n",
       "      <th>origin_on_time_pct</th>\n",
       "      <th>origin_mean_delay</th>\n",
       "      <th>fl_num_on_time_pct</th>\n",
       "      <th>route_on_time_pct</th>\n",
       "      <th>carrier_fuel_consumption</th>\n",
       "      <th>mean_taxi_out</th>\n",
       "      <th>mean_taxi_in</th>\n",
       "    </tr>\n",
       "  </thead>\n",
       "  <tbody>\n",
       "    <tr>\n",
       "      <th>0</th>\n",
       "      <td>0</td>\n",
       "      <td>NK</td>\n",
       "      <td>393</td>\n",
       "      <td>N506NK</td>\n",
       "      <td>ATL</td>\n",
       "      <td>MSY</td>\n",
       "      <td>1541</td>\n",
       "      <td>1618</td>\n",
       "      <td>-7.0</td>\n",
       "      <td>0.0</td>\n",
       "      <td>...</td>\n",
       "      <td>0.782703</td>\n",
       "      <td>-8.768192</td>\n",
       "      <td>0.718750</td>\n",
       "      <td>0.813196</td>\n",
       "      <td>-8.375575</td>\n",
       "      <td>0.784000</td>\n",
       "      <td>0.768194</td>\n",
       "      <td>3.578940e-07</td>\n",
       "      <td>15.823849</td>\n",
       "      <td>6.135301</td>\n",
       "    </tr>\n",
       "    <tr>\n",
       "      <th>1</th>\n",
       "      <td>2</td>\n",
       "      <td>NK</td>\n",
       "      <td>443</td>\n",
       "      <td>N681NK</td>\n",
       "      <td>BWI</td>\n",
       "      <td>FLL</td>\n",
       "      <td>2006</td>\n",
       "      <td>2245</td>\n",
       "      <td>13.0</td>\n",
       "      <td>0.0</td>\n",
       "      <td>...</td>\n",
       "      <td>0.782703</td>\n",
       "      <td>-8.768192</td>\n",
       "      <td>0.785088</td>\n",
       "      <td>0.764693</td>\n",
       "      <td>-8.499853</td>\n",
       "      <td>0.786408</td>\n",
       "      <td>0.686154</td>\n",
       "      <td>3.578940e-07</td>\n",
       "      <td>14.308257</td>\n",
       "      <td>6.756612</td>\n",
       "    </tr>\n",
       "    <tr>\n",
       "      <th>2</th>\n",
       "      <td>3</td>\n",
       "      <td>NK</td>\n",
       "      <td>445</td>\n",
       "      <td>N504NK</td>\n",
       "      <td>CMH</td>\n",
       "      <td>FLL</td>\n",
       "      <td>600</td>\n",
       "      <td>839</td>\n",
       "      <td>-5.0</td>\n",
       "      <td>0.0</td>\n",
       "      <td>...</td>\n",
       "      <td>0.782703</td>\n",
       "      <td>-8.768192</td>\n",
       "      <td>0.773196</td>\n",
       "      <td>0.749510</td>\n",
       "      <td>-8.277317</td>\n",
       "      <td>0.769231</td>\n",
       "      <td>0.740458</td>\n",
       "      <td>3.578940e-07</td>\n",
       "      <td>16.684853</td>\n",
       "      <td>8.970610</td>\n",
       "    </tr>\n",
       "    <tr>\n",
       "      <th>3</th>\n",
       "      <td>4</td>\n",
       "      <td>NK</td>\n",
       "      <td>446</td>\n",
       "      <td>N621NK</td>\n",
       "      <td>LAS</td>\n",
       "      <td>ORD</td>\n",
       "      <td>835</td>\n",
       "      <td>1413</td>\n",
       "      <td>-6.0</td>\n",
       "      <td>0.0</td>\n",
       "      <td>...</td>\n",
       "      <td>0.782703</td>\n",
       "      <td>-8.768192</td>\n",
       "      <td>0.833333</td>\n",
       "      <td>0.743262</td>\n",
       "      <td>-6.651488</td>\n",
       "      <td>0.697318</td>\n",
       "      <td>0.784884</td>\n",
       "      <td>3.578940e-07</td>\n",
       "      <td>15.204628</td>\n",
       "      <td>7.547092</td>\n",
       "    </tr>\n",
       "    <tr>\n",
       "      <th>4</th>\n",
       "      <td>5</td>\n",
       "      <td>NK</td>\n",
       "      <td>446</td>\n",
       "      <td>N621NK</td>\n",
       "      <td>ORD</td>\n",
       "      <td>ATL</td>\n",
       "      <td>1503</td>\n",
       "      <td>1803</td>\n",
       "      <td>6.0</td>\n",
       "      <td>0.0</td>\n",
       "      <td>...</td>\n",
       "      <td>0.782703</td>\n",
       "      <td>-8.768192</td>\n",
       "      <td>0.833333</td>\n",
       "      <td>0.725778</td>\n",
       "      <td>-6.686725</td>\n",
       "      <td>0.697318</td>\n",
       "      <td>0.725821</td>\n",
       "      <td>3.578940e-07</td>\n",
       "      <td>22.281494</td>\n",
       "      <td>6.616842</td>\n",
       "    </tr>\n",
       "  </tbody>\n",
       "</table>\n",
       "<p>5 rows × 48 columns</p>\n",
       "</div>"
      ],
      "text/plain": [
       "   Unnamed: 0 mkt_unique_carrier  mkt_carrier_fl_num tail_num origin dest  \\\n",
       "0           0                 NK                 393   N506NK    ATL  MSY   \n",
       "1           2                 NK                 443   N681NK    BWI  FLL   \n",
       "2           3                 NK                 445   N504NK    CMH  FLL   \n",
       "3           4                 NK                 446   N621NK    LAS  ORD   \n",
       "4           5                 NK                 446   N621NK    ORD  ATL   \n",
       "\n",
       "   crs_dep_time  crs_arr_time  arr_delay  cancelled  ...  carrier_on_time_pct  \\\n",
       "0          1541          1618       -7.0        0.0  ...             0.782703   \n",
       "1          2006          2245       13.0        0.0  ...             0.782703   \n",
       "2           600           839       -5.0        0.0  ...             0.782703   \n",
       "3           835          1413       -6.0        0.0  ...             0.782703   \n",
       "4          1503          1803        6.0        0.0  ...             0.782703   \n",
       "\n",
       "   carrier_mean_delay  plane_on_time_pct  origin_on_time_pct  \\\n",
       "0           -8.768192           0.718750            0.813196   \n",
       "1           -8.768192           0.785088            0.764693   \n",
       "2           -8.768192           0.773196            0.749510   \n",
       "3           -8.768192           0.833333            0.743262   \n",
       "4           -8.768192           0.833333            0.725778   \n",
       "\n",
       "   origin_mean_delay  fl_num_on_time_pct  route_on_time_pct  \\\n",
       "0          -8.375575            0.784000           0.768194   \n",
       "1          -8.499853            0.786408           0.686154   \n",
       "2          -8.277317            0.769231           0.740458   \n",
       "3          -6.651488            0.697318           0.784884   \n",
       "4          -6.686725            0.697318           0.725821   \n",
       "\n",
       "  carrier_fuel_consumption mean_taxi_out mean_taxi_in  \n",
       "0             3.578940e-07     15.823849     6.135301  \n",
       "1             3.578940e-07     14.308257     6.756612  \n",
       "2             3.578940e-07     16.684853     8.970610  \n",
       "3             3.578940e-07     15.204628     7.547092  \n",
       "4             3.578940e-07     22.281494     6.616842  \n",
       "\n",
       "[5 rows x 48 columns]"
      ]
     },
     "execution_count": 5,
     "metadata": {},
     "output_type": "execute_result"
    }
   ],
   "source": [
    "data.head()"
   ]
  },
  {
   "cell_type": "code",
   "execution_count": 6,
   "metadata": {},
   "outputs": [
    {
     "data": {
      "text/plain": [
       "(1079053, 48)"
      ]
     },
     "execution_count": 6,
     "metadata": {},
     "output_type": "execute_result"
    }
   ],
   "source": [
    "data.shape"
   ]
  },
  {
   "cell_type": "code",
   "execution_count": 7,
   "metadata": {},
   "outputs": [],
   "source": [
    "\n",
    "# Separate the target feature\n",
    "\n",
    "target = data['arr_delay']\n",
    "data = data.drop(columns = 'arr_delay')"
   ]
  },
  {
   "cell_type": "code",
   "execution_count": 8,
   "metadata": {},
   "outputs": [],
   "source": [
    "data = data.drop(columns = ['Unnamed: 0', 'dest', 'origin',\n",
    "                           'route',\n",
    "                            'arr_period',\n",
    "                            'dep_period',\n",
    "                            'mkt_unique_carrier',\n",
    "                            'mkt_carrier_fl_num',\n",
    "                            'tail_num',\n",
    "                            'dep_state',\n",
    "                           'dest_state',\n",
    "                           'crs_dep_time',\n",
    "                           'crs_arr_time',\n",
    "                            'carrier_delay',\n",
    "                           'weather_delay',\n",
    "                           'nas_delay',\n",
    "                           'security_delay',\n",
    "                           'late_aircraft_delay',\n",
    "                           'dest_match_code',\n",
    "                           'origin_match_code',\n",
    "                           'crs_dep_minutes',\n",
    "                           'crs_arr_minutes',\n",
    "                           'year', 'month', 'day',\n",
    "                           'on_time',\n",
    "                            'mkt_carrier_fl_num',\n",
    "                            'haul_type',\n",
    "                             'cancelled',\n",
    "                           'cancellation_code'\n",
    "                           ])"
   ]
  },
  {
   "cell_type": "code",
   "execution_count": 9,
   "metadata": {},
   "outputs": [
    {
     "data": {
      "text/plain": [
       "(1079053, 18)"
      ]
     },
     "execution_count": 9,
     "metadata": {},
     "output_type": "execute_result"
    }
   ],
   "source": [
    "data.shape"
   ]
  },
  {
   "cell_type": "markdown",
   "metadata": {},
   "source": [
    "# Feature Engineering and Selection"
   ]
  },
  {
   "cell_type": "markdown",
   "metadata": {},
   "source": [
    "Feature engineering will play a crucial role in this problems. We have only very little attributes so we need to create some features that will have some predictive power.\n",
    "\n",
    "- weather: we can use some weather API to look for the weather in time of the scheduled departure and scheduled arrival.\n",
    "- statistics (avg, mean, median, std, min, max...): we can take a look at previous delays and compute descriptive statistics\n",
    "- airports encoding: we need to think about what to do with the airports and other categorical variables\n",
    "- time of the day: the delay probably depends on the airport traffic which varies during the day.\n",
    "- airport traffic\n",
    "- unsupervised learning as feature engineering?\n",
    "- **what are the additional options?**: Think about what we could do more to improve the model.\n",
    "\n"
   ]
  },
  {
   "cell_type": "code",
   "execution_count": 10,
   "metadata": {},
   "outputs": [
    {
     "data": {
      "text/plain": [
       "distance                    float64\n",
       "origin_weather_condition     object\n",
       "origin_weather_severity      object\n",
       "dest_weather_condition       object\n",
       "dest_weather_severity        object\n",
       "week_day                     object\n",
       "crs_dep_hour                  int64\n",
       "crs_arr_hour                  int64\n",
       "carrier_on_time_pct         float64\n",
       "carrier_mean_delay          float64\n",
       "plane_on_time_pct           float64\n",
       "origin_on_time_pct          float64\n",
       "origin_mean_delay           float64\n",
       "fl_num_on_time_pct          float64\n",
       "route_on_time_pct           float64\n",
       "carrier_fuel_consumption    float64\n",
       "mean_taxi_out               float64\n",
       "mean_taxi_in                float64\n",
       "dtype: object"
      ]
     },
     "execution_count": 10,
     "metadata": {},
     "output_type": "execute_result"
    }
   ],
   "source": [
    "# Check the data types of the columns\n",
    "data.dtypes"
   ]
  },
  {
   "cell_type": "code",
   "execution_count": 11,
   "metadata": {},
   "outputs": [
    {
     "data": {
      "text/plain": [
       "['origin_weather_condition',\n",
       " 'origin_weather_severity',\n",
       " 'dest_weather_condition',\n",
       " 'dest_weather_severity',\n",
       " 'week_day']"
      ]
     },
     "execution_count": 11,
     "metadata": {},
     "output_type": "execute_result"
    }
   ],
   "source": [
    "# Get lists of numeric columns and object columns to facilitate making dummy variables and scaling\n",
    "\n",
    "numeric_cols = ['distance',\n",
    "               'crs_dep_hour',\n",
    "               'crs_arr_hour',\n",
    "               'carrier_on_time_pct',\n",
    "               'plane_on_time_pct',\n",
    "               'fl_num_on_time_pct',\n",
    "               'origin_on_time_pct',\n",
    "               'route_on_time_pct',\n",
    "               'mean_taxi_out', \n",
    "                'mean_taxi_in',\n",
    "               'carrier_fuel_consumption',\n",
    "                'carrier_mean_delay',\n",
    "                'origin_mean_delay'\n",
    "               ]\n",
    "obj_cols = data.drop(columns = numeric_cols).columns.to_list()\n",
    "# obj_cols.pop()\n",
    "obj_cols"
   ]
  },
  {
   "cell_type": "code",
   "execution_count": 12,
   "metadata": {},
   "outputs": [],
   "source": [
    "# Create Dummy variables for the object columns\n",
    "\n",
    "for col in obj_cols:\n",
    "    temp_df = dummify(data, col)\n",
    "    data = data.merge(temp_df, \n",
    "                               left_index = True, \n",
    "                               right_index = True)"
   ]
  },
  {
   "cell_type": "code",
   "execution_count": 13,
   "metadata": {},
   "outputs": [
    {
     "data": {
      "text/html": [
       "<div>\n",
       "<style scoped>\n",
       "    .dataframe tbody tr th:only-of-type {\n",
       "        vertical-align: middle;\n",
       "    }\n",
       "\n",
       "    .dataframe tbody tr th {\n",
       "        vertical-align: top;\n",
       "    }\n",
       "\n",
       "    .dataframe thead th {\n",
       "        text-align: right;\n",
       "    }\n",
       "</style>\n",
       "<table border=\"1\" class=\"dataframe\">\n",
       "  <thead>\n",
       "    <tr style=\"text-align: right;\">\n",
       "      <th></th>\n",
       "      <th>distance</th>\n",
       "      <th>crs_dep_hour</th>\n",
       "      <th>crs_arr_hour</th>\n",
       "      <th>carrier_on_time_pct</th>\n",
       "      <th>carrier_mean_delay</th>\n",
       "      <th>plane_on_time_pct</th>\n",
       "      <th>origin_on_time_pct</th>\n",
       "      <th>origin_mean_delay</th>\n",
       "      <th>fl_num_on_time_pct</th>\n",
       "      <th>route_on_time_pct</th>\n",
       "      <th>...</th>\n",
       "      <th>type_is_Light_y</th>\n",
       "      <th>type_is_Moderate_y</th>\n",
       "      <th>type_is_Severe_y</th>\n",
       "      <th>type_is_Friday</th>\n",
       "      <th>type_is_Monday</th>\n",
       "      <th>type_is_Saturday</th>\n",
       "      <th>type_is_Sunday</th>\n",
       "      <th>type_is_Thursday</th>\n",
       "      <th>type_is_Tuesday</th>\n",
       "      <th>type_is_Wednesday</th>\n",
       "    </tr>\n",
       "  </thead>\n",
       "  <tbody>\n",
       "    <tr>\n",
       "      <th>0</th>\n",
       "      <td>425.0</td>\n",
       "      <td>15</td>\n",
       "      <td>16</td>\n",
       "      <td>0.782703</td>\n",
       "      <td>-8.768192</td>\n",
       "      <td>0.718750</td>\n",
       "      <td>0.813196</td>\n",
       "      <td>-8.375575</td>\n",
       "      <td>0.784000</td>\n",
       "      <td>0.768194</td>\n",
       "      <td>...</td>\n",
       "      <td>1</td>\n",
       "      <td>0</td>\n",
       "      <td>0</td>\n",
       "      <td>0</td>\n",
       "      <td>0</td>\n",
       "      <td>1</td>\n",
       "      <td>0</td>\n",
       "      <td>0</td>\n",
       "      <td>0</td>\n",
       "      <td>0</td>\n",
       "    </tr>\n",
       "    <tr>\n",
       "      <th>1</th>\n",
       "      <td>925.0</td>\n",
       "      <td>20</td>\n",
       "      <td>22</td>\n",
       "      <td>0.782703</td>\n",
       "      <td>-8.768192</td>\n",
       "      <td>0.785088</td>\n",
       "      <td>0.764693</td>\n",
       "      <td>-8.499853</td>\n",
       "      <td>0.786408</td>\n",
       "      <td>0.686154</td>\n",
       "      <td>...</td>\n",
       "      <td>1</td>\n",
       "      <td>0</td>\n",
       "      <td>0</td>\n",
       "      <td>0</td>\n",
       "      <td>0</td>\n",
       "      <td>1</td>\n",
       "      <td>0</td>\n",
       "      <td>0</td>\n",
       "      <td>0</td>\n",
       "      <td>0</td>\n",
       "    </tr>\n",
       "    <tr>\n",
       "      <th>2</th>\n",
       "      <td>973.0</td>\n",
       "      <td>6</td>\n",
       "      <td>8</td>\n",
       "      <td>0.782703</td>\n",
       "      <td>-8.768192</td>\n",
       "      <td>0.773196</td>\n",
       "      <td>0.749510</td>\n",
       "      <td>-8.277317</td>\n",
       "      <td>0.769231</td>\n",
       "      <td>0.740458</td>\n",
       "      <td>...</td>\n",
       "      <td>1</td>\n",
       "      <td>0</td>\n",
       "      <td>0</td>\n",
       "      <td>0</td>\n",
       "      <td>0</td>\n",
       "      <td>1</td>\n",
       "      <td>0</td>\n",
       "      <td>0</td>\n",
       "      <td>0</td>\n",
       "      <td>0</td>\n",
       "    </tr>\n",
       "    <tr>\n",
       "      <th>3</th>\n",
       "      <td>1514.0</td>\n",
       "      <td>8</td>\n",
       "      <td>14</td>\n",
       "      <td>0.782703</td>\n",
       "      <td>-8.768192</td>\n",
       "      <td>0.833333</td>\n",
       "      <td>0.743262</td>\n",
       "      <td>-6.651488</td>\n",
       "      <td>0.697318</td>\n",
       "      <td>0.784884</td>\n",
       "      <td>...</td>\n",
       "      <td>1</td>\n",
       "      <td>0</td>\n",
       "      <td>0</td>\n",
       "      <td>0</td>\n",
       "      <td>0</td>\n",
       "      <td>1</td>\n",
       "      <td>0</td>\n",
       "      <td>0</td>\n",
       "      <td>0</td>\n",
       "      <td>0</td>\n",
       "    </tr>\n",
       "    <tr>\n",
       "      <th>4</th>\n",
       "      <td>606.0</td>\n",
       "      <td>15</td>\n",
       "      <td>18</td>\n",
       "      <td>0.782703</td>\n",
       "      <td>-8.768192</td>\n",
       "      <td>0.833333</td>\n",
       "      <td>0.725778</td>\n",
       "      <td>-6.686725</td>\n",
       "      <td>0.697318</td>\n",
       "      <td>0.725821</td>\n",
       "      <td>...</td>\n",
       "      <td>1</td>\n",
       "      <td>0</td>\n",
       "      <td>0</td>\n",
       "      <td>0</td>\n",
       "      <td>0</td>\n",
       "      <td>1</td>\n",
       "      <td>0</td>\n",
       "      <td>0</td>\n",
       "      <td>0</td>\n",
       "      <td>0</td>\n",
       "    </tr>\n",
       "  </tbody>\n",
       "</table>\n",
       "<p>5 rows × 30 columns</p>\n",
       "</div>"
      ],
      "text/plain": [
       "   distance  crs_dep_hour  crs_arr_hour  carrier_on_time_pct  \\\n",
       "0     425.0            15            16             0.782703   \n",
       "1     925.0            20            22             0.782703   \n",
       "2     973.0             6             8             0.782703   \n",
       "3    1514.0             8            14             0.782703   \n",
       "4     606.0            15            18             0.782703   \n",
       "\n",
       "   carrier_mean_delay  plane_on_time_pct  origin_on_time_pct  \\\n",
       "0           -8.768192           0.718750            0.813196   \n",
       "1           -8.768192           0.785088            0.764693   \n",
       "2           -8.768192           0.773196            0.749510   \n",
       "3           -8.768192           0.833333            0.743262   \n",
       "4           -8.768192           0.833333            0.725778   \n",
       "\n",
       "   origin_mean_delay  fl_num_on_time_pct  route_on_time_pct  ...  \\\n",
       "0          -8.375575            0.784000           0.768194  ...   \n",
       "1          -8.499853            0.786408           0.686154  ...   \n",
       "2          -8.277317            0.769231           0.740458  ...   \n",
       "3          -6.651488            0.697318           0.784884  ...   \n",
       "4          -6.686725            0.697318           0.725821  ...   \n",
       "\n",
       "   type_is_Light_y  type_is_Moderate_y  type_is_Severe_y  type_is_Friday  \\\n",
       "0                1                   0                 0               0   \n",
       "1                1                   0                 0               0   \n",
       "2                1                   0                 0               0   \n",
       "3                1                   0                 0               0   \n",
       "4                1                   0                 0               0   \n",
       "\n",
       "   type_is_Monday  type_is_Saturday  type_is_Sunday  type_is_Thursday  \\\n",
       "0               0                 1               0                 0   \n",
       "1               0                 1               0                 0   \n",
       "2               0                 1               0                 0   \n",
       "3               0                 1               0                 0   \n",
       "4               0                 1               0                 0   \n",
       "\n",
       "   type_is_Tuesday  type_is_Wednesday  \n",
       "0                0                  0  \n",
       "1                0                  0  \n",
       "2                0                  0  \n",
       "3                0                  0  \n",
       "4                0                  0  \n",
       "\n",
       "[5 rows x 30 columns]"
      ]
     },
     "execution_count": 13,
     "metadata": {},
     "output_type": "execute_result"
    }
   ],
   "source": [
    "# Drop object columns\n",
    "\n",
    "data = data.drop(columns = obj_cols)\n",
    "data.head()"
   ]
  },
  {
   "cell_type": "code",
   "execution_count": 14,
   "metadata": {},
   "outputs": [
    {
     "data": {
      "text/plain": [
       "(1079053, 30)"
      ]
     },
     "execution_count": 14,
     "metadata": {},
     "output_type": "execute_result"
    }
   ],
   "source": [
    "data.shape"
   ]
  },
  {
   "cell_type": "code",
   "execution_count": 15,
   "metadata": {},
   "outputs": [],
   "source": [
    "# Apply scaling to the numeric columns\n",
    "scaler = StandardScaler()\n",
    "numerics_scaled = scaler.fit_transform(data[numeric_cols])"
   ]
  },
  {
   "cell_type": "code",
   "execution_count": 16,
   "metadata": {},
   "outputs": [],
   "source": [
    "# Rename columns from scaling back to their original names, merge with data\n",
    "\n",
    "numeric_dict = {0: 'distance',\n",
    "               1: 'crs_dep_hour',\n",
    "               2: 'crs_arr_hour',\n",
    "               3: 'carrier_on_time_pct',\n",
    "               4: 'plane_on_time_pct',\n",
    "               5: 'fl_num_on_time_pct',\n",
    "               6: 'origin_on_time_pct',\n",
    "               7: 'route_on_time_pct',\n",
    "               8: 'origin_taxi_out',\n",
    "               9: 'carrier_fuel_consumption',\n",
    "               10: 'mean_taxi_in',\n",
    "               11: 'carrier_mean_delay',\n",
    "               12: 'origin_mean_delay'}\n",
    "numerics_scaled = pd.DataFrame(numerics_scaled).rename(columns = numeric_dict)\n",
    "data = data.drop(columns = numeric_cols)\n",
    "data = data.merge(numerics_scaled, left_index=True, right_index=True)\n"
   ]
  },
  {
   "cell_type": "code",
   "execution_count": 17,
   "metadata": {},
   "outputs": [
    {
     "data": {
      "text/plain": [
       "(1079053, 30)"
      ]
     },
     "execution_count": 17,
     "metadata": {},
     "output_type": "execute_result"
    }
   ],
   "source": [
    "data.shape"
   ]
  },
  {
   "cell_type": "code",
   "execution_count": 18,
   "metadata": {},
   "outputs": [
    {
     "data": {
      "text/plain": [
       "type_is_Adverse_x             uint8\n",
       "type_is_Clear_x               uint8\n",
       "type_is_Light_x               uint8\n",
       "type_is_Moderate_x            uint8\n",
       "type_is_Severe_x              uint8\n",
       "type_is_Adverse_y             uint8\n",
       "type_is_Clear_y               uint8\n",
       "type_is_Light_y               uint8\n",
       "type_is_Moderate_y            uint8\n",
       "type_is_Severe_y              uint8\n",
       "type_is_Friday                uint8\n",
       "type_is_Monday                uint8\n",
       "type_is_Saturday              uint8\n",
       "type_is_Sunday                uint8\n",
       "type_is_Thursday              uint8\n",
       "type_is_Tuesday               uint8\n",
       "type_is_Wednesday             uint8\n",
       "distance                    float64\n",
       "crs_dep_hour                float64\n",
       "crs_arr_hour                float64\n",
       "carrier_on_time_pct         float64\n",
       "plane_on_time_pct           float64\n",
       "fl_num_on_time_pct          float64\n",
       "origin_on_time_pct          float64\n",
       "route_on_time_pct           float64\n",
       "origin_taxi_out             float64\n",
       "carrier_fuel_consumption    float64\n",
       "mean_taxi_in                float64\n",
       "carrier_mean_delay          float64\n",
       "origin_mean_delay           float64\n",
       "dtype: object"
      ]
     },
     "execution_count": 18,
     "metadata": {},
     "output_type": "execute_result"
    }
   ],
   "source": [
    "data.dtypes"
   ]
  },
  {
   "cell_type": "code",
   "execution_count": null,
   "metadata": {},
   "outputs": [],
   "source": []
  },
  {
   "cell_type": "markdown",
   "metadata": {},
   "source": []
  },
  {
   "cell_type": "markdown",
   "metadata": {},
   "source": [
    "### Feature Selection / Dimensionality Reduction"
   ]
  },
  {
   "cell_type": "markdown",
   "metadata": {},
   "source": [
    "We need to apply different selection techniques to find out which one will be the best for our problems.\n",
    "\n",
    "- Original Features vs. PCA conponents?\n",
    "- PCA vs LDA?\n",
    "- Check for high correlation, low variance\n",
    "- Try some wrapper methods"
   ]
  },
  {
   "cell_type": "code",
   "execution_count": 19,
   "metadata": {},
   "outputs": [
    {
     "data": {
      "text/plain": [
       "(1079053, 30)"
      ]
     },
     "execution_count": 19,
     "metadata": {},
     "output_type": "execute_result"
    }
   ],
   "source": [
    "\n",
    "data_train = data\n",
    "data_train.shape"
   ]
  },
  {
   "cell_type": "code",
   "execution_count": 20,
   "metadata": {},
   "outputs": [
    {
     "data": {
      "text/plain": [
       "<AxesSubplot:>"
      ]
     },
     "execution_count": 20,
     "metadata": {},
     "output_type": "execute_result"
    },
    {
     "data": {
      "image/png": "[encoded data removed]",
      "text/plain": [
       "<Figure size 1080x864 with 2 Axes>"
      ]
     },
     "metadata": {
      "needs_background": "light"
     },
     "output_type": "display_data"
    }
   ],
   "source": [
    "df_corr = data_train.corr()\n",
    "fig, ax = plt.subplots(figsize=(15, 12))\n",
    "sns.heatmap(df_corr, annot = False, cmap=\"YlGnBu\")\n"
   ]
  },
  {
   "cell_type": "code",
   "execution_count": null,
   "metadata": {},
   "outputs": [],
   "source": []
  },
  {
   "cell_type": "markdown",
   "metadata": {},
   "source": [
    "# PCA\n",
    "\n",
    "Perform principal component analysis on the data to see if dimensionality reduction has an impact on the scores of our models.  \n",
    "Spoiler alert, it doesn't."
   ]
  },
  {
   "cell_type": "code",
   "execution_count": 21,
   "metadata": {},
   "outputs": [],
   "source": [
    "# Initialize pca with components = 2\n",
    "n_components = data_train.shape[1]\n",
    "pca = PCA(n_components = n_components)\n",
    "components = pca.fit_transform(data_train)"
   ]
  },
  {
   "cell_type": "code",
   "execution_count": 22,
   "metadata": {},
   "outputs": [
    {
     "data": {
      "text/plain": [
       "100.0"
      ]
     },
     "execution_count": 22,
     "metadata": {},
     "output_type": "execute_result"
    }
   ],
   "source": [
    "# Calculate and print the total variance\n",
    "total_variance = pca.explained_variance_ratio_.sum() * 100\n",
    "total_variance"
   ]
  },
  {
   "cell_type": "code",
   "execution_count": 23,
   "metadata": {},
   "outputs": [
    {
     "data": {
      "text/plain": [
       "array([2.56019464e+01, 1.20662315e+01, 9.34520669e+00, 7.48288407e+00,\n",
       "       6.98042037e+00, 6.39862547e+00, 5.61066599e+00, 5.24446896e+00,\n",
       "       3.33493774e+00, 3.05140423e+00, 2.76097736e+00, 2.31393981e+00,\n",
       "       1.95531742e+00, 1.13888817e+00, 1.06437935e+00, 9.73253169e-01,\n",
       "       8.74314345e-01, 8.63030160e-01, 8.48635807e-01, 4.84543859e-01,\n",
       "       4.63794965e-01, 4.41498783e-01, 2.55624037e-01, 2.37735663e-01,\n",
       "       2.07275682e-01, 3.72676654e-26, 1.49941305e-26, 7.77403133e-28,\n",
       "       5.05005115e-30, 1.24085964e-32])"
      ]
     },
     "execution_count": 23,
     "metadata": {},
     "output_type": "execute_result"
    }
   ],
   "source": [
    "pca.explained_variance_ratio_ * 100"
   ]
  },
  {
   "cell_type": "code",
   "execution_count": 24,
   "metadata": {},
   "outputs": [
    {
     "data": {
      "text/plain": [
       "Text(0.5, 1.0, 'Scree plot for 25 Component PCA Analysis')"
      ]
     },
     "execution_count": 24,
     "metadata": {},
     "output_type": "execute_result"
    },
    {
     "data": {
      "image/png": "[encoded data removed]",
      "text/plain": [
       "<Figure size 432x288 with 1 Axes>"
      ]
     },
     "metadata": {
      "needs_background": "light"
     },
     "output_type": "display_data"
    }
   ],
   "source": [
    "plt.plot(range(n_components), pca.explained_variance_ratio_)\n",
    "plt.xlabel('Number of Components')\n",
    "plt.ylabel('Explained variance')\n",
    "plt.title('Scree plot for 25 Component PCA Analysis')"
   ]
  },
  {
   "cell_type": "code",
   "execution_count": 25,
   "metadata": {},
   "outputs": [],
   "source": [
    "# Reinitialize PCA with 5 components\n",
    "n_components = 8\n",
    "pca = PCA(n_components = n_components)\n",
    "components = pca.fit_transform(data)"
   ]
  },
  {
   "cell_type": "code",
   "execution_count": 26,
   "metadata": {},
   "outputs": [
    {
     "data": {
      "text/plain": [
       "array([25.60194635, 12.06623155,  9.34520669,  7.48288406,  6.98042037,\n",
       "        6.39862546,  5.61066583,  5.24446883])"
      ]
     },
     "execution_count": 26,
     "metadata": {},
     "output_type": "execute_result"
    }
   ],
   "source": [
    "pca.explained_variance_ratio_ * 100"
   ]
  },
  {
   "cell_type": "code",
   "execution_count": null,
   "metadata": {},
   "outputs": [],
   "source": []
  },
  {
   "cell_type": "markdown",
   "metadata": {},
   "source": [
    "# Clustering"
   ]
  },
  {
   "cell_type": "code",
   "execution_count": 27,
   "metadata": {},
   "outputs": [],
   "source": [
    "# def plot_distortion(X,max_clusters = 15):\n",
    "#     distortions = []\n",
    "#     for i in range(1, max_clusters +1):\n",
    "#         km = KMeans(n_clusters=i,\n",
    "#                     init='k-means++',\n",
    "#                     n_init=10,\n",
    "#                     random_state=0)\n",
    "#         km.fit(X)\n",
    "#         distortions.append(km.inertia_)\n",
    "\n",
    "#     plt.plot(range(1,max_clusters +1), distortions, marker='o')\n",
    "#     plt.xlabel('Number of clusters')\n",
    "#     plt.ylabel('Distortion')\n",
    "#     plt.show() "
   ]
  },
  {
   "cell_type": "code",
   "execution_count": 28,
   "metadata": {},
   "outputs": [],
   "source": [
    "# plot_distortion(data_train, 10)"
   ]
  },
  {
   "cell_type": "code",
   "execution_count": 29,
   "metadata": {},
   "outputs": [],
   "source": [
    "# # Initialize the kmeans object with 3 clusters\n",
    "# k_means = km = KMeans(n_clusters = 3,\n",
    "#            n_init = 10,\n",
    "#            random_state = 13)"
   ]
  },
  {
   "cell_type": "code",
   "execution_count": 30,
   "metadata": {},
   "outputs": [],
   "source": [
    "# # Establish predicitons, assign the label to the dataset\n",
    "# y_km = km.fit_predict(data_train)\n",
    "# data_train['kmeans_label'] = y_km\n",
    "\n"
   ]
  },
  {
   "cell_type": "code",
   "execution_count": 31,
   "metadata": {},
   "outputs": [
    {
     "data": {
      "text/html": [
       "<div>\n",
       "<style scoped>\n",
       "    .dataframe tbody tr th:only-of-type {\n",
       "        vertical-align: middle;\n",
       "    }\n",
       "\n",
       "    .dataframe tbody tr th {\n",
       "        vertical-align: top;\n",
       "    }\n",
       "\n",
       "    .dataframe thead th {\n",
       "        text-align: right;\n",
       "    }\n",
       "</style>\n",
       "<table border=\"1\" class=\"dataframe\">\n",
       "  <thead>\n",
       "    <tr style=\"text-align: right;\">\n",
       "      <th></th>\n",
       "      <th>type_is_Adverse_x</th>\n",
       "      <th>type_is_Clear_x</th>\n",
       "      <th>type_is_Light_x</th>\n",
       "      <th>type_is_Moderate_x</th>\n",
       "      <th>type_is_Severe_x</th>\n",
       "      <th>type_is_Adverse_y</th>\n",
       "      <th>type_is_Clear_y</th>\n",
       "      <th>type_is_Light_y</th>\n",
       "      <th>type_is_Moderate_y</th>\n",
       "      <th>type_is_Severe_y</th>\n",
       "      <th>...</th>\n",
       "      <th>crs_dep_hour</th>\n",
       "      <th>crs_arr_hour</th>\n",
       "      <th>carrier_on_time_pct</th>\n",
       "      <th>plane_on_time_pct</th>\n",
       "      <th>fl_num_on_time_pct</th>\n",
       "      <th>origin_on_time_pct</th>\n",
       "      <th>route_on_time_pct</th>\n",
       "      <th>origin_taxi_out</th>\n",
       "      <th>carrier_fuel_consumption</th>\n",
       "      <th>mean_taxi_in</th>\n",
       "    </tr>\n",
       "  </thead>\n",
       "  <tbody>\n",
       "    <tr>\n",
       "      <th>0</th>\n",
       "      <td>0</td>\n",
       "      <td>1</td>\n",
       "      <td>1</td>\n",
       "      <td>0</td>\n",
       "      <td>0</td>\n",
       "      <td>0</td>\n",
       "      <td>1</td>\n",
       "      <td>1</td>\n",
       "      <td>0</td>\n",
       "      <td>0</td>\n",
       "      <td>...</td>\n",
       "      <td>1.695813</td>\n",
       "      <td>1.696026</td>\n",
       "      <td>-0.686404</td>\n",
       "      <td>-1.101180</td>\n",
       "      <td>-1.403533</td>\n",
       "      <td>1.623102</td>\n",
       "      <td>0.697551</td>\n",
       "      <td>-0.968189</td>\n",
       "      <td>1.462446</td>\n",
       "      <td>-0.362274</td>\n",
       "    </tr>\n",
       "    <tr>\n",
       "      <th>1</th>\n",
       "      <td>1</td>\n",
       "      <td>0</td>\n",
       "      <td>1</td>\n",
       "      <td>0</td>\n",
       "      <td>0</td>\n",
       "      <td>1</td>\n",
       "      <td>0</td>\n",
       "      <td>0</td>\n",
       "      <td>1</td>\n",
       "      <td>0</td>\n",
       "      <td>...</td>\n",
       "      <td>-0.553354</td>\n",
       "      <td>-0.652743</td>\n",
       "      <td>-0.686404</td>\n",
       "      <td>-0.951495</td>\n",
       "      <td>-1.487265</td>\n",
       "      <td>0.560583</td>\n",
       "      <td>-0.720893</td>\n",
       "      <td>0.254793</td>\n",
       "      <td>-0.138218</td>\n",
       "      <td>-0.362274</td>\n",
       "    </tr>\n",
       "    <tr>\n",
       "      <th>2</th>\n",
       "      <td>0</td>\n",
       "      <td>1</td>\n",
       "      <td>1</td>\n",
       "      <td>0</td>\n",
       "      <td>0</td>\n",
       "      <td>0</td>\n",
       "      <td>1</td>\n",
       "      <td>1</td>\n",
       "      <td>0</td>\n",
       "      <td>0</td>\n",
       "      <td>...</td>\n",
       "      <td>1.491343</td>\n",
       "      <td>1.304565</td>\n",
       "      <td>-0.686404</td>\n",
       "      <td>-1.114887</td>\n",
       "      <td>-0.794446</td>\n",
       "      <td>0.560583</td>\n",
       "      <td>-1.238644</td>\n",
       "      <td>0.254793</td>\n",
       "      <td>-0.138218</td>\n",
       "      <td>-0.362274</td>\n",
       "    </tr>\n",
       "    <tr>\n",
       "      <th>3</th>\n",
       "      <td>0</td>\n",
       "      <td>1</td>\n",
       "      <td>1</td>\n",
       "      <td>0</td>\n",
       "      <td>0</td>\n",
       "      <td>0</td>\n",
       "      <td>1</td>\n",
       "      <td>1</td>\n",
       "      <td>0</td>\n",
       "      <td>0</td>\n",
       "      <td>...</td>\n",
       "      <td>-0.144415</td>\n",
       "      <td>-0.261282</td>\n",
       "      <td>-0.686404</td>\n",
       "      <td>0.196315</td>\n",
       "      <td>-0.543250</td>\n",
       "      <td>0.521675</td>\n",
       "      <td>0.957963</td>\n",
       "      <td>-0.547216</td>\n",
       "      <td>0.705883</td>\n",
       "      <td>-0.362274</td>\n",
       "    </tr>\n",
       "    <tr>\n",
       "      <th>4</th>\n",
       "      <td>0</td>\n",
       "      <td>1</td>\n",
       "      <td>1</td>\n",
       "      <td>0</td>\n",
       "      <td>0</td>\n",
       "      <td>1</td>\n",
       "      <td>0</td>\n",
       "      <td>1</td>\n",
       "      <td>0</td>\n",
       "      <td>0</td>\n",
       "      <td>...</td>\n",
       "      <td>1.900282</td>\n",
       "      <td>1.696026</td>\n",
       "      <td>-0.686404</td>\n",
       "      <td>-0.248739</td>\n",
       "      <td>-1.564453</td>\n",
       "      <td>0.560583</td>\n",
       "      <td>1.085479</td>\n",
       "      <td>0.254793</td>\n",
       "      <td>-0.138218</td>\n",
       "      <td>-0.362274</td>\n",
       "    </tr>\n",
       "    <tr>\n",
       "      <th>...</th>\n",
       "      <td>...</td>\n",
       "      <td>...</td>\n",
       "      <td>...</td>\n",
       "      <td>...</td>\n",
       "      <td>...</td>\n",
       "      <td>...</td>\n",
       "      <td>...</td>\n",
       "      <td>...</td>\n",
       "      <td>...</td>\n",
       "      <td>...</td>\n",
       "      <td>...</td>\n",
       "      <td>...</td>\n",
       "      <td>...</td>\n",
       "      <td>...</td>\n",
       "      <td>...</td>\n",
       "      <td>...</td>\n",
       "      <td>...</td>\n",
       "      <td>...</td>\n",
       "      <td>...</td>\n",
       "      <td>...</td>\n",
       "      <td>...</td>\n",
       "    </tr>\n",
       "    <tr>\n",
       "      <th>1079048</th>\n",
       "      <td>0</td>\n",
       "      <td>1</td>\n",
       "      <td>1</td>\n",
       "      <td>0</td>\n",
       "      <td>0</td>\n",
       "      <td>0</td>\n",
       "      <td>1</td>\n",
       "      <td>1</td>\n",
       "      <td>0</td>\n",
       "      <td>0</td>\n",
       "      <td>...</td>\n",
       "      <td>1.695813</td>\n",
       "      <td>-1.827128</td>\n",
       "      <td>0.044410</td>\n",
       "      <td>-0.007138</td>\n",
       "      <td>-0.543250</td>\n",
       "      <td>-1.688567</td>\n",
       "      <td>-0.878879</td>\n",
       "      <td>1.281965</td>\n",
       "      <td>0.073442</td>\n",
       "      <td>-0.262005</td>\n",
       "    </tr>\n",
       "    <tr>\n",
       "      <th>1079049</th>\n",
       "      <td>1</td>\n",
       "      <td>0</td>\n",
       "      <td>1</td>\n",
       "      <td>0</td>\n",
       "      <td>0</td>\n",
       "      <td>1</td>\n",
       "      <td>0</td>\n",
       "      <td>1</td>\n",
       "      <td>0</td>\n",
       "      <td>0</td>\n",
       "      <td>...</td>\n",
       "      <td>-1.371233</td>\n",
       "      <td>-0.065551</td>\n",
       "      <td>0.044410</td>\n",
       "      <td>0.502043</td>\n",
       "      <td>-1.530051</td>\n",
       "      <td>-1.511549</td>\n",
       "      <td>-1.242180</td>\n",
       "      <td>0.456392</td>\n",
       "      <td>-0.546199</td>\n",
       "      <td>-0.262005</td>\n",
       "    </tr>\n",
       "    <tr>\n",
       "      <th>1079050</th>\n",
       "      <td>0</td>\n",
       "      <td>1</td>\n",
       "      <td>1</td>\n",
       "      <td>0</td>\n",
       "      <td>0</td>\n",
       "      <td>0</td>\n",
       "      <td>1</td>\n",
       "      <td>1</td>\n",
       "      <td>0</td>\n",
       "      <td>0</td>\n",
       "      <td>...</td>\n",
       "      <td>-0.144415</td>\n",
       "      <td>1.108834</td>\n",
       "      <td>0.044410</td>\n",
       "      <td>0.231325</td>\n",
       "      <td>1.155654</td>\n",
       "      <td>-0.024550</td>\n",
       "      <td>0.463425</td>\n",
       "      <td>-1.031678</td>\n",
       "      <td>-0.065454</td>\n",
       "      <td>-0.262005</td>\n",
       "    </tr>\n",
       "    <tr>\n",
       "      <th>1079051</th>\n",
       "      <td>0</td>\n",
       "      <td>1</td>\n",
       "      <td>1</td>\n",
       "      <td>0</td>\n",
       "      <td>0</td>\n",
       "      <td>0</td>\n",
       "      <td>1</td>\n",
       "      <td>1</td>\n",
       "      <td>0</td>\n",
       "      <td>0</td>\n",
       "      <td>...</td>\n",
       "      <td>0.877934</td>\n",
       "      <td>1.108834</td>\n",
       "      <td>0.044410</td>\n",
       "      <td>0.430872</td>\n",
       "      <td>-0.388484</td>\n",
       "      <td>1.352994</td>\n",
       "      <td>0.703280</td>\n",
       "      <td>1.868906</td>\n",
       "      <td>0.185344</td>\n",
       "      <td>-0.262005</td>\n",
       "    </tr>\n",
       "    <tr>\n",
       "      <th>1079052</th>\n",
       "      <td>1</td>\n",
       "      <td>0</td>\n",
       "      <td>0</td>\n",
       "      <td>0</td>\n",
       "      <td>1</td>\n",
       "      <td>0</td>\n",
       "      <td>1</td>\n",
       "      <td>1</td>\n",
       "      <td>0</td>\n",
       "      <td>0</td>\n",
       "      <td>...</td>\n",
       "      <td>0.877934</td>\n",
       "      <td>0.717372</td>\n",
       "      <td>0.044410</td>\n",
       "      <td>0.502043</td>\n",
       "      <td>0.129587</td>\n",
       "      <td>0.466093</td>\n",
       "      <td>0.077474</td>\n",
       "      <td>0.696992</td>\n",
       "      <td>-0.366995</td>\n",
       "      <td>-0.262005</td>\n",
       "    </tr>\n",
       "  </tbody>\n",
       "</table>\n",
       "<p>1079053 rows × 28 columns</p>\n",
       "</div>"
      ],
      "text/plain": [
       "         type_is_Adverse_x  type_is_Clear_x  type_is_Light_x  \\\n",
       "0                        0                1                1   \n",
       "1                        1                0                1   \n",
       "2                        0                1                1   \n",
       "3                        0                1                1   \n",
       "4                        0                1                1   \n",
       "...                    ...              ...              ...   \n",
       "1079048                  0                1                1   \n",
       "1079049                  1                0                1   \n",
       "1079050                  0                1                1   \n",
       "1079051                  0                1                1   \n",
       "1079052                  1                0                0   \n",
       "\n",
       "         type_is_Moderate_x  type_is_Severe_x  type_is_Adverse_y  \\\n",
       "0                         0                 0                  0   \n",
       "1                         0                 0                  1   \n",
       "2                         0                 0                  0   \n",
       "3                         0                 0                  0   \n",
       "4                         0                 0                  1   \n",
       "...                     ...               ...                ...   \n",
       "1079048                   0                 0                  0   \n",
       "1079049                   0                 0                  1   \n",
       "1079050                   0                 0                  0   \n",
       "1079051                   0                 0                  0   \n",
       "1079052                   0                 1                  0   \n",
       "\n",
       "         type_is_Clear_y  type_is_Light_y  type_is_Moderate_y  \\\n",
       "0                      1                1                   0   \n",
       "1                      0                0                   1   \n",
       "2                      1                1                   0   \n",
       "3                      1                1                   0   \n",
       "4                      0                1                   0   \n",
       "...                  ...              ...                 ...   \n",
       "1079048                1                1                   0   \n",
       "1079049                0                1                   0   \n",
       "1079050                1                1                   0   \n",
       "1079051                1                1                   0   \n",
       "1079052                1                1                   0   \n",
       "\n",
       "         type_is_Severe_y  ...  crs_dep_hour  crs_arr_hour  \\\n",
       "0                       0  ...      1.695813      1.696026   \n",
       "1                       0  ...     -0.553354     -0.652743   \n",
       "2                       0  ...      1.491343      1.304565   \n",
       "3                       0  ...     -0.144415     -0.261282   \n",
       "4                       0  ...      1.900282      1.696026   \n",
       "...                   ...  ...           ...           ...   \n",
       "1079048                 0  ...      1.695813     -1.827128   \n",
       "1079049                 0  ...     -1.371233     -0.065551   \n",
       "1079050                 0  ...     -0.144415      1.108834   \n",
       "1079051                 0  ...      0.877934      1.108834   \n",
       "1079052                 0  ...      0.877934      0.717372   \n",
       "\n",
       "         carrier_on_time_pct  plane_on_time_pct  fl_num_on_time_pct  \\\n",
       "0                  -0.686404          -1.101180           -1.403533   \n",
       "1                  -0.686404          -0.951495           -1.487265   \n",
       "2                  -0.686404          -1.114887           -0.794446   \n",
       "3                  -0.686404           0.196315           -0.543250   \n",
       "4                  -0.686404          -0.248739           -1.564453   \n",
       "...                      ...                ...                 ...   \n",
       "1079048             0.044410          -0.007138           -0.543250   \n",
       "1079049             0.044410           0.502043           -1.530051   \n",
       "1079050             0.044410           0.231325            1.155654   \n",
       "1079051             0.044410           0.430872           -0.388484   \n",
       "1079052             0.044410           0.502043            0.129587   \n",
       "\n",
       "         origin_on_time_pct  route_on_time_pct  origin_taxi_out  \\\n",
       "0                  1.623102           0.697551        -0.968189   \n",
       "1                  0.560583          -0.720893         0.254793   \n",
       "2                  0.560583          -1.238644         0.254793   \n",
       "3                  0.521675           0.957963        -0.547216   \n",
       "4                  0.560583           1.085479         0.254793   \n",
       "...                     ...                ...              ...   \n",
       "1079048           -1.688567          -0.878879         1.281965   \n",
       "1079049           -1.511549          -1.242180         0.456392   \n",
       "1079050           -0.024550           0.463425        -1.031678   \n",
       "1079051            1.352994           0.703280         1.868906   \n",
       "1079052            0.466093           0.077474         0.696992   \n",
       "\n",
       "         carrier_fuel_consumption  mean_taxi_in  \n",
       "0                        1.462446     -0.362274  \n",
       "1                       -0.138218     -0.362274  \n",
       "2                       -0.138218     -0.362274  \n",
       "3                        0.705883     -0.362274  \n",
       "4                       -0.138218     -0.362274  \n",
       "...                           ...           ...  \n",
       "1079048                  0.073442     -0.262005  \n",
       "1079049                 -0.546199     -0.262005  \n",
       "1079050                 -0.065454     -0.262005  \n",
       "1079051                  0.185344     -0.262005  \n",
       "1079052                 -0.366995     -0.262005  \n",
       "\n",
       "[1079053 rows x 28 columns]"
      ]
     },
     "execution_count": 31,
     "metadata": {},
     "output_type": "execute_result"
    }
   ],
   "source": [
    "data_train"
   ]
  },
  {
   "cell_type": "code",
   "execution_count": null,
   "metadata": {},
   "outputs": [],
   "source": []
  },
  {
   "cell_type": "code",
   "execution_count": null,
   "metadata": {},
   "outputs": [],
   "source": []
  },
  {
   "cell_type": "code",
   "execution_count": null,
   "metadata": {},
   "outputs": [],
   "source": []
  },
  {
   "cell_type": "code",
   "execution_count": null,
   "metadata": {},
   "outputs": [],
   "source": []
  },
  {
   "cell_type": "markdown",
   "metadata": {},
   "source": [
    "# Train Test Split\n",
    "\n",
    "Do two train test splits.  One for the standard data and another for data that underwent PCA"
   ]
  },
  {
   "cell_type": "code",
   "execution_count": 27,
   "metadata": {},
   "outputs": [],
   "source": [
    "X_train, X_val, y_train, y_val = train_test_split(data_train, target, test_size = 0.25, random_state = 13)"
   ]
  },
  {
   "cell_type": "code",
   "execution_count": 28,
   "metadata": {},
   "outputs": [],
   "source": [
    "X_train_pca, X_val_pca, y_train_pca, y_val_pca  = train_test_split(components, target, test_size = 0.25)"
   ]
  },
  {
   "cell_type": "markdown",
   "metadata": {},
   "source": [
    "# Modeling"
   ]
  },
  {
   "cell_type": "markdown",
   "metadata": {},
   "source": [
    "Use different ML techniques to predict each problem.\n",
    "\n",
    "- linear / logistic / multinomial logistic regression\n",
    "- Naive Bayes\n",
    "- Random Forest\n",
    "- SVM\n",
    "- XGBoost\n",
    "- The ensemble of your own choice"
   ]
  },
  {
   "cell_type": "markdown",
   "metadata": {},
   "source": [
    "# Random Forest"
   ]
  },
  {
   "cell_type": "code",
   "execution_count": 34,
   "metadata": {},
   "outputs": [],
   "source": [
    "# rfr = RandomForestRegressor(n_estimators = 100,\n",
    "#                             max_depth = 5)\n",
    "# rfr.fit(X_train, y_train)\n",
    "# "
   ]
  },
  {
   "cell_type": "code",
   "execution_count": 35,
   "metadata": {},
   "outputs": [],
   "source": [
    "# y_pred_rfr = rfr.predict(X_val)"
   ]
  },
  {
   "cell_type": "code",
   "execution_count": 36,
   "metadata": {},
   "outputs": [],
   "source": [
    "# regression_metrics(y_val, y_pred_rfr)"
   ]
  },
  {
   "cell_type": "code",
   "execution_count": null,
   "metadata": {},
   "outputs": [],
   "source": []
  },
  {
   "cell_type": "code",
   "execution_count": null,
   "metadata": {},
   "outputs": [],
   "source": []
  },
  {
   "cell_type": "markdown",
   "metadata": {},
   "source": [
    "# Linear Regression\n",
    "\n",
    "\n",
    "Baseline r2 = 0.0477 <br>\n",
    "PCA 20 component r2 = 0.383<br>\n",
    "\n",
    "Benchmark:<br>\n",
    "R2 Score:  0.09674605119603319<br>\n",
    "Mean Absolute Error:  10.34<br>\n",
    "Mean Squared Error:  179.70<br>\n"
   ]
  },
  {
   "cell_type": "code",
   "execution_count": 29,
   "metadata": {},
   "outputs": [
    {
     "data": {
      "text/plain": [
       "LinearRegression()"
      ]
     },
     "execution_count": 29,
     "metadata": {},
     "output_type": "execute_result"
    }
   ],
   "source": [
    "# Linear regression on raw data\n",
    "l_reg = LinearRegression()\n",
    "l_reg.fit(X_train, y_train)"
   ]
  },
  {
   "cell_type": "code",
   "execution_count": 30,
   "metadata": {},
   "outputs": [],
   "source": [
    "y_pred_l_reg = l_reg.predict(X_val)"
   ]
  },
  {
   "cell_type": "code",
   "execution_count": 31,
   "metadata": {},
   "outputs": [
    {
     "data": {
      "text/plain": [
       "array([ 4.44682090e+07,  4.44682065e+07, -5.78080997e+09, -5.78080997e+09,\n",
       "       -5.78080997e+09,  2.20360824e+09,  2.20360823e+09,  1.34614550e+11,\n",
       "        1.34614550e+11,  1.34614550e+11, -6.65271580e+10, -6.65271580e+10,\n",
       "       -6.65271580e+10, -6.65271580e+10, -6.65271580e+10, -6.65271580e+10,\n",
       "       -6.65271580e+10, -1.00869061e+00,  1.77589676e-01,  1.40762866e-01,\n",
       "        1.53264722e+00, -1.48571563e+00, -1.16029132e+00,  1.81528810e+00,\n",
       "       -2.40251667e+00,  1.98355710e-01, -1.05951982e-01,  1.15361819e-01,\n",
       "        1.51803020e+00,  2.62207733e+00])"
      ]
     },
     "execution_count": 31,
     "metadata": {},
     "output_type": "execute_result"
    }
   ],
   "source": [
    "l_reg.coef_"
   ]
  },
  {
   "cell_type": "code",
   "execution_count": 32,
   "metadata": {},
   "outputs": [
    {
     "name": "stdout",
     "output_type": "stream",
     "text": [
      "R2 Score:  0.10101472839783177\n",
      "Mean Absolute Error:  10.307543435319248\n",
      "Mean Squared Error:  179.0220563389362\n"
     ]
    }
   ],
   "source": [
    "regression_metrics(y_val, y_pred_l_reg)"
   ]
  },
  {
   "cell_type": "code",
   "execution_count": 33,
   "metadata": {},
   "outputs": [],
   "source": [
    "current_data = data_train.columns.to_list()"
   ]
  },
  {
   "cell_type": "code",
   "execution_count": 34,
   "metadata": {},
   "outputs": [
    {
     "data": {
      "text/plain": [
       "type_is_Tuesday            -6.652716e+10\n",
       "type_is_Saturday           -6.652716e+10\n",
       "type_is_Sunday             -6.652716e+10\n",
       "type_is_Wednesday          -6.652716e+10\n",
       "type_is_Monday             -6.652716e+10\n",
       "type_is_Thursday           -6.652716e+10\n",
       "type_is_Friday             -6.652716e+10\n",
       "type_is_Moderate_x         -5.780810e+09\n",
       "type_is_Severe_x           -5.780810e+09\n",
       "type_is_Light_x            -5.780810e+09\n",
       "route_on_time_pct          -2.402517e+00\n",
       "plane_on_time_pct          -1.485716e+00\n",
       "fl_num_on_time_pct         -1.160291e+00\n",
       "distance                   -1.008691e+00\n",
       "carrier_fuel_consumption   -1.059520e-01\n",
       "mean_taxi_in                1.153618e-01\n",
       "crs_arr_hour                1.407629e-01\n",
       "crs_dep_hour                1.775897e-01\n",
       "origin_taxi_out             1.983557e-01\n",
       "carrier_mean_delay          1.518030e+00\n",
       "carrier_on_time_pct         1.532647e+00\n",
       "origin_on_time_pct          1.815288e+00\n",
       "origin_mean_delay           2.622077e+00\n",
       "type_is_Clear_x             4.446821e+07\n",
       "type_is_Adverse_x           4.446821e+07\n",
       "type_is_Clear_y             2.203608e+09\n",
       "type_is_Adverse_y           2.203608e+09\n",
       "type_is_Moderate_y          1.346146e+11\n",
       "type_is_Severe_y            1.346146e+11\n",
       "type_is_Light_y             1.346146e+11\n",
       "dtype: float64"
      ]
     },
     "execution_count": 34,
     "metadata": {},
     "output_type": "execute_result"
    }
   ],
   "source": [
    "coef_dict = dict(zip(current_data, l_reg.coef_))\n",
    "coef_df = pd.Series(coef_dict)\n",
    "coef_df.sort_values()\n",
    "                "
   ]
  },
  {
   "cell_type": "code",
   "execution_count": 43,
   "metadata": {},
   "outputs": [
    {
     "data": {
      "text/plain": [
       "array([ True, False,  True,  True,  True, False, False,  True,  True,\n",
       "        True,  True,  True,  True,  True,  True,  True,  True, False,\n",
       "       False, False, False, False, False, False, False, False, False,\n",
       "       False])"
      ]
     },
     "execution_count": 43,
     "metadata": {},
     "output_type": "execute_result"
    }
   ],
   "source": [
    "selector = RFE(estimator = l_reg,\n",
    "              )\n",
    "selector = selector.fit(X_train, y_train)\n",
    "selector.support_"
   ]
  },
  {
   "cell_type": "markdown",
   "metadata": {},
   "source": [
    "# Ridge\n",
    "\n",
    "First grid search --> Best alpha was 10\n",
    "Second grid search --> Best alpha was 20\n",
    "Third grid search --> Best alpha was 50\n",
    "\n",
    "Benchmark: <br>\n",
    "R2 Score:  0.1010<br>\n",
    "Mean Absolute Error:  10.30<br>\n",
    "Mean Squared Error:  179.02<br>\n"
   ]
  },
  {
   "cell_type": "code",
   "execution_count": 35,
   "metadata": {},
   "outputs": [
    {
     "data": {
      "text/plain": [
       "array([ 1.24109903, -1.24109903,  0.68534375, -0.73816714,  0.05282339,\n",
       "        1.76661163, -1.76661163,  0.9813577 , -0.60323604, -0.37812167,\n",
       "        0.90703922,  0.25190403, -0.36619967, -0.3350204 ,  0.58025038,\n",
       "       -0.85896127, -0.17901229, -1.00876718,  0.1775751 ,  0.14076562,\n",
       "        1.52912021, -1.48550515, -1.16029048,  1.81336653, -2.40216123,\n",
       "        0.19753909, -0.1063342 ,  0.11490956,  1.5147821 ,  2.62004826])"
      ]
     },
     "execution_count": 35,
     "metadata": {},
     "output_type": "execute_result"
    }
   ],
   "source": [
    "ridge = Ridge(alpha = 50)\n",
    "ridge.fit(X_train, y_train)\n",
    "ridge.coef_"
   ]
  },
  {
   "cell_type": "code",
   "execution_count": 36,
   "metadata": {},
   "outputs": [],
   "source": [
    "ridge_predict = ridge.predict(X_val)"
   ]
  },
  {
   "cell_type": "code",
   "execution_count": 37,
   "metadata": {},
   "outputs": [
    {
     "name": "stdout",
     "output_type": "stream",
     "text": [
      "R2 Score:  0.10101579529477589\n",
      "Mean Absolute Error:  10.307533369642796\n",
      "Mean Squared Error:  179.0218438792988\n"
     ]
    }
   ],
   "source": [
    "regression_metrics(y_val, ridge_predict)"
   ]
  },
  {
   "cell_type": "code",
   "execution_count": null,
   "metadata": {},
   "outputs": [],
   "source": []
  },
  {
   "cell_type": "code",
   "execution_count": 38,
   "metadata": {},
   "outputs": [],
   "source": [
    "params = {'alpha':[50, 75, 100, 150]\n",
    "         }"
   ]
  },
  {
   "cell_type": "code",
   "execution_count": 39,
   "metadata": {},
   "outputs": [],
   "source": [
    "grid_ridge = GridSearchCV(estimator = ridge,\n",
    "                       param_grid = params,\n",
    "                       cv = 5)\n",
    "y_grid_ridge = grid_ridge.fit(X_train, y_train)"
   ]
  },
  {
   "cell_type": "code",
   "execution_count": 40,
   "metadata": {},
   "outputs": [
    {
     "name": "stdout",
     "output_type": "stream",
     "text": [
      "Best Score:  0.10201166496347402\n",
      "Best Params:  {'alpha': 75}\n"
     ]
    }
   ],
   "source": [
    "grid_search_results(grid_ridge, X_train, y_train)"
   ]
  },
  {
   "cell_type": "markdown",
   "metadata": {},
   "source": [
    "# Lasso\n",
    "\n",
    "Benchmark: <br>\n",
    "R2 Score:  0.1010<br>\n",
    "Mean Absolute Error:  10.30<br>\n",
    "Mean Squared Error:  179.02<br>"
   ]
  },
  {
   "cell_type": "code",
   "execution_count": 41,
   "metadata": {},
   "outputs": [
    {
     "data": {
      "text/plain": [
       "Lasso(alpha=0.0001)"
      ]
     },
     "execution_count": 41,
     "metadata": {},
     "output_type": "execute_result"
    }
   ],
   "source": [
    "lasso = Lasso(alpha = 0.0001)\n",
    "lasso.fit(X_train, y_train)"
   ]
  },
  {
   "cell_type": "code",
   "execution_count": 42,
   "metadata": {},
   "outputs": [],
   "source": [
    "lasso_predict = lasso.predict(X_val)"
   ]
  },
  {
   "cell_type": "code",
   "execution_count": 43,
   "metadata": {},
   "outputs": [
    {
     "name": "stdout",
     "output_type": "stream",
     "text": [
      "R2 Score:  0.10101578710752068\n",
      "Mean Absolute Error:  10.307528493578934\n",
      "Mean Squared Error:  179.0218455096918\n"
     ]
    }
   ],
   "source": [
    "regression_metrics(y_val, lasso_predict)"
   ]
  },
  {
   "cell_type": "code",
   "execution_count": 44,
   "metadata": {},
   "outputs": [],
   "source": [
    "params = {'alpha':[0.001,0.01, 0.1]\n",
    "         }\n",
    "\n",
    "grid_lasso = GridSearchCV(estimator = lasso,\n",
    "                       param_grid = params,\n",
    "                       cv = 5)\n",
    "y_grid_lasso = grid_lasso.fit(X_train, y_train)"
   ]
  },
  {
   "cell_type": "code",
   "execution_count": 45,
   "metadata": {},
   "outputs": [
    {
     "name": "stdout",
     "output_type": "stream",
     "text": [
      "Best Score:  0.10201032698500612\n",
      "Best Params:  {'alpha': 0.001}\n"
     ]
    }
   ],
   "source": [
    "grid_search_results(grid_lasso, X_train, y_train)"
   ]
  },
  {
   "cell_type": "code",
   "execution_count": null,
   "metadata": {},
   "outputs": [],
   "source": []
  },
  {
   "cell_type": "code",
   "execution_count": null,
   "metadata": {},
   "outputs": [],
   "source": []
  },
  {
   "cell_type": "markdown",
   "metadata": {},
   "source": [
    "# Linear Regression on PCA Components\n",
    "Benchmark:<br>\n",
    "R2 Score:  0.07661184040454239<br>\n",
    "Mean Absolute Error:  10.440522872762424<br>\n",
    "Mean Squared Error:  183.40646489367066<br>\n",
    "\n"
   ]
  },
  {
   "cell_type": "code",
   "execution_count": 49,
   "metadata": {},
   "outputs": [
    {
     "data": {
      "text/plain": [
       "LinearRegression()"
      ]
     },
     "execution_count": 49,
     "metadata": {},
     "output_type": "execute_result"
    }
   ],
   "source": [
    "# Linear regression on components\n",
    "l_reg_pca = LinearRegression()\n",
    "l_reg_pca.fit(X_train_pca, y_train_pca)"
   ]
  },
  {
   "cell_type": "code",
   "execution_count": 50,
   "metadata": {},
   "outputs": [],
   "source": [
    "y_pred_l_reg_pca = l_reg_pca.predict(X_val_pca)"
   ]
  },
  {
   "cell_type": "code",
   "execution_count": 51,
   "metadata": {},
   "outputs": [
    {
     "name": "stdout",
     "output_type": "stream",
     "text": [
      "R2 Score:  0.07140367970158945\n",
      "Mean Absolute Error:  10.448433024385947\n",
      "Mean Squared Error:  183.7797004900043\n"
     ]
    }
   ],
   "source": [
    "regression_metrics(y_val_pca, y_pred_l_reg_pca)"
   ]
  },
  {
   "cell_type": "code",
   "execution_count": null,
   "metadata": {},
   "outputs": [],
   "source": []
  },
  {
   "cell_type": "markdown",
   "metadata": {},
   "source": [
    "# XGBoost\n",
    "\n",
    "Bennchmark:<br>\n",
    "r2 - .1407<br>\n",
    "MAE - 10.07<br>\n",
    "MSE - 170.94<br>\n",
    "n_estimators = 150,\n",
    "                         max_depth = 10,"
   ]
  },
  {
   "cell_type": "code",
   "execution_count": 71,
   "metadata": {},
   "outputs": [],
   "source": [
    "xgb_r = xgb.XGBRegressor(objective = 'reg:squarederror',\n",
    "                        n_estimators = 100,\n",
    "                         max_depth = 8,\n",
    "                         seed = 13)"
   ]
  },
  {
   "cell_type": "code",
   "execution_count": 72,
   "metadata": {},
   "outputs": [
    {
     "data": {
      "text/plain": [
       "XGBRegressor(base_score=0.5, booster='gbtree', colsample_bylevel=1,\n",
       "             colsample_bynode=1, colsample_bytree=1, gamma=0, gpu_id=-1,\n",
       "             importance_type='gain', interaction_constraints='',\n",
       "             learning_rate=0.300000012, max_delta_step=0, max_depth=8,\n",
       "             min_child_weight=1, missing=nan, monotone_constraints='()',\n",
       "             n_estimators=100, n_jobs=8, num_parallel_tree=1, random_state=13,\n",
       "             reg_alpha=0, reg_lambda=1, scale_pos_weight=1, seed=13,\n",
       "             subsample=1, tree_method='exact', validate_parameters=1,\n",
       "             verbosity=None)"
      ]
     },
     "execution_count": 72,
     "metadata": {},
     "output_type": "execute_result"
    }
   ],
   "source": [
    "xgb_r.fit(X_train, y_train)"
   ]
  },
  {
   "cell_type": "code",
   "execution_count": 73,
   "metadata": {},
   "outputs": [],
   "source": [
    "# # Save model to disk\n",
    "# filename_xgbr_model = 'xgbr_best.sav'\n",
    "# pickle.dump(xgb_r, open('pickle_jar/'+filename_xgbr_model, 'wb'))"
   ]
  },
  {
   "cell_type": "code",
   "execution_count": 74,
   "metadata": {},
   "outputs": [],
   "source": [
    "y_xgb = xgb_r.predict(X_val)"
   ]
  },
  {
   "cell_type": "code",
   "execution_count": 75,
   "metadata": {},
   "outputs": [
    {
     "name": "stdout",
     "output_type": "stream",
     "text": [
      "R2 Score:  0.13634672547214266\n",
      "Mean Absolute Error:  10.098133232201713\n",
      "Mean Squared Error:  171.98611596192464\n"
     ]
    }
   ],
   "source": [
    "regression_metrics(y_val, y_xgb)"
   ]
  },
  {
   "cell_type": "code",
   "execution_count": 68,
   "metadata": {},
   "outputs": [
    {
     "data": {
      "text/plain": [
       "array([  0.23635866, -10.1167    ,   3.5546496 , ...,   0.2313399 ,\n",
       "         1.2513602 ,  -8.034779  ], dtype=float32)"
      ]
     },
     "execution_count": 68,
     "metadata": {},
     "output_type": "execute_result"
    }
   ],
   "source": [
    "y_xgb"
   ]
  },
  {
   "cell_type": "code",
   "execution_count": 69,
   "metadata": {},
   "outputs": [],
   "source": [
    "params = {'n_estimators': [50, 100, 150],\n",
    "          'max_depth': [5, 10],\n",
    "          'booster': ['gbtree', 'gblinear']\n",
    "         }"
   ]
  },
  {
   "cell_type": "code",
   "execution_count": 70,
   "metadata": {},
   "outputs": [],
   "source": [
    "grix_xgb = GridSearchCV(estimator = xgb_r,\n",
    "                       param_grid = params,\n",
    "                       cv = 5)"
   ]
  },
  {
   "cell_type": "markdown",
   "metadata": {},
   "source": [
    "### Evaluation"
   ]
  },
  {
   "cell_type": "markdown",
   "metadata": {},
   "source": [
    "You have data from 2018 and 2019 to develop models. Use different evaluation metrics for each problem and compare the performance of different models.\n",
    "\n",
    "You are required to predict delays on **out of sample** data from **first 7 days (1st-7th) of January 2020** and to share the file with LighthouseLabs. Sample submission can be found in the file **_sample_submission.csv_**"
   ]
  },
  {
   "cell_type": "code",
   "execution_count": 68,
   "metadata": {},
   "outputs": [
    {
     "ename": "SyntaxError",
     "evalue": "'break' outside loop (<ipython-input-68-6aaf1f276005>, line 4)",
     "output_type": "error",
     "traceback": [
      "\u001b[0;36m  File \u001b[0;32m\"<ipython-input-68-6aaf1f276005>\"\u001b[0;36m, line \u001b[0;32m4\u001b[0m\n\u001b[0;31mSyntaxError\u001b[0m\u001b[0;31m:\u001b[0m 'break' outside loop\n"
     ]
    }
   ],
   "source": [
    "break"
   ]
  },
  {
   "cell_type": "code",
   "execution_count": null,
   "metadata": {},
   "outputs": [],
   "source": [
    "# Import the test dataset that has the same features as our model is expecting\n",
    "\n",
    "test_data = pd.read_csv('data/test_data_prepped.csv')\n",
    "test_data.shape"
   ]
  },
  {
   "cell_type": "code",
   "execution_count": null,
   "metadata": {},
   "outputs": [],
   "source": [
    "# Drop the pesky Unnamed: 0 column\n",
    "test_data.drop(columns = 'Unnamed: 0', inplace=True)\n",
    "test_data.shape"
   ]
  },
  {
   "cell_type": "markdown",
   "metadata": {},
   "source": [
    "### We will be predicting our delay values using the XGBoost regressor model as it was consistently the best model that we trained.\n",
    "\n",
    "The r2 values were always higher than any other model by about .05 and the model was generalized enough to return good scores even with train test splits as low as 50/50."
   ]
  },
  {
   "cell_type": "code",
   "execution_count": null,
   "metadata": {},
   "outputs": [],
   "source": [
    "y_predictions = xgb_r.predict(test_data)"
   ]
  },
  {
   "cell_type": "code",
   "execution_count": null,
   "metadata": {},
   "outputs": [],
   "source": [
    "y_predictions.min()"
   ]
  },
  {
   "cell_type": "markdown",
   "metadata": {},
   "source": [
    "======================================================================\n",
    "## Stretch Tasks"
   ]
  },
  {
   "cell_type": "markdown",
   "metadata": {},
   "source": [
    "### Multiclass Classification"
   ]
  },
  {
   "cell_type": "markdown",
   "metadata": {},
   "source": [
    "The target variables are **CARRIER_DELAY, WEATHER_DELAY, NAS_DELAY, SECURITY_DELAY, LATE_AIRCRAFT_DELAY**. We need to do additional transformations because these variables are not binary but continuos. For each flight that was delayed, we need to have one of these variables as 1 and others 0.\n",
    "\n",
    "It can happen that we have two types of delays with more than 0 minutes. In this case, take the bigger one as 1 and others as 0."
   ]
  },
  {
   "cell_type": "code",
   "execution_count": null,
   "metadata": {},
   "outputs": [],
   "source": []
  },
  {
   "cell_type": "code",
   "execution_count": null,
   "metadata": {},
   "outputs": [],
   "source": []
  },
  {
   "cell_type": "code",
   "execution_count": null,
   "metadata": {},
   "outputs": [],
   "source": []
  },
  {
   "cell_type": "markdown",
   "metadata": {},
   "source": [
    "### Binary Classification"
   ]
  },
  {
   "cell_type": "markdown",
   "metadata": {},
   "source": [
    "The target variable is **CANCELLED**. The main problem here is going to be huge class imbalance. We have only very little cancelled flights with comparison to all flights. It is important to do the right sampling before training and to choose correct evaluation metrics."
   ]
  },
  {
   "cell_type": "code",
   "execution_count": null,
   "metadata": {},
   "outputs": [],
   "source": []
  },
  {
   "cell_type": "code",
   "execution_count": null,
   "metadata": {},
   "outputs": [],
   "source": []
  },
  {
   "cell_type": "raw",
   "metadata": {},
   "source": []
  },
  {
   "cell_type": "raw",
   "metadata": {},
   "source": []
  },
  {
   "cell_type": "raw",
   "metadata": {},
   "source": []
  }
 ],
 "metadata": {
  "kernelspec": {
   "display_name": "bootcamp_env",
   "language": "python",
   "name": "bootcamp_env"
  },
  "language_info": {
   "codemirror_mode": {
    "name": "ipython",
    "version": 3
   },
   "file_extension": ".py",
   "mimetype": "text/x-python",
   "name": "python",
   "nbconvert_exporter": "python",
   "pygments_lexer": "ipython3",
   "version": "3.6.10"
  }
 },
 "nbformat": 4,
 "nbformat_minor": 4
}
