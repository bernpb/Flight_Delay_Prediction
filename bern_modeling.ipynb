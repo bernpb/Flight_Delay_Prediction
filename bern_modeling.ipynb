{
 "cells": [
  {
   "cell_type": "code",
   "execution_count": 1,
   "metadata": {},
   "outputs": [],
   "source": [
    "# Import the necessary libraries\n",
    "import pandas as pd\n",
    "import numpy as np\n",
    "import matplotlib.pyplot as plt\n",
    "import seaborn as sns\n",
    "import pickle\n",
    "\n",
    "# Preprocessing\n",
    "from sklearn.model_selection import train_test_split, GridSearchCV, KFold, cross_val_score\n",
    "from sklearn.preprocessing import StandardScaler\n",
    "from sklearn.decomposition import PCA\n",
    "from sklearn.feature_selection import RFE, VarianceThreshold\n",
    "\n",
    "# Models\n",
    "from sklearn.ensemble import RandomForestRegressor\n",
    "from sklearn.linear_model import LinearRegression, Ridge, Lasso\n",
    "from sklearn.naive_bayes import GaussianNB\n",
    "from sklearn.svm import SVC\n",
    "from sklearn.cluster import KMeans\n",
    "import xgboost as xgb\n",
    "\n",
    "# Metrics\n",
    "from sklearn.metrics import r2_score, mean_absolute_error"
   ]
  },
  {
   "cell_type": "code",
   "execution_count": 2,
   "metadata": {},
   "outputs": [],
   "source": [
    "from filter_functions import drop_low_var, drop_correlated\n",
    "from functions import regression_metrics, grid_search_results"
   ]
  },
  {
   "cell_type": "markdown",
   "metadata": {},
   "source": [
    "## Main Task: Regression Problem"
   ]
  },
  {
   "cell_type": "code",
   "execution_count": 3,
   "metadata": {},
   "outputs": [],
   "source": [
    "# from google.colab import drive\n",
    "# drive.mount('/content/drive')"
   ]
  },
  {
   "cell_type": "code",
   "execution_count": 4,
   "metadata": {},
   "outputs": [],
   "source": [
    "data = pd.read_csv('data/regression_data.csv')"
   ]
  },
  {
   "cell_type": "code",
   "execution_count": 5,
   "metadata": {},
   "outputs": [
    {
     "data": {
      "text/html": [
       "<div>\n",
       "<style scoped>\n",
       "    .dataframe tbody tr th:only-of-type {\n",
       "        vertical-align: middle;\n",
       "    }\n",
       "\n",
       "    .dataframe tbody tr th {\n",
       "        vertical-align: top;\n",
       "    }\n",
       "\n",
       "    .dataframe thead th {\n",
       "        text-align: right;\n",
       "    }\n",
       "</style>\n",
       "<table border=\"1\" class=\"dataframe\">\n",
       "  <thead>\n",
       "    <tr style=\"text-align: right;\">\n",
       "      <th></th>\n",
       "      <th>Unnamed: 0</th>\n",
       "      <th>type_is_Adverse_x</th>\n",
       "      <th>type_is_Clear_x</th>\n",
       "      <th>type_is_Precipitation_x</th>\n",
       "      <th>type_is_Storm_x</th>\n",
       "      <th>type_is_Light_x</th>\n",
       "      <th>type_is_Moderate_x</th>\n",
       "      <th>type_is_Severe_x</th>\n",
       "      <th>type_is_Adverse_y</th>\n",
       "      <th>type_is_Clear_y</th>\n",
       "      <th>...</th>\n",
       "      <th>fl_num_on_time_pct</th>\n",
       "      <th>origin_on_time_pct</th>\n",
       "      <th>route_on_time_pct</th>\n",
       "      <th>origin_taxi_out</th>\n",
       "      <th>carrier_fuel_consumption</th>\n",
       "      <th>mean_taxi_in</th>\n",
       "      <th>carrier_mean_delay</th>\n",
       "      <th>origin_mean_dep_delay</th>\n",
       "      <th>dest_mean_arr_delay</th>\n",
       "      <th>arr_delay</th>\n",
       "    </tr>\n",
       "  </thead>\n",
       "  <tbody>\n",
       "    <tr>\n",
       "      <th>0</th>\n",
       "      <td>0</td>\n",
       "      <td>0</td>\n",
       "      <td>1</td>\n",
       "      <td>0</td>\n",
       "      <td>0</td>\n",
       "      <td>1</td>\n",
       "      <td>0</td>\n",
       "      <td>0</td>\n",
       "      <td>0</td>\n",
       "      <td>1</td>\n",
       "      <td>...</td>\n",
       "      <td>0.367852</td>\n",
       "      <td>1.155770</td>\n",
       "      <td>0.042167</td>\n",
       "      <td>-0.475455</td>\n",
       "      <td>-1.159495</td>\n",
       "      <td>1.081105</td>\n",
       "      <td>-0.19294</td>\n",
       "      <td>0.990275</td>\n",
       "      <td>0.569036</td>\n",
       "      <td>-7.0</td>\n",
       "    </tr>\n",
       "    <tr>\n",
       "      <th>1</th>\n",
       "      <td>1</td>\n",
       "      <td>0</td>\n",
       "      <td>0</td>\n",
       "      <td>1</td>\n",
       "      <td>0</td>\n",
       "      <td>1</td>\n",
       "      <td>0</td>\n",
       "      <td>0</td>\n",
       "      <td>0</td>\n",
       "      <td>0</td>\n",
       "      <td>...</td>\n",
       "      <td>0.414815</td>\n",
       "      <td>-0.010761</td>\n",
       "      <td>-1.090683</td>\n",
       "      <td>-0.932123</td>\n",
       "      <td>-0.710796</td>\n",
       "      <td>1.081105</td>\n",
       "      <td>-0.19294</td>\n",
       "      <td>1.817218</td>\n",
       "      <td>1.184652</td>\n",
       "      <td>13.0</td>\n",
       "    </tr>\n",
       "    <tr>\n",
       "      <th>2</th>\n",
       "      <td>2</td>\n",
       "      <td>0</td>\n",
       "      <td>1</td>\n",
       "      <td>0</td>\n",
       "      <td>0</td>\n",
       "      <td>1</td>\n",
       "      <td>0</td>\n",
       "      <td>0</td>\n",
       "      <td>0</td>\n",
       "      <td>1</td>\n",
       "      <td>...</td>\n",
       "      <td>0.079782</td>\n",
       "      <td>-0.375917</td>\n",
       "      <td>-0.340825</td>\n",
       "      <td>-0.216023</td>\n",
       "      <td>0.888111</td>\n",
       "      <td>1.081105</td>\n",
       "      <td>-0.19294</td>\n",
       "      <td>-0.189890</td>\n",
       "      <td>1.184652</td>\n",
       "      <td>-5.0</td>\n",
       "    </tr>\n",
       "    <tr>\n",
       "      <th>3</th>\n",
       "      <td>3</td>\n",
       "      <td>0</td>\n",
       "      <td>1</td>\n",
       "      <td>0</td>\n",
       "      <td>0</td>\n",
       "      <td>1</td>\n",
       "      <td>0</td>\n",
       "      <td>0</td>\n",
       "      <td>0</td>\n",
       "      <td>1</td>\n",
       "      <td>...</td>\n",
       "      <td>-1.322857</td>\n",
       "      <td>-0.526199</td>\n",
       "      <td>0.272626</td>\n",
       "      <td>-0.662034</td>\n",
       "      <td>-0.139927</td>\n",
       "      <td>1.081105</td>\n",
       "      <td>-0.19294</td>\n",
       "      <td>0.397533</td>\n",
       "      <td>-0.453026</td>\n",
       "      <td>-6.0</td>\n",
       "    </tr>\n",
       "    <tr>\n",
       "      <th>4</th>\n",
       "      <td>4</td>\n",
       "      <td>0</td>\n",
       "      <td>1</td>\n",
       "      <td>0</td>\n",
       "      <td>0</td>\n",
       "      <td>1</td>\n",
       "      <td>0</td>\n",
       "      <td>0</td>\n",
       "      <td>0</td>\n",
       "      <td>0</td>\n",
       "      <td>...</td>\n",
       "      <td>-1.322857</td>\n",
       "      <td>-0.946699</td>\n",
       "      <td>-0.542943</td>\n",
       "      <td>1.470320</td>\n",
       "      <td>-0.811735</td>\n",
       "      <td>1.081105</td>\n",
       "      <td>-0.19294</td>\n",
       "      <td>0.118298</td>\n",
       "      <td>-0.764628</td>\n",
       "      <td>6.0</td>\n",
       "    </tr>\n",
       "  </tbody>\n",
       "</table>\n",
       "<p>5 rows × 37 columns</p>\n",
       "</div>"
      ],
      "text/plain": [
       "   Unnamed: 0  type_is_Adverse_x  type_is_Clear_x  type_is_Precipitation_x  \\\n",
       "0           0                  0                1                        0   \n",
       "1           1                  0                0                        1   \n",
       "2           2                  0                1                        0   \n",
       "3           3                  0                1                        0   \n",
       "4           4                  0                1                        0   \n",
       "\n",
       "   type_is_Storm_x  type_is_Light_x  type_is_Moderate_x  type_is_Severe_x  \\\n",
       "0                0                1                   0                 0   \n",
       "1                0                1                   0                 0   \n",
       "2                0                1                   0                 0   \n",
       "3                0                1                   0                 0   \n",
       "4                0                1                   0                 0   \n",
       "\n",
       "   type_is_Adverse_y  type_is_Clear_y  ...  fl_num_on_time_pct  \\\n",
       "0                  0                1  ...            0.367852   \n",
       "1                  0                0  ...            0.414815   \n",
       "2                  0                1  ...            0.079782   \n",
       "3                  0                1  ...           -1.322857   \n",
       "4                  0                0  ...           -1.322857   \n",
       "\n",
       "   origin_on_time_pct  route_on_time_pct  origin_taxi_out  \\\n",
       "0            1.155770           0.042167        -0.475455   \n",
       "1           -0.010761          -1.090683        -0.932123   \n",
       "2           -0.375917          -0.340825        -0.216023   \n",
       "3           -0.526199           0.272626        -0.662034   \n",
       "4           -0.946699          -0.542943         1.470320   \n",
       "\n",
       "   carrier_fuel_consumption  mean_taxi_in  carrier_mean_delay  \\\n",
       "0                 -1.159495      1.081105            -0.19294   \n",
       "1                 -0.710796      1.081105            -0.19294   \n",
       "2                  0.888111      1.081105            -0.19294   \n",
       "3                 -0.139927      1.081105            -0.19294   \n",
       "4                 -0.811735      1.081105            -0.19294   \n",
       "\n",
       "   origin_mean_dep_delay  dest_mean_arr_delay  arr_delay  \n",
       "0               0.990275             0.569036       -7.0  \n",
       "1               1.817218             1.184652       13.0  \n",
       "2              -0.189890             1.184652       -5.0  \n",
       "3               0.397533            -0.453026       -6.0  \n",
       "4               0.118298            -0.764628        6.0  \n",
       "\n",
       "[5 rows x 37 columns]"
      ]
     },
     "execution_count": 5,
     "metadata": {},
     "output_type": "execute_result"
    }
   ],
   "source": [
    "data.head()"
   ]
  },
  {
   "cell_type": "code",
   "execution_count": 6,
   "metadata": {},
   "outputs": [
    {
     "data": {
      "text/plain": [
       "(1079053, 37)"
      ]
     },
     "execution_count": 6,
     "metadata": {},
     "output_type": "execute_result"
    }
   ],
   "source": [
    "data.shape"
   ]
  },
  {
   "cell_type": "code",
   "execution_count": 7,
   "metadata": {},
   "outputs": [],
   "source": [
    "# Separate the target feature from the regression data\n",
    "\n",
    "target = data['arr_delay']\n",
    "data = data.drop(columns = ['arr_delay', 'Unnamed: 0'])"
   ]
  },
  {
   "cell_type": "code",
   "execution_count": 8,
   "metadata": {},
   "outputs": [
    {
     "data": {
      "text/plain": [
       "type_is_Adverse_x             int64\n",
       "type_is_Clear_x               int64\n",
       "type_is_Precipitation_x       int64\n",
       "type_is_Storm_x               int64\n",
       "type_is_Light_x               int64\n",
       "type_is_Moderate_x            int64\n",
       "type_is_Severe_x              int64\n",
       "type_is_Adverse_y             int64\n",
       "type_is_Clear_y               int64\n",
       "type_is_Precipitation_y       int64\n",
       "type_is_Storm_y               int64\n",
       "type_is_Light_y               int64\n",
       "type_is_Moderate_y            int64\n",
       "type_is_Severe_y              int64\n",
       "type_is_Friday                int64\n",
       "type_is_Monday                int64\n",
       "type_is_Saturday              int64\n",
       "type_is_Sunday                int64\n",
       "type_is_Thursday              int64\n",
       "type_is_Tuesday               int64\n",
       "type_is_Wednesday             int64\n",
       "distance                    float64\n",
       "crs_dep_hour                float64\n",
       "crs_arr_hour                float64\n",
       "carrier_on_time_pct         float64\n",
       "plane_on_time_pct           float64\n",
       "fl_num_on_time_pct          float64\n",
       "origin_on_time_pct          float64\n",
       "route_on_time_pct           float64\n",
       "origin_taxi_out             float64\n",
       "carrier_fuel_consumption    float64\n",
       "mean_taxi_in                float64\n",
       "carrier_mean_delay          float64\n",
       "origin_mean_dep_delay       float64\n",
       "dest_mean_arr_delay         float64\n",
       "dtype: object"
      ]
     },
     "execution_count": 8,
     "metadata": {},
     "output_type": "execute_result"
    }
   ],
   "source": [
    "data.dtypes"
   ]
  },
  {
   "cell_type": "markdown",
   "metadata": {},
   "source": [
    "### Feature Selection / Dimensionality Reduction"
   ]
  },
  {
   "cell_type": "markdown",
   "metadata": {},
   "source": [
    "We need to apply different selection techniques to find out which one will be the best for our problems.\n",
    "\n",
    "- Original Features vs. PCA conponents?\n",
    "- PCA vs LDA?\n",
    "- Check for high correlation, low variance\n",
    "- Try some wrapper methods"
   ]
  },
  {
   "cell_type": "markdown",
   "metadata": {},
   "source": [
    "Try dropping features with low variance"
   ]
  },
  {
   "cell_type": "code",
   "execution_count": 9,
   "metadata": {},
   "outputs": [],
   "source": [
    "# Create an alias for our regression data\n",
    "data_train = data"
   ]
  },
  {
   "cell_type": "markdown",
   "metadata": {},
   "source": [
    "### Drop features with low variance"
   ]
  },
  {
   "cell_type": "code",
   "execution_count": 10,
   "metadata": {},
   "outputs": [],
   "source": [
    "# data_train = drop_low_var(0.1, data_train)\n",
    "# data_train.shape"
   ]
  },
  {
   "cell_type": "markdown",
   "metadata": {},
   "source": [
    "### Drop features that are highly correlated"
   ]
  },
  {
   "cell_type": "code",
   "execution_count": 11,
   "metadata": {},
   "outputs": [],
   "source": [
    "data_train = drop_correlated(0.75, data_train)"
   ]
  },
  {
   "cell_type": "code",
   "execution_count": 12,
   "metadata": {},
   "outputs": [
    {
     "data": {
      "text/plain": [
       "<AxesSubplot:>"
      ]
     },
     "execution_count": 12,
     "metadata": {},
     "output_type": "execute_result"
    },
    {
     "data": {
      "image/png": "[encoded data removed]",
      "text/plain": [
       "<Figure size 1080x864 with 2 Axes>"
      ]
     },
     "metadata": {
      "needs_background": "light"
     },
     "output_type": "display_data"
    }
   ],
   "source": [
    "df_corr = data_train.corr()\n",
    "fig, ax = plt.subplots(figsize=(15, 12))\n",
    "sns.heatmap(df_corr, annot = False, cmap=\"YlGnBu\")\n"
   ]
  },
  {
   "cell_type": "code",
   "execution_count": 13,
   "metadata": {},
   "outputs": [
    {
     "name": "stdout",
     "output_type": "stream",
     "text": [
      "(1079053, 29)\n"
     ]
    },
    {
     "data": {
      "text/plain": [
       "['type_is_Adverse_x',\n",
       " 'type_is_Clear_x',\n",
       " 'type_is_Storm_x',\n",
       " 'type_is_Moderate_x',\n",
       " 'type_is_Severe_x',\n",
       " 'type_is_Adverse_y',\n",
       " 'type_is_Clear_y',\n",
       " 'type_is_Storm_y',\n",
       " 'type_is_Severe_y',\n",
       " 'type_is_Friday',\n",
       " 'type_is_Monday',\n",
       " 'type_is_Saturday',\n",
       " 'type_is_Sunday',\n",
       " 'type_is_Thursday',\n",
       " 'type_is_Tuesday',\n",
       " 'type_is_Wednesday',\n",
       " 'distance',\n",
       " 'crs_dep_hour',\n",
       " 'crs_arr_hour',\n",
       " 'carrier_on_time_pct',\n",
       " 'plane_on_time_pct',\n",
       " 'fl_num_on_time_pct',\n",
       " 'origin_on_time_pct',\n",
       " 'route_on_time_pct',\n",
       " 'origin_taxi_out',\n",
       " 'carrier_fuel_consumption',\n",
       " 'mean_taxi_in',\n",
       " 'origin_mean_dep_delay',\n",
       " 'dest_mean_arr_delay']"
      ]
     },
     "execution_count": 13,
     "metadata": {},
     "output_type": "execute_result"
    }
   ],
   "source": [
    "print(data_train.shape)\n",
    "dropped_cols = data.columns.to_list() not in data_train.columns.to_list()\n",
    "data_train.columns.to_list()"
   ]
  },
  {
   "cell_type": "markdown",
   "metadata": {},
   "source": [
    "# PCA\n",
    "\n",
    "Perform principal component analysis on the data to see if dimensionality reduction has an impact on the scores of our models.  \n"
   ]
  },
  {
   "cell_type": "code",
   "execution_count": 14,
   "metadata": {},
   "outputs": [],
   "source": [
    "# Initialize pca with components = 2\n",
    "n_components = data_train.shape[1]\n",
    "pca = PCA(n_components = n_components)\n",
    "components = pca.fit_transform(data_train)"
   ]
  },
  {
   "cell_type": "code",
   "execution_count": 15,
   "metadata": {},
   "outputs": [
    {
     "data": {
      "text/plain": [
       "100.0"
      ]
     },
     "execution_count": 15,
     "metadata": {},
     "output_type": "execute_result"
    }
   ],
   "source": [
    "# Calculate and print the total variance\n",
    "total_variance = pca.explained_variance_ratio_.sum() * 100\n",
    "total_variance"
   ]
  },
  {
   "cell_type": "code",
   "execution_count": 16,
   "metadata": {},
   "outputs": [
    {
     "data": {
      "text/plain": [
       "array([1.99086191e+01, 1.34340975e+01, 1.05244120e+01, 7.52343697e+00,\n",
       "       7.15412342e+00, 6.62517203e+00, 6.06951997e+00, 5.33707637e+00,\n",
       "       5.07149816e+00, 2.53859194e+00, 2.21017067e+00, 2.02794174e+00,\n",
       "       1.79660982e+00, 1.50175138e+00, 1.25188502e+00, 1.17026136e+00,\n",
       "       1.09421704e+00, 1.00043106e+00, 8.96563523e-01, 8.86884368e-01,\n",
       "       8.72360971e-01, 3.76758511e-01, 3.37551988e-01, 2.72125732e-01,\n",
       "       8.29733858e-02, 2.96278163e-02, 2.68910285e-03, 2.64910591e-03,\n",
       "       1.00571457e-26])"
      ]
     },
     "execution_count": 16,
     "metadata": {},
     "output_type": "execute_result"
    }
   ],
   "source": [
    "pca.explained_variance_ratio_ * 100"
   ]
  },
  {
   "cell_type": "code",
   "execution_count": 17,
   "metadata": {},
   "outputs": [
    {
     "data": {
      "text/plain": [
       "Text(0.5, 1.0, 'Scree plot for 21 Component PCA Analysis')"
      ]
     },
     "execution_count": 17,
     "metadata": {},
     "output_type": "execute_result"
    },
    {
     "data": {
      "image/png": "[encoded data removed]",
      "text/plain": [
       "<Figure size 432x288 with 1 Axes>"
      ]
     },
     "metadata": {
      "needs_background": "light"
     },
     "output_type": "display_data"
    }
   ],
   "source": [
    "plt.plot(range(n_components), pca.explained_variance_ratio_)\n",
    "plt.xlabel('Number of Components')\n",
    "plt.ylabel('Explained variance')\n",
    "plt.title('Scree plot for 21 Component PCA Analysis')"
   ]
  },
  {
   "cell_type": "code",
   "execution_count": 18,
   "metadata": {},
   "outputs": [],
   "source": [
    "# Reinitialize PCA with 9 components\n",
    "n_components = 9\n",
    "pca = PCA(n_components = n_components)\n",
    "components = pca.fit_transform(data)"
   ]
  },
  {
   "cell_type": "code",
   "execution_count": 19,
   "metadata": {},
   "outputs": [
    {
     "data": {
      "text/plain": [
       "array([19.90861911, 13.43409746, 10.52441198,  7.52343697,  7.15412341,\n",
       "        6.62517202,  6.06951973,  5.33707608,  5.07149795])"
      ]
     },
     "execution_count": 19,
     "metadata": {},
     "output_type": "execute_result"
    }
   ],
   "source": [
    "pca.explained_variance_ratio_ * 100"
   ]
  },
  {
   "cell_type": "code",
   "execution_count": null,
   "metadata": {},
   "outputs": [],
   "source": []
  },
  {
   "cell_type": "markdown",
   "metadata": {},
   "source": [
    "# Clustering\n",
    "\n",
    "Try clustering our data to see if there is any positive impact on the model by including clustering data"
   ]
  },
  {
   "cell_type": "code",
   "execution_count": 20,
   "metadata": {},
   "outputs": [],
   "source": [
    "# def plot_distortion(X,max_clusters = 15):\n",
    "#     distortions = []\n",
    "#     for i in range(1, max_clusters +1):\n",
    "#         km = KMeans(n_clusters=i,\n",
    "#                     init='k-means++',\n",
    "#                     n_init=10,\n",
    "#                     random_state=0)\n",
    "#         km.fit(X)\n",
    "#         distortions.append(km.inertia_)\n",
    "\n",
    "#     plt.plot(range(1,max_clusters +1), distortions, marker='o')\n",
    "#     plt.xlabel('Number of clusters')\n",
    "#     plt.ylabel('Distortion')\n",
    "#     plt.show() "
   ]
  },
  {
   "cell_type": "code",
   "execution_count": 21,
   "metadata": {},
   "outputs": [],
   "source": [
    "# plot_distortion(data_train, 10)"
   ]
  },
  {
   "cell_type": "code",
   "execution_count": 22,
   "metadata": {},
   "outputs": [],
   "source": [
    "# # Initialize the kmeans object with 3 clusters\n",
    "# k_means = km = KMeans(n_clusters = 3,\n",
    "#            n_init = 10,\n",
    "#            random_state = 13)"
   ]
  },
  {
   "cell_type": "code",
   "execution_count": 23,
   "metadata": {},
   "outputs": [],
   "source": [
    "# # Establish predicitons, assign the label to the dataset\n",
    "# y_km = km.fit_predict(data_train)\n",
    "# data_train['kmeans_label'] = y_km\n",
    "\n"
   ]
  },
  {
   "cell_type": "markdown",
   "metadata": {},
   "source": [
    "# Train Test Split\n",
    "\n",
    "Do two train test splits.  One for the standard data and another for data that underwent PCA"
   ]
  },
  {
   "cell_type": "code",
   "execution_count": 24,
   "metadata": {},
   "outputs": [],
   "source": [
    "X_train, X_val, y_train, y_val = train_test_split(data_train, target, test_size = 0.25, random_state = 13)"
   ]
  },
  {
   "cell_type": "code",
   "execution_count": 25,
   "metadata": {},
   "outputs": [],
   "source": [
    "X_train_pca, X_val_pca, y_train_pca, y_val_pca  = train_test_split(components, target, test_size = 0.25)"
   ]
  },
  {
   "cell_type": "markdown",
   "metadata": {},
   "source": [
    "# Modeling"
   ]
  },
  {
   "cell_type": "markdown",
   "metadata": {},
   "source": [
    "Use different ML techniques to predict each problem.\n",
    "\n",
    "- linear / logistic / multinomial logistic regression\n",
    "- Naive Bayes\n",
    "- Random Forest\n",
    "- SVM\n",
    "- XGBoost\n",
    "- The ensemble of your own choice"
   ]
  },
  {
   "cell_type": "markdown",
   "metadata": {},
   "source": [
    "# Random Forest"
   ]
  },
  {
   "cell_type": "code",
   "execution_count": 26,
   "metadata": {},
   "outputs": [],
   "source": [
    "# rfr = RandomForestRegressor(n_estimators = 100,\n",
    "#                             max_depth = 5)\n",
    "# rfr.fit(X_train, y_train)\n",
    "# "
   ]
  },
  {
   "cell_type": "code",
   "execution_count": 27,
   "metadata": {},
   "outputs": [],
   "source": [
    "# y_pred_rfr = rfr.predict(X_val)"
   ]
  },
  {
   "cell_type": "code",
   "execution_count": 28,
   "metadata": {},
   "outputs": [],
   "source": [
    "# regression_metrics(y_val, y_pred_rfr)"
   ]
  },
  {
   "cell_type": "code",
   "execution_count": null,
   "metadata": {},
   "outputs": [],
   "source": []
  },
  {
   "cell_type": "code",
   "execution_count": null,
   "metadata": {},
   "outputs": [],
   "source": []
  },
  {
   "cell_type": "markdown",
   "metadata": {},
   "source": [
    "# Linear Regression\n",
    "\n",
    "\n",
    "Baseline r2 = 0.0477 <br>\n",
    "PCA 20 component r2 = 0.383<br>\n",
    "\n",
    "Benchmark:<br>\n",
    "R2 Score:  0.09674605119603319<br>\n",
    "Mean Absolute Error:  10.34<br>\n",
    "Mean Squared Error:  179.70<br>\n"
   ]
  },
  {
   "cell_type": "code",
   "execution_count": 29,
   "metadata": {},
   "outputs": [
    {
     "data": {
      "text/plain": [
       "LinearRegression()"
      ]
     },
     "execution_count": 29,
     "metadata": {},
     "output_type": "execute_result"
    }
   ],
   "source": [
    "# Linear regression on raw data\n",
    "l_reg = LinearRegression()\n",
    "l_reg.fit(X_train, y_train)"
   ]
  },
  {
   "cell_type": "code",
   "execution_count": 30,
   "metadata": {},
   "outputs": [],
   "source": [
    "y_pred_l_reg = l_reg.predict(X_val)"
   ]
  },
  {
   "cell_type": "code",
   "execution_count": 31,
   "metadata": {},
   "outputs": [
    {
     "data": {
      "text/plain": [
       "array([-4.46772699e+00, -2.35796494e+00, -4.07890037e+00,  1.51361270e+00,\n",
       "        3.86018780e+00, -3.63757652e+00, -3.66457669e+00, -3.17801788e+00,\n",
       "        1.97553426e+00, -9.61802706e+10, -9.61802706e+10, -9.61802706e+10,\n",
       "       -9.61802706e+10, -9.61802706e+10, -9.61802706e+10, -9.61802706e+10,\n",
       "       -1.10572358e+00,  1.95169123e-01,  1.64591542e-01,  1.09904045e-01,\n",
       "       -1.49486197e+00, -1.15760531e+00, -4.21595471e-01, -2.29428506e+00,\n",
       "       -7.24178647e-01, -4.46371767e-01, -1.52258649e-01,  7.52987737e-02,\n",
       "        2.50575327e-01])"
      ]
     },
     "execution_count": 31,
     "metadata": {},
     "output_type": "execute_result"
    }
   ],
   "source": [
    "l_reg.coef_"
   ]
  },
  {
   "cell_type": "code",
   "execution_count": 32,
   "metadata": {},
   "outputs": [
    {
     "name": "stdout",
     "output_type": "stream",
     "text": [
      "R2 Score:  0.09845047890827652\n",
      "Mean Absolute Error:  10.329035572326843\n",
      "Mean Squared Error:  179.53269564648363\n"
     ]
    }
   ],
   "source": [
    "regression_metrics(y_val, y_pred_l_reg)"
   ]
  },
  {
   "cell_type": "code",
   "execution_count": 33,
   "metadata": {},
   "outputs": [],
   "source": [
    "current_data = data_train.columns.to_list()"
   ]
  },
  {
   "cell_type": "code",
   "execution_count": 34,
   "metadata": {},
   "outputs": [
    {
     "data": {
      "text/plain": [
       "type_is_Tuesday            -9.618027e+10\n",
       "type_is_Sunday             -9.618027e+10\n",
       "type_is_Saturday           -9.618027e+10\n",
       "type_is_Wednesday          -9.618027e+10\n",
       "type_is_Monday             -9.618027e+10\n",
       "type_is_Thursday           -9.618027e+10\n",
       "type_is_Friday             -9.618027e+10\n",
       "type_is_Adverse_x          -4.467727e+00\n",
       "type_is_Storm_x            -4.078900e+00\n",
       "type_is_Clear_y            -3.664577e+00\n",
       "type_is_Adverse_y          -3.637577e+00\n",
       "type_is_Storm_y            -3.178018e+00\n",
       "type_is_Clear_x            -2.357965e+00\n",
       "route_on_time_pct          -2.294285e+00\n",
       "plane_on_time_pct          -1.494862e+00\n",
       "fl_num_on_time_pct         -1.157605e+00\n",
       "distance                   -1.105724e+00\n",
       "origin_taxi_out            -7.241786e-01\n",
       "carrier_fuel_consumption   -4.463718e-01\n",
       "origin_on_time_pct         -4.215955e-01\n",
       "mean_taxi_in               -1.522586e-01\n",
       "origin_mean_dep_delay       7.529877e-02\n",
       "carrier_on_time_pct         1.099040e-01\n",
       "crs_arr_hour                1.645915e-01\n",
       "crs_dep_hour                1.951691e-01\n",
       "dest_mean_arr_delay         2.505753e-01\n",
       "type_is_Moderate_x          1.513613e+00\n",
       "type_is_Severe_y            1.975534e+00\n",
       "type_is_Severe_x            3.860188e+00\n",
       "dtype: float64"
      ]
     },
     "execution_count": 34,
     "metadata": {},
     "output_type": "execute_result"
    }
   ],
   "source": [
    "coef_dict = dict(zip(current_data, l_reg.coef_))\n",
    "coef_df = pd.Series(coef_dict)\n",
    "coef_df.sort_values()\n",
    "                "
   ]
  },
  {
   "cell_type": "code",
   "execution_count": 35,
   "metadata": {},
   "outputs": [],
   "source": [
    "# selector = RFE(estimator = l_reg,\n",
    "#               )\n",
    "# selector = selector.fit(X_train, y_train)\n",
    "# selector.support_"
   ]
  },
  {
   "cell_type": "markdown",
   "metadata": {},
   "source": [
    "# Ridge\n",
    "\n",
    "Benchmark: <br>\n",
    "R2 Score:  0.1010<br>\n",
    "Mean Absolute Error:  10.30<br>\n",
    "Mean Squared Error:  179.02<br>\n"
   ]
  },
  {
   "cell_type": "code",
   "execution_count": 36,
   "metadata": {},
   "outputs": [
    {
     "data": {
      "text/plain": [
       "array([-4.36942442, -2.35953816, -3.23156437,  1.44135471,  3.74416641,\n",
       "       -3.60897098, -3.65995884, -2.53793035,  1.93830931,  0.85092124,\n",
       "        0.23151559, -0.32837717, -0.35898541,  0.56464882, -0.80568589,\n",
       "       -0.15403719, -1.10559288,  0.19480537,  0.16430659,  0.10964869,\n",
       "       -1.49464223, -1.15748141, -0.42168672, -2.29407085, -0.72404296,\n",
       "       -0.44602803, -0.15227859,  0.07549631,  0.25106712])"
      ]
     },
     "execution_count": 36,
     "metadata": {},
     "output_type": "execute_result"
    }
   ],
   "source": [
    "ridge = Ridge(alpha = 75)\n",
    "ridge.fit(X_train, y_train)\n",
    "ridge.coef_"
   ]
  },
  {
   "cell_type": "code",
   "execution_count": 37,
   "metadata": {},
   "outputs": [],
   "source": [
    "ridge_predict = ridge.predict(X_val)"
   ]
  },
  {
   "cell_type": "code",
   "execution_count": 38,
   "metadata": {},
   "outputs": [
    {
     "name": "stdout",
     "output_type": "stream",
     "text": [
      "R2 Score:  0.09844674607013071\n",
      "Mean Absolute Error:  10.329003362956529\n",
      "Mean Squared Error:  179.53343899610454\n"
     ]
    }
   ],
   "source": [
    "regression_metrics(y_val, ridge_predict)"
   ]
  },
  {
   "cell_type": "code",
   "execution_count": null,
   "metadata": {},
   "outputs": [],
   "source": []
  },
  {
   "cell_type": "code",
   "execution_count": 39,
   "metadata": {},
   "outputs": [],
   "source": [
    "params = {'alpha':[50, 75, 100, 150, 1000]\n",
    "         }"
   ]
  },
  {
   "cell_type": "code",
   "execution_count": 40,
   "metadata": {},
   "outputs": [
    {
     "data": {
      "text/plain": [
       "GridSearchCV(cv=5, estimator=Ridge(alpha=75),\n",
       "             param_grid={'alpha': [50, 75, 100, 150, 1000]})"
      ]
     },
     "execution_count": 40,
     "metadata": {},
     "output_type": "execute_result"
    }
   ],
   "source": [
    "grid_ridge = GridSearchCV(estimator = ridge,\n",
    "                       param_grid = params,\n",
    "                       cv = 5)\n",
    "grid_ridge.fit(X_train, y_train)"
   ]
  },
  {
   "cell_type": "code",
   "execution_count": 41,
   "metadata": {},
   "outputs": [
    {
     "name": "stdout",
     "output_type": "stream",
     "text": [
      "Best Score:  0.09959768935672042\n",
      "Best Params:  {'alpha': 50}\n"
     ]
    }
   ],
   "source": [
    "grid_search_results(grid_ridge, X_train, y_train)"
   ]
  },
  {
   "cell_type": "markdown",
   "metadata": {},
   "source": [
    "# Lasso\n",
    "\n",
    "Benchmark: <br>\n",
    "R2 Score:  0.1010<br>\n",
    "Mean Absolute Error:  10.30<br>\n",
    "Mean Squared Error:  179.02<br>"
   ]
  },
  {
   "cell_type": "code",
   "execution_count": 42,
   "metadata": {},
   "outputs": [
    {
     "data": {
      "text/plain": [
       "Lasso(alpha=0.0001)"
      ]
     },
     "execution_count": 42,
     "metadata": {},
     "output_type": "execute_result"
    }
   ],
   "source": [
    "lasso = Lasso(alpha = 0.0001)\n",
    "lasso.fit(X_train, y_train)"
   ]
  },
  {
   "cell_type": "code",
   "execution_count": 43,
   "metadata": {},
   "outputs": [],
   "source": [
    "lasso_predict = lasso.predict(X_val)"
   ]
  },
  {
   "cell_type": "code",
   "execution_count": 44,
   "metadata": {},
   "outputs": [
    {
     "name": "stdout",
     "output_type": "stream",
     "text": [
      "R2 Score:  0.09844934189913035\n",
      "Mean Absolute Error:  10.32899421028042\n",
      "Mean Squared Error:  179.53292206811906\n"
     ]
    }
   ],
   "source": [
    "regression_metrics(y_val, lasso_predict)"
   ]
  },
  {
   "cell_type": "code",
   "execution_count": 45,
   "metadata": {},
   "outputs": [
    {
     "data": {
      "text/plain": [
       "GridSearchCV(cv=5, estimator=Lasso(alpha=0.0001),\n",
       "             param_grid={'alpha': [0.001, 0.01, 0.1, 1, 10]})"
      ]
     },
     "execution_count": 45,
     "metadata": {},
     "output_type": "execute_result"
    }
   ],
   "source": [
    "params = {'alpha':[0.001,0.01, 0.1, 1, 10]\n",
    "         }\n",
    "\n",
    "grid_lasso = GridSearchCV(estimator = lasso,\n",
    "                       param_grid = params,\n",
    "                       cv = 5)\n",
    "grid_lasso.fit(X_train, y_train)"
   ]
  },
  {
   "cell_type": "code",
   "execution_count": 46,
   "metadata": {},
   "outputs": [
    {
     "name": "stdout",
     "output_type": "stream",
     "text": [
      "Best Score:  0.0995644468727429\n",
      "Best Params:  {'alpha': 0.001}\n"
     ]
    }
   ],
   "source": [
    "grid_search_results(grid_lasso, X_train, y_train)"
   ]
  },
  {
   "cell_type": "code",
   "execution_count": null,
   "metadata": {},
   "outputs": [],
   "source": []
  },
  {
   "cell_type": "code",
   "execution_count": null,
   "metadata": {},
   "outputs": [],
   "source": []
  },
  {
   "cell_type": "markdown",
   "metadata": {},
   "source": [
    "# Linear Regression on PCA Components\n",
    "Benchmark:<br>\n",
    "R2 Score:  0.07661184040454239<br>\n",
    "Mean Absolute Error:  10.440522872762424<br>\n",
    "Mean Squared Error:  183.40646489367066<br>\n",
    "\n"
   ]
  },
  {
   "cell_type": "code",
   "execution_count": 47,
   "metadata": {},
   "outputs": [
    {
     "data": {
      "text/plain": [
       "LinearRegression()"
      ]
     },
     "execution_count": 47,
     "metadata": {},
     "output_type": "execute_result"
    }
   ],
   "source": [
    "# Linear regression on components\n",
    "l_reg_pca = LinearRegression()\n",
    "l_reg_pca.fit(X_train_pca, y_train_pca)"
   ]
  },
  {
   "cell_type": "code",
   "execution_count": 48,
   "metadata": {},
   "outputs": [],
   "source": [
    "y_pred_l_reg_pca = l_reg_pca.predict(X_val_pca)"
   ]
  },
  {
   "cell_type": "code",
   "execution_count": 49,
   "metadata": {},
   "outputs": [
    {
     "name": "stdout",
     "output_type": "stream",
     "text": [
      "R2 Score:  0.07387788263897921\n",
      "Mean Absolute Error:  10.458858043883058\n",
      "Mean Squared Error:  184.28645649941544\n"
     ]
    }
   ],
   "source": [
    "regression_metrics(y_val_pca, y_pred_l_reg_pca)"
   ]
  },
  {
   "cell_type": "code",
   "execution_count": null,
   "metadata": {},
   "outputs": [],
   "source": []
  },
  {
   "cell_type": "markdown",
   "metadata": {},
   "source": [
    "# XGBoost -  Using Train Test Split\n",
    "Bennchmark:<br>\n",
    "r2 - .1457<br>\n",
    "MAE - 10.03<br>\n",
    "MSE - 170.23<br>\n",
    "n_estimators = 150,\n",
    "                         max_depth = 10,"
   ]
  },
  {
   "cell_type": "code",
   "execution_count": 50,
   "metadata": {},
   "outputs": [],
   "source": [
    "xgb_r = xgb.XGBRegressor(objective = 'reg:squarederror',\n",
    "                        eta = 0.25, \n",
    "                         gamma = 0.3,\n",
    "                         reg_lambda = 2.5,\n",
    "                         reg_alpha = 1,\n",
    "                         n_estimators = 125, \n",
    "                         max_depth = 7, \n",
    "                        tree_method = 'hist')"
   ]
  },
  {
   "cell_type": "code",
   "execution_count": 51,
   "metadata": {},
   "outputs": [
    {
     "data": {
      "text/plain": [
       "XGBRegressor(base_score=0.5, booster='gbtree', colsample_bylevel=1,\n",
       "             colsample_bynode=1, colsample_bytree=1, eta=0.25, gamma=0.3,\n",
       "             gpu_id=-1, importance_type='gain', interaction_constraints='',\n",
       "             learning_rate=0.25, max_delta_step=0, max_depth=7,\n",
       "             min_child_weight=1, missing=nan, monotone_constraints='()',\n",
       "             n_estimators=125, n_jobs=8, num_parallel_tree=1, random_state=0,\n",
       "             reg_alpha=1, reg_lambda=2.5, scale_pos_weight=1, subsample=1,\n",
       "             tree_method='hist', validate_parameters=1, verbosity=None)"
      ]
     },
     "execution_count": 51,
     "metadata": {},
     "output_type": "execute_result"
    }
   ],
   "source": [
    "xgb_r.fit(X_train, y_train)"
   ]
  },
  {
   "cell_type": "code",
   "execution_count": 52,
   "metadata": {},
   "outputs": [],
   "source": [
    "# Save model to disk\n",
    "filename_xgbr_model = 'xgbr_best.sav'\n",
    "pickle.dump(xgb_r, open('pickle_jar/'+filename_xgbr_model, 'wb'))"
   ]
  },
  {
   "cell_type": "code",
   "execution_count": 53,
   "metadata": {},
   "outputs": [],
   "source": [
    "y_xgb = xgb_r.predict(X_val)"
   ]
  },
  {
   "cell_type": "code",
   "execution_count": 54,
   "metadata": {},
   "outputs": [
    {
     "name": "stdout",
     "output_type": "stream",
     "text": [
      "R2 Score:  0.1447416201013172\n",
      "Mean Absolute Error:  10.056243326857567\n",
      "Mean Squared Error:  170.31437411393517\n"
     ]
    }
   ],
   "source": [
    "regression_metrics(y_val, y_xgb)"
   ]
  },
  {
   "cell_type": "code",
   "execution_count": 55,
   "metadata": {},
   "outputs": [],
   "source": [
    "# params = {'n_estimators': [75, 100, 125],\n",
    "#           'gamma': [0.1, 0.3, 0.5, 1],\n",
    "#           'max_depth': [5,6,7],\n",
    "#           'tree_method': ['hist']\n",
    "#          }"
   ]
  },
  {
   "cell_type": "code",
   "execution_count": 56,
   "metadata": {},
   "outputs": [],
   "source": [
    "# grid_xgb = GridSearchCV(estimator = xgb_r,\n",
    "#                        param_grid = params,\n",
    "#                        cv = 5, scoring = 'r2')"
   ]
  },
  {
   "cell_type": "code",
   "execution_count": 57,
   "metadata": {},
   "outputs": [],
   "source": [
    "# grid_xgb.fit(X_train, y_train)\n",
    "# grid_xgb.best_estimator_"
   ]
  },
  {
   "cell_type": "code",
   "execution_count": 58,
   "metadata": {},
   "outputs": [],
   "source": [
    "# grid_search_results(grid_xgb, X_train, y_train)"
   ]
  },
  {
   "cell_type": "markdown",
   "metadata": {},
   "source": [
    "# KFold Cross Validation on XGBoost Regressor Model\n",
    "\n",
    "Comparing model performance using K-Fold cross-validation to our train test split data.  These values started to make a lot more sense after itintializing KFold() with shuffle = True"
   ]
  },
  {
   "cell_type": "code",
   "execution_count": 59,
   "metadata": {},
   "outputs": [],
   "source": [
    "model =xgb.XGBRegressor(objective = 'reg:squarederror',\n",
    "                        eta = 0.25, \n",
    "                         gamma = 0.3,\n",
    "                         reg_lambda = 2.5,\n",
    "                         reg_alpha = 1,\n",
    "                         n_estimators = 125, \n",
    "                         max_depth = 7, \n",
    "                        tree_method = 'hist')"
   ]
  },
  {
   "cell_type": "code",
   "execution_count": 60,
   "metadata": {},
   "outputs": [
    {
     "name": "stdout",
     "output_type": "stream",
     "text": [
      "Scores: [0.14525746 0.14738392 0.14462042 0.14691496 0.14701468 0.15106224\n",
      " 0.14954364 0.14690029 0.14512743 0.14548907]\n",
      "Average score: 0.14693140919697792\n"
     ]
    }
   ],
   "source": [
    "kf = KFold(shuffle = True, n_splits = 10)\n",
    "scores = cross_val_score(model, data_train, target, cv=kf, scoring = 'r2')\n",
    "print(f'Scores: {scores}')\n",
    "print(f'Average score: {sum(scores)/10}')"
   ]
  },
  {
   "cell_type": "markdown",
   "metadata": {},
   "source": [
    "# KFold Cross Validation on Ridge Regression Model\n",
    "Comparing model performance with Ridge regression for reference."
   ]
  },
  {
   "cell_type": "code",
   "execution_count": 61,
   "metadata": {},
   "outputs": [],
   "source": [
    "kf = KFold(n_splits = 10, shuffle = True)\n",
    "model = Ridge(alpha = 75)"
   ]
  },
  {
   "cell_type": "code",
   "execution_count": 62,
   "metadata": {},
   "outputs": [
    {
     "name": "stdout",
     "output_type": "stream",
     "text": [
      "Scores: [0.09912876 0.10057832 0.09722264 0.09970348 0.10240754 0.09555237\n",
      " 0.10101177 0.10147073 0.09918677 0.09631535]\n",
      "Average score: 0.09925777233198371\n"
     ]
    }
   ],
   "source": [
    "scores = cross_val_score(model, data_train, target, cv=kf, scoring = 'r2')\n",
    "print(f'Scores: {scores}')\n",
    "print(f'Average score: {sum(scores)/10}')"
   ]
  },
  {
   "cell_type": "markdown",
   "metadata": {},
   "source": [
    "# Evaluation\n",
    "Time for the rubber to hit the road. "
   ]
  },
  {
   "cell_type": "code",
   "execution_count": null,
   "metadata": {},
   "outputs": [],
   "source": []
  },
  {
   "cell_type": "code",
   "execution_count": 63,
   "metadata": {},
   "outputs": [
    {
     "data": {
      "text/plain": [
       "(150623, 30)"
      ]
     },
     "execution_count": 63,
     "metadata": {},
     "output_type": "execute_result"
    }
   ],
   "source": [
    "# # Import the test dataset that has the same features as our model is expecting\n",
    "\n",
    "test_data = pd.read_csv('data/test_data_prepped.csv')\n",
    "test_data.shape"
   ]
  },
  {
   "cell_type": "code",
   "execution_count": 64,
   "metadata": {},
   "outputs": [
    {
     "data": {
      "text/plain": [
       "(150623, 29)"
      ]
     },
     "execution_count": 64,
     "metadata": {},
     "output_type": "execute_result"
    }
   ],
   "source": [
    "# # Drop the pesky Unnamed: 0 column\n",
    "test_data.drop(columns = 'Unnamed: 0', inplace=True)\n",
    "test_data.shape"
   ]
  },
  {
   "cell_type": "markdown",
   "metadata": {},
   "source": [
    "### We will be predicting our delay values using the XGBoost regressor model as it was consistently the best model that we trained.\n",
    "\n",
    "The r2 values were always higher than any other model by about .05 and the model was generalized enough to return good scores even with train test splits as low as 50/50.\n",
    "\n",
    "### Let's retrain the model on the entire data set."
   ]
  },
  {
   "cell_type": "code",
   "execution_count": 65,
   "metadata": {},
   "outputs": [
    {
     "data": {
      "text/plain": [
       "XGBRegressor(base_score=0.5, booster='gbtree', colsample_bylevel=1,\n",
       "             colsample_bynode=1, colsample_bytree=1, eta=0.25, gamma=0.3,\n",
       "             gpu_id=-1, importance_type='gain', interaction_constraints='',\n",
       "             learning_rate=0.25, max_delta_step=0, max_depth=7,\n",
       "             min_child_weight=1, missing=nan, monotone_constraints='()',\n",
       "             n_estimators=125, n_jobs=8, num_parallel_tree=1, random_state=13,\n",
       "             reg_alpha=0, reg_lambda=1, scale_pos_weight=1, seed=13,\n",
       "             subsample=1, tree_method='hist', validate_parameters=1,\n",
       "             verbosity=None)"
      ]
     },
     "execution_count": 65,
     "metadata": {},
     "output_type": "execute_result"
    }
   ],
   "source": [
    "final_model = xgb_r = xgb.XGBRegressor(objective = 'reg:squarederror',\n",
    "                        eta = 0.25,\n",
    "                        gamma = 0.3,\n",
    "                         n_estimators = 125,\n",
    "                         max_depth = 7,\n",
    "                         seed = 13,\n",
    "                        tree_method = 'hist')\n",
    "final_model.fit(data_train, target)"
   ]
  },
  {
   "cell_type": "code",
   "execution_count": null,
   "metadata": {},
   "outputs": [],
   "source": []
  },
  {
   "cell_type": "code",
   "execution_count": null,
   "metadata": {},
   "outputs": [],
   "source": []
  },
  {
   "cell_type": "code",
   "execution_count": 66,
   "metadata": {},
   "outputs": [],
   "source": [
    "# make predicitions on the test data\n",
    "y_predictions = final_model.predict(test_data)"
   ]
  },
  {
   "cell_type": "code",
   "execution_count": 67,
   "metadata": {},
   "outputs": [],
   "source": [
    "# load the formatted test data to make our submission\n",
    "pre_submit = pd.read_csv('data/pre_predictions.csv')"
   ]
  },
  {
   "cell_type": "code",
   "execution_count": 68,
   "metadata": {},
   "outputs": [
    {
     "data": {
      "text/html": [
       "<div>\n",
       "<style scoped>\n",
       "    .dataframe tbody tr th:only-of-type {\n",
       "        vertical-align: middle;\n",
       "    }\n",
       "\n",
       "    .dataframe tbody tr th {\n",
       "        vertical-align: top;\n",
       "    }\n",
       "\n",
       "    .dataframe thead th {\n",
       "        text-align: right;\n",
       "    }\n",
       "</style>\n",
       "<table border=\"1\" class=\"dataframe\">\n",
       "  <thead>\n",
       "    <tr style=\"text-align: right;\">\n",
       "      <th></th>\n",
       "      <th>fl_date</th>\n",
       "      <th>mkt_carrier</th>\n",
       "      <th>mkt_carrier_fl_num</th>\n",
       "      <th>origin</th>\n",
       "      <th>dest</th>\n",
       "      <th>predictions</th>\n",
       "    </tr>\n",
       "  </thead>\n",
       "  <tbody>\n",
       "    <tr>\n",
       "      <th>0</th>\n",
       "      <td>2020-01-01</td>\n",
       "      <td>WN</td>\n",
       "      <td>5888</td>\n",
       "      <td>ONT</td>\n",
       "      <td>SFO</td>\n",
       "      <td>-3.726372</td>\n",
       "    </tr>\n",
       "    <tr>\n",
       "      <th>1</th>\n",
       "      <td>2020-01-01</td>\n",
       "      <td>WN</td>\n",
       "      <td>6276</td>\n",
       "      <td>ONT</td>\n",
       "      <td>SFO</td>\n",
       "      <td>-6.344826</td>\n",
       "    </tr>\n",
       "    <tr>\n",
       "      <th>2</th>\n",
       "      <td>2020-01-01</td>\n",
       "      <td>WN</td>\n",
       "      <td>4598</td>\n",
       "      <td>ONT</td>\n",
       "      <td>SJC</td>\n",
       "      <td>-3.247012</td>\n",
       "    </tr>\n",
       "    <tr>\n",
       "      <th>3</th>\n",
       "      <td>2020-01-01</td>\n",
       "      <td>WN</td>\n",
       "      <td>4761</td>\n",
       "      <td>ONT</td>\n",
       "      <td>SJC</td>\n",
       "      <td>-3.843015</td>\n",
       "    </tr>\n",
       "    <tr>\n",
       "      <th>4</th>\n",
       "      <td>2020-01-01</td>\n",
       "      <td>WN</td>\n",
       "      <td>5162</td>\n",
       "      <td>ONT</td>\n",
       "      <td>SJC</td>\n",
       "      <td>-6.551261</td>\n",
       "    </tr>\n",
       "  </tbody>\n",
       "</table>\n",
       "</div>"
      ],
      "text/plain": [
       "      fl_date mkt_carrier  mkt_carrier_fl_num origin dest  predictions\n",
       "0  2020-01-01          WN                5888    ONT  SFO    -3.726372\n",
       "1  2020-01-01          WN                6276    ONT  SFO    -6.344826\n",
       "2  2020-01-01          WN                4598    ONT  SJC    -3.247012\n",
       "3  2020-01-01          WN                4761    ONT  SJC    -3.843015\n",
       "4  2020-01-01          WN                5162    ONT  SJC    -6.551261"
      ]
     },
     "execution_count": 68,
     "metadata": {},
     "output_type": "execute_result"
    }
   ],
   "source": [
    "import copy\n",
    "submission = copy.deepcopy(pre_submit)\n",
    "submission['predictions'] = y_predictions\n",
    "submission.drop('Unnamed: 0', axis = 1, inplace=True)\n",
    "submission.head()"
   ]
  },
  {
   "cell_type": "code",
   "execution_count": 69,
   "metadata": {},
   "outputs": [],
   "source": [
    "submission.to_csv('data/submission.csv')"
   ]
  },
  {
   "cell_type": "code",
   "execution_count": null,
   "metadata": {},
   "outputs": [],
   "source": []
  },
  {
   "cell_type": "markdown",
   "metadata": {},
   "source": [
    "======================================================================\n",
    "## Stretch Tasks"
   ]
  },
  {
   "cell_type": "markdown",
   "metadata": {},
   "source": [
    "### Multiclass Classification"
   ]
  },
  {
   "cell_type": "markdown",
   "metadata": {},
   "source": [
    "The target variables are **CARRIER_DELAY, WEATHER_DELAY, NAS_DELAY, SECURITY_DELAY, LATE_AIRCRAFT_DELAY**. We need to do additional transformations because these variables are not binary but continuos. For each flight that was delayed, we need to have one of these variables as 1 and others 0.\n",
    "\n",
    "It can happen that we have two types of delays with more than 0 minutes. In this case, take the bigger one as 1 and others as 0.\n",
    "\n",
    "## Because this is a classification problem, we will want to rectify the massive class imbalance between labels for these algorithms. "
   ]
  },
  {
   "cell_type": "code",
   "execution_count": 73,
   "metadata": {},
   "outputs": [
    {
     "data": {
      "text/html": [
       "<div>\n",
       "<style scoped>\n",
       "    .dataframe tbody tr th:only-of-type {\n",
       "        vertical-align: middle;\n",
       "    }\n",
       "\n",
       "    .dataframe tbody tr th {\n",
       "        vertical-align: top;\n",
       "    }\n",
       "\n",
       "    .dataframe thead th {\n",
       "        text-align: right;\n",
       "    }\n",
       "</style>\n",
       "<table border=\"1\" class=\"dataframe\">\n",
       "  <thead>\n",
       "    <tr style=\"text-align: right;\">\n",
       "      <th></th>\n",
       "      <th>Unnamed: 0</th>\n",
       "      <th>type_is_Adverse_x</th>\n",
       "      <th>type_is_Clear_x</th>\n",
       "      <th>type_is_Precipitation_x</th>\n",
       "      <th>type_is_Storm_x</th>\n",
       "      <th>type_is_Light_x</th>\n",
       "      <th>type_is_Moderate_x</th>\n",
       "      <th>type_is_Severe_x</th>\n",
       "      <th>type_is_Adverse_y</th>\n",
       "      <th>type_is_Clear_y</th>\n",
       "      <th>...</th>\n",
       "      <th>fl_num_on_time_pct</th>\n",
       "      <th>origin_on_time_pct</th>\n",
       "      <th>route_on_time_pct</th>\n",
       "      <th>origin_taxi_out</th>\n",
       "      <th>carrier_fuel_consumption</th>\n",
       "      <th>mean_taxi_in</th>\n",
       "      <th>carrier_mean_delay</th>\n",
       "      <th>origin_mean_dep_delay</th>\n",
       "      <th>dest_mean_arr_delay</th>\n",
       "      <th>delay_reason</th>\n",
       "    </tr>\n",
       "  </thead>\n",
       "  <tbody>\n",
       "    <tr>\n",
       "      <th>0</th>\n",
       "      <td>0</td>\n",
       "      <td>0</td>\n",
       "      <td>1</td>\n",
       "      <td>0</td>\n",
       "      <td>0</td>\n",
       "      <td>1</td>\n",
       "      <td>0</td>\n",
       "      <td>0</td>\n",
       "      <td>0</td>\n",
       "      <td>1</td>\n",
       "      <td>...</td>\n",
       "      <td>0.367852</td>\n",
       "      <td>1.155770</td>\n",
       "      <td>0.042167</td>\n",
       "      <td>-0.475455</td>\n",
       "      <td>-1.159495</td>\n",
       "      <td>1.081105</td>\n",
       "      <td>-0.19294</td>\n",
       "      <td>0.990275</td>\n",
       "      <td>0.569036</td>\n",
       "      <td>no_delay/undefined</td>\n",
       "    </tr>\n",
       "    <tr>\n",
       "      <th>1</th>\n",
       "      <td>1</td>\n",
       "      <td>0</td>\n",
       "      <td>0</td>\n",
       "      <td>1</td>\n",
       "      <td>0</td>\n",
       "      <td>1</td>\n",
       "      <td>0</td>\n",
       "      <td>0</td>\n",
       "      <td>0</td>\n",
       "      <td>0</td>\n",
       "      <td>...</td>\n",
       "      <td>0.414815</td>\n",
       "      <td>-0.010761</td>\n",
       "      <td>-1.090683</td>\n",
       "      <td>-0.932123</td>\n",
       "      <td>-0.710796</td>\n",
       "      <td>1.081105</td>\n",
       "      <td>-0.19294</td>\n",
       "      <td>1.817218</td>\n",
       "      <td>1.184652</td>\n",
       "      <td>no_delay/undefined</td>\n",
       "    </tr>\n",
       "    <tr>\n",
       "      <th>2</th>\n",
       "      <td>2</td>\n",
       "      <td>0</td>\n",
       "      <td>1</td>\n",
       "      <td>0</td>\n",
       "      <td>0</td>\n",
       "      <td>1</td>\n",
       "      <td>0</td>\n",
       "      <td>0</td>\n",
       "      <td>0</td>\n",
       "      <td>1</td>\n",
       "      <td>...</td>\n",
       "      <td>0.079782</td>\n",
       "      <td>-0.375917</td>\n",
       "      <td>-0.340825</td>\n",
       "      <td>-0.216023</td>\n",
       "      <td>0.888111</td>\n",
       "      <td>1.081105</td>\n",
       "      <td>-0.19294</td>\n",
       "      <td>-0.189890</td>\n",
       "      <td>1.184652</td>\n",
       "      <td>no_delay/undefined</td>\n",
       "    </tr>\n",
       "    <tr>\n",
       "      <th>3</th>\n",
       "      <td>3</td>\n",
       "      <td>0</td>\n",
       "      <td>1</td>\n",
       "      <td>0</td>\n",
       "      <td>0</td>\n",
       "      <td>1</td>\n",
       "      <td>0</td>\n",
       "      <td>0</td>\n",
       "      <td>0</td>\n",
       "      <td>1</td>\n",
       "      <td>...</td>\n",
       "      <td>-1.322857</td>\n",
       "      <td>-0.526199</td>\n",
       "      <td>0.272626</td>\n",
       "      <td>-0.662034</td>\n",
       "      <td>-0.139927</td>\n",
       "      <td>1.081105</td>\n",
       "      <td>-0.19294</td>\n",
       "      <td>0.397533</td>\n",
       "      <td>-0.453026</td>\n",
       "      <td>no_delay/undefined</td>\n",
       "    </tr>\n",
       "    <tr>\n",
       "      <th>4</th>\n",
       "      <td>4</td>\n",
       "      <td>0</td>\n",
       "      <td>1</td>\n",
       "      <td>0</td>\n",
       "      <td>0</td>\n",
       "      <td>1</td>\n",
       "      <td>0</td>\n",
       "      <td>0</td>\n",
       "      <td>0</td>\n",
       "      <td>0</td>\n",
       "      <td>...</td>\n",
       "      <td>-1.322857</td>\n",
       "      <td>-0.946699</td>\n",
       "      <td>-0.542943</td>\n",
       "      <td>1.470320</td>\n",
       "      <td>-0.811735</td>\n",
       "      <td>1.081105</td>\n",
       "      <td>-0.19294</td>\n",
       "      <td>0.118298</td>\n",
       "      <td>-0.764628</td>\n",
       "      <td>no_delay/undefined</td>\n",
       "    </tr>\n",
       "  </tbody>\n",
       "</table>\n",
       "<p>5 rows × 37 columns</p>\n",
       "</div>"
      ],
      "text/plain": [
       "   Unnamed: 0  type_is_Adverse_x  type_is_Clear_x  type_is_Precipitation_x  \\\n",
       "0           0                  0                1                        0   \n",
       "1           1                  0                0                        1   \n",
       "2           2                  0                1                        0   \n",
       "3           3                  0                1                        0   \n",
       "4           4                  0                1                        0   \n",
       "\n",
       "   type_is_Storm_x  type_is_Light_x  type_is_Moderate_x  type_is_Severe_x  \\\n",
       "0                0                1                   0                 0   \n",
       "1                0                1                   0                 0   \n",
       "2                0                1                   0                 0   \n",
       "3                0                1                   0                 0   \n",
       "4                0                1                   0                 0   \n",
       "\n",
       "   type_is_Adverse_y  type_is_Clear_y  ...  fl_num_on_time_pct  \\\n",
       "0                  0                1  ...            0.367852   \n",
       "1                  0                0  ...            0.414815   \n",
       "2                  0                1  ...            0.079782   \n",
       "3                  0                1  ...           -1.322857   \n",
       "4                  0                0  ...           -1.322857   \n",
       "\n",
       "   origin_on_time_pct  route_on_time_pct  origin_taxi_out  \\\n",
       "0            1.155770           0.042167        -0.475455   \n",
       "1           -0.010761          -1.090683        -0.932123   \n",
       "2           -0.375917          -0.340825        -0.216023   \n",
       "3           -0.526199           0.272626        -0.662034   \n",
       "4           -0.946699          -0.542943         1.470320   \n",
       "\n",
       "   carrier_fuel_consumption  mean_taxi_in  carrier_mean_delay  \\\n",
       "0                 -1.159495      1.081105            -0.19294   \n",
       "1                 -0.710796      1.081105            -0.19294   \n",
       "2                  0.888111      1.081105            -0.19294   \n",
       "3                 -0.139927      1.081105            -0.19294   \n",
       "4                 -0.811735      1.081105            -0.19294   \n",
       "\n",
       "   origin_mean_dep_delay  dest_mean_arr_delay        delay_reason  \n",
       "0               0.990275             0.569036  no_delay/undefined  \n",
       "1               1.817218             1.184652  no_delay/undefined  \n",
       "2              -0.189890             1.184652  no_delay/undefined  \n",
       "3               0.397533            -0.453026  no_delay/undefined  \n",
       "4               0.118298            -0.764628  no_delay/undefined  \n",
       "\n",
       "[5 rows x 37 columns]"
      ]
     },
     "execution_count": 73,
     "metadata": {},
     "output_type": "execute_result"
    }
   ],
   "source": [
    "multiclass = pd.read_csv('data/multiclass_data.csv')\n",
    "multiclass.head()"
   ]
  },
  {
   "cell_type": "code",
   "execution_count": 74,
   "metadata": {},
   "outputs": [],
   "source": [
    "multi_target = multiclass.delay_reason\n",
    "multiclass.drop('delay_reason',axis = 1, inplace=True)"
   ]
  },
  {
   "cell_type": "code",
   "execution_count": 75,
   "metadata": {},
   "outputs": [],
   "source": [
    "# Initiate a new train test split based on the multiclass target\n",
    "X_train, X_val, y_train, y_val = train_test_split(multiclass, multi_target, test_size = 0.25, random_state = 13)"
   ]
  },
  {
   "cell_type": "markdown",
   "metadata": {},
   "source": [
    "# SVM"
   ]
  },
  {
   "cell_type": "code",
   "execution_count": null,
   "metadata": {},
   "outputs": [],
   "source": [
    "svc = SVC()\n",
    "svc.fit(X_train, y_train)"
   ]
  },
  {
   "cell_type": "code",
   "execution_count": null,
   "metadata": {},
   "outputs": [],
   "source": [
    "y_svc_predict = svc.predict(X_val)"
   ]
  },
  {
   "cell_type": "code",
   "execution_count": null,
   "metadata": {},
   "outputs": [],
   "source": [
    "multiclassifier_metrics(y_svc_predict, y_val)"
   ]
  },
  {
   "cell_type": "markdown",
   "metadata": {},
   "source": [
    "# Naive Bayes"
   ]
  },
  {
   "cell_type": "code",
   "execution_count": null,
   "metadata": {},
   "outputs": [],
   "source": [
    "gnb = GaussianNB()\n",
    "gnb.fit(X_train, y_train)"
   ]
  },
  {
   "cell_type": "code",
   "execution_count": null,
   "metadata": {},
   "outputs": [],
   "source": [
    "gnb_predict = gnb.predict(X_val)"
   ]
  },
  {
   "cell_type": "code",
   "execution_count": null,
   "metadata": {},
   "outputs": [],
   "source": [
    "multiclassifier_metrics(gnb_predict, y_val)"
   ]
  },
  {
   "cell_type": "markdown",
   "metadata": {},
   "source": [
    "# XGBoost"
   ]
  },
  {
   "cell_type": "code",
   "execution_count": null,
   "metadata": {},
   "outputs": [],
   "source": [
    "xgb_c = xgb.XGBClassifier()\n",
    "xgb_c.fit(X_train, y_train)\n"
   ]
  },
  {
   "cell_type": "code",
   "execution_count": null,
   "metadata": {},
   "outputs": [],
   "source": [
    "y_xgb_c = xgb_c.predict(X_val)"
   ]
  },
  {
   "cell_type": "code",
   "execution_count": null,
   "metadata": {},
   "outputs": [],
   "source": [
    "multiclassifier_metrics(y_xgb_c, y_val)"
   ]
  },
  {
   "cell_type": "markdown",
   "metadata": {},
   "source": [
    "# AUC-ROC Curves\n",
    "Use this section to impelement AUC-ROC curves for the above models."
   ]
  },
  {
   "cell_type": "code",
   "execution_count": null,
   "metadata": {},
   "outputs": [],
   "source": []
  },
  {
   "cell_type": "markdown",
   "metadata": {},
   "source": [
    "### Binary Classification"
   ]
  },
  {
   "cell_type": "markdown",
   "metadata": {},
   "source": [
    "The target variable is **CANCELLED**. The main problem here is going to be huge class imbalance. We have only very little cancelled flights with comparison to all flights. It is important to do the right sampling before training and to choose correct evaluation metrics."
   ]
  },
  {
   "cell_type": "code",
   "execution_count": null,
   "metadata": {},
   "outputs": [],
   "source": []
  },
  {
   "cell_type": "code",
   "execution_count": null,
   "metadata": {},
   "outputs": [],
   "source": []
  },
  {
   "cell_type": "raw",
   "metadata": {},
   "source": []
  },
  {
   "cell_type": "raw",
   "metadata": {},
   "source": []
  },
  {
   "cell_type": "raw",
   "metadata": {},
   "source": []
  }
 ],
 "metadata": {
  "kernelspec": {
   "display_name": "bootcamp_env",
   "language": "python",
   "name": "bootcamp_env"
  },
  "language_info": {
   "codemirror_mode": {
    "name": "ipython",
    "version": 3
   },
   "file_extension": ".py",
   "mimetype": "text/x-python",
   "name": "python",
   "nbconvert_exporter": "python",
   "pygments_lexer": "ipython3",
   "version": "3.6.10"
  }
 },
 "nbformat": 4,
 "nbformat_minor": 4
}
