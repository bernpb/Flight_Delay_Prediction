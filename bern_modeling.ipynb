{
 "cells": [
  {
   "cell_type": "markdown",
   "metadata": {},
   "source": [
    "# Machine Learning\n",
    "\n",
    "In this file, instructions how to approach the challenge can be found."
   ]
  },
  {
   "cell_type": "markdown",
   "metadata": {},
   "source": [
    "We are going to work on different types of Machine Learning problems:\n",
    "\n",
    "- **Regression Problem**: The goal is to predict delay of flights.\n",
    "- **(Stretch) Multiclass Classification**: If the plane was delayed, we will predict what type of delay it is (will be).\n",
    "- **(Stretch) Binary Classification**: The goal is to predict if the flight will be cancelled."
   ]
  },
  {
   "cell_type": "code",
   "execution_count": 1,
   "metadata": {},
   "outputs": [],
   "source": [
    "# Import the necessary libraries\n",
    "import pandas as pd\n",
    "import numpy as np\n",
    "import matplotlib.pyplot as plt\n",
    "import seaborn as sns\n",
    "\n",
    "# Preprocessing\n",
    "from sklearn.model_selection import train_test_split, GridSearchCV\n",
    "from sklearn.preprocessing import StandardScaler\n",
    "from sklearn.preprocessing import PolynomialFeatures\n",
    "from sklearn.decomposition import PCA\n",
    "from sklearn.discriminant_analysis import LinearDiscriminantAnalysis\n",
    "\n",
    "# Models\n",
    "from sklearn.ensemble import RandomForestRegressor\n",
    "from sklearn.linear_model import LinearRegression, Ridge, Lasso\n",
    "from sklearn.naive_bayes import GaussianNB\n",
    "from sklearn.cluster import KMeans\n",
    "import xgboost as xgb\n",
    "\n",
    "# Metrics\n",
    "from sklearn.metrics import r2_score\n",
    "from sklearn.metrics import mean_absolute_error\n",
    "from sklearn.metrics import mean_squared_error\n",
    "from sklearn.metrics import accuracy_score\n",
    "from sklearn.metrics import f1_score\n",
    "from sklearn.metrics import precision_score\n",
    "from sklearn.metrics import recall_score\n",
    "from sklearn.metrics import confusion_matrix"
   ]
  },
  {
   "cell_type": "code",
   "execution_count": 2,
   "metadata": {},
   "outputs": [],
   "source": [
    "# Define some useful functions\n",
    "\n",
    "def dummify(df, column):\n",
    "    temp_list = list(df[column])\n",
    "    temp_df = pd.DataFrame(temp_list, columns = [column])\n",
    "    dummy_df = pd.get_dummies(temp_df, columns = [column], prefix = ['type_is'])\n",
    "    return dummy_df\n",
    "\n",
    "def binary_classifier_metrics(y_test, y_pred):\n",
    "    \n",
    "    \"\"\"\n",
    "    Quick function to return metrics for binary classification models.\n",
    "    \n",
    "    Requires the imports of the functions below.\n",
    "    \"\"\"\n",
    "    \n",
    "    print('Accuracy: ', accuracy_score(y_test, y_pred))\n",
    "    print('F1 score: ', f1_score(y_test, y_pred))\n",
    "    print('Precision score: ', precision_score(y_test, y_pred))\n",
    "    print('Recall score: ', recall_score(y_test, y_pred))\n",
    "    print('Confusion Matrix: \\n', confusion_matrix(y_test, y_pred))\n",
    "\n",
    "    \n",
    "def regression_metrics(y_test, y_pred):\n",
    "    print('R2 Score: ', r2_score(y_test, y_pred))\n",
    "    print('Mean Absolute Error: ', mean_absolute_error(y_test, y_pred))\n",
    "    print('Mean Squared Error: ', mean_squared_error(y_test, y_pred))\n",
    "    \n",
    "    \n",
    "def grid_search_results(grid_search, X, y):\n",
    "    \"\"\"\n",
    "    Returns grid search results in a readable format\n",
    "    \"\"\"\n",
    "    \n",
    "    print('Best Score: ',grid_search.score(X, y, ))\n",
    "    print('Best Params: ', grid_search.best_params_)"
   ]
  },
  {
   "cell_type": "code",
   "execution_count": 3,
   "metadata": {},
   "outputs": [],
   "source": [
    "def grid_search_results(grid_search, X, y):\n",
    "    print('Best Score: ',grid_search.score(X, y, ))\n",
    "    print('Best Params: ', grid_search.best_params_)"
   ]
  },
  {
   "cell_type": "code",
   "execution_count": null,
   "metadata": {},
   "outputs": [],
   "source": []
  },
  {
   "cell_type": "markdown",
   "metadata": {},
   "source": [
    "## Main Task: Regression Problem"
   ]
  },
  {
   "cell_type": "markdown",
   "metadata": {},
   "source": [
    "The target variable is **ARR_DELAY**. We need to be careful which columns to use and which don't. For example, DEP_DELAY is going to be the perfect predictor, but we can't use it because in real-life scenario, we want to predict the delay before the flight takes of --> We can use average delay from earlier days but not the one from the actual flight we predict.  \n",
    "\n",
    "For example, variables **CARRIER_DELAY, WEATHER_DELAY, NAS_DELAY, SECURITY_DELAY, LATE_AIRCRAFT_DELAY** shouldn't be used directly as predictors as well. However, we can create various transformations from earlier values.\n",
    "\n",
    "We will be evaluating your models by predicting the ARR_DELAY for all flights **1 week in advance**."
   ]
  },
  {
   "cell_type": "code",
   "execution_count": 4,
   "metadata": {},
   "outputs": [],
   "source": [
    "data = pd.read_csv('data/clean_df.csv')"
   ]
  },
  {
   "cell_type": "code",
   "execution_count": 5,
   "metadata": {},
   "outputs": [
    {
     "data": {
      "text/html": [
       "<div>\n",
       "<style scoped>\n",
       "    .dataframe tbody tr th:only-of-type {\n",
       "        vertical-align: middle;\n",
       "    }\n",
       "\n",
       "    .dataframe tbody tr th {\n",
       "        vertical-align: top;\n",
       "    }\n",
       "\n",
       "    .dataframe thead th {\n",
       "        text-align: right;\n",
       "    }\n",
       "</style>\n",
       "<table border=\"1\" class=\"dataframe\">\n",
       "  <thead>\n",
       "    <tr style=\"text-align: right;\">\n",
       "      <th></th>\n",
       "      <th>Unnamed: 0</th>\n",
       "      <th>mkt_unique_carrier</th>\n",
       "      <th>mkt_carrier_fl_num</th>\n",
       "      <th>tail_num</th>\n",
       "      <th>origin</th>\n",
       "      <th>dest</th>\n",
       "      <th>crs_dep_time</th>\n",
       "      <th>crs_arr_time</th>\n",
       "      <th>arr_delay</th>\n",
       "      <th>cancelled</th>\n",
       "      <th>...</th>\n",
       "      <th>haul_type</th>\n",
       "      <th>route</th>\n",
       "      <th>carrier_on_time_pct</th>\n",
       "      <th>plane_on_time_pct</th>\n",
       "      <th>origin_on_time_pct</th>\n",
       "      <th>fl_num_on_time_pct</th>\n",
       "      <th>route_on_time_pct</th>\n",
       "      <th>carrier_fuel_consumption</th>\n",
       "      <th>mean_taxi_out</th>\n",
       "      <th>mean_taxi_in</th>\n",
       "    </tr>\n",
       "  </thead>\n",
       "  <tbody>\n",
       "    <tr>\n",
       "      <th>0</th>\n",
       "      <td>0</td>\n",
       "      <td>AA</td>\n",
       "      <td>5606</td>\n",
       "      <td>N575NN</td>\n",
       "      <td>MYR</td>\n",
       "      <td>CLT</td>\n",
       "      <td>2157</td>\n",
       "      <td>2311</td>\n",
       "      <td>-3.0</td>\n",
       "      <td>0.0</td>\n",
       "      <td>...</td>\n",
       "      <td>Short</td>\n",
       "      <td>MYR_CLT</td>\n",
       "      <td>0.738134</td>\n",
       "      <td>0.698113</td>\n",
       "      <td>0.832627</td>\n",
       "      <td>0.693182</td>\n",
       "      <td>0.815657</td>\n",
       "      <td>6.758333e-08</td>\n",
       "      <td>14.188559</td>\n",
       "      <td>9.765890</td>\n",
       "    </tr>\n",
       "    <tr>\n",
       "      <th>1</th>\n",
       "      <td>2</td>\n",
       "      <td>AA</td>\n",
       "      <td>5607</td>\n",
       "      <td>N254PS</td>\n",
       "      <td>DCA</td>\n",
       "      <td>BDL</td>\n",
       "      <td>1009</td>\n",
       "      <td>1126</td>\n",
       "      <td>14.0</td>\n",
       "      <td>0.0</td>\n",
       "      <td>...</td>\n",
       "      <td>Short</td>\n",
       "      <td>DCA_BDL</td>\n",
       "      <td>0.738134</td>\n",
       "      <td>0.707224</td>\n",
       "      <td>0.788449</td>\n",
       "      <td>0.688889</td>\n",
       "      <td>0.712934</td>\n",
       "      <td>6.758333e-08</td>\n",
       "      <td>18.247400</td>\n",
       "      <td>7.549458</td>\n",
       "    </tr>\n",
       "    <tr>\n",
       "      <th>2</th>\n",
       "      <td>3</td>\n",
       "      <td>AA</td>\n",
       "      <td>5608</td>\n",
       "      <td>N710PS</td>\n",
       "      <td>DCA</td>\n",
       "      <td>GSP</td>\n",
       "      <td>2000</td>\n",
       "      <td>2134</td>\n",
       "      <td>-12.0</td>\n",
       "      <td>0.0</td>\n",
       "      <td>...</td>\n",
       "      <td>Short</td>\n",
       "      <td>DCA_GSP</td>\n",
       "      <td>0.738134</td>\n",
       "      <td>0.697279</td>\n",
       "      <td>0.788449</td>\n",
       "      <td>0.724409</td>\n",
       "      <td>0.675439</td>\n",
       "      <td>6.758333e-08</td>\n",
       "      <td>18.247400</td>\n",
       "      <td>7.549458</td>\n",
       "    </tr>\n",
       "    <tr>\n",
       "      <th>3</th>\n",
       "      <td>4</td>\n",
       "      <td>AA</td>\n",
       "      <td>5610</td>\n",
       "      <td>N515AE</td>\n",
       "      <td>ORF</td>\n",
       "      <td>CLT</td>\n",
       "      <td>1215</td>\n",
       "      <td>1347</td>\n",
       "      <td>-14.0</td>\n",
       "      <td>0.0</td>\n",
       "      <td>...</td>\n",
       "      <td>Short</td>\n",
       "      <td>ORF_CLT</td>\n",
       "      <td>0.738134</td>\n",
       "      <td>0.777090</td>\n",
       "      <td>0.786831</td>\n",
       "      <td>0.737288</td>\n",
       "      <td>0.834515</td>\n",
       "      <td>6.758333e-08</td>\n",
       "      <td>15.585689</td>\n",
       "      <td>8.718280</td>\n",
       "    </tr>\n",
       "    <tr>\n",
       "      <th>4</th>\n",
       "      <td>5</td>\n",
       "      <td>AA</td>\n",
       "      <td>5613</td>\n",
       "      <td>N242JS</td>\n",
       "      <td>DCA</td>\n",
       "      <td>CLE</td>\n",
       "      <td>2220</td>\n",
       "      <td>2343</td>\n",
       "      <td>7.0</td>\n",
       "      <td>0.0</td>\n",
       "      <td>...</td>\n",
       "      <td>Short</td>\n",
       "      <td>DCA_CLE</td>\n",
       "      <td>0.738134</td>\n",
       "      <td>0.750000</td>\n",
       "      <td>0.788449</td>\n",
       "      <td>0.684932</td>\n",
       "      <td>0.843750</td>\n",
       "      <td>6.758333e-08</td>\n",
       "      <td>18.247400</td>\n",
       "      <td>7.549458</td>\n",
       "    </tr>\n",
       "  </tbody>\n",
       "</table>\n",
       "<p>5 rows × 46 columns</p>\n",
       "</div>"
      ],
      "text/plain": [
       "   Unnamed: 0 mkt_unique_carrier  mkt_carrier_fl_num tail_num origin dest  \\\n",
       "0           0                 AA                5606   N575NN    MYR  CLT   \n",
       "1           2                 AA                5607   N254PS    DCA  BDL   \n",
       "2           3                 AA                5608   N710PS    DCA  GSP   \n",
       "3           4                 AA                5610   N515AE    ORF  CLT   \n",
       "4           5                 AA                5613   N242JS    DCA  CLE   \n",
       "\n",
       "   crs_dep_time  crs_arr_time  arr_delay  cancelled  ...  haul_type    route  \\\n",
       "0          2157          2311       -3.0        0.0  ...      Short  MYR_CLT   \n",
       "1          1009          1126       14.0        0.0  ...      Short  DCA_BDL   \n",
       "2          2000          2134      -12.0        0.0  ...      Short  DCA_GSP   \n",
       "3          1215          1347      -14.0        0.0  ...      Short  ORF_CLT   \n",
       "4          2220          2343        7.0        0.0  ...      Short  DCA_CLE   \n",
       "\n",
       "   carrier_on_time_pct  plane_on_time_pct  origin_on_time_pct  \\\n",
       "0             0.738134           0.698113            0.832627   \n",
       "1             0.738134           0.707224            0.788449   \n",
       "2             0.738134           0.697279            0.788449   \n",
       "3             0.738134           0.777090            0.786831   \n",
       "4             0.738134           0.750000            0.788449   \n",
       "\n",
       "   fl_num_on_time_pct  route_on_time_pct carrier_fuel_consumption  \\\n",
       "0            0.693182           0.815657             6.758333e-08   \n",
       "1            0.688889           0.712934             6.758333e-08   \n",
       "2            0.724409           0.675439             6.758333e-08   \n",
       "3            0.737288           0.834515             6.758333e-08   \n",
       "4            0.684932           0.843750             6.758333e-08   \n",
       "\n",
       "  mean_taxi_out mean_taxi_in  \n",
       "0     14.188559     9.765890  \n",
       "1     18.247400     7.549458  \n",
       "2     18.247400     7.549458  \n",
       "3     15.585689     8.718280  \n",
       "4     18.247400     7.549458  \n",
       "\n",
       "[5 rows x 46 columns]"
      ]
     },
     "execution_count": 5,
     "metadata": {},
     "output_type": "execute_result"
    }
   ],
   "source": [
    "data.head()"
   ]
  },
  {
   "cell_type": "code",
   "execution_count": 6,
   "metadata": {},
   "outputs": [
    {
     "data": {
      "text/plain": [
       "(1079053, 46)"
      ]
     },
     "execution_count": 6,
     "metadata": {},
     "output_type": "execute_result"
    }
   ],
   "source": [
    "data.shape"
   ]
  },
  {
   "cell_type": "code",
   "execution_count": 7,
   "metadata": {},
   "outputs": [],
   "source": [
    "\n",
    "# Separate the target feature\n",
    "\n",
    "target = data['arr_delay']\n",
    "data = data.drop(columns = 'arr_delay')"
   ]
  },
  {
   "cell_type": "code",
   "execution_count": 9,
   "metadata": {},
   "outputs": [],
   "source": [
    "data = data.drop(columns = ['Unnamed: 0', 'dest', 'origin',\n",
    "                           'route',\n",
    "                            'arr_period',\n",
    "                            'dep_period',\n",
    "                            'mkt_unique_carrier',\n",
    "                            'mkt_carrier_fl_num',\n",
    "                            'tail_num',\n",
    "                            'dep_state',\n",
    "                           'dest_state',\n",
    "                           'crs_dep_time',\n",
    "                           'crs_arr_time',\n",
    "                            'carrier_delay',\n",
    "                           'weather_delay',\n",
    "                           'nas_delay',\n",
    "                           'security_delay',\n",
    "                           'late_aircraft_delay',\n",
    "                           'dest_match_code',\n",
    "                           'origin_match_code',\n",
    "                           'crs_dep_minutes',\n",
    "                           'crs_arr_minutes',\n",
    "                           'year', 'month', 'day',\n",
    "                           'on_time',\n",
    "                            'mkt_carrier_fl_num',\n",
    "                            'haul_type',\n",
    "                             'cancelled',\n",
    "                           'cancellation_code'\n",
    "                           ])"
   ]
  },
  {
   "cell_type": "code",
   "execution_count": 10,
   "metadata": {},
   "outputs": [
    {
     "data": {
      "text/plain": [
       "(1079053, 16)"
      ]
     },
     "execution_count": 10,
     "metadata": {},
     "output_type": "execute_result"
    }
   ],
   "source": [
    "data.shape"
   ]
  },
  {
   "cell_type": "markdown",
   "metadata": {},
   "source": [
    "### Feature Engineering"
   ]
  },
  {
   "cell_type": "markdown",
   "metadata": {},
   "source": [
    "Feature engineering will play a crucial role in this problems. We have only very little attributes so we need to create some features that will have some predictive power.\n",
    "\n",
    "- weather: we can use some weather API to look for the weather in time of the scheduled departure and scheduled arrival.\n",
    "- statistics (avg, mean, median, std, min, max...): we can take a look at previous delays and compute descriptive statistics\n",
    "- airports encoding: we need to think about what to do with the airports and other categorical variables\n",
    "- time of the day: the delay probably depends on the airport traffic which varies during the day.\n",
    "- airport traffic\n",
    "- unsupervised learning as feature engineering?\n",
    "- **what are the additional options?**: Think about what we could do more to improve the model.\n",
    "\n"
   ]
  },
  {
   "cell_type": "code",
   "execution_count": 11,
   "metadata": {},
   "outputs": [
    {
     "data": {
      "text/plain": [
       "distance                    float64\n",
       "origin_weather_condition     object\n",
       "origin_weather_severity      object\n",
       "dest_weather_condition       object\n",
       "dest_weather_severity        object\n",
       "week_day                     object\n",
       "crs_dep_hour                  int64\n",
       "crs_arr_hour                  int64\n",
       "carrier_on_time_pct         float64\n",
       "plane_on_time_pct           float64\n",
       "origin_on_time_pct          float64\n",
       "fl_num_on_time_pct          float64\n",
       "route_on_time_pct           float64\n",
       "carrier_fuel_consumption    float64\n",
       "mean_taxi_out               float64\n",
       "mean_taxi_in                float64\n",
       "dtype: object"
      ]
     },
     "execution_count": 11,
     "metadata": {},
     "output_type": "execute_result"
    }
   ],
   "source": [
    "# Check the data types of the columns\n",
    "data.dtypes"
   ]
  },
  {
   "cell_type": "code",
   "execution_count": 13,
   "metadata": {},
   "outputs": [
    {
     "data": {
      "text/plain": [
       "['origin_weather_condition',\n",
       " 'origin_weather_severity',\n",
       " 'dest_weather_condition',\n",
       " 'dest_weather_severity',\n",
       " 'week_day']"
      ]
     },
     "execution_count": 13,
     "metadata": {},
     "output_type": "execute_result"
    }
   ],
   "source": [
    "# Get lists of numeric columns and object columns to facilitate making dummy variables and scaling\n",
    "\n",
    "numeric_cols = ['distance',\n",
    "               'crs_dep_hour',\n",
    "               'crs_arr_hour',\n",
    "               'carrier_on_time_pct',\n",
    "               'plane_on_time_pct',\n",
    "               'fl_num_on_time_pct',\n",
    "               'origin_on_time_pct',\n",
    "               'route_on_time_pct',\n",
    "               'mean_taxi_out', \n",
    "               'carrier_fuel_consumption',\n",
    "               'mean_taxi_in']\n",
    "obj_cols = data.drop(columns = numeric_cols).columns.to_list()\n",
    "# obj_cols.pop()\n",
    "obj_cols"
   ]
  },
  {
   "cell_type": "code",
   "execution_count": 14,
   "metadata": {},
   "outputs": [],
   "source": [
    "# Create Dummy variables for the object columns\n",
    "\n",
    "for col in obj_cols:\n",
    "    temp_df = dummify(data, col)\n",
    "    data = data.merge(temp_df, \n",
    "                               left_index = True, \n",
    "                               right_index = True)"
   ]
  },
  {
   "cell_type": "code",
   "execution_count": 15,
   "metadata": {},
   "outputs": [
    {
     "data": {
      "text/html": [
       "<div>\n",
       "<style scoped>\n",
       "    .dataframe tbody tr th:only-of-type {\n",
       "        vertical-align: middle;\n",
       "    }\n",
       "\n",
       "    .dataframe tbody tr th {\n",
       "        vertical-align: top;\n",
       "    }\n",
       "\n",
       "    .dataframe thead th {\n",
       "        text-align: right;\n",
       "    }\n",
       "</style>\n",
       "<table border=\"1\" class=\"dataframe\">\n",
       "  <thead>\n",
       "    <tr style=\"text-align: right;\">\n",
       "      <th></th>\n",
       "      <th>distance</th>\n",
       "      <th>crs_dep_hour</th>\n",
       "      <th>crs_arr_hour</th>\n",
       "      <th>carrier_on_time_pct</th>\n",
       "      <th>plane_on_time_pct</th>\n",
       "      <th>origin_on_time_pct</th>\n",
       "      <th>fl_num_on_time_pct</th>\n",
       "      <th>route_on_time_pct</th>\n",
       "      <th>carrier_fuel_consumption</th>\n",
       "      <th>mean_taxi_out</th>\n",
       "      <th>...</th>\n",
       "      <th>type_is_Light_y</th>\n",
       "      <th>type_is_Moderate_y</th>\n",
       "      <th>type_is_Severe_y</th>\n",
       "      <th>type_is_Friday</th>\n",
       "      <th>type_is_Monday</th>\n",
       "      <th>type_is_Saturday</th>\n",
       "      <th>type_is_Sunday</th>\n",
       "      <th>type_is_Thursday</th>\n",
       "      <th>type_is_Tuesday</th>\n",
       "      <th>type_is_Wednesday</th>\n",
       "    </tr>\n",
       "  </thead>\n",
       "  <tbody>\n",
       "    <tr>\n",
       "      <th>0</th>\n",
       "      <td>157.0</td>\n",
       "      <td>21</td>\n",
       "      <td>23</td>\n",
       "      <td>0.738134</td>\n",
       "      <td>0.698113</td>\n",
       "      <td>0.832627</td>\n",
       "      <td>0.693182</td>\n",
       "      <td>0.815657</td>\n",
       "      <td>6.758333e-08</td>\n",
       "      <td>14.188559</td>\n",
       "      <td>...</td>\n",
       "      <td>1</td>\n",
       "      <td>0</td>\n",
       "      <td>0</td>\n",
       "      <td>0</td>\n",
       "      <td>0</td>\n",
       "      <td>0</td>\n",
       "      <td>0</td>\n",
       "      <td>0</td>\n",
       "      <td>1</td>\n",
       "      <td>0</td>\n",
       "    </tr>\n",
       "    <tr>\n",
       "      <th>1</th>\n",
       "      <td>313.0</td>\n",
       "      <td>10</td>\n",
       "      <td>11</td>\n",
       "      <td>0.738134</td>\n",
       "      <td>0.707224</td>\n",
       "      <td>0.788449</td>\n",
       "      <td>0.688889</td>\n",
       "      <td>0.712934</td>\n",
       "      <td>6.758333e-08</td>\n",
       "      <td>18.247400</td>\n",
       "      <td>...</td>\n",
       "      <td>0</td>\n",
       "      <td>1</td>\n",
       "      <td>0</td>\n",
       "      <td>0</td>\n",
       "      <td>0</td>\n",
       "      <td>0</td>\n",
       "      <td>0</td>\n",
       "      <td>0</td>\n",
       "      <td>1</td>\n",
       "      <td>0</td>\n",
       "    </tr>\n",
       "    <tr>\n",
       "      <th>2</th>\n",
       "      <td>396.0</td>\n",
       "      <td>20</td>\n",
       "      <td>21</td>\n",
       "      <td>0.738134</td>\n",
       "      <td>0.697279</td>\n",
       "      <td>0.788449</td>\n",
       "      <td>0.724409</td>\n",
       "      <td>0.675439</td>\n",
       "      <td>6.758333e-08</td>\n",
       "      <td>18.247400</td>\n",
       "      <td>...</td>\n",
       "      <td>1</td>\n",
       "      <td>0</td>\n",
       "      <td>0</td>\n",
       "      <td>0</td>\n",
       "      <td>0</td>\n",
       "      <td>0</td>\n",
       "      <td>0</td>\n",
       "      <td>0</td>\n",
       "      <td>1</td>\n",
       "      <td>0</td>\n",
       "    </tr>\n",
       "    <tr>\n",
       "      <th>3</th>\n",
       "      <td>290.0</td>\n",
       "      <td>12</td>\n",
       "      <td>13</td>\n",
       "      <td>0.738134</td>\n",
       "      <td>0.777090</td>\n",
       "      <td>0.786831</td>\n",
       "      <td>0.737288</td>\n",
       "      <td>0.834515</td>\n",
       "      <td>6.758333e-08</td>\n",
       "      <td>15.585689</td>\n",
       "      <td>...</td>\n",
       "      <td>1</td>\n",
       "      <td>0</td>\n",
       "      <td>0</td>\n",
       "      <td>0</td>\n",
       "      <td>0</td>\n",
       "      <td>0</td>\n",
       "      <td>0</td>\n",
       "      <td>0</td>\n",
       "      <td>1</td>\n",
       "      <td>0</td>\n",
       "    </tr>\n",
       "    <tr>\n",
       "      <th>4</th>\n",
       "      <td>310.0</td>\n",
       "      <td>22</td>\n",
       "      <td>23</td>\n",
       "      <td>0.738134</td>\n",
       "      <td>0.750000</td>\n",
       "      <td>0.788449</td>\n",
       "      <td>0.684932</td>\n",
       "      <td>0.843750</td>\n",
       "      <td>6.758333e-08</td>\n",
       "      <td>18.247400</td>\n",
       "      <td>...</td>\n",
       "      <td>1</td>\n",
       "      <td>0</td>\n",
       "      <td>0</td>\n",
       "      <td>0</td>\n",
       "      <td>0</td>\n",
       "      <td>0</td>\n",
       "      <td>0</td>\n",
       "      <td>0</td>\n",
       "      <td>1</td>\n",
       "      <td>0</td>\n",
       "    </tr>\n",
       "  </tbody>\n",
       "</table>\n",
       "<p>5 rows × 28 columns</p>\n",
       "</div>"
      ],
      "text/plain": [
       "   distance  crs_dep_hour  crs_arr_hour  carrier_on_time_pct  \\\n",
       "0     157.0            21            23             0.738134   \n",
       "1     313.0            10            11             0.738134   \n",
       "2     396.0            20            21             0.738134   \n",
       "3     290.0            12            13             0.738134   \n",
       "4     310.0            22            23             0.738134   \n",
       "\n",
       "   plane_on_time_pct  origin_on_time_pct  fl_num_on_time_pct  \\\n",
       "0           0.698113            0.832627            0.693182   \n",
       "1           0.707224            0.788449            0.688889   \n",
       "2           0.697279            0.788449            0.724409   \n",
       "3           0.777090            0.786831            0.737288   \n",
       "4           0.750000            0.788449            0.684932   \n",
       "\n",
       "   route_on_time_pct  carrier_fuel_consumption  mean_taxi_out  ...  \\\n",
       "0           0.815657              6.758333e-08      14.188559  ...   \n",
       "1           0.712934              6.758333e-08      18.247400  ...   \n",
       "2           0.675439              6.758333e-08      18.247400  ...   \n",
       "3           0.834515              6.758333e-08      15.585689  ...   \n",
       "4           0.843750              6.758333e-08      18.247400  ...   \n",
       "\n",
       "   type_is_Light_y  type_is_Moderate_y  type_is_Severe_y  type_is_Friday  \\\n",
       "0                1                   0                 0               0   \n",
       "1                0                   1                 0               0   \n",
       "2                1                   0                 0               0   \n",
       "3                1                   0                 0               0   \n",
       "4                1                   0                 0               0   \n",
       "\n",
       "   type_is_Monday  type_is_Saturday  type_is_Sunday  type_is_Thursday  \\\n",
       "0               0                 0               0                 0   \n",
       "1               0                 0               0                 0   \n",
       "2               0                 0               0                 0   \n",
       "3               0                 0               0                 0   \n",
       "4               0                 0               0                 0   \n",
       "\n",
       "   type_is_Tuesday  type_is_Wednesday  \n",
       "0                1                  0  \n",
       "1                1                  0  \n",
       "2                1                  0  \n",
       "3                1                  0  \n",
       "4                1                  0  \n",
       "\n",
       "[5 rows x 28 columns]"
      ]
     },
     "execution_count": 15,
     "metadata": {},
     "output_type": "execute_result"
    }
   ],
   "source": [
    "# Drop object columns\n",
    "\n",
    "data = data.drop(columns = obj_cols)\n",
    "data.head()"
   ]
  },
  {
   "cell_type": "code",
   "execution_count": 16,
   "metadata": {},
   "outputs": [
    {
     "data": {
      "text/plain": [
       "(1079053, 28)"
      ]
     },
     "execution_count": 16,
     "metadata": {},
     "output_type": "execute_result"
    }
   ],
   "source": [
    "data.shape"
   ]
  },
  {
   "cell_type": "code",
   "execution_count": 17,
   "metadata": {},
   "outputs": [],
   "source": [
    "# Apply scaling to the numeric columns\n",
    "scaler = StandardScaler()\n",
    "numerics_scaled = scaler.fit_transform(data[numeric_cols], target)"
   ]
  },
  {
   "cell_type": "code",
   "execution_count": 18,
   "metadata": {},
   "outputs": [],
   "source": [
    "# Rename columns from scaling back to their original names, merge with data\n",
    "\n",
    "numeric_dict = {0: 'distance',\n",
    "               1: 'crs_dep_hour',\n",
    "               2: 'crs_arr_hour',\n",
    "               3: 'carrier_on_time_pct',\n",
    "               4: 'plane_on_time_pct',\n",
    "               5: 'fl_num_on_time_pct',\n",
    "               6: 'origin_on_time_pct',\n",
    "               7: 'route_on_time_pct',\n",
    "               8: 'origin_taxi_out',\n",
    "               9: 'carrier_fuel_consumption',\n",
    "               10: 'mean_taxi_in'}\n",
    "numerics_scaled = pd.DataFrame(numerics_scaled).rename(columns = numeric_dict)\n",
    "data = data.drop(columns = numeric_cols)\n",
    "data = data.merge(numerics_scaled, left_index=True, right_index=True)\n"
   ]
  },
  {
   "cell_type": "code",
   "execution_count": 19,
   "metadata": {},
   "outputs": [
    {
     "data": {
      "text/plain": [
       "(1079053, 28)"
      ]
     },
     "execution_count": 19,
     "metadata": {},
     "output_type": "execute_result"
    }
   ],
   "source": [
    "data.shape"
   ]
  },
  {
   "cell_type": "code",
   "execution_count": 20,
   "metadata": {},
   "outputs": [
    {
     "data": {
      "text/plain": [
       "type_is_Adverse_x             uint8\n",
       "type_is_Clear_x               uint8\n",
       "type_is_Light_x               uint8\n",
       "type_is_Moderate_x            uint8\n",
       "type_is_Severe_x              uint8\n",
       "type_is_Adverse_y             uint8\n",
       "type_is_Clear_y               uint8\n",
       "type_is_Light_y               uint8\n",
       "type_is_Moderate_y            uint8\n",
       "type_is_Severe_y              uint8\n",
       "type_is_Friday                uint8\n",
       "type_is_Monday                uint8\n",
       "type_is_Saturday              uint8\n",
       "type_is_Sunday                uint8\n",
       "type_is_Thursday              uint8\n",
       "type_is_Tuesday               uint8\n",
       "type_is_Wednesday             uint8\n",
       "distance                    float64\n",
       "crs_dep_hour                float64\n",
       "crs_arr_hour                float64\n",
       "carrier_on_time_pct         float64\n",
       "plane_on_time_pct           float64\n",
       "fl_num_on_time_pct          float64\n",
       "origin_on_time_pct          float64\n",
       "route_on_time_pct           float64\n",
       "origin_taxi_out             float64\n",
       "carrier_fuel_consumption    float64\n",
       "10                          float64\n",
       "dtype: object"
      ]
     },
     "execution_count": 20,
     "metadata": {},
     "output_type": "execute_result"
    }
   ],
   "source": [
    "data.dtypes"
   ]
  },
  {
   "cell_type": "code",
   "execution_count": null,
   "metadata": {},
   "outputs": [],
   "source": []
  },
  {
   "cell_type": "markdown",
   "metadata": {},
   "source": []
  },
  {
   "cell_type": "markdown",
   "metadata": {},
   "source": [
    "### Feature Selection / Dimensionality Reduction"
   ]
  },
  {
   "cell_type": "markdown",
   "metadata": {},
   "source": [
    "We need to apply different selection techniques to find out which one will be the best for our problems.\n",
    "\n",
    "- Original Features vs. PCA conponents?\n",
    "- PCA vs LDA?\n",
    "- Check for high correlation, low variance\n",
    "- Try some wrapper methods"
   ]
  },
  {
   "cell_type": "markdown",
   "metadata": {},
   "source": [
    "# Selection of Features for modeling"
   ]
  },
  {
   "cell_type": "code",
   "execution_count": 21,
   "metadata": {},
   "outputs": [],
   "source": [
    "\n",
    "data_train = data"
   ]
  },
  {
   "cell_type": "code",
   "execution_count": null,
   "metadata": {},
   "outputs": [],
   "source": [
    "# df_corr = data_train.corr()\n",
    "# fig, ax = plt.subplots(figsize=(15, 12))\n",
    "# sns.heatmap(df_corr, annot = False, cmap=\"YlGnBu\")\n"
   ]
  },
  {
   "cell_type": "code",
   "execution_count": null,
   "metadata": {},
   "outputs": [],
   "source": []
  },
  {
   "cell_type": "markdown",
   "metadata": {},
   "source": [
    "# PCA"
   ]
  },
  {
   "cell_type": "code",
   "execution_count": 22,
   "metadata": {},
   "outputs": [],
   "source": [
    "# Initialize pca with components = 2\n",
    "n_components = data_train.shape[1]\n",
    "pca = PCA(n_components = n_components)\n",
    "components = pca.fit_transform(data_train)"
   ]
  },
  {
   "cell_type": "code",
   "execution_count": 23,
   "metadata": {},
   "outputs": [
    {
     "data": {
      "text/plain": [
       "100.0"
      ]
     },
     "execution_count": 23,
     "metadata": {},
     "output_type": "execute_result"
    }
   ],
   "source": [
    "# Calculate and print the total variance\n",
    "total_variance = pca.explained_variance_ratio_.sum() * 100\n",
    "total_variance"
   ]
  },
  {
   "cell_type": "code",
   "execution_count": 24,
   "metadata": {},
   "outputs": [
    {
     "data": {
      "text/plain": [
       "array([2.04649425e+01, 1.38214886e+01, 9.18646469e+00, 8.06891925e+00,\n",
       "       7.26565948e+00, 7.07956424e+00, 6.14058032e+00, 5.76291620e+00,\n",
       "       3.23585229e+00, 3.21500089e+00, 2.67387625e+00, 2.54582263e+00,\n",
       "       2.25958736e+00, 1.31652895e+00, 1.23038655e+00, 1.12506142e+00,\n",
       "       1.01061350e+00, 9.97636065e-01, 9.81000685e-01, 5.36673139e-01,\n",
       "       5.10505040e-01, 2.96242794e-01, 2.74677202e-01, 9.04747514e-27,\n",
       "       6.37057283e-27, 3.89500028e-27, 4.03810229e-30, 6.20211922e-34])"
      ]
     },
     "execution_count": 24,
     "metadata": {},
     "output_type": "execute_result"
    }
   ],
   "source": [
    "pca.explained_variance_ratio_ * 100"
   ]
  },
  {
   "cell_type": "code",
   "execution_count": 25,
   "metadata": {},
   "outputs": [
    {
     "data": {
      "text/plain": [
       "Text(0.5, 1.0, 'Scree plot for 25 Component PCA Analysis')"
      ]
     },
     "execution_count": 25,
     "metadata": {},
     "output_type": "execute_result"
    },
    {
     "data": {
      "image/png": "[encoded data removed]",
      "text/plain": [
       "<Figure size 432x288 with 1 Axes>"
      ]
     },
     "metadata": {
      "needs_background": "light"
     },
     "output_type": "display_data"
    }
   ],
   "source": [
    "plt.plot(range(n_components), pca.explained_variance_ratio_)\n",
    "plt.xlabel('Number of Components')\n",
    "plt.ylabel('Explained variance')\n",
    "plt.title('Scree plot for 25 Component PCA Analysis')"
   ]
  },
  {
   "cell_type": "code",
   "execution_count": 28,
   "metadata": {},
   "outputs": [],
   "source": [
    "# Reinitialize PCA with 5 components\n",
    "n_components = 8\n",
    "pca = PCA(n_components = n_components)\n",
    "components = pca.fit_transform(data)"
   ]
  },
  {
   "cell_type": "code",
   "execution_count": 29,
   "metadata": {},
   "outputs": [
    {
     "data": {
      "text/plain": [
       "array([20.46494251, 13.82148856,  9.18646466,  8.0689192 ,  7.26565946,\n",
       "        7.07956417,  6.14058023,  5.76291605])"
      ]
     },
     "execution_count": 29,
     "metadata": {},
     "output_type": "execute_result"
    }
   ],
   "source": [
    "pca.explained_variance_ratio_ * 100"
   ]
  },
  {
   "cell_type": "code",
   "execution_count": null,
   "metadata": {},
   "outputs": [],
   "source": []
  },
  {
   "cell_type": "markdown",
   "metadata": {},
   "source": [
    "# Clustering"
   ]
  },
  {
   "cell_type": "code",
   "execution_count": null,
   "metadata": {},
   "outputs": [],
   "source": [
    "def plot_distortion(X,max_clusters = 15):\n",
    "    distortions = []\n",
    "    for i in range(1, max_clusters +1):\n",
    "        km = KMeans(n_clusters=i,\n",
    "                    init='k-means++',\n",
    "                    n_init=10,\n",
    "                    random_state=0)\n",
    "        km.fit(X)\n",
    "        distortions.append(km.inertia_)\n",
    "\n",
    "    plt.plot(range(1,max_clusters +1), distortions, marker='o')\n",
    "    plt.xlabel('Number of clusters')\n",
    "    plt.ylabel('Distortion')\n",
    "    plt.show() "
   ]
  },
  {
   "cell_type": "code",
   "execution_count": null,
   "metadata": {},
   "outputs": [],
   "source": [
    "# plot_distortion(data_train, 10)"
   ]
  },
  {
   "cell_type": "code",
   "execution_count": null,
   "metadata": {},
   "outputs": [],
   "source": [
    "# Initialize the kmeans object with 3 clusters\n",
    "k_means = km = KMeans(n_clusters = 3,\n",
    "           n_init = 10,\n",
    "           random_state = 13)"
   ]
  },
  {
   "cell_type": "code",
   "execution_count": null,
   "metadata": {},
   "outputs": [],
   "source": [
    "# Establish predicitons, assign the label to the dataset\n",
    "y_km = km.fit_predict(data_train)\n",
    "data_train['kmeans_label'] = y_km\n",
    "\n"
   ]
  },
  {
   "cell_type": "code",
   "execution_count": null,
   "metadata": {},
   "outputs": [],
   "source": [
    "data_train"
   ]
  },
  {
   "cell_type": "code",
   "execution_count": null,
   "metadata": {},
   "outputs": [],
   "source": []
  },
  {
   "cell_type": "code",
   "execution_count": null,
   "metadata": {},
   "outputs": [],
   "source": []
  },
  {
   "cell_type": "code",
   "execution_count": null,
   "metadata": {},
   "outputs": [],
   "source": []
  },
  {
   "cell_type": "code",
   "execution_count": null,
   "metadata": {},
   "outputs": [],
   "source": []
  },
  {
   "cell_type": "markdown",
   "metadata": {},
   "source": [
    "# Train Test Split\n",
    "\n",
    "Do two train test splits.  One for the standard data and another for data that underwent PCA"
   ]
  },
  {
   "cell_type": "code",
   "execution_count": 30,
   "metadata": {},
   "outputs": [],
   "source": [
    "X_train, X_val, y_train, y_val = train_test_split(data_train, target, test_size = 0.25, random_state = 13)"
   ]
  },
  {
   "cell_type": "code",
   "execution_count": 31,
   "metadata": {},
   "outputs": [],
   "source": [
    "X_train_pca, X_val_pca, y_train_pca, y_val_pca  = train_test_split(components, target, test_size = 0.25)"
   ]
  },
  {
   "cell_type": "code",
   "execution_count": null,
   "metadata": {},
   "outputs": [],
   "source": [
    "# X_train_poly, X_val_poly, y_train_poly, y_val_poly = train_test_split(X_poly, target, test_size = 0.25)"
   ]
  },
  {
   "cell_type": "code",
   "execution_count": null,
   "metadata": {},
   "outputs": [],
   "source": []
  },
  {
   "cell_type": "code",
   "execution_count": null,
   "metadata": {},
   "outputs": [],
   "source": []
  },
  {
   "cell_type": "code",
   "execution_count": null,
   "metadata": {},
   "outputs": [],
   "source": []
  },
  {
   "cell_type": "markdown",
   "metadata": {},
   "source": [
    "# Modeling"
   ]
  },
  {
   "cell_type": "markdown",
   "metadata": {},
   "source": [
    "Use different ML techniques to predict each problem.\n",
    "\n",
    "- linear / logistic / multinomial logistic regression\n",
    "- Naive Bayes\n",
    "- Random Forest\n",
    "- SVM\n",
    "- XGBoost\n",
    "- The ensemble of your own choice"
   ]
  },
  {
   "cell_type": "markdown",
   "metadata": {},
   "source": [
    "# Random Forest"
   ]
  },
  {
   "cell_type": "code",
   "execution_count": null,
   "metadata": {},
   "outputs": [],
   "source": [
    "# rfr = RandomForestRegressor(n_estimators = 100,\n",
    "#                             max_depth = 5)\n",
    "# rfr.fit(X_train, y_train)\n"
   ]
  },
  {
   "cell_type": "code",
   "execution_count": null,
   "metadata": {},
   "outputs": [],
   "source": [
    "# y_pred_rfr = rfr.predict(X_val)"
   ]
  },
  {
   "cell_type": "code",
   "execution_count": null,
   "metadata": {},
   "outputs": [],
   "source": [
    "# regression_metrics(y_val, y_pred_rfr)"
   ]
  },
  {
   "cell_type": "code",
   "execution_count": null,
   "metadata": {},
   "outputs": [],
   "source": []
  },
  {
   "cell_type": "code",
   "execution_count": null,
   "metadata": {},
   "outputs": [],
   "source": []
  },
  {
   "cell_type": "markdown",
   "metadata": {},
   "source": [
    "# Linear Regression\n",
    "\n",
    "\n",
    "Baseline r2 = 0.0477 <br>\n",
    "PCA 20 component r2 = 0.383"
   ]
  },
  {
   "cell_type": "code",
   "execution_count": 32,
   "metadata": {},
   "outputs": [
    {
     "data": {
      "text/plain": [
       "LinearRegression()"
      ]
     },
     "execution_count": 32,
     "metadata": {},
     "output_type": "execute_result"
    }
   ],
   "source": [
    "# Linear regression on raw data\n",
    "l_reg = LinearRegression()\n",
    "l_reg.fit(X_train, y_train)"
   ]
  },
  {
   "cell_type": "code",
   "execution_count": 33,
   "metadata": {},
   "outputs": [],
   "source": [
    "y_pred_l_reg = l_reg.predict(X_val)"
   ]
  },
  {
   "cell_type": "code",
   "execution_count": 34,
   "metadata": {},
   "outputs": [
    {
     "data": {
      "text/plain": [
       "array([ 1.38462530e+08,  1.38462528e+08,  2.04477688e+10,  2.04477688e+10,\n",
       "        2.04477688e+10, -7.61553461e+09, -7.61553461e+09,  2.97357267e+10,\n",
       "        2.97357267e+10,  2.97357267e+10, -5.52930847e+10, -5.52930847e+10,\n",
       "       -5.52930847e+10, -5.52930847e+10, -5.52930847e+10, -5.52930847e+10,\n",
       "       -5.52930847e+10, -1.10630499e+00,  1.98056226e-01,  1.44799862e-01,\n",
       "        3.02138681e-02, -1.50638178e+00, -1.16154762e+00, -3.48146945e-01,\n",
       "       -2.40793453e+00, -7.28708910e-01, -1.58199732e-01, -4.99947359e-01])"
      ]
     },
     "execution_count": 34,
     "metadata": {},
     "output_type": "execute_result"
    }
   ],
   "source": [
    "l_reg.coef_"
   ]
  },
  {
   "cell_type": "code",
   "execution_count": 35,
   "metadata": {},
   "outputs": [
    {
     "name": "stdout",
     "output_type": "stream",
     "text": [
      "R2 Score:  0.09674605119603319\n",
      "Mean Absolute Error:  10.33510197826139\n",
      "Mean Squared Error:  179.697574564016\n"
     ]
    }
   ],
   "source": [
    "regression_metrics(y_val, y_pred_l_reg)"
   ]
  },
  {
   "cell_type": "code",
   "execution_count": 36,
   "metadata": {},
   "outputs": [],
   "source": [
    "current_data = data_train.columns.to_list()"
   ]
  },
  {
   "cell_type": "code",
   "execution_count": 37,
   "metadata": {},
   "outputs": [
    {
     "data": {
      "text/plain": [
       "type_is_Tuesday            -5.529308e+10\n",
       "type_is_Sunday             -5.529308e+10\n",
       "type_is_Saturday           -5.529308e+10\n",
       "type_is_Wednesday          -5.529308e+10\n",
       "type_is_Monday             -5.529308e+10\n",
       "type_is_Thursday           -5.529308e+10\n",
       "type_is_Friday             -5.529308e+10\n",
       "type_is_Clear_y            -7.615535e+09\n",
       "type_is_Adverse_y          -7.615535e+09\n",
       "route_on_time_pct          -2.407935e+00\n",
       "plane_on_time_pct          -1.506382e+00\n",
       "fl_num_on_time_pct         -1.161548e+00\n",
       "distance                   -1.106305e+00\n",
       "origin_taxi_out            -7.287089e-01\n",
       "10                         -4.999474e-01\n",
       "origin_on_time_pct         -3.481469e-01\n",
       "carrier_fuel_consumption   -1.581997e-01\n",
       "carrier_on_time_pct         3.021387e-02\n",
       "crs_arr_hour                1.447999e-01\n",
       "crs_dep_hour                1.980562e-01\n",
       "type_is_Clear_x             1.384625e+08\n",
       "type_is_Adverse_x           1.384625e+08\n",
       "type_is_Moderate_x          2.044777e+10\n",
       "type_is_Severe_x            2.044777e+10\n",
       "type_is_Light_x             2.044777e+10\n",
       "type_is_Moderate_y          2.973573e+10\n",
       "type_is_Severe_y            2.973573e+10\n",
       "type_is_Light_y             2.973573e+10\n",
       "dtype: float64"
      ]
     },
     "execution_count": 37,
     "metadata": {},
     "output_type": "execute_result"
    }
   ],
   "source": [
    "coef_dict = dict(zip(current_data, l_reg.coef_))\n",
    "coef_df = pd.Series(coef_dict)\n",
    "coef_df.sort_values()\n",
    "                "
   ]
  },
  {
   "cell_type": "code",
   "execution_count": null,
   "metadata": {},
   "outputs": [],
   "source": []
  },
  {
   "cell_type": "markdown",
   "metadata": {},
   "source": [
    "# Ridge\n",
    "\n",
    "First grid search --> Best alpha was 10\n",
    "Second grid search --> Best alpha was 20"
   ]
  },
  {
   "cell_type": "code",
   "execution_count": 38,
   "metadata": {},
   "outputs": [
    {
     "data": {
      "text/plain": [
       "array([ 1.15725715, -1.15725715,  0.62858691, -0.83280135,  0.20421444,\n",
       "        1.73226529, -1.73226529,  0.94811007, -0.69309046, -0.25501961,\n",
       "        0.93612218,  0.25040163, -0.33514722, -0.34663132,  0.57299283,\n",
       "       -0.86789844, -0.20983966, -1.10623335,  0.19804317,  0.14479372,\n",
       "        0.03006577, -1.50625114, -1.16151251, -0.34820974, -2.40774436,\n",
       "       -0.7286518 , -0.15820375, -0.4999004 ])"
      ]
     },
     "execution_count": 38,
     "metadata": {},
     "output_type": "execute_result"
    }
   ],
   "source": [
    "ridge = Ridge(alpha = 50)\n",
    "ridge.fit(X_train, y_train)\n",
    "ridge.coef_"
   ]
  },
  {
   "cell_type": "code",
   "execution_count": 39,
   "metadata": {},
   "outputs": [],
   "source": [
    "ridge_predict = ridge.predict(X_val)"
   ]
  },
  {
   "cell_type": "code",
   "execution_count": 40,
   "metadata": {},
   "outputs": [
    {
     "name": "stdout",
     "output_type": "stream",
     "text": [
      "R2 Score:  0.09674476339886451\n",
      "Mean Absolute Error:  10.335100668698056\n",
      "Mean Squared Error:  179.69783076442127\n"
     ]
    }
   ],
   "source": [
    "regression_metrics(y_val, ridge_predict)"
   ]
  },
  {
   "cell_type": "code",
   "execution_count": null,
   "metadata": {},
   "outputs": [],
   "source": []
  },
  {
   "cell_type": "code",
   "execution_count": null,
   "metadata": {},
   "outputs": [],
   "source": [
    "params = {'alpha':[50, 75, 100, 150]\n",
    "         }"
   ]
  },
  {
   "cell_type": "code",
   "execution_count": null,
   "metadata": {},
   "outputs": [],
   "source": [
    "grid_ridge = GridSearchCV(estimator = ridge,\n",
    "                       param_grid = params,\n",
    "                       cv = 5)\n",
    "y_grid_ridge = grid_ridge.fit(X_train, y_train)"
   ]
  },
  {
   "cell_type": "code",
   "execution_count": null,
   "metadata": {},
   "outputs": [],
   "source": [
    "grid_search_results(grid_ridge, X_train, y_train)"
   ]
  },
  {
   "cell_type": "markdown",
   "metadata": {},
   "source": [
    "# Lasso"
   ]
  },
  {
   "cell_type": "code",
   "execution_count": 41,
   "metadata": {},
   "outputs": [
    {
     "data": {
      "text/plain": [
       "Lasso(alpha=0.0001)"
      ]
     },
     "execution_count": 41,
     "metadata": {},
     "output_type": "execute_result"
    }
   ],
   "source": [
    "lasso = Lasso(alpha = 0.0001)\n",
    "lasso.fit(X_train, y_train)"
   ]
  },
  {
   "cell_type": "code",
   "execution_count": 42,
   "metadata": {},
   "outputs": [],
   "source": [
    "lasso_predict = lasso.predict(X_val)"
   ]
  },
  {
   "cell_type": "code",
   "execution_count": 43,
   "metadata": {},
   "outputs": [
    {
     "name": "stdout",
     "output_type": "stream",
     "text": [
      "R2 Score:  0.09674467520775953\n",
      "Mean Absolute Error:  10.335098373495343\n",
      "Mean Squared Error:  179.6978483095731\n"
     ]
    }
   ],
   "source": [
    "regression_metrics(y_val, lasso_predict)"
   ]
  },
  {
   "cell_type": "code",
   "execution_count": null,
   "metadata": {},
   "outputs": [],
   "source": [
    "params = {'alpha':[0.001,0.01, 0.1]\n",
    "         }\n",
    "\n",
    "grid_lasso = GridSearchCV(estimator = lasso,\n",
    "                       param_grid = params,\n",
    "                       cv = 5)\n",
    "y_grid_lasso = grid_lasso.fit(X_train, y_train)"
   ]
  },
  {
   "cell_type": "code",
   "execution_count": null,
   "metadata": {},
   "outputs": [],
   "source": [
    "grid_search_results(grid_lasso, X_train, y_train)"
   ]
  },
  {
   "cell_type": "code",
   "execution_count": null,
   "metadata": {},
   "outputs": [],
   "source": []
  },
  {
   "cell_type": "code",
   "execution_count": null,
   "metadata": {},
   "outputs": [],
   "source": []
  },
  {
   "cell_type": "markdown",
   "metadata": {},
   "source": [
    "# Linear Regression on PCA Components"
   ]
  },
  {
   "cell_type": "code",
   "execution_count": 44,
   "metadata": {},
   "outputs": [
    {
     "data": {
      "text/plain": [
       "LinearRegression()"
      ]
     },
     "execution_count": 44,
     "metadata": {},
     "output_type": "execute_result"
    }
   ],
   "source": [
    "# Linear regression on components\n",
    "l_reg_pca = LinearRegression()\n",
    "l_reg_pca.fit(X_train_pca, y_train_pca)"
   ]
  },
  {
   "cell_type": "code",
   "execution_count": 45,
   "metadata": {},
   "outputs": [],
   "source": [
    "y_pred_l_reg_pca = l_reg_pca.predict(X_val_pca)"
   ]
  },
  {
   "cell_type": "code",
   "execution_count": 46,
   "metadata": {},
   "outputs": [
    {
     "name": "stdout",
     "output_type": "stream",
     "text": [
      "R2 Score:  0.07577798038741368\n",
      "Mean Absolute Error:  10.461720646366238\n",
      "Mean Squared Error:  184.29289484412976\n"
     ]
    }
   ],
   "source": [
    "regression_metrics(y_val_pca, y_pred_l_reg_pca)"
   ]
  },
  {
   "cell_type": "code",
   "execution_count": null,
   "metadata": {},
   "outputs": [],
   "source": []
  },
  {
   "cell_type": "markdown",
   "metadata": {},
   "source": [
    "# XGBoost"
   ]
  },
  {
   "cell_type": "code",
   "execution_count": 47,
   "metadata": {},
   "outputs": [],
   "source": [
    "xgb_r = xgb.XGBRegressor(objective = 'reg:squarederror',\n",
    "                        n_estimators = 150,\n",
    "                         max_depth = 15,\n",
    "                         booster = 'gbtree',\n",
    "                         seed = 13)"
   ]
  },
  {
   "cell_type": "code",
   "execution_count": 48,
   "metadata": {},
   "outputs": [
    {
     "data": {
      "text/plain": [
       "XGBRegressor(base_score=0.5, booster='gbtree', colsample_bylevel=1,\n",
       "             colsample_bynode=1, colsample_bytree=1, gamma=0, gpu_id=-1,\n",
       "             importance_type='gain', interaction_constraints='',\n",
       "             learning_rate=0.300000012, max_delta_step=0, max_depth=10,\n",
       "             min_child_weight=1, missing=nan, monotone_constraints='()',\n",
       "             n_estimators=150, n_jobs=8, num_parallel_tree=1, random_state=13,\n",
       "             reg_alpha=0, reg_lambda=1, scale_pos_weight=1, seed=13,\n",
       "             subsample=1, tree_method='exact', validate_parameters=1,\n",
       "             verbosity=None)"
      ]
     },
     "execution_count": 48,
     "metadata": {},
     "output_type": "execute_result"
    }
   ],
   "source": [
    "xgb_r.fit(X_train, y_train)"
   ]
  },
  {
   "cell_type": "code",
   "execution_count": 49,
   "metadata": {},
   "outputs": [],
   "source": [
    "y_xgb = xgb_r.predict(X_val)"
   ]
  },
  {
   "cell_type": "code",
   "execution_count": 50,
   "metadata": {},
   "outputs": [
    {
     "name": "stdout",
     "output_type": "stream",
     "text": [
      "R2 Score:  0.13600050971830524\n",
      "Mean Absolute Error:  10.093239406002667\n",
      "Mean Squared Error:  171.88810858092626\n"
     ]
    }
   ],
   "source": [
    "regression_metrics(y_val, y_xgb)"
   ]
  },
  {
   "cell_type": "code",
   "execution_count": null,
   "metadata": {},
   "outputs": [],
   "source": [
    "params = {'n_estimators': [50, 100, 150],\n",
    "          'max_depth': [5, 10],\n",
    "          'booster': ['gbtree', 'gblinear']\n",
    "         }"
   ]
  },
  {
   "cell_type": "code",
   "execution_count": null,
   "metadata": {},
   "outputs": [],
   "source": [
    "grix_xgb = GridSearchCV(estimator = xgb_r,\n",
    "                       param_grid = params,\n",
    "                       cv = 5)"
   ]
  },
  {
   "cell_type": "code",
   "execution_count": null,
   "metadata": {},
   "outputs": [],
   "source": []
  },
  {
   "cell_type": "markdown",
   "metadata": {},
   "source": [
    "### Evaluation"
   ]
  },
  {
   "cell_type": "markdown",
   "metadata": {},
   "source": [
    "You have data from 2018 and 2019 to develop models. Use different evaluation metrics for each problem and compare the performance of different models.\n",
    "\n",
    "You are required to predict delays on **out of sample** data from **first 7 days (1st-7th) of January 2020** and to share the file with LighthouseLabs. Sample submission can be found in the file **_sample_submission.csv_**"
   ]
  },
  {
   "cell_type": "code",
   "execution_count": null,
   "metadata": {},
   "outputs": [],
   "source": []
  },
  {
   "cell_type": "code",
   "execution_count": null,
   "metadata": {},
   "outputs": [],
   "source": []
  },
  {
   "cell_type": "code",
   "execution_count": null,
   "metadata": {},
   "outputs": [],
   "source": []
  },
  {
   "cell_type": "code",
   "execution_count": null,
   "metadata": {},
   "outputs": [],
   "source": []
  },
  {
   "cell_type": "markdown",
   "metadata": {},
   "source": [
    "======================================================================\n",
    "## Stretch Tasks"
   ]
  },
  {
   "cell_type": "markdown",
   "metadata": {},
   "source": [
    "### Multiclass Classification"
   ]
  },
  {
   "cell_type": "markdown",
   "metadata": {},
   "source": [
    "The target variables are **CARRIER_DELAY, WEATHER_DELAY, NAS_DELAY, SECURITY_DELAY, LATE_AIRCRAFT_DELAY**. We need to do additional transformations because these variables are not binary but continuos. For each flight that was delayed, we need to have one of these variables as 1 and others 0.\n",
    "\n",
    "It can happen that we have two types of delays with more than 0 minutes. In this case, take the bigger one as 1 and others as 0."
   ]
  },
  {
   "cell_type": "code",
   "execution_count": null,
   "metadata": {},
   "outputs": [],
   "source": []
  },
  {
   "cell_type": "code",
   "execution_count": null,
   "metadata": {},
   "outputs": [],
   "source": []
  },
  {
   "cell_type": "code",
   "execution_count": null,
   "metadata": {},
   "outputs": [],
   "source": []
  },
  {
   "cell_type": "markdown",
   "metadata": {},
   "source": [
    "### Binary Classification"
   ]
  },
  {
   "cell_type": "markdown",
   "metadata": {},
   "source": [
    "The target variable is **CANCELLED**. The main problem here is going to be huge class imbalance. We have only very little cancelled flights with comparison to all flights. It is important to do the right sampling before training and to choose correct evaluation metrics."
   ]
  },
  {
   "cell_type": "code",
   "execution_count": null,
   "metadata": {},
   "outputs": [],
   "source": []
  },
  {
   "cell_type": "code",
   "execution_count": null,
   "metadata": {},
   "outputs": [],
   "source": []
  },
  {
   "cell_type": "raw",
   "metadata": {},
   "source": []
  },
  {
   "cell_type": "raw",
   "metadata": {},
   "source": []
  },
  {
   "cell_type": "raw",
   "metadata": {},
   "source": []
  }
 ],
 "metadata": {
  "kernelspec": {
   "display_name": "bootcamp_env",
   "language": "python",
   "name": "bootcamp_env"
  },
  "language_info": {
   "codemirror_mode": {
    "name": "ipython",
    "version": 3
   },
   "file_extension": ".py",
   "mimetype": "text/x-python",
   "name": "python",
   "nbconvert_exporter": "python",
   "pygments_lexer": "ipython3",
   "version": "3.6.10"
  }
 },
 "nbformat": 4,
 "nbformat_minor": 4
}
