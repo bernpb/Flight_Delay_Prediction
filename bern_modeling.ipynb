{
 "cells": [
  {
   "cell_type": "markdown",
   "metadata": {},
   "source": [
    "# Machine Learning\n",
    "\n",
    "In this file, instructions how to approach the challenge can be found."
   ]
  },
  {
   "cell_type": "markdown",
   "metadata": {},
   "source": [
    "We are going to work on different types of Machine Learning problems:\n",
    "\n",
    "- **Regression Problem**: The goal is to predict delay of flights.\n",
    "- **(Stretch) Multiclass Classification**: If the plane was delayed, we will predict what type of delay it is (will be).\n",
    "- **(Stretch) Binary Classification**: The goal is to predict if the flight will be cancelled."
   ]
  },
  {
   "cell_type": "code",
   "execution_count": 1,
   "metadata": {},
   "outputs": [],
   "source": [
    "# Import the necessary libraries\n",
    "import pandas as pd\n",
    "import numpy as np\n",
    "import matplotlib.pyplot as plt\n",
    "import seaborn as sns\n",
    "\n",
    "# Preprocessing\n",
    "from sklearn.model_selection import train_test_split\n",
    "from sklearn.preprocessing import StandardScaler\n",
    "from sklearn.decomposition import PCA\n",
    "from sklearn.discriminant_analysis import LinearDiscriminantAnalysis\n",
    "\n",
    "# Models\n",
    "from sklearn.ensemble import RandomForestRegressor\n",
    "from sklearn.linear_model import LinearRegression\n",
    "\n",
    "# Metrics\n",
    "from sklearn.metrics import r2_score\n",
    "from sklearn.metrics import mean_absolute_error\n",
    "from sklearn.metrics import mean_squared_error\n",
    "from sklearn.metrics import accuracy_score\n",
    "from sklearn.metrics import f1_score\n",
    "from sklearn.metrics import precision_score\n",
    "from sklearn.metrics import recall_score\n",
    "from sklearn.metrics import confusion_matrix"
   ]
  },
  {
   "cell_type": "code",
   "execution_count": 2,
   "metadata": {},
   "outputs": [],
   "source": [
    "# Define some useful functions\n",
    "\n",
    "def dummify(df, column):\n",
    "    temp_list = list(df[column])\n",
    "    temp_df = pd.DataFrame(temp_list, columns = [column])\n",
    "    dummy_df = pd.get_dummies(temp_df, columns = [column], prefix = ['type_is'])\n",
    "    return dummy_df\n",
    "\n",
    "def binary_classifier_metrics(y_test, y_pred):\n",
    "    \n",
    "    \"\"\"\n",
    "    Quick function to return metrics for binary classification models.\n",
    "    \n",
    "    Requires the imports of the functions below.\n",
    "    \"\"\"\n",
    "    \n",
    "    print('Accuracy: ', accuracy_score(y_test, y_pred))\n",
    "    print('F1 score: ', f1_score(y_test, y_pred))\n",
    "    print('Precision score: ', precision_score(y_test, y_pred))\n",
    "    print('Recall score: ', recall_score(y_test, y_pred))\n",
    "    print('Confusion Matrix: \\n', confusion_matrix(y_test, y_pred))\n",
    "\n",
    "    \n",
    "def regression_metrics(y_test, y_pred):\n",
    "    print('R2 Score: ', r2_score(y_test, y_pred))\n",
    "    print('Mean Absolute Error: ', mean_absolute_error(y_test, y_pred))\n",
    "    print('Mean Squared Error: ', mean_squared_error(y_test, y_pred))\n",
    "    \n",
    "    \n",
    "def grid_search_results(grid_search, X, y):\n",
    "    \"\"\"\n",
    "    Returns grid search results in a readable format\n",
    "    \"\"\"\n",
    "    \n",
    "    print('Best Score: ',grid_search.score(X, y, ))\n",
    "    print('Best Params: ', grid_search.best_params_)"
   ]
  },
  {
   "cell_type": "code",
   "execution_count": null,
   "metadata": {},
   "outputs": [],
   "source": []
  },
  {
   "cell_type": "code",
   "execution_count": null,
   "metadata": {},
   "outputs": [],
   "source": []
  },
  {
   "cell_type": "markdown",
   "metadata": {},
   "source": [
    "## Main Task: Regression Problem"
   ]
  },
  {
   "cell_type": "markdown",
   "metadata": {},
   "source": [
    "The target variable is **ARR_DELAY**. We need to be careful which columns to use and which don't. For example, DEP_DELAY is going to be the perfect predictor, but we can't use it because in real-life scenario, we want to predict the delay before the flight takes of --> We can use average delay from earlier days but not the one from the actual flight we predict.  \n",
    "\n",
    "For example, variables **CARRIER_DELAY, WEATHER_DELAY, NAS_DELAY, SECURITY_DELAY, LATE_AIRCRAFT_DELAY** shouldn't be used directly as predictors as well. However, we can create various transformations from earlier values.\n",
    "\n",
    "We will be evaluating your models by predicting the ARR_DELAY for all flights **1 week in advance**."
   ]
  },
  {
   "cell_type": "code",
   "execution_count": 3,
   "metadata": {},
   "outputs": [],
   "source": [
    "data = pd.read_csv('data/clean_df.csv')"
   ]
  },
  {
   "cell_type": "code",
   "execution_count": 4,
   "metadata": {},
   "outputs": [
    {
     "data": {
      "text/plain": [
       "Index(['Unnamed: 0', 'mkt_unique_carrier', 'mkt_carrier_fl_num', 'tail_num',\n",
       "       'origin', 'dest', 'crs_dep_time', 'crs_arr_time', 'arr_delay',\n",
       "       'distance', 'dep_period', 'arr_period', 'origin_match_code',\n",
       "       'dest_match_code', 'origin_weather_condition',\n",
       "       'origin_weather_severity', 'dest_weather_condition',\n",
       "       'dest_weather_severity', 'year', 'month', 'day', 'week_day',\n",
       "       'crs_dep_hour', 'crs_dep_minutes', 'crs_arr_hour', 'crs_arr_minutes',\n",
       "       'dep_state', 'dest_state', 'on_time', 'haul_type', 'route',\n",
       "       'carrier_on_time_pct', 'plane_on_time_pct', 'origin_on_time_pct',\n",
       "       'fl_num_on_time_pct', 'route_on_time_pct'],\n",
       "      dtype='object')"
      ]
     },
     "execution_count": 4,
     "metadata": {},
     "output_type": "execute_result"
    }
   ],
   "source": [
    "data.columns"
   ]
  },
  {
   "cell_type": "code",
   "execution_count": 5,
   "metadata": {},
   "outputs": [
    {
     "data": {
      "text/html": [
       "<div>\n",
       "<style scoped>\n",
       "    .dataframe tbody tr th:only-of-type {\n",
       "        vertical-align: middle;\n",
       "    }\n",
       "\n",
       "    .dataframe tbody tr th {\n",
       "        vertical-align: top;\n",
       "    }\n",
       "\n",
       "    .dataframe thead th {\n",
       "        text-align: right;\n",
       "    }\n",
       "</style>\n",
       "<table border=\"1\" class=\"dataframe\">\n",
       "  <thead>\n",
       "    <tr style=\"text-align: right;\">\n",
       "      <th></th>\n",
       "      <th>Unnamed: 0</th>\n",
       "      <th>mkt_unique_carrier</th>\n",
       "      <th>mkt_carrier_fl_num</th>\n",
       "      <th>tail_num</th>\n",
       "      <th>origin</th>\n",
       "      <th>dest</th>\n",
       "      <th>crs_dep_time</th>\n",
       "      <th>crs_arr_time</th>\n",
       "      <th>arr_delay</th>\n",
       "      <th>distance</th>\n",
       "      <th>...</th>\n",
       "      <th>dep_state</th>\n",
       "      <th>dest_state</th>\n",
       "      <th>on_time</th>\n",
       "      <th>haul_type</th>\n",
       "      <th>route</th>\n",
       "      <th>carrier_on_time_pct</th>\n",
       "      <th>plane_on_time_pct</th>\n",
       "      <th>origin_on_time_pct</th>\n",
       "      <th>fl_num_on_time_pct</th>\n",
       "      <th>route_on_time_pct</th>\n",
       "    </tr>\n",
       "  </thead>\n",
       "  <tbody>\n",
       "    <tr>\n",
       "      <th>0</th>\n",
       "      <td>0</td>\n",
       "      <td>AA</td>\n",
       "      <td>5606</td>\n",
       "      <td>N575NN</td>\n",
       "      <td>MYR</td>\n",
       "      <td>CLT</td>\n",
       "      <td>2157</td>\n",
       "      <td>2311</td>\n",
       "      <td>-3.0</td>\n",
       "      <td>157.0</td>\n",
       "      <td>...</td>\n",
       "      <td>SC</td>\n",
       "      <td>NC</td>\n",
       "      <td>1</td>\n",
       "      <td>Short</td>\n",
       "      <td>MYR_CLT</td>\n",
       "      <td>0.630446</td>\n",
       "      <td>0.624309</td>\n",
       "      <td>0.700976</td>\n",
       "      <td>0.511811</td>\n",
       "      <td>0.704348</td>\n",
       "    </tr>\n",
       "    <tr>\n",
       "      <th>1</th>\n",
       "      <td>1</td>\n",
       "      <td>AA</td>\n",
       "      <td>5607</td>\n",
       "      <td>N254PS</td>\n",
       "      <td>BDL</td>\n",
       "      <td>DCA</td>\n",
       "      <td>1151</td>\n",
       "      <td>1325</td>\n",
       "      <td>6.0</td>\n",
       "      <td>313.0</td>\n",
       "      <td>...</td>\n",
       "      <td>CT</td>\n",
       "      <td>DC</td>\n",
       "      <td>0</td>\n",
       "      <td>Short</td>\n",
       "      <td>BDL_DCA</td>\n",
       "      <td>0.630446</td>\n",
       "      <td>0.560345</td>\n",
       "      <td>0.696741</td>\n",
       "      <td>0.538889</td>\n",
       "      <td>0.678571</td>\n",
       "    </tr>\n",
       "    <tr>\n",
       "      <th>2</th>\n",
       "      <td>2</td>\n",
       "      <td>AA</td>\n",
       "      <td>5607</td>\n",
       "      <td>N254PS</td>\n",
       "      <td>DCA</td>\n",
       "      <td>BDL</td>\n",
       "      <td>1009</td>\n",
       "      <td>1126</td>\n",
       "      <td>14.0</td>\n",
       "      <td>313.0</td>\n",
       "      <td>...</td>\n",
       "      <td>DC</td>\n",
       "      <td>CT</td>\n",
       "      <td>0</td>\n",
       "      <td>Short</td>\n",
       "      <td>DCA_BDL</td>\n",
       "      <td>0.630446</td>\n",
       "      <td>0.560345</td>\n",
       "      <td>0.672548</td>\n",
       "      <td>0.538889</td>\n",
       "      <td>0.594458</td>\n",
       "    </tr>\n",
       "    <tr>\n",
       "      <th>3</th>\n",
       "      <td>3</td>\n",
       "      <td>AA</td>\n",
       "      <td>5608</td>\n",
       "      <td>N710PS</td>\n",
       "      <td>DCA</td>\n",
       "      <td>GSP</td>\n",
       "      <td>2000</td>\n",
       "      <td>2134</td>\n",
       "      <td>-12.0</td>\n",
       "      <td>396.0</td>\n",
       "      <td>...</td>\n",
       "      <td>DC</td>\n",
       "      <td>SC</td>\n",
       "      <td>1</td>\n",
       "      <td>Short</td>\n",
       "      <td>DCA_GSP</td>\n",
       "      <td>0.630446</td>\n",
       "      <td>0.569061</td>\n",
       "      <td>0.672548</td>\n",
       "      <td>0.577640</td>\n",
       "      <td>0.512821</td>\n",
       "    </tr>\n",
       "    <tr>\n",
       "      <th>4</th>\n",
       "      <td>4</td>\n",
       "      <td>AA</td>\n",
       "      <td>5610</td>\n",
       "      <td>N515AE</td>\n",
       "      <td>ORF</td>\n",
       "      <td>CLT</td>\n",
       "      <td>1215</td>\n",
       "      <td>1347</td>\n",
       "      <td>-14.0</td>\n",
       "      <td>290.0</td>\n",
       "      <td>...</td>\n",
       "      <td>VA</td>\n",
       "      <td>NC</td>\n",
       "      <td>1</td>\n",
       "      <td>Short</td>\n",
       "      <td>ORF_CLT</td>\n",
       "      <td>0.630446</td>\n",
       "      <td>0.663158</td>\n",
       "      <td>0.656380</td>\n",
       "      <td>0.553459</td>\n",
       "      <td>0.710579</td>\n",
       "    </tr>\n",
       "  </tbody>\n",
       "</table>\n",
       "<p>5 rows × 36 columns</p>\n",
       "</div>"
      ],
      "text/plain": [
       "   Unnamed: 0 mkt_unique_carrier  mkt_carrier_fl_num tail_num origin dest  \\\n",
       "0           0                 AA                5606   N575NN    MYR  CLT   \n",
       "1           1                 AA                5607   N254PS    BDL  DCA   \n",
       "2           2                 AA                5607   N254PS    DCA  BDL   \n",
       "3           3                 AA                5608   N710PS    DCA  GSP   \n",
       "4           4                 AA                5610   N515AE    ORF  CLT   \n",
       "\n",
       "   crs_dep_time  crs_arr_time  arr_delay  distance  ... dep_state dest_state  \\\n",
       "0          2157          2311       -3.0     157.0  ...        SC         NC   \n",
       "1          1151          1325        6.0     313.0  ...        CT         DC   \n",
       "2          1009          1126       14.0     313.0  ...        DC         CT   \n",
       "3          2000          2134      -12.0     396.0  ...        DC         SC   \n",
       "4          1215          1347      -14.0     290.0  ...        VA         NC   \n",
       "\n",
       "  on_time haul_type    route carrier_on_time_pct plane_on_time_pct  \\\n",
       "0       1     Short  MYR_CLT            0.630446          0.624309   \n",
       "1       0     Short  BDL_DCA            0.630446          0.560345   \n",
       "2       0     Short  DCA_BDL            0.630446          0.560345   \n",
       "3       1     Short  DCA_GSP            0.630446          0.569061   \n",
       "4       1     Short  ORF_CLT            0.630446          0.663158   \n",
       "\n",
       "  origin_on_time_pct  fl_num_on_time_pct  route_on_time_pct  \n",
       "0           0.700976            0.511811           0.704348  \n",
       "1           0.696741            0.538889           0.678571  \n",
       "2           0.672548            0.538889           0.594458  \n",
       "3           0.672548            0.577640           0.512821  \n",
       "4           0.656380            0.553459           0.710579  \n",
       "\n",
       "[5 rows x 36 columns]"
      ]
     },
     "execution_count": 5,
     "metadata": {},
     "output_type": "execute_result"
    }
   ],
   "source": [
    "data.head()"
   ]
  },
  {
   "cell_type": "code",
   "execution_count": 6,
   "metadata": {},
   "outputs": [],
   "source": [
    "# Separate the target feature\n",
    "\n",
    "target = data['arr_delay']\n",
    "data = data.drop(columns = 'arr_delay')"
   ]
  },
  {
   "cell_type": "code",
   "execution_count": 7,
   "metadata": {},
   "outputs": [],
   "source": [
    "data = data.drop(columns = ['Unnamed: 0',\n",
    "                           'route',\n",
    "                            'mkt_unique_carrier',\n",
    "                            'mkt_carrier_fl_num',\n",
    "                            'tail_num',\n",
    "                            'dep_state',\n",
    "                           'dest_state',\n",
    "                           'crs_dep_time',\n",
    "                           'crs_arr_time',\n",
    "                           'dest_match_code',\n",
    "                           'origin_match_code',\n",
    "                           'crs_dep_minutes',\n",
    "                           'crs_arr_minutes',\n",
    "                           'year', 'month', 'day',\n",
    "                           'on_time',\n",
    "                            'mkt_carrier_fl_num',\n",
    "                            'haul_type'\n",
    "                           ])"
   ]
  },
  {
   "cell_type": "code",
   "execution_count": 8,
   "metadata": {},
   "outputs": [
    {
     "data": {
      "text/plain": [
       "<AxesSubplot:>"
      ]
     },
     "execution_count": 8,
     "metadata": {},
     "output_type": "execute_result"
    },
    {
     "data": {
      "image/png": "[encoded data removed]",
      "text/plain": [
       "<Figure size 1080x864 with 2 Axes>"
      ]
     },
     "metadata": {
      "needs_background": "light"
     },
     "output_type": "display_data"
    }
   ],
   "source": [
    "df_corr = data.corr()\n",
    "fig, ax = plt.subplots(figsize=(15, 12))\n",
    "sns.heatmap(df_corr, annot = False, cmap=\"YlGnBu\")\n"
   ]
  },
  {
   "cell_type": "markdown",
   "metadata": {},
   "source": [
    "### Feature Engineering"
   ]
  },
  {
   "cell_type": "markdown",
   "metadata": {},
   "source": [
    "Feature engineering will play a crucial role in this problems. We have only very little attributes so we need to create some features that will have some predictive power.\n",
    "\n",
    "- weather: we can use some weather API to look for the weather in time of the scheduled departure and scheduled arrival.\n",
    "- statistics (avg, mean, median, std, min, max...): we can take a look at previous delays and compute descriptive statistics\n",
    "- airports encoding: we need to think about what to do with the airports and other categorical variables\n",
    "- time of the day: the delay probably depends on the airport traffic which varies during the day.\n",
    "- airport traffic\n",
    "- unsupervised learning as feature engineering?\n",
    "- **what are the additional options?**: Think about what we could do more to improve the model."
   ]
  },
  {
   "cell_type": "code",
   "execution_count": 9,
   "metadata": {},
   "outputs": [
    {
     "data": {
      "text/plain": [
       "origin                       object\n",
       "dest                         object\n",
       "distance                    float64\n",
       "dep_period                   object\n",
       "arr_period                   object\n",
       "origin_weather_condition     object\n",
       "origin_weather_severity      object\n",
       "dest_weather_condition       object\n",
       "dest_weather_severity        object\n",
       "week_day                     object\n",
       "crs_dep_hour                  int64\n",
       "crs_arr_hour                  int64\n",
       "carrier_on_time_pct         float64\n",
       "plane_on_time_pct           float64\n",
       "origin_on_time_pct          float64\n",
       "fl_num_on_time_pct          float64\n",
       "route_on_time_pct           float64\n",
       "dtype: object"
      ]
     },
     "execution_count": 9,
     "metadata": {},
     "output_type": "execute_result"
    }
   ],
   "source": [
    "# Check the data types of the columns\n",
    "data.dtypes"
   ]
  },
  {
   "cell_type": "code",
   "execution_count": 10,
   "metadata": {},
   "outputs": [
    {
     "data": {
      "text/plain": [
       "['origin',\n",
       " 'dest',\n",
       " 'dep_period',\n",
       " 'arr_period',\n",
       " 'origin_weather_condition',\n",
       " 'origin_weather_severity',\n",
       " 'dest_weather_condition',\n",
       " 'dest_weather_severity',\n",
       " 'week_day']"
      ]
     },
     "execution_count": 10,
     "metadata": {},
     "output_type": "execute_result"
    }
   ],
   "source": [
    "# Get lists of numeric columns and object columns to facilitate making dummy variables and scaling\n",
    "\n",
    "numeric_cols = ['distance',\n",
    "               'crs_dep_hour',\n",
    "               'crs_arr_hour',\n",
    "               'carrier_on_time_pct',\n",
    "               'plane_on_time_pct',\n",
    "               'fl_num_on_time_pct',\n",
    "               'origin_on_time_pct',\n",
    "               'route_on_time_pct']\n",
    "obj_cols = data.drop(columns = numeric_cols).columns.to_list()\n",
    "# obj_cols.pop()\n",
    "obj_cols"
   ]
  },
  {
   "cell_type": "code",
   "execution_count": 11,
   "metadata": {},
   "outputs": [],
   "source": [
    "# Create Dummy variables for the object columns\n",
    "\n",
    "for col in obj_cols:\n",
    "    temp_df = dummify(data, col)\n",
    "    data = data.merge(temp_df, \n",
    "                               left_index = True, \n",
    "                               right_index = True)"
   ]
  },
  {
   "cell_type": "code",
   "execution_count": 12,
   "metadata": {},
   "outputs": [
    {
     "data": {
      "text/html": [
       "<div>\n",
       "<style scoped>\n",
       "    .dataframe tbody tr th:only-of-type {\n",
       "        vertical-align: middle;\n",
       "    }\n",
       "\n",
       "    .dataframe tbody tr th {\n",
       "        vertical-align: top;\n",
       "    }\n",
       "\n",
       "    .dataframe thead th {\n",
       "        text-align: right;\n",
       "    }\n",
       "</style>\n",
       "<table border=\"1\" class=\"dataframe\">\n",
       "  <thead>\n",
       "    <tr style=\"text-align: right;\">\n",
       "      <th></th>\n",
       "      <th>distance</th>\n",
       "      <th>crs_dep_hour</th>\n",
       "      <th>crs_arr_hour</th>\n",
       "      <th>carrier_on_time_pct</th>\n",
       "      <th>plane_on_time_pct</th>\n",
       "      <th>origin_on_time_pct</th>\n",
       "      <th>fl_num_on_time_pct</th>\n",
       "      <th>route_on_time_pct</th>\n",
       "      <th>type_is_ABE_x</th>\n",
       "      <th>type_is_ABI_x</th>\n",
       "      <th>...</th>\n",
       "      <th>type_is_Other_y</th>\n",
       "      <th>type_is_Severe_y</th>\n",
       "      <th>type_is_UNK_y</th>\n",
       "      <th>type_is_Friday</th>\n",
       "      <th>type_is_Monday</th>\n",
       "      <th>type_is_Saturday</th>\n",
       "      <th>type_is_Sunday</th>\n",
       "      <th>type_is_Thursday</th>\n",
       "      <th>type_is_Tuesday</th>\n",
       "      <th>type_is_Wednesday</th>\n",
       "    </tr>\n",
       "  </thead>\n",
       "  <tbody>\n",
       "    <tr>\n",
       "      <th>0</th>\n",
       "      <td>157.0</td>\n",
       "      <td>21</td>\n",
       "      <td>23</td>\n",
       "      <td>0.630446</td>\n",
       "      <td>0.624309</td>\n",
       "      <td>0.700976</td>\n",
       "      <td>0.511811</td>\n",
       "      <td>0.704348</td>\n",
       "      <td>0</td>\n",
       "      <td>0</td>\n",
       "      <td>...</td>\n",
       "      <td>0</td>\n",
       "      <td>0</td>\n",
       "      <td>0</td>\n",
       "      <td>0</td>\n",
       "      <td>0</td>\n",
       "      <td>0</td>\n",
       "      <td>0</td>\n",
       "      <td>0</td>\n",
       "      <td>1</td>\n",
       "      <td>0</td>\n",
       "    </tr>\n",
       "    <tr>\n",
       "      <th>1</th>\n",
       "      <td>313.0</td>\n",
       "      <td>11</td>\n",
       "      <td>13</td>\n",
       "      <td>0.630446</td>\n",
       "      <td>0.560345</td>\n",
       "      <td>0.696741</td>\n",
       "      <td>0.538889</td>\n",
       "      <td>0.678571</td>\n",
       "      <td>0</td>\n",
       "      <td>0</td>\n",
       "      <td>...</td>\n",
       "      <td>0</td>\n",
       "      <td>0</td>\n",
       "      <td>0</td>\n",
       "      <td>0</td>\n",
       "      <td>0</td>\n",
       "      <td>0</td>\n",
       "      <td>0</td>\n",
       "      <td>0</td>\n",
       "      <td>1</td>\n",
       "      <td>0</td>\n",
       "    </tr>\n",
       "    <tr>\n",
       "      <th>2</th>\n",
       "      <td>313.0</td>\n",
       "      <td>10</td>\n",
       "      <td>11</td>\n",
       "      <td>0.630446</td>\n",
       "      <td>0.560345</td>\n",
       "      <td>0.672548</td>\n",
       "      <td>0.538889</td>\n",
       "      <td>0.594458</td>\n",
       "      <td>0</td>\n",
       "      <td>0</td>\n",
       "      <td>...</td>\n",
       "      <td>0</td>\n",
       "      <td>0</td>\n",
       "      <td>0</td>\n",
       "      <td>0</td>\n",
       "      <td>0</td>\n",
       "      <td>0</td>\n",
       "      <td>0</td>\n",
       "      <td>0</td>\n",
       "      <td>1</td>\n",
       "      <td>0</td>\n",
       "    </tr>\n",
       "    <tr>\n",
       "      <th>3</th>\n",
       "      <td>396.0</td>\n",
       "      <td>20</td>\n",
       "      <td>21</td>\n",
       "      <td>0.630446</td>\n",
       "      <td>0.569061</td>\n",
       "      <td>0.672548</td>\n",
       "      <td>0.577640</td>\n",
       "      <td>0.512821</td>\n",
       "      <td>0</td>\n",
       "      <td>0</td>\n",
       "      <td>...</td>\n",
       "      <td>0</td>\n",
       "      <td>0</td>\n",
       "      <td>0</td>\n",
       "      <td>0</td>\n",
       "      <td>0</td>\n",
       "      <td>0</td>\n",
       "      <td>0</td>\n",
       "      <td>0</td>\n",
       "      <td>1</td>\n",
       "      <td>0</td>\n",
       "    </tr>\n",
       "    <tr>\n",
       "      <th>4</th>\n",
       "      <td>290.0</td>\n",
       "      <td>12</td>\n",
       "      <td>13</td>\n",
       "      <td>0.630446</td>\n",
       "      <td>0.663158</td>\n",
       "      <td>0.656380</td>\n",
       "      <td>0.553459</td>\n",
       "      <td>0.710579</td>\n",
       "      <td>0</td>\n",
       "      <td>0</td>\n",
       "      <td>...</td>\n",
       "      <td>0</td>\n",
       "      <td>0</td>\n",
       "      <td>0</td>\n",
       "      <td>0</td>\n",
       "      <td>0</td>\n",
       "      <td>0</td>\n",
       "      <td>0</td>\n",
       "      <td>0</td>\n",
       "      <td>1</td>\n",
       "      <td>0</td>\n",
       "    </tr>\n",
       "  </tbody>\n",
       "</table>\n",
       "<p>5 rows × 783 columns</p>\n",
       "</div>"
      ],
      "text/plain": [
       "   distance  crs_dep_hour  crs_arr_hour  carrier_on_time_pct  \\\n",
       "0     157.0            21            23             0.630446   \n",
       "1     313.0            11            13             0.630446   \n",
       "2     313.0            10            11             0.630446   \n",
       "3     396.0            20            21             0.630446   \n",
       "4     290.0            12            13             0.630446   \n",
       "\n",
       "   plane_on_time_pct  origin_on_time_pct  fl_num_on_time_pct  \\\n",
       "0           0.624309            0.700976            0.511811   \n",
       "1           0.560345            0.696741            0.538889   \n",
       "2           0.560345            0.672548            0.538889   \n",
       "3           0.569061            0.672548            0.577640   \n",
       "4           0.663158            0.656380            0.553459   \n",
       "\n",
       "   route_on_time_pct  type_is_ABE_x  type_is_ABI_x  ...  type_is_Other_y  \\\n",
       "0           0.704348              0              0  ...                0   \n",
       "1           0.678571              0              0  ...                0   \n",
       "2           0.594458              0              0  ...                0   \n",
       "3           0.512821              0              0  ...                0   \n",
       "4           0.710579              0              0  ...                0   \n",
       "\n",
       "   type_is_Severe_y  type_is_UNK_y  type_is_Friday  type_is_Monday  \\\n",
       "0                 0              0               0               0   \n",
       "1                 0              0               0               0   \n",
       "2                 0              0               0               0   \n",
       "3                 0              0               0               0   \n",
       "4                 0              0               0               0   \n",
       "\n",
       "   type_is_Saturday  type_is_Sunday  type_is_Thursday  type_is_Tuesday  \\\n",
       "0                 0               0                 0                1   \n",
       "1                 0               0                 0                1   \n",
       "2                 0               0                 0                1   \n",
       "3                 0               0                 0                1   \n",
       "4                 0               0                 0                1   \n",
       "\n",
       "   type_is_Wednesday  \n",
       "0                  0  \n",
       "1                  0  \n",
       "2                  0  \n",
       "3                  0  \n",
       "4                  0  \n",
       "\n",
       "[5 rows x 783 columns]"
      ]
     },
     "execution_count": 12,
     "metadata": {},
     "output_type": "execute_result"
    }
   ],
   "source": [
    "# Drop object columns\n",
    "\n",
    "data = data.drop(columns = obj_cols)\n",
    "data.head()"
   ]
  },
  {
   "cell_type": "code",
   "execution_count": 13,
   "metadata": {},
   "outputs": [],
   "source": [
    "# Apply scaling to the numeric columns\n",
    "scaler = StandardScaler()\n",
    "numerics_scaled = scaler.fit_transform(data[numeric_cols], target)"
   ]
  },
  {
   "cell_type": "code",
   "execution_count": 14,
   "metadata": {},
   "outputs": [],
   "source": [
    "# Rename columns from scaling back to their original names, merge with data\n",
    "\n",
    "numeric_dict = {0: 'distance',\n",
    "               1: 'crs_dep_hour',\n",
    "               2: 'crs_arr_hour',\n",
    "               3: 'carrier_on_time_pct',\n",
    "               4: 'plane_on_time_pct',\n",
    "               5: 'fl_num_on_time_pct',\n",
    "               6: 'origin_on_time_pct',\n",
    "               7: 'route_on_time_pct'}\n",
    "numerics_scaled = pd.DataFrame(numerics_scaled).rename(columns = numeric_dict)\n",
    "data = data.drop(columns = numeric_cols)\n",
    "data = data.merge(numerics_scaled, left_index=True, right_index=True)\n"
   ]
  },
  {
   "cell_type": "code",
   "execution_count": 15,
   "metadata": {},
   "outputs": [
    {
     "data": {
      "text/plain": [
       "distance               0\n",
       "crs_dep_hour           0\n",
       "crs_arr_hour           0\n",
       "carrier_on_time_pct    0\n",
       "plane_on_time_pct      0\n",
       "fl_num_on_time_pct     0\n",
       "origin_on_time_pct     0\n",
       "route_on_time_pct      0\n",
       "dtype: int64"
      ]
     },
     "execution_count": 15,
     "metadata": {},
     "output_type": "execute_result"
    }
   ],
   "source": [
    "numerics_scaled.isna().sum()"
   ]
  },
  {
   "cell_type": "markdown",
   "metadata": {},
   "source": []
  },
  {
   "cell_type": "markdown",
   "metadata": {},
   "source": [
    "### Feature Selection / Dimensionality Reduction"
   ]
  },
  {
   "cell_type": "markdown",
   "metadata": {},
   "source": [
    "We need to apply different selection techniques to find out which one will be the best for our problems.\n",
    "\n",
    "- Original Features vs. PCA conponents?\n",
    "- PCA vs LDA?\n",
    "- Check for high correlation, low variance\n",
    "- Try some wrapper methods"
   ]
  },
  {
   "cell_type": "markdown",
   "metadata": {},
   "source": [
    "# PCA"
   ]
  },
  {
   "cell_type": "code",
   "execution_count": 17,
   "metadata": {},
   "outputs": [],
   "source": [
    "# # Initialize pca with components = 20\n",
    "# n_components = 20\n",
    "# pca = PCA(n_components = n_components)\n",
    "# components = pca.fit_transform(data)"
   ]
  },
  {
   "cell_type": "code",
   "execution_count": null,
   "metadata": {},
   "outputs": [],
   "source": [
    "# # Calculate and print the total variance\n",
    "# total_variance = pca.explained_variance_ratio_.sum() * 100\n",
    "# total_variance"
   ]
  },
  {
   "cell_type": "code",
   "execution_count": null,
   "metadata": {},
   "outputs": [],
   "source": [
    "# pca.explained_variance_ratio_ * 100"
   ]
  },
  {
   "cell_type": "code",
   "execution_count": null,
   "metadata": {},
   "outputs": [],
   "source": [
    "# # Write the PCA data to CSV for fast importing\n",
    "# components = pd.DataFrame(components)\n",
    "# components.to_csv('components20.csv')"
   ]
  },
  {
   "cell_type": "code",
   "execution_count": 18,
   "metadata": {},
   "outputs": [],
   "source": [
    "# Read PCA components from CSV file\n",
    "components = pd.read_csv('data/components20.csv')"
   ]
  },
  {
   "cell_type": "code",
   "execution_count": null,
   "metadata": {},
   "outputs": [],
   "source": []
  },
  {
   "cell_type": "markdown",
   "metadata": {},
   "source": [
    "# Train Test Split\n",
    "\n",
    "Do two train test splits.  One for the standard data and another for data that underwent PCA"
   ]
  },
  {
   "cell_type": "code",
   "execution_count": 19,
   "metadata": {},
   "outputs": [],
   "source": [
    "X_train, X_val, y_train, y_val = train_test_split(data, target, test_size = 0.25)"
   ]
  },
  {
   "cell_type": "code",
   "execution_count": 20,
   "metadata": {},
   "outputs": [],
   "source": [
    "X_train_pca, X_val_pca, y_train_pca, y_val_pca  = train_test_split(components, target, test_size = 0.25)"
   ]
  },
  {
   "cell_type": "code",
   "execution_count": null,
   "metadata": {},
   "outputs": [],
   "source": []
  },
  {
   "cell_type": "code",
   "execution_count": null,
   "metadata": {},
   "outputs": [],
   "source": []
  },
  {
   "cell_type": "markdown",
   "metadata": {},
   "source": [
    "# Modeling"
   ]
  },
  {
   "cell_type": "markdown",
   "metadata": {},
   "source": [
    "Use different ML techniques to predict each problem.\n",
    "\n",
    "- linear / logistic / multinomial logistic regression\n",
    "- Naive Bayes\n",
    "- Random Forest\n",
    "- SVM\n",
    "- XGBoost\n",
    "- The ensemble of your own choice"
   ]
  },
  {
   "cell_type": "markdown",
   "metadata": {},
   "source": [
    "# Random Forest"
   ]
  },
  {
   "cell_type": "code",
   "execution_count": null,
   "metadata": {},
   "outputs": [],
   "source": [
    "# rfr = RandomForestRegressor(n_jobs=-1)\n",
    "# rfr.fit(X_train, y_train)\n"
   ]
  },
  {
   "cell_type": "code",
   "execution_count": null,
   "metadata": {},
   "outputs": [],
   "source": [
    "# y_pred_rfr = rfr.predict(X_val)"
   ]
  },
  {
   "cell_type": "markdown",
   "metadata": {},
   "source": [
    "# Linear Regression\n",
    "\n",
    "\n",
    "Baseline r2 = 0.0477"
   ]
  },
  {
   "cell_type": "code",
   "execution_count": null,
   "metadata": {},
   "outputs": [],
   "source": [
    "# # Linear regression on raw data\n",
    "# l_reg = LinearRegression()\n",
    "# l_reg.fit(X_train, y_train)"
   ]
  },
  {
   "cell_type": "code",
   "execution_count": null,
   "metadata": {},
   "outputs": [],
   "source": [
    "# y_pred_l_reg = l_reg.predict(X_val)"
   ]
  },
  {
   "cell_type": "code",
   "execution_count": null,
   "metadata": {},
   "outputs": [],
   "source": [
    "# regression_metrics(y_val, y_pred_l_reg)"
   ]
  },
  {
   "cell_type": "code",
   "execution_count": null,
   "metadata": {},
   "outputs": [],
   "source": []
  },
  {
   "cell_type": "code",
   "execution_count": null,
   "metadata": {},
   "outputs": [],
   "source": [
    "# Linear regression on components"
   ]
  },
  {
   "cell_type": "code",
   "execution_count": 21,
   "metadata": {},
   "outputs": [
    {
     "data": {
      "text/plain": [
       "LinearRegression()"
      ]
     },
     "execution_count": 21,
     "metadata": {},
     "output_type": "execute_result"
    }
   ],
   "source": [
    "l_reg_pca = LinearRegression()\n",
    "l_reg_pca.fit(X_train_pca, y_train_pca)"
   ]
  },
  {
   "cell_type": "code",
   "execution_count": 23,
   "metadata": {},
   "outputs": [],
   "source": [
    "y_pred_l_reg_pca = l_reg_pca.predict(X_val_pca)"
   ]
  },
  {
   "cell_type": "code",
   "execution_count": 25,
   "metadata": {},
   "outputs": [
    {
     "name": "stdout",
     "output_type": "stream",
     "text": [
      "R2 Score:  0.037255796329071944\n",
      "Mean Absolute Error:  24.212950576594377\n",
      "Mean Squared Error:  2539.741157978664\n"
     ]
    }
   ],
   "source": [
    "regression_metrics(y_val_pca, y_pred_l_reg_pca)"
   ]
  },
  {
   "cell_type": "code",
   "execution_count": null,
   "metadata": {},
   "outputs": [],
   "source": []
  },
  {
   "cell_type": "markdown",
   "metadata": {},
   "source": [
    "# Naive Bayes"
   ]
  },
  {
   "cell_type": "code",
   "execution_count": null,
   "metadata": {},
   "outputs": [],
   "source": []
  },
  {
   "cell_type": "markdown",
   "metadata": {},
   "source": [
    "### Evaluation"
   ]
  },
  {
   "cell_type": "markdown",
   "metadata": {},
   "source": [
    "You have data from 2018 and 2019 to develop models. Use different evaluation metrics for each problem and compare the performance of different models.\n",
    "\n",
    "You are required to predict delays on **out of sample** data from **first 7 days (1st-7th) of January 2020** and to share the file with LighthouseLabs. Sample submission can be found in the file **_sample_submission.csv_**"
   ]
  },
  {
   "cell_type": "code",
   "execution_count": null,
   "metadata": {},
   "outputs": [],
   "source": []
  },
  {
   "cell_type": "code",
   "execution_count": null,
   "metadata": {},
   "outputs": [],
   "source": []
  },
  {
   "cell_type": "code",
   "execution_count": null,
   "metadata": {},
   "outputs": [],
   "source": []
  },
  {
   "cell_type": "code",
   "execution_count": null,
   "metadata": {},
   "outputs": [],
   "source": []
  },
  {
   "cell_type": "markdown",
   "metadata": {},
   "source": [
    "======================================================================\n",
    "## Stretch Tasks"
   ]
  },
  {
   "cell_type": "markdown",
   "metadata": {},
   "source": [
    "### Multiclass Classification"
   ]
  },
  {
   "cell_type": "markdown",
   "metadata": {},
   "source": [
    "The target variables are **CARRIER_DELAY, WEATHER_DELAY, NAS_DELAY, SECURITY_DELAY, LATE_AIRCRAFT_DELAY**. We need to do additional transformations because these variables are not binary but continuos. For each flight that was delayed, we need to have one of these variables as 1 and others 0.\n",
    "\n",
    "It can happen that we have two types of delays with more than 0 minutes. In this case, take the bigger one as 1 and others as 0."
   ]
  },
  {
   "cell_type": "code",
   "execution_count": null,
   "metadata": {},
   "outputs": [],
   "source": []
  },
  {
   "cell_type": "code",
   "execution_count": null,
   "metadata": {},
   "outputs": [],
   "source": []
  },
  {
   "cell_type": "code",
   "execution_count": null,
   "metadata": {},
   "outputs": [],
   "source": []
  },
  {
   "cell_type": "markdown",
   "metadata": {},
   "source": [
    "### Binary Classification"
   ]
  },
  {
   "cell_type": "markdown",
   "metadata": {},
   "source": [
    "The target variable is **CANCELLED**. The main problem here is going to be huge class imbalance. We have only very little cancelled flights with comparison to all flights. It is important to do the right sampling before training and to choose correct evaluation metrics."
   ]
  },
  {
   "cell_type": "code",
   "execution_count": null,
   "metadata": {},
   "outputs": [],
   "source": []
  },
  {
   "cell_type": "code",
   "execution_count": null,
   "metadata": {},
   "outputs": [],
   "source": []
  },
  {
   "cell_type": "code",
   "execution_count": null,
   "metadata": {},
   "outputs": [],
   "source": []
  }
 ],
 "metadata": {
  "kernelspec": {
   "display_name": "bootcamp_env",
   "language": "python",
   "name": "bootcamp_env"
  },
  "language_info": {
   "codemirror_mode": {
    "name": "ipython",
    "version": 3
   },
   "file_extension": ".py",
   "mimetype": "text/x-python",
   "name": "python",
   "nbconvert_exporter": "python",
   "pygments_lexer": "ipython3",
   "version": "3.6.10"
  }
 },
 "nbformat": 4,
 "nbformat_minor": 4
}
