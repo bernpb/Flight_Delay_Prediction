{
 "cells": [
  {
   "cell_type": "markdown",
   "metadata": {},
   "source": [
    "# Machine Learning\n",
    "\n",
    "In this file, instructions how to approach the challenge can be found."
   ]
  },
  {
   "cell_type": "markdown",
   "metadata": {},
   "source": [
    "We are going to work on different types of Machine Learning problems:\n",
    "\n",
    "- **Regression Problem**: The goal is to predict delay of flights.\n",
    "- **(Stretch) Multiclass Classification**: If the plane was delayed, we will predict what type of delay it is (will be).\n",
    "- **(Stretch) Binary Classification**: The goal is to predict if the flight will be cancelled."
   ]
  },
  {
   "cell_type": "code",
   "execution_count": 1,
   "metadata": {},
   "outputs": [],
   "source": [
    "import pandas as pd\n",
    "import numpy as np\n",
    "import matplotlib.pyplot as plt\n",
    "import seaborn as sns\n",
    "\n",
    "# Preprocessing\n",
    "from sklearn.model_selection import train_test_split\n",
    "from sklearn.preprocessing import StandardScaler\n",
    "\n",
    "# Models\n",
    "from sklearn.ensemble import RandomForestRegressor\n",
    "from sklearn.ensemble import RandomForestClassifier\n",
    "from sklearn.linear_model import LinearRegression\n",
    "from sklearn.linear_model import Ridge\n",
    "import xgboost as xgb\n",
    "\n",
    "# Metrics\n",
    "from sklearn.metrics import r2_score\n",
    "from sklearn.metrics import mean_absolute_error\n",
    "from sklearn.metrics import mean_squared_error\n",
    "from sklearn.metrics import accuracy_score\n",
    "from sklearn.metrics import f1_score\n",
    "from sklearn.metrics import precision_score\n",
    "from sklearn.metrics import recall_score\n",
    "from sklearn.metrics import confusion_matrix\n",
    "from sklearn.model_selection import GridSearchCV"
   ]
  },
  {
   "cell_type": "code",
   "execution_count": 2,
   "metadata": {},
   "outputs": [],
   "source": [
    "def check_missing_data(df):\n",
    "    total = df.isnull().sum().sort_values(ascending=False)\n",
    "    percent = (df.isnull().sum()/df.isnull().count()).sort_values(ascending=False)\n",
    "    missing_data = pd.concat([total, percent], axis=1, keys=['Total', 'Percent'])\n",
    "    return missing_data.head(20)\n",
    "\n",
    "def regression_metrics(y_test, y_pred):\n",
    "    print('R2 Score: ', r2_score(y_test, y_pred))\n",
    "    print('Mean Absolute Error: ', mean_absolute_error(y_test, y_pred))\n",
    "    print('Mean Squared Error: ', mean_squared_error(y_test, y_pred))\n",
    "\n",
    "def binary_classifier_metrics(y_test, y_pred):\n",
    "    '''\n",
    "    Quick function to return metrics for binary classification models.\n",
    "    Requires the imports of the functions below.\n",
    "    '''\n",
    "    print('Accuracy: ', accuracy_score(y_test, y_pred))\n",
    "    print('F1 score: ', f1_score(y_test, y_pred))\n",
    "    print('Precision score: ', precision_score(y_test, y_pred))\n",
    "    print('Recall score: ', recall_score(y_test, y_pred))\n",
    "    print('Confusion Matrix: \\n', confusion_matrix(y_test, y_pred))"
   ]
  },
  {
   "cell_type": "markdown",
   "metadata": {},
   "source": [
    "## Main Task: Regression Problem"
   ]
  },
  {
   "cell_type": "markdown",
   "metadata": {},
   "source": [
    "The target variable is **ARR_DELAY**. We need to be careful which columns to use and which don't. For example, DEP_DELAY is going to be the perfect predictor, but we can't use it because in real-life scenario, we want to predict the delay before the flight takes of --> We can use average delay from earlier days but not the one from the actual flight we predict.  \n",
    "\n",
    "For example, variables **CARRIER_DELAY, WEATHER_DELAY, NAS_DELAY, SECURITY_DELAY, LATE_AIRCRAFT_DELAY** shouldn't be used directly as predictors as well. However, we can create various transformations from earlier values.\n",
    "\n",
    "We will be evaluating your models by predicting the ARR_DELAY for all flights **1 week in advance**."
   ]
  },
  {
   "cell_type": "code",
   "execution_count": 3,
   "metadata": {},
   "outputs": [],
   "source": [
    "#df_flights = pd.read_csv('data/features_after_EDA.csv')\n",
    "clean_df = pd.read_csv('data/clean_df.csv')"
   ]
  },
  {
   "cell_type": "code",
   "execution_count": 4,
   "metadata": {},
   "outputs": [
    {
     "name": "stdout",
     "output_type": "stream",
     "text": [
      "<class 'pandas.core.frame.DataFrame'>\n",
      "RangeIndex: 1314184 entries, 0 to 1314183\n",
      "Data columns (total 36 columns):\n",
      " #   Column                    Non-Null Count    Dtype  \n",
      "---  ------                    --------------    -----  \n",
      " 0   Unnamed: 0                1314184 non-null  int64  \n",
      " 1   mkt_unique_carrier        1314184 non-null  object \n",
      " 2   mkt_carrier_fl_num        1314184 non-null  int64  \n",
      " 3   tail_num                  1314184 non-null  object \n",
      " 4   origin                    1314184 non-null  object \n",
      " 5   dest                      1314184 non-null  object \n",
      " 6   crs_dep_time              1314184 non-null  int64  \n",
      " 7   crs_arr_time              1314184 non-null  int64  \n",
      " 8   arr_delay                 1314184 non-null  float64\n",
      " 9   distance                  1314184 non-null  float64\n",
      " 10  dep_period                1314184 non-null  object \n",
      " 11  arr_period                1314184 non-null  object \n",
      " 12  origin_match_code         1314184 non-null  object \n",
      " 13  dest_match_code           1314184 non-null  object \n",
      " 14  origin_weather_condition  1314184 non-null  object \n",
      " 15  origin_weather_severity   1314184 non-null  object \n",
      " 16  dest_weather_condition    1314184 non-null  object \n",
      " 17  dest_weather_severity     1314184 non-null  object \n",
      " 18  year                      1314184 non-null  int64  \n",
      " 19  month                     1314184 non-null  int64  \n",
      " 20  day                       1314184 non-null  int64  \n",
      " 21  week_day                  1314184 non-null  object \n",
      " 22  crs_dep_hour              1314184 non-null  int64  \n",
      " 23  crs_dep_minutes           1314184 non-null  int64  \n",
      " 24  crs_arr_hour              1314184 non-null  int64  \n",
      " 25  crs_arr_minutes           1314184 non-null  int64  \n",
      " 26  dep_state                 1314184 non-null  object \n",
      " 27  dest_state                1314184 non-null  object \n",
      " 28  on_time                   1314184 non-null  int64  \n",
      " 29  haul_type                 1314184 non-null  object \n",
      " 30  route                     1314184 non-null  object \n",
      " 31  carrier_on_time_pct       1314184 non-null  float64\n",
      " 32  plane_on_time_pct         1314184 non-null  float64\n",
      " 33  origin_on_time_pct        1314184 non-null  float64\n",
      " 34  fl_num_on_time_pct        1314184 non-null  float64\n",
      " 35  route_on_time_pct         1314184 non-null  float64\n",
      "dtypes: float64(7), int64(12), object(17)\n",
      "memory usage: 361.0+ MB\n"
     ]
    }
   ],
   "source": [
    "clean_df.info()"
   ]
  },
  {
   "cell_type": "code",
   "execution_count": 5,
   "metadata": {},
   "outputs": [],
   "source": [
    "features = ['distance',                    \n",
    "'dep_period',                   \n",
    "'arr_period',                   \n",
    "'origin_weather_condition',     \n",
    "'origin_weather_severity',      \n",
    "'dest_weather_condition',       \n",
    "'dest_weather_severity',        \n",
    "'week_day',                     \n",
    "'crs_dep_hour',                  \n",
    "'crs_arr_hour',                  \n",
    "'carrier_on_time_pct',         \n",
    "'plane_on_time_pct',           \n",
    "'origin_on_time_pct',          \n",
    "'fl_num_on_time_pct',          \n",
    "'route_on_time_pct',\n",
    "'haul_type',\n",
    "'arr_delay']          "
   ]
  },
  {
   "cell_type": "code",
   "execution_count": 6,
   "metadata": {},
   "outputs": [],
   "source": [
    "df_flights = clean_df[features]"
   ]
  },
  {
   "cell_type": "code",
   "execution_count": 7,
   "metadata": {},
   "outputs": [
    {
     "data": {
      "text/html": [
       "<div>\n",
       "<style scoped>\n",
       "    .dataframe tbody tr th:only-of-type {\n",
       "        vertical-align: middle;\n",
       "    }\n",
       "\n",
       "    .dataframe tbody tr th {\n",
       "        vertical-align: top;\n",
       "    }\n",
       "\n",
       "    .dataframe thead th {\n",
       "        text-align: right;\n",
       "    }\n",
       "</style>\n",
       "<table border=\"1\" class=\"dataframe\">\n",
       "  <thead>\n",
       "    <tr style=\"text-align: right;\">\n",
       "      <th></th>\n",
       "      <th>distance</th>\n",
       "      <th>dep_period</th>\n",
       "      <th>arr_period</th>\n",
       "      <th>origin_weather_condition</th>\n",
       "      <th>origin_weather_severity</th>\n",
       "      <th>dest_weather_condition</th>\n",
       "      <th>dest_weather_severity</th>\n",
       "      <th>week_day</th>\n",
       "      <th>crs_dep_hour</th>\n",
       "      <th>crs_arr_hour</th>\n",
       "      <th>carrier_on_time_pct</th>\n",
       "      <th>plane_on_time_pct</th>\n",
       "      <th>origin_on_time_pct</th>\n",
       "      <th>fl_num_on_time_pct</th>\n",
       "      <th>route_on_time_pct</th>\n",
       "      <th>haul_type</th>\n",
       "      <th>arr_delay</th>\n",
       "    </tr>\n",
       "  </thead>\n",
       "  <tbody>\n",
       "    <tr>\n",
       "      <th>0</th>\n",
       "      <td>157.0</td>\n",
       "      <td>Evening</td>\n",
       "      <td>Evening</td>\n",
       "      <td>Clear</td>\n",
       "      <td>Light</td>\n",
       "      <td>Clear</td>\n",
       "      <td>Light</td>\n",
       "      <td>Tuesday</td>\n",
       "      <td>21</td>\n",
       "      <td>23</td>\n",
       "      <td>0.630446</td>\n",
       "      <td>0.624309</td>\n",
       "      <td>0.700976</td>\n",
       "      <td>0.511811</td>\n",
       "      <td>0.704348</td>\n",
       "      <td>Short</td>\n",
       "      <td>-3.0</td>\n",
       "    </tr>\n",
       "    <tr>\n",
       "      <th>1</th>\n",
       "      <td>313.0</td>\n",
       "      <td>Morning</td>\n",
       "      <td>Afternoon</td>\n",
       "      <td>Adverse</td>\n",
       "      <td>Moderate</td>\n",
       "      <td>Clear</td>\n",
       "      <td>Light</td>\n",
       "      <td>Tuesday</td>\n",
       "      <td>11</td>\n",
       "      <td>13</td>\n",
       "      <td>0.630446</td>\n",
       "      <td>0.560345</td>\n",
       "      <td>0.696741</td>\n",
       "      <td>0.538889</td>\n",
       "      <td>0.678571</td>\n",
       "      <td>Short</td>\n",
       "      <td>6.0</td>\n",
       "    </tr>\n",
       "    <tr>\n",
       "      <th>2</th>\n",
       "      <td>313.0</td>\n",
       "      <td>Morning</td>\n",
       "      <td>Morning</td>\n",
       "      <td>Adverse</td>\n",
       "      <td>Light</td>\n",
       "      <td>Adverse</td>\n",
       "      <td>Moderate</td>\n",
       "      <td>Tuesday</td>\n",
       "      <td>10</td>\n",
       "      <td>11</td>\n",
       "      <td>0.630446</td>\n",
       "      <td>0.560345</td>\n",
       "      <td>0.672548</td>\n",
       "      <td>0.538889</td>\n",
       "      <td>0.594458</td>\n",
       "      <td>Short</td>\n",
       "      <td>14.0</td>\n",
       "    </tr>\n",
       "    <tr>\n",
       "      <th>3</th>\n",
       "      <td>396.0</td>\n",
       "      <td>Evening</td>\n",
       "      <td>Evening</td>\n",
       "      <td>Clear</td>\n",
       "      <td>Light</td>\n",
       "      <td>Clear</td>\n",
       "      <td>Light</td>\n",
       "      <td>Tuesday</td>\n",
       "      <td>20</td>\n",
       "      <td>21</td>\n",
       "      <td>0.630446</td>\n",
       "      <td>0.569061</td>\n",
       "      <td>0.672548</td>\n",
       "      <td>0.577640</td>\n",
       "      <td>0.512821</td>\n",
       "      <td>Short</td>\n",
       "      <td>-12.0</td>\n",
       "    </tr>\n",
       "    <tr>\n",
       "      <th>4</th>\n",
       "      <td>290.0</td>\n",
       "      <td>Afternoon</td>\n",
       "      <td>Afternoon</td>\n",
       "      <td>Clear</td>\n",
       "      <td>Light</td>\n",
       "      <td>Clear</td>\n",
       "      <td>Light</td>\n",
       "      <td>Tuesday</td>\n",
       "      <td>12</td>\n",
       "      <td>13</td>\n",
       "      <td>0.630446</td>\n",
       "      <td>0.663158</td>\n",
       "      <td>0.656380</td>\n",
       "      <td>0.553459</td>\n",
       "      <td>0.710579</td>\n",
       "      <td>Short</td>\n",
       "      <td>-14.0</td>\n",
       "    </tr>\n",
       "  </tbody>\n",
       "</table>\n",
       "</div>"
      ],
      "text/plain": [
       "   distance dep_period arr_period origin_weather_condition  \\\n",
       "0     157.0    Evening    Evening                    Clear   \n",
       "1     313.0    Morning  Afternoon                  Adverse   \n",
       "2     313.0    Morning    Morning                  Adverse   \n",
       "3     396.0    Evening    Evening                    Clear   \n",
       "4     290.0  Afternoon  Afternoon                    Clear   \n",
       "\n",
       "  origin_weather_severity dest_weather_condition dest_weather_severity  \\\n",
       "0                   Light                  Clear                 Light   \n",
       "1                Moderate                  Clear                 Light   \n",
       "2                   Light                Adverse              Moderate   \n",
       "3                   Light                  Clear                 Light   \n",
       "4                   Light                  Clear                 Light   \n",
       "\n",
       "  week_day  crs_dep_hour  crs_arr_hour  carrier_on_time_pct  \\\n",
       "0  Tuesday            21            23             0.630446   \n",
       "1  Tuesday            11            13             0.630446   \n",
       "2  Tuesday            10            11             0.630446   \n",
       "3  Tuesday            20            21             0.630446   \n",
       "4  Tuesday            12            13             0.630446   \n",
       "\n",
       "   plane_on_time_pct  origin_on_time_pct  fl_num_on_time_pct  \\\n",
       "0           0.624309            0.700976            0.511811   \n",
       "1           0.560345            0.696741            0.538889   \n",
       "2           0.560345            0.672548            0.538889   \n",
       "3           0.569061            0.672548            0.577640   \n",
       "4           0.663158            0.656380            0.553459   \n",
       "\n",
       "   route_on_time_pct haul_type  arr_delay  \n",
       "0           0.704348     Short       -3.0  \n",
       "1           0.678571     Short        6.0  \n",
       "2           0.594458     Short       14.0  \n",
       "3           0.512821     Short      -12.0  \n",
       "4           0.710579     Short      -14.0  "
      ]
     },
     "execution_count": 7,
     "metadata": {},
     "output_type": "execute_result"
    }
   ],
   "source": [
    "df_flights.head()"
   ]
  },
  {
   "cell_type": "code",
   "execution_count": 8,
   "metadata": {},
   "outputs": [],
   "source": [
    "# Remove Outliners"
   ]
  },
  {
   "cell_type": "code",
   "execution_count": 9,
   "metadata": {},
   "outputs": [],
   "source": [
    "# arr_delay outliners\n",
    "Q1_arrival = df_flights.arr_delay.quantile(0.25)\n",
    "Q3_arrival = df_flights.arr_delay.quantile(0.75)\n",
    "IQR = Q3_arrival - Q1_arrival\n",
    "df_flights = df_flights.loc[(df_flights['arr_delay'] >= (Q1_arrival - 1.5*IQR))\\\n",
    "                                     & (df_flights['arr_delay'] <= Q3_arrival + 1.5*IQR)]"
   ]
  },
  {
   "cell_type": "code",
   "execution_count": 10,
   "metadata": {},
   "outputs": [
    {
     "data": {
      "text/plain": [
       "(1200213, 17)"
      ]
     },
     "execution_count": 10,
     "metadata": {},
     "output_type": "execute_result"
    }
   ],
   "source": [
    "df_flights.shape"
   ]
  },
  {
   "cell_type": "markdown",
   "metadata": {},
   "source": [
    "### Feature Engineering"
   ]
  },
  {
   "cell_type": "markdown",
   "metadata": {},
   "source": [
    "Feature engineering will play a crucial role in this problems. We have only very little attributes so we need to create some features that will have some predictive power.\n",
    "\n",
    "- weather: we can use some weather API to look for the weather in time of the scheduled departure and scheduled arrival.\n",
    "- statistics (avg, mean, median, std, min, max...): we can take a look at previous delays and compute descriptive statistics\n",
    "- airports encoding: we need to think about what to do with the airports and other categorical variables\n",
    "- time of the day: the delay probably depends on the airport traffic which varies during the day.\n",
    "- airport traffic\n",
    "- unsupervised learning as feature engineering?\n",
    "- **what are the additional options?**: Think about what we could do more to improve the model."
   ]
  },
  {
   "cell_type": "code",
   "execution_count": 11,
   "metadata": {},
   "outputs": [
    {
     "data": {
      "text/html": [
       "<div>\n",
       "<style scoped>\n",
       "    .dataframe tbody tr th:only-of-type {\n",
       "        vertical-align: middle;\n",
       "    }\n",
       "\n",
       "    .dataframe tbody tr th {\n",
       "        vertical-align: top;\n",
       "    }\n",
       "\n",
       "    .dataframe thead th {\n",
       "        text-align: right;\n",
       "    }\n",
       "</style>\n",
       "<table border=\"1\" class=\"dataframe\">\n",
       "  <thead>\n",
       "    <tr style=\"text-align: right;\">\n",
       "      <th></th>\n",
       "      <th>Total</th>\n",
       "      <th>Percent</th>\n",
       "    </tr>\n",
       "  </thead>\n",
       "  <tbody>\n",
       "    <tr>\n",
       "      <th>distance</th>\n",
       "      <td>0</td>\n",
       "      <td>0.0</td>\n",
       "    </tr>\n",
       "    <tr>\n",
       "      <th>crs_arr_hour</th>\n",
       "      <td>0</td>\n",
       "      <td>0.0</td>\n",
       "    </tr>\n",
       "    <tr>\n",
       "      <th>haul_type</th>\n",
       "      <td>0</td>\n",
       "      <td>0.0</td>\n",
       "    </tr>\n",
       "    <tr>\n",
       "      <th>route_on_time_pct</th>\n",
       "      <td>0</td>\n",
       "      <td>0.0</td>\n",
       "    </tr>\n",
       "    <tr>\n",
       "      <th>fl_num_on_time_pct</th>\n",
       "      <td>0</td>\n",
       "      <td>0.0</td>\n",
       "    </tr>\n",
       "    <tr>\n",
       "      <th>origin_on_time_pct</th>\n",
       "      <td>0</td>\n",
       "      <td>0.0</td>\n",
       "    </tr>\n",
       "    <tr>\n",
       "      <th>plane_on_time_pct</th>\n",
       "      <td>0</td>\n",
       "      <td>0.0</td>\n",
       "    </tr>\n",
       "    <tr>\n",
       "      <th>carrier_on_time_pct</th>\n",
       "      <td>0</td>\n",
       "      <td>0.0</td>\n",
       "    </tr>\n",
       "    <tr>\n",
       "      <th>crs_dep_hour</th>\n",
       "      <td>0</td>\n",
       "      <td>0.0</td>\n",
       "    </tr>\n",
       "    <tr>\n",
       "      <th>dep_period</th>\n",
       "      <td>0</td>\n",
       "      <td>0.0</td>\n",
       "    </tr>\n",
       "    <tr>\n",
       "      <th>week_day</th>\n",
       "      <td>0</td>\n",
       "      <td>0.0</td>\n",
       "    </tr>\n",
       "    <tr>\n",
       "      <th>dest_weather_severity</th>\n",
       "      <td>0</td>\n",
       "      <td>0.0</td>\n",
       "    </tr>\n",
       "    <tr>\n",
       "      <th>dest_weather_condition</th>\n",
       "      <td>0</td>\n",
       "      <td>0.0</td>\n",
       "    </tr>\n",
       "    <tr>\n",
       "      <th>origin_weather_severity</th>\n",
       "      <td>0</td>\n",
       "      <td>0.0</td>\n",
       "    </tr>\n",
       "    <tr>\n",
       "      <th>origin_weather_condition</th>\n",
       "      <td>0</td>\n",
       "      <td>0.0</td>\n",
       "    </tr>\n",
       "    <tr>\n",
       "      <th>arr_period</th>\n",
       "      <td>0</td>\n",
       "      <td>0.0</td>\n",
       "    </tr>\n",
       "    <tr>\n",
       "      <th>arr_delay</th>\n",
       "      <td>0</td>\n",
       "      <td>0.0</td>\n",
       "    </tr>\n",
       "  </tbody>\n",
       "</table>\n",
       "</div>"
      ],
      "text/plain": [
       "                          Total  Percent\n",
       "distance                      0      0.0\n",
       "crs_arr_hour                  0      0.0\n",
       "haul_type                     0      0.0\n",
       "route_on_time_pct             0      0.0\n",
       "fl_num_on_time_pct            0      0.0\n",
       "origin_on_time_pct            0      0.0\n",
       "plane_on_time_pct             0      0.0\n",
       "carrier_on_time_pct           0      0.0\n",
       "crs_dep_hour                  0      0.0\n",
       "dep_period                    0      0.0\n",
       "week_day                      0      0.0\n",
       "dest_weather_severity         0      0.0\n",
       "dest_weather_condition        0      0.0\n",
       "origin_weather_severity       0      0.0\n",
       "origin_weather_condition      0      0.0\n",
       "arr_period                    0      0.0\n",
       "arr_delay                     0      0.0"
      ]
     },
     "execution_count": 11,
     "metadata": {},
     "output_type": "execute_result"
    }
   ],
   "source": [
    "# Check missing data on flights\n",
    "flights_missing = check_missing_data(df_flights)\n",
    "flights_missing"
   ]
  },
  {
   "cell_type": "code",
   "execution_count": 12,
   "metadata": {},
   "outputs": [
    {
     "name": "stdout",
     "output_type": "stream",
     "text": [
      "(1200213, 17)\n",
      "(1200213, 17)\n"
     ]
    }
   ],
   "source": [
    "print(df_flights.shape)\n",
    "df_flights = df_flights.dropna(how='any',axis=0) \n",
    "print(df_flights.shape)"
   ]
  },
  {
   "cell_type": "code",
   "execution_count": 13,
   "metadata": {},
   "outputs": [],
   "source": [
    "numeric_cols = df_flights.dtypes[(df_flights.dtypes =='int64')|(df_flights.dtypes =='float64')].index.to_list()\n",
    "categorical_cols = df_flights.dtypes[df_flights.dtypes == 'object'].index.to_list()"
   ]
  },
  {
   "cell_type": "code",
   "execution_count": 14,
   "metadata": {},
   "outputs": [],
   "source": [
    "numeric_cols_exclude_target = list(set(numeric_cols) - {'arr_delay'} )"
   ]
  },
  {
   "cell_type": "code",
   "execution_count": 15,
   "metadata": {},
   "outputs": [
    {
     "data": {
      "text/plain": [
       "['dep_period',\n",
       " 'arr_period',\n",
       " 'origin_weather_condition',\n",
       " 'origin_weather_severity',\n",
       " 'dest_weather_condition',\n",
       " 'dest_weather_severity',\n",
       " 'week_day',\n",
       " 'haul_type']"
      ]
     },
     "execution_count": 15,
     "metadata": {},
     "output_type": "execute_result"
    }
   ],
   "source": [
    "categorical_cols"
   ]
  },
  {
   "cell_type": "code",
   "execution_count": 16,
   "metadata": {},
   "outputs": [
    {
     "data": {
      "image/png": "[encoded data removed]",
      "text/plain": [
       "<Figure size 648x432 with 2 Axes>"
      ]
     },
     "metadata": {
      "needs_background": "light"
     },
     "output_type": "display_data"
    }
   ],
   "source": [
    "# correlation matrix\n",
    "corrmat = df_flights[numeric_cols].corr()\n",
    "f, ax = plt.subplots(figsize=(9, 6))\n",
    "sns.heatmap(corrmat, vmax=.8, square=True,cmap=\"RdYlGn_r\");"
   ]
  },
  {
   "cell_type": "code",
   "execution_count": 17,
   "metadata": {},
   "outputs": [
    {
     "data": {
      "image/png": "[encoded data removed]",
      "text/plain": [
       "<Figure size 432x288 with 2 Axes>"
      ]
     },
     "metadata": {
      "needs_background": "light"
     },
     "output_type": "display_data"
    }
   ],
   "source": [
    "corr_matrix = corrmat.abs()\n",
    "\n",
    "# Select upper triangle of correlation matrix\n",
    "upper = corr_matrix.where(np.triu(np.ones(corr_matrix.shape), k=1).astype(np.bool_))\n",
    "\n",
    "# Find features with correlation greater than 0.2\n",
    "top_corr_features = [column for column in upper.columns if any(upper[column] > 0.2)]\n",
    "\n",
    "# most correlated features with arr_delay\n",
    "sns.heatmap(df_flights[top_corr_features].corr(),annot=True,cmap=\"RdYlGn_r\");"
   ]
  },
  {
   "cell_type": "code",
   "execution_count": 18,
   "metadata": {},
   "outputs": [],
   "source": [
    "df_dummy = pd.get_dummies(df_flights[categorical_cols], drop_first=True)"
   ]
  },
  {
   "cell_type": "code",
   "execution_count": 19,
   "metadata": {},
   "outputs": [
    {
     "data": {
      "text/html": [
       "<div>\n",
       "<style scoped>\n",
       "    .dataframe tbody tr th:only-of-type {\n",
       "        vertical-align: middle;\n",
       "    }\n",
       "\n",
       "    .dataframe tbody tr th {\n",
       "        vertical-align: top;\n",
       "    }\n",
       "\n",
       "    .dataframe thead th {\n",
       "        text-align: right;\n",
       "    }\n",
       "</style>\n",
       "<table border=\"1\" class=\"dataframe\">\n",
       "  <thead>\n",
       "    <tr style=\"text-align: right;\">\n",
       "      <th></th>\n",
       "      <th>dep_period_Evening</th>\n",
       "      <th>dep_period_Morning</th>\n",
       "      <th>dep_period_Night</th>\n",
       "      <th>arr_period_Evening</th>\n",
       "      <th>arr_period_Morning</th>\n",
       "      <th>arr_period_Night</th>\n",
       "      <th>origin_weather_condition_Clear</th>\n",
       "      <th>origin_weather_severity_Moderate</th>\n",
       "      <th>origin_weather_severity_Severe</th>\n",
       "      <th>dest_weather_condition_Clear</th>\n",
       "      <th>dest_weather_severity_Moderate</th>\n",
       "      <th>dest_weather_severity_Severe</th>\n",
       "      <th>week_day_Monday</th>\n",
       "      <th>week_day_Saturday</th>\n",
       "      <th>week_day_Sunday</th>\n",
       "      <th>week_day_Thursday</th>\n",
       "      <th>week_day_Tuesday</th>\n",
       "      <th>week_day_Wednesday</th>\n",
       "      <th>haul_type_Medium</th>\n",
       "      <th>haul_type_Short</th>\n",
       "    </tr>\n",
       "  </thead>\n",
       "  <tbody>\n",
       "    <tr>\n",
       "      <th>0</th>\n",
       "      <td>1</td>\n",
       "      <td>0</td>\n",
       "      <td>0</td>\n",
       "      <td>1</td>\n",
       "      <td>0</td>\n",
       "      <td>0</td>\n",
       "      <td>1</td>\n",
       "      <td>0</td>\n",
       "      <td>0</td>\n",
       "      <td>1</td>\n",
       "      <td>0</td>\n",
       "      <td>0</td>\n",
       "      <td>0</td>\n",
       "      <td>0</td>\n",
       "      <td>0</td>\n",
       "      <td>0</td>\n",
       "      <td>1</td>\n",
       "      <td>0</td>\n",
       "      <td>0</td>\n",
       "      <td>1</td>\n",
       "    </tr>\n",
       "    <tr>\n",
       "      <th>1</th>\n",
       "      <td>0</td>\n",
       "      <td>1</td>\n",
       "      <td>0</td>\n",
       "      <td>0</td>\n",
       "      <td>0</td>\n",
       "      <td>0</td>\n",
       "      <td>0</td>\n",
       "      <td>1</td>\n",
       "      <td>0</td>\n",
       "      <td>1</td>\n",
       "      <td>0</td>\n",
       "      <td>0</td>\n",
       "      <td>0</td>\n",
       "      <td>0</td>\n",
       "      <td>0</td>\n",
       "      <td>0</td>\n",
       "      <td>1</td>\n",
       "      <td>0</td>\n",
       "      <td>0</td>\n",
       "      <td>1</td>\n",
       "    </tr>\n",
       "    <tr>\n",
       "      <th>2</th>\n",
       "      <td>0</td>\n",
       "      <td>1</td>\n",
       "      <td>0</td>\n",
       "      <td>0</td>\n",
       "      <td>1</td>\n",
       "      <td>0</td>\n",
       "      <td>0</td>\n",
       "      <td>0</td>\n",
       "      <td>0</td>\n",
       "      <td>0</td>\n",
       "      <td>1</td>\n",
       "      <td>0</td>\n",
       "      <td>0</td>\n",
       "      <td>0</td>\n",
       "      <td>0</td>\n",
       "      <td>0</td>\n",
       "      <td>1</td>\n",
       "      <td>0</td>\n",
       "      <td>0</td>\n",
       "      <td>1</td>\n",
       "    </tr>\n",
       "    <tr>\n",
       "      <th>3</th>\n",
       "      <td>1</td>\n",
       "      <td>0</td>\n",
       "      <td>0</td>\n",
       "      <td>1</td>\n",
       "      <td>0</td>\n",
       "      <td>0</td>\n",
       "      <td>1</td>\n",
       "      <td>0</td>\n",
       "      <td>0</td>\n",
       "      <td>1</td>\n",
       "      <td>0</td>\n",
       "      <td>0</td>\n",
       "      <td>0</td>\n",
       "      <td>0</td>\n",
       "      <td>0</td>\n",
       "      <td>0</td>\n",
       "      <td>1</td>\n",
       "      <td>0</td>\n",
       "      <td>0</td>\n",
       "      <td>1</td>\n",
       "    </tr>\n",
       "    <tr>\n",
       "      <th>4</th>\n",
       "      <td>0</td>\n",
       "      <td>0</td>\n",
       "      <td>0</td>\n",
       "      <td>0</td>\n",
       "      <td>0</td>\n",
       "      <td>0</td>\n",
       "      <td>1</td>\n",
       "      <td>0</td>\n",
       "      <td>0</td>\n",
       "      <td>1</td>\n",
       "      <td>0</td>\n",
       "      <td>0</td>\n",
       "      <td>0</td>\n",
       "      <td>0</td>\n",
       "      <td>0</td>\n",
       "      <td>0</td>\n",
       "      <td>1</td>\n",
       "      <td>0</td>\n",
       "      <td>0</td>\n",
       "      <td>1</td>\n",
       "    </tr>\n",
       "  </tbody>\n",
       "</table>\n",
       "</div>"
      ],
      "text/plain": [
       "   dep_period_Evening  dep_period_Morning  dep_period_Night  \\\n",
       "0                   1                   0                 0   \n",
       "1                   0                   1                 0   \n",
       "2                   0                   1                 0   \n",
       "3                   1                   0                 0   \n",
       "4                   0                   0                 0   \n",
       "\n",
       "   arr_period_Evening  arr_period_Morning  arr_period_Night  \\\n",
       "0                   1                   0                 0   \n",
       "1                   0                   0                 0   \n",
       "2                   0                   1                 0   \n",
       "3                   1                   0                 0   \n",
       "4                   0                   0                 0   \n",
       "\n",
       "   origin_weather_condition_Clear  origin_weather_severity_Moderate  \\\n",
       "0                               1                                 0   \n",
       "1                               0                                 1   \n",
       "2                               0                                 0   \n",
       "3                               1                                 0   \n",
       "4                               1                                 0   \n",
       "\n",
       "   origin_weather_severity_Severe  dest_weather_condition_Clear  \\\n",
       "0                               0                             1   \n",
       "1                               0                             1   \n",
       "2                               0                             0   \n",
       "3                               0                             1   \n",
       "4                               0                             1   \n",
       "\n",
       "   dest_weather_severity_Moderate  dest_weather_severity_Severe  \\\n",
       "0                               0                             0   \n",
       "1                               0                             0   \n",
       "2                               1                             0   \n",
       "3                               0                             0   \n",
       "4                               0                             0   \n",
       "\n",
       "   week_day_Monday  week_day_Saturday  week_day_Sunday  week_day_Thursday  \\\n",
       "0                0                  0                0                  0   \n",
       "1                0                  0                0                  0   \n",
       "2                0                  0                0                  0   \n",
       "3                0                  0                0                  0   \n",
       "4                0                  0                0                  0   \n",
       "\n",
       "   week_day_Tuesday  week_day_Wednesday  haul_type_Medium  haul_type_Short  \n",
       "0                 1                   0                 0                1  \n",
       "1                 1                   0                 0                1  \n",
       "2                 1                   0                 0                1  \n",
       "3                 1                   0                 0                1  \n",
       "4                 1                   0                 0                1  "
      ]
     },
     "execution_count": 19,
     "metadata": {},
     "output_type": "execute_result"
    }
   ],
   "source": [
    "df_dummy.head()"
   ]
  },
  {
   "cell_type": "code",
   "execution_count": 20,
   "metadata": {},
   "outputs": [],
   "source": [
    "df_num_scaled = StandardScaler().fit_transform(df_flights[numeric_cols_exclude_target])"
   ]
  },
  {
   "cell_type": "code",
   "execution_count": 21,
   "metadata": {},
   "outputs": [],
   "source": [
    "X_encoded = pd.concat([df_flights[numeric_cols_exclude_target], df_dummy], axis=1)\n",
    "X_encoded_scaled = np.hstack((df_num_scaled,df_dummy.to_numpy()))\n",
    "y = df_flights['arr_delay']"
   ]
  },
  {
   "cell_type": "code",
   "execution_count": 22,
   "metadata": {},
   "outputs": [
    {
     "data": {
      "text/html": [
       "<div>\n",
       "<style scoped>\n",
       "    .dataframe tbody tr th:only-of-type {\n",
       "        vertical-align: middle;\n",
       "    }\n",
       "\n",
       "    .dataframe tbody tr th {\n",
       "        vertical-align: top;\n",
       "    }\n",
       "\n",
       "    .dataframe thead th {\n",
       "        text-align: right;\n",
       "    }\n",
       "</style>\n",
       "<table border=\"1\" class=\"dataframe\">\n",
       "  <thead>\n",
       "    <tr style=\"text-align: right;\">\n",
       "      <th></th>\n",
       "      <th>distance</th>\n",
       "      <th>plane_on_time_pct</th>\n",
       "      <th>origin_on_time_pct</th>\n",
       "      <th>crs_dep_hour</th>\n",
       "      <th>carrier_on_time_pct</th>\n",
       "      <th>fl_num_on_time_pct</th>\n",
       "      <th>route_on_time_pct</th>\n",
       "      <th>crs_arr_hour</th>\n",
       "      <th>dep_period_Evening</th>\n",
       "      <th>dep_period_Morning</th>\n",
       "      <th>...</th>\n",
       "      <th>dest_weather_severity_Moderate</th>\n",
       "      <th>dest_weather_severity_Severe</th>\n",
       "      <th>week_day_Monday</th>\n",
       "      <th>week_day_Saturday</th>\n",
       "      <th>week_day_Sunday</th>\n",
       "      <th>week_day_Thursday</th>\n",
       "      <th>week_day_Tuesday</th>\n",
       "      <th>week_day_Wednesday</th>\n",
       "      <th>haul_type_Medium</th>\n",
       "      <th>haul_type_Short</th>\n",
       "    </tr>\n",
       "  </thead>\n",
       "  <tbody>\n",
       "    <tr>\n",
       "      <th>0</th>\n",
       "      <td>157.0</td>\n",
       "      <td>0.624309</td>\n",
       "      <td>0.700976</td>\n",
       "      <td>21</td>\n",
       "      <td>0.630446</td>\n",
       "      <td>0.511811</td>\n",
       "      <td>0.704348</td>\n",
       "      <td>23</td>\n",
       "      <td>1</td>\n",
       "      <td>0</td>\n",
       "      <td>...</td>\n",
       "      <td>0</td>\n",
       "      <td>0</td>\n",
       "      <td>0</td>\n",
       "      <td>0</td>\n",
       "      <td>0</td>\n",
       "      <td>0</td>\n",
       "      <td>1</td>\n",
       "      <td>0</td>\n",
       "      <td>0</td>\n",
       "      <td>1</td>\n",
       "    </tr>\n",
       "    <tr>\n",
       "      <th>1</th>\n",
       "      <td>313.0</td>\n",
       "      <td>0.560345</td>\n",
       "      <td>0.696741</td>\n",
       "      <td>11</td>\n",
       "      <td>0.630446</td>\n",
       "      <td>0.538889</td>\n",
       "      <td>0.678571</td>\n",
       "      <td>13</td>\n",
       "      <td>0</td>\n",
       "      <td>1</td>\n",
       "      <td>...</td>\n",
       "      <td>0</td>\n",
       "      <td>0</td>\n",
       "      <td>0</td>\n",
       "      <td>0</td>\n",
       "      <td>0</td>\n",
       "      <td>0</td>\n",
       "      <td>1</td>\n",
       "      <td>0</td>\n",
       "      <td>0</td>\n",
       "      <td>1</td>\n",
       "    </tr>\n",
       "    <tr>\n",
       "      <th>2</th>\n",
       "      <td>313.0</td>\n",
       "      <td>0.560345</td>\n",
       "      <td>0.672548</td>\n",
       "      <td>10</td>\n",
       "      <td>0.630446</td>\n",
       "      <td>0.538889</td>\n",
       "      <td>0.594458</td>\n",
       "      <td>11</td>\n",
       "      <td>0</td>\n",
       "      <td>1</td>\n",
       "      <td>...</td>\n",
       "      <td>1</td>\n",
       "      <td>0</td>\n",
       "      <td>0</td>\n",
       "      <td>0</td>\n",
       "      <td>0</td>\n",
       "      <td>0</td>\n",
       "      <td>1</td>\n",
       "      <td>0</td>\n",
       "      <td>0</td>\n",
       "      <td>1</td>\n",
       "    </tr>\n",
       "    <tr>\n",
       "      <th>3</th>\n",
       "      <td>396.0</td>\n",
       "      <td>0.569061</td>\n",
       "      <td>0.672548</td>\n",
       "      <td>20</td>\n",
       "      <td>0.630446</td>\n",
       "      <td>0.577640</td>\n",
       "      <td>0.512821</td>\n",
       "      <td>21</td>\n",
       "      <td>1</td>\n",
       "      <td>0</td>\n",
       "      <td>...</td>\n",
       "      <td>0</td>\n",
       "      <td>0</td>\n",
       "      <td>0</td>\n",
       "      <td>0</td>\n",
       "      <td>0</td>\n",
       "      <td>0</td>\n",
       "      <td>1</td>\n",
       "      <td>0</td>\n",
       "      <td>0</td>\n",
       "      <td>1</td>\n",
       "    </tr>\n",
       "    <tr>\n",
       "      <th>4</th>\n",
       "      <td>290.0</td>\n",
       "      <td>0.663158</td>\n",
       "      <td>0.656380</td>\n",
       "      <td>12</td>\n",
       "      <td>0.630446</td>\n",
       "      <td>0.553459</td>\n",
       "      <td>0.710579</td>\n",
       "      <td>13</td>\n",
       "      <td>0</td>\n",
       "      <td>0</td>\n",
       "      <td>...</td>\n",
       "      <td>0</td>\n",
       "      <td>0</td>\n",
       "      <td>0</td>\n",
       "      <td>0</td>\n",
       "      <td>0</td>\n",
       "      <td>0</td>\n",
       "      <td>1</td>\n",
       "      <td>0</td>\n",
       "      <td>0</td>\n",
       "      <td>1</td>\n",
       "    </tr>\n",
       "  </tbody>\n",
       "</table>\n",
       "<p>5 rows × 28 columns</p>\n",
       "</div>"
      ],
      "text/plain": [
       "   distance  plane_on_time_pct  origin_on_time_pct  crs_dep_hour  \\\n",
       "0     157.0           0.624309            0.700976            21   \n",
       "1     313.0           0.560345            0.696741            11   \n",
       "2     313.0           0.560345            0.672548            10   \n",
       "3     396.0           0.569061            0.672548            20   \n",
       "4     290.0           0.663158            0.656380            12   \n",
       "\n",
       "   carrier_on_time_pct  fl_num_on_time_pct  route_on_time_pct  crs_arr_hour  \\\n",
       "0             0.630446            0.511811           0.704348            23   \n",
       "1             0.630446            0.538889           0.678571            13   \n",
       "2             0.630446            0.538889           0.594458            11   \n",
       "3             0.630446            0.577640           0.512821            21   \n",
       "4             0.630446            0.553459           0.710579            13   \n",
       "\n",
       "   dep_period_Evening  dep_period_Morning  ...  \\\n",
       "0                   1                   0  ...   \n",
       "1                   0                   1  ...   \n",
       "2                   0                   1  ...   \n",
       "3                   1                   0  ...   \n",
       "4                   0                   0  ...   \n",
       "\n",
       "   dest_weather_severity_Moderate  dest_weather_severity_Severe  \\\n",
       "0                               0                             0   \n",
       "1                               0                             0   \n",
       "2                               1                             0   \n",
       "3                               0                             0   \n",
       "4                               0                             0   \n",
       "\n",
       "   week_day_Monday  week_day_Saturday  week_day_Sunday  week_day_Thursday  \\\n",
       "0                0                  0                0                  0   \n",
       "1                0                  0                0                  0   \n",
       "2                0                  0                0                  0   \n",
       "3                0                  0                0                  0   \n",
       "4                0                  0                0                  0   \n",
       "\n",
       "   week_day_Tuesday  week_day_Wednesday  haul_type_Medium  haul_type_Short  \n",
       "0                 1                   0                 0                1  \n",
       "1                 1                   0                 0                1  \n",
       "2                 1                   0                 0                1  \n",
       "3                 1                   0                 0                1  \n",
       "4                 1                   0                 0                1  \n",
       "\n",
       "[5 rows x 28 columns]"
      ]
     },
     "execution_count": 22,
     "metadata": {},
     "output_type": "execute_result"
    }
   ],
   "source": [
    "X_encoded.head()"
   ]
  },
  {
   "cell_type": "code",
   "execution_count": 32,
   "metadata": {},
   "outputs": [],
   "source": [
    "# Train Test Split\n",
    "#X_train, X_val, y_train, y_val = train_test_split(X_encoded, y, test_size = 0.25)\n",
    "X_train, X_val, y_train, y_val = train_test_split(X_encoded_scaled, y, test_size = 0.25)"
   ]
  },
  {
   "cell_type": "markdown",
   "metadata": {},
   "source": [
    "### Feature Selection / Dimensionality Reduction"
   ]
  },
  {
   "cell_type": "markdown",
   "metadata": {},
   "source": [
    "We need to apply different selection techniques to find out which one will be the best for our problems.\n",
    "\n",
    "- Original Features vs. PCA conponents?"
   ]
  },
  {
   "cell_type": "code",
   "execution_count": null,
   "metadata": {},
   "outputs": [],
   "source": []
  },
  {
   "cell_type": "code",
   "execution_count": null,
   "metadata": {},
   "outputs": [],
   "source": []
  },
  {
   "cell_type": "code",
   "execution_count": null,
   "metadata": {},
   "outputs": [],
   "source": []
  },
  {
   "cell_type": "code",
   "execution_count": null,
   "metadata": {},
   "outputs": [],
   "source": []
  },
  {
   "cell_type": "code",
   "execution_count": null,
   "metadata": {},
   "outputs": [],
   "source": []
  },
  {
   "cell_type": "markdown",
   "metadata": {},
   "source": [
    "### Modeling"
   ]
  },
  {
   "cell_type": "markdown",
   "metadata": {},
   "source": [
    "Use different ML techniques to predict each problem.\n",
    "\n",
    "- linear / logistic / multinomial logistic regression\n",
    "- Naive Bayes\n",
    "- Random Forest\n",
    "- SVM\n",
    "- XGBoost\n",
    "- The ensemble of your own choice"
   ]
  },
  {
   "cell_type": "code",
   "execution_count": 31,
   "metadata": {},
   "outputs": [
    {
     "name": "stdout",
     "output_type": "stream",
     "text": [
      "R2 Score:  0.08386126961536666\n",
      "Mean Absolute Error:  12.560441218909757\n",
      "Mean Squared Error:  263.1093365525846\n"
     ]
    }
   ],
   "source": [
    "#1. Linear regression on scaled data\n",
    "l_reg = LinearRegression()\n",
    "l_reg.fit(X_train, y_train)\n",
    "y_pred_l_reg = l_reg.predict(X_val)\n",
    "regression_metrics(y_val, y_pred_l_reg)"
   ]
  },
  {
   "cell_type": "code",
   "execution_count": 25,
   "metadata": {},
   "outputs": [],
   "source": [
    "#2. Ridge Regression with GridSearchCV\n",
    "rr = Ridge()\n",
    "parameters = {'alpha':[0.01,0.1,0.5,1,5]}\n",
    "ridge_tuned = GridSearchCV(rr,param_grid=parameters, scoring='r2', cv=10)"
   ]
  },
  {
   "cell_type": "code",
   "execution_count": 26,
   "metadata": {},
   "outputs": [
    {
     "data": {
      "text/plain": [
       "GridSearchCV(cv=10, estimator=Ridge(),\n",
       "             param_grid={'alpha': [0.01, 0.1, 0.5, 1, 5]}, scoring='r2')"
      ]
     },
     "execution_count": 26,
     "metadata": {},
     "output_type": "execute_result"
    }
   ],
   "source": [
    "ridge_tuned.fit(X_train,y_train)"
   ]
  },
  {
   "cell_type": "code",
   "execution_count": 28,
   "metadata": {},
   "outputs": [],
   "source": [
    "y_pred_Ridge_tuned = ridge_tuned.predict(X_val)"
   ]
  },
  {
   "cell_type": "code",
   "execution_count": 29,
   "metadata": {},
   "outputs": [
    {
     "name": "stdout",
     "output_type": "stream",
     "text": [
      "R2 Score:  0.08362194210025864\n",
      "Mean Absolute Error:  12.578614245846246\n",
      "Mean Squared Error:  264.0396482065248\n"
     ]
    }
   ],
   "source": [
    "regression_metrics(y_val, y_pred_Ridge_tuned)"
   ]
  },
  {
   "cell_type": "code",
   "execution_count": 33,
   "metadata": {},
   "outputs": [
    {
     "data": {
      "text/plain": [
       "XGBRegressor(alpha=10, base_score=0.5, booster='gbtree', colsample_bylevel=1,\n",
       "             colsample_bynode=1, colsample_bytree=0.3, enable_categorical=False,\n",
       "             gamma=0, gpu_id=-1, importance_type=None,\n",
       "             interaction_constraints='', learning_rate=0.1, max_delta_step=0,\n",
       "             max_depth=10, min_child_weight=1, missing=nan,\n",
       "             monotone_constraints='()', n_estimators=50, n_jobs=8,\n",
       "             num_parallel_tree=1, predictor='auto', random_state=0,\n",
       "             reg_alpha=10, reg_lambda=1, scale_pos_weight=1, subsample=1,\n",
       "             tree_method='exact', validate_parameters=1, verbosity=None)"
      ]
     },
     "execution_count": 33,
     "metadata": {},
     "output_type": "execute_result"
    }
   ],
   "source": [
    "#3. XGBoost\n",
    "xg_reg = xgb.XGBRegressor(objective ='reg:squarederror', colsample_bytree = 0.3, learning_rate = 0.1,\n",
    "                max_depth = 10, alpha = 10, n_estimators = 50)\n",
    "\n",
    "xg_reg.fit(X_train, y_train)"
   ]
  },
  {
   "cell_type": "code",
   "execution_count": 35,
   "metadata": {},
   "outputs": [],
   "source": [
    "y_pred_xgb_reg = xg_reg.predict(X_val)"
   ]
  },
  {
   "cell_type": "code",
   "execution_count": 36,
   "metadata": {},
   "outputs": [
    {
     "name": "stdout",
     "output_type": "stream",
     "text": [
      "R2 Score:  0.10668329555240375\n",
      "Mean Absolute Error:  12.421430097310092\n",
      "Mean Squared Error:  258.1148778580537\n"
     ]
    }
   ],
   "source": [
    "regression_metrics(y_val, y_pred_xgb_reg)"
   ]
  },
  {
   "cell_type": "markdown",
   "metadata": {},
   "source": [
    "### Evaluation"
   ]
  },
  {
   "cell_type": "markdown",
   "metadata": {},
   "source": [
    "You have data from 2018 and 2019 to develop models. Use different evaluation metrics for each problem and compare the performance of different models.\n",
    "\n",
    "You are required to predict delays on **out of sample** data from **first 7 days (1st-7th) of January 2020** and to share the file with LighthouseLabs. Sample submission can be found in the file **_sample_submission.csv_**"
   ]
  },
  {
   "cell_type": "code",
   "execution_count": null,
   "metadata": {},
   "outputs": [],
   "source": []
  },
  {
   "cell_type": "code",
   "execution_count": null,
   "metadata": {},
   "outputs": [],
   "source": []
  },
  {
   "cell_type": "code",
   "execution_count": null,
   "metadata": {},
   "outputs": [],
   "source": []
  },
  {
   "cell_type": "code",
   "execution_count": null,
   "metadata": {},
   "outputs": [],
   "source": []
  },
  {
   "cell_type": "markdown",
   "metadata": {},
   "source": [
    "======================================================================\n",
    "## Stretch Tasks"
   ]
  },
  {
   "cell_type": "markdown",
   "metadata": {},
   "source": [
    "### Multiclass Classification"
   ]
  },
  {
   "cell_type": "markdown",
   "metadata": {},
   "source": [
    "The target variables are **CARRIER_DELAY, WEATHER_DELAY, NAS_DELAY, SECURITY_DELAY, LATE_AIRCRAFT_DELAY**. We need to do additional transformations because these variables are not binary but continuos. For each flight that was delayed, we need to have one of these variables as 1 and others 0.\n",
    "\n",
    "It can happen that we have two types of delays with more than 0 minutes. In this case, take the bigger one as 1 and others as 0."
   ]
  },
  {
   "cell_type": "code",
   "execution_count": null,
   "metadata": {},
   "outputs": [],
   "source": []
  },
  {
   "cell_type": "code",
   "execution_count": null,
   "metadata": {},
   "outputs": [],
   "source": []
  },
  {
   "cell_type": "code",
   "execution_count": null,
   "metadata": {},
   "outputs": [],
   "source": []
  },
  {
   "cell_type": "markdown",
   "metadata": {},
   "source": [
    "### Binary Classification"
   ]
  },
  {
   "cell_type": "markdown",
   "metadata": {},
   "source": [
    "The target variable is **CANCELLED**. The main problem here is going to be huge class imbalance. We have only very little cancelled flights with comparison to all flights. It is important to do the right sampling before training and to choose correct evaluation metrics."
   ]
  },
  {
   "cell_type": "code",
   "execution_count": null,
   "metadata": {},
   "outputs": [],
   "source": []
  },
  {
   "cell_type": "code",
   "execution_count": null,
   "metadata": {},
   "outputs": [],
   "source": []
  },
  {
   "cell_type": "code",
   "execution_count": null,
   "metadata": {},
   "outputs": [],
   "source": []
  }
 ],
 "metadata": {
  "kernelspec": {
   "display_name": "Python 3",
   "language": "python",
   "name": "python3"
  },
  "language_info": {
   "codemirror_mode": {
    "name": "ipython",
    "version": 3
   },
   "file_extension": ".py",
   "mimetype": "text/x-python",
   "name": "python",
   "nbconvert_exporter": "python",
   "pygments_lexer": "ipython3",
   "version": "3.8.8"
  }
 },
 "nbformat": 4,
 "nbformat_minor": 4
}
