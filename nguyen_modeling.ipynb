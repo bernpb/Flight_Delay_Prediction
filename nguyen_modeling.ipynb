{
 "cells": [
  {
   "cell_type": "markdown",
   "metadata": {},
   "source": [
    "# Machine Learning\n",
    "\n",
    "In this file, instructions how to approach the challenge can be found."
   ]
  },
  {
   "cell_type": "markdown",
   "metadata": {},
   "source": [
    "We are going to work on different types of Machine Learning problems:\n",
    "\n",
    "- **Regression Problem**: The goal is to predict delay of flights.\n",
    "- **(Stretch) Multiclass Classification**: If the plane was delayed, we will predict what type of delay it is (will be).\n",
    "- **(Stretch) Binary Classification**: The goal is to predict if the flight will be cancelled."
   ]
  },
  {
   "cell_type": "code",
   "execution_count": 20,
   "metadata": {},
   "outputs": [],
   "source": [
    "import pandas as pd\n",
    "import numpy as np\n",
    "import matplotlib.pyplot as plt\n",
    "import seaborn as sns\n",
    "\n",
    "from sklearn.model_selection import train_test_split\n",
    "from sklearn.preprocessing import StandardScaler\n",
    "from sklearn.decomposition import PCA\n",
    "\n",
    "from sklearn.ensemble import RandomForestRegressor\n",
    "from sklearn.ensemble import RandomForestClassifier\n",
    "from sklearn.linear_model import LinearRegression\n",
    "from sklearn.linear_model import Ridge\n",
    "import xgboost as xgb\n",
    "\n",
    "from sklearn.metrics import r2_score\n",
    "from sklearn.metrics import mean_absolute_error\n",
    "from sklearn.metrics import mean_squared_error\n",
    "from sklearn.metrics import accuracy_score\n",
    "from sklearn.metrics import f1_score\n",
    "from sklearn.metrics import precision_score\n",
    "from sklearn.metrics import recall_score\n",
    "from sklearn.metrics import confusion_matrix\n",
    "from sklearn.model_selection import GridSearchCV"
   ]
  },
  {
   "cell_type": "code",
   "execution_count": 23,
   "metadata": {},
   "outputs": [],
   "source": [
    "def check_missing_data(df):\n",
    "    total = df.isnull().sum().sort_values(ascending=False)\n",
    "    percent = (df.isnull().sum()/df.isnull().count()).sort_values(ascending=False)\n",
    "    missing_data = pd.concat([total, percent], axis=1, keys=['Total', 'Percent'])\n",
    "    return missing_data.head(20)\n",
    "\n",
    "def regression_metrics(y_test, y_pred):\n",
    "    print('R2 Score: ', r2_score(y_test, y_pred))\n",
    "    print('Mean Absolute Error: ', mean_absolute_error(y_test, y_pred))\n",
    "    print('Mean Squared Error: ', mean_squared_error(y_test, y_pred))\n",
    "\n",
    "def binary_classifier_metrics(y_test, y_pred):\n",
    "    '''\n",
    "    Quick function to return metrics for binary classification models.\n",
    "    Requires the imports of the functions below.\n",
    "    '''\n",
    "    print('Accuracy: ', accuracy_score(y_test, y_pred))\n",
    "    print('F1 score: ', f1_score(y_test, y_pred))\n",
    "    print('Precision score: ', precision_score(y_test, y_pred))\n",
    "    print('Recall score: ', recall_score(y_test, y_pred))\n",
    "    print('Confusion Matrix: \\n', confusion_matrix(y_test, y_pred))\n",
    "\n",
    "def multiclassifier_metrics(y_test, y_pred):\n",
    "    \n",
    "    \"\"\"\n",
    "    Quick function to return metrics for multi-classification models.\n",
    "    \n",
    "    Requires the imports of the functions below.\n",
    "    \"\"\"\n",
    "    \n",
    "    print('Accuracy: ', accuracy_score(y_test, y_pred))\n",
    "    print('F1 score: ', f1_score(y_test, y_pred,\n",
    "                                average = 'micro'))\n",
    "    print('Precision score: ', precision_score(y_test, y_pred,\n",
    "                                              average = 'micro'))\n",
    "    print('Recall score: ', recall_score(y_test, y_pred,\n",
    "                                        average = 'micro'))\n",
    "    print('Confusion Matrix: \\n', confusion_matrix(y_test, y_pred))"
   ]
  },
  {
   "cell_type": "markdown",
   "metadata": {},
   "source": [
    "## Main Task: Regression Problem"
   ]
  },
  {
   "cell_type": "markdown",
   "metadata": {},
   "source": [
    "The target variable is **ARR_DELAY**. We need to be careful which columns to use and which don't. For example, DEP_DELAY is going to be the perfect predictor, but we can't use it because in real-life scenario, we want to predict the delay before the flight takes of --> We can use average delay from earlier days but not the one from the actual flight we predict.  \n",
    "\n",
    "For example, variables **CARRIER_DELAY, WEATHER_DELAY, NAS_DELAY, SECURITY_DELAY, LATE_AIRCRAFT_DELAY** shouldn't be used directly as predictors as well. However, we can create various transformations from earlier values.\n",
    "\n",
    "We will be evaluating your models by predicting the ARR_DELAY for all flights **1 week in advance**."
   ]
  },
  {
   "cell_type": "code",
   "execution_count": 3,
   "metadata": {},
   "outputs": [],
   "source": [
    "clean_df = pd.read_csv('data/clean_df.csv') #after EDA and featuring"
   ]
  },
  {
   "cell_type": "code",
   "execution_count": 4,
   "metadata": {},
   "outputs": [
    {
     "name": "stdout",
     "output_type": "stream",
     "text": [
      "<class 'pandas.core.frame.DataFrame'>\n",
      "RangeIndex: 1079053 entries, 0 to 1079052\n",
      "Data columns (total 46 columns):\n",
      " #   Column                    Non-Null Count    Dtype  \n",
      "---  ------                    --------------    -----  \n",
      " 0   Unnamed: 0                1079053 non-null  int64  \n",
      " 1   mkt_unique_carrier        1079053 non-null  object \n",
      " 2   mkt_carrier_fl_num        1079053 non-null  int64  \n",
      " 3   tail_num                  1079053 non-null  object \n",
      " 4   origin                    1079053 non-null  object \n",
      " 5   dest                      1079053 non-null  object \n",
      " 6   crs_dep_time              1079053 non-null  int64  \n",
      " 7   crs_arr_time              1079053 non-null  int64  \n",
      " 8   arr_delay                 1079053 non-null  float64\n",
      " 9   cancelled                 1079053 non-null  float64\n",
      " 10  cancellation_code         0 non-null        float64\n",
      " 11  distance                  1079053 non-null  float64\n",
      " 12  carrier_delay             66104 non-null    float64\n",
      " 13  weather_delay             66104 non-null    float64\n",
      " 14  nas_delay                 66104 non-null    float64\n",
      " 15  security_delay            66104 non-null    float64\n",
      " 16  late_aircraft_delay       66104 non-null    float64\n",
      " 17  dep_period                1079053 non-null  object \n",
      " 18  arr_period                1079053 non-null  object \n",
      " 19  origin_match_code         1079053 non-null  object \n",
      " 20  dest_match_code           1079053 non-null  object \n",
      " 21  origin_weather_condition  1079053 non-null  object \n",
      " 22  origin_weather_severity   1079053 non-null  object \n",
      " 23  dest_weather_condition    1079053 non-null  object \n",
      " 24  dest_weather_severity     1079053 non-null  object \n",
      " 25  year                      1079053 non-null  int64  \n",
      " 26  month                     1079053 non-null  int64  \n",
      " 27  day                       1079053 non-null  int64  \n",
      " 28  week_day                  1079053 non-null  object \n",
      " 29  crs_dep_hour              1079053 non-null  int64  \n",
      " 30  crs_dep_minutes           1079053 non-null  int64  \n",
      " 31  crs_arr_hour              1079053 non-null  int64  \n",
      " 32  crs_arr_minutes           1079053 non-null  int64  \n",
      " 33  dep_state                 1079053 non-null  object \n",
      " 34  dest_state                1079053 non-null  object \n",
      " 35  on_time                   1079053 non-null  int64  \n",
      " 36  haul_type                 1079053 non-null  object \n",
      " 37  route                     1079053 non-null  object \n",
      " 38  carrier_on_time_pct       1079053 non-null  float64\n",
      " 39  plane_on_time_pct         1079053 non-null  float64\n",
      " 40  origin_on_time_pct        1079053 non-null  float64\n",
      " 41  fl_num_on_time_pct        1079053 non-null  float64\n",
      " 42  route_on_time_pct         1079053 non-null  float64\n",
      " 43  carrier_fuel_consumption  1079053 non-null  float64\n",
      " 44  mean_taxi_out             1079053 non-null  float64\n",
      " 45  mean_taxi_in              1079053 non-null  float64\n",
      "dtypes: float64(17), int64(12), object(17)\n",
      "memory usage: 378.7+ MB\n"
     ]
    }
   ],
   "source": [
    "clean_df.info()"
   ]
  },
  {
   "cell_type": "code",
   "execution_count": 5,
   "metadata": {},
   "outputs": [],
   "source": [
    "features = ['distance',                    \n",
    "'origin_weather_condition',     \n",
    "'origin_weather_severity',      \n",
    "'dest_weather_condition',       \n",
    "'dest_weather_severity',        \n",
    "'week_day',                     \n",
    "'crs_dep_hour',                  \n",
    "'crs_arr_hour',                  \n",
    "'carrier_on_time_pct',         \n",
    "'plane_on_time_pct',           \n",
    "'origin_on_time_pct',          \n",
    "'fl_num_on_time_pct',          \n",
    "'route_on_time_pct',           \n",
    "'carrier_fuel_consumption',    \n",
    "'mean_taxi_out',               \n",
    "'mean_taxi_in','arr_delay']"
   ]
  },
  {
   "cell_type": "code",
   "execution_count": 6,
   "metadata": {},
   "outputs": [],
   "source": [
    "df_flights = clean_df[features]"
   ]
  },
  {
   "cell_type": "code",
   "execution_count": 7,
   "metadata": {},
   "outputs": [
    {
     "data": {
      "text/html": [
       "<div>\n",
       "<style scoped>\n",
       "    .dataframe tbody tr th:only-of-type {\n",
       "        vertical-align: middle;\n",
       "    }\n",
       "\n",
       "    .dataframe tbody tr th {\n",
       "        vertical-align: top;\n",
       "    }\n",
       "\n",
       "    .dataframe thead th {\n",
       "        text-align: right;\n",
       "    }\n",
       "</style>\n",
       "<table border=\"1\" class=\"dataframe\">\n",
       "  <thead>\n",
       "    <tr style=\"text-align: right;\">\n",
       "      <th></th>\n",
       "      <th>distance</th>\n",
       "      <th>origin_weather_condition</th>\n",
       "      <th>origin_weather_severity</th>\n",
       "      <th>dest_weather_condition</th>\n",
       "      <th>dest_weather_severity</th>\n",
       "      <th>week_day</th>\n",
       "      <th>crs_dep_hour</th>\n",
       "      <th>crs_arr_hour</th>\n",
       "      <th>carrier_on_time_pct</th>\n",
       "      <th>plane_on_time_pct</th>\n",
       "      <th>origin_on_time_pct</th>\n",
       "      <th>fl_num_on_time_pct</th>\n",
       "      <th>route_on_time_pct</th>\n",
       "      <th>carrier_fuel_consumption</th>\n",
       "      <th>mean_taxi_out</th>\n",
       "      <th>mean_taxi_in</th>\n",
       "      <th>arr_delay</th>\n",
       "    </tr>\n",
       "  </thead>\n",
       "  <tbody>\n",
       "    <tr>\n",
       "      <th>0</th>\n",
       "      <td>157.0</td>\n",
       "      <td>Clear</td>\n",
       "      <td>Light</td>\n",
       "      <td>Clear</td>\n",
       "      <td>Light</td>\n",
       "      <td>Tuesday</td>\n",
       "      <td>21</td>\n",
       "      <td>23</td>\n",
       "      <td>0.738134</td>\n",
       "      <td>0.698113</td>\n",
       "      <td>0.832627</td>\n",
       "      <td>0.693182</td>\n",
       "      <td>0.815657</td>\n",
       "      <td>6.758333e-08</td>\n",
       "      <td>14.188559</td>\n",
       "      <td>9.765890</td>\n",
       "      <td>-3.0</td>\n",
       "    </tr>\n",
       "    <tr>\n",
       "      <th>1</th>\n",
       "      <td>313.0</td>\n",
       "      <td>Adverse</td>\n",
       "      <td>Light</td>\n",
       "      <td>Adverse</td>\n",
       "      <td>Moderate</td>\n",
       "      <td>Tuesday</td>\n",
       "      <td>10</td>\n",
       "      <td>11</td>\n",
       "      <td>0.738134</td>\n",
       "      <td>0.707224</td>\n",
       "      <td>0.788449</td>\n",
       "      <td>0.688889</td>\n",
       "      <td>0.712934</td>\n",
       "      <td>6.758333e-08</td>\n",
       "      <td>18.247400</td>\n",
       "      <td>7.549458</td>\n",
       "      <td>14.0</td>\n",
       "    </tr>\n",
       "    <tr>\n",
       "      <th>2</th>\n",
       "      <td>396.0</td>\n",
       "      <td>Clear</td>\n",
       "      <td>Light</td>\n",
       "      <td>Clear</td>\n",
       "      <td>Light</td>\n",
       "      <td>Tuesday</td>\n",
       "      <td>20</td>\n",
       "      <td>21</td>\n",
       "      <td>0.738134</td>\n",
       "      <td>0.697279</td>\n",
       "      <td>0.788449</td>\n",
       "      <td>0.724409</td>\n",
       "      <td>0.675439</td>\n",
       "      <td>6.758333e-08</td>\n",
       "      <td>18.247400</td>\n",
       "      <td>7.549458</td>\n",
       "      <td>-12.0</td>\n",
       "    </tr>\n",
       "    <tr>\n",
       "      <th>3</th>\n",
       "      <td>290.0</td>\n",
       "      <td>Clear</td>\n",
       "      <td>Light</td>\n",
       "      <td>Clear</td>\n",
       "      <td>Light</td>\n",
       "      <td>Tuesday</td>\n",
       "      <td>12</td>\n",
       "      <td>13</td>\n",
       "      <td>0.738134</td>\n",
       "      <td>0.777090</td>\n",
       "      <td>0.786831</td>\n",
       "      <td>0.737288</td>\n",
       "      <td>0.834515</td>\n",
       "      <td>6.758333e-08</td>\n",
       "      <td>15.585689</td>\n",
       "      <td>8.718280</td>\n",
       "      <td>-14.0</td>\n",
       "    </tr>\n",
       "    <tr>\n",
       "      <th>4</th>\n",
       "      <td>310.0</td>\n",
       "      <td>Clear</td>\n",
       "      <td>Light</td>\n",
       "      <td>Adverse</td>\n",
       "      <td>Light</td>\n",
       "      <td>Tuesday</td>\n",
       "      <td>22</td>\n",
       "      <td>23</td>\n",
       "      <td>0.738134</td>\n",
       "      <td>0.750000</td>\n",
       "      <td>0.788449</td>\n",
       "      <td>0.684932</td>\n",
       "      <td>0.843750</td>\n",
       "      <td>6.758333e-08</td>\n",
       "      <td>18.247400</td>\n",
       "      <td>7.549458</td>\n",
       "      <td>7.0</td>\n",
       "    </tr>\n",
       "  </tbody>\n",
       "</table>\n",
       "</div>"
      ],
      "text/plain": [
       "   distance origin_weather_condition origin_weather_severity  \\\n",
       "0     157.0                    Clear                   Light   \n",
       "1     313.0                  Adverse                   Light   \n",
       "2     396.0                    Clear                   Light   \n",
       "3     290.0                    Clear                   Light   \n",
       "4     310.0                    Clear                   Light   \n",
       "\n",
       "  dest_weather_condition dest_weather_severity week_day  crs_dep_hour  \\\n",
       "0                  Clear                 Light  Tuesday            21   \n",
       "1                Adverse              Moderate  Tuesday            10   \n",
       "2                  Clear                 Light  Tuesday            20   \n",
       "3                  Clear                 Light  Tuesday            12   \n",
       "4                Adverse                 Light  Tuesday            22   \n",
       "\n",
       "   crs_arr_hour  carrier_on_time_pct  plane_on_time_pct  origin_on_time_pct  \\\n",
       "0            23             0.738134           0.698113            0.832627   \n",
       "1            11             0.738134           0.707224            0.788449   \n",
       "2            21             0.738134           0.697279            0.788449   \n",
       "3            13             0.738134           0.777090            0.786831   \n",
       "4            23             0.738134           0.750000            0.788449   \n",
       "\n",
       "   fl_num_on_time_pct  route_on_time_pct  carrier_fuel_consumption  \\\n",
       "0            0.693182           0.815657              6.758333e-08   \n",
       "1            0.688889           0.712934              6.758333e-08   \n",
       "2            0.724409           0.675439              6.758333e-08   \n",
       "3            0.737288           0.834515              6.758333e-08   \n",
       "4            0.684932           0.843750              6.758333e-08   \n",
       "\n",
       "   mean_taxi_out  mean_taxi_in  arr_delay  \n",
       "0      14.188559      9.765890       -3.0  \n",
       "1      18.247400      7.549458       14.0  \n",
       "2      18.247400      7.549458      -12.0  \n",
       "3      15.585689      8.718280      -14.0  \n",
       "4      18.247400      7.549458        7.0  "
      ]
     },
     "execution_count": 7,
     "metadata": {},
     "output_type": "execute_result"
    }
   ],
   "source": [
    "df_flights.head()"
   ]
  },
  {
   "cell_type": "markdown",
   "metadata": {},
   "source": [
    "### Feature Engineering"
   ]
  },
  {
   "cell_type": "markdown",
   "metadata": {},
   "source": [
    "Feature engineering will play a crucial role in this problems. We have only very little attributes so we need to create some features that will have some predictive power.\n",
    "\n",
    "- weather: we can use some weather API to look for the weather in time of the scheduled departure and scheduled arrival.\n",
    "- statistics (avg, mean, median, std, min, max...): we can take a look at previous delays and compute descriptive statistics\n",
    "- airports encoding: we need to think about what to do with the airports and other categorical variables\n",
    "- time of the day: the delay probably depends on the airport traffic which varies during the day.\n",
    "- airport traffic\n",
    "- unsupervised learning as feature engineering?\n",
    "- **what are the additional options?**: Think about what we could do more to improve the model."
   ]
  },
  {
   "cell_type": "code",
   "execution_count": 8,
   "metadata": {},
   "outputs": [
    {
     "data": {
      "text/html": [
       "<div>\n",
       "<style scoped>\n",
       "    .dataframe tbody tr th:only-of-type {\n",
       "        vertical-align: middle;\n",
       "    }\n",
       "\n",
       "    .dataframe tbody tr th {\n",
       "        vertical-align: top;\n",
       "    }\n",
       "\n",
       "    .dataframe thead th {\n",
       "        text-align: right;\n",
       "    }\n",
       "</style>\n",
       "<table border=\"1\" class=\"dataframe\">\n",
       "  <thead>\n",
       "    <tr style=\"text-align: right;\">\n",
       "      <th></th>\n",
       "      <th>Total</th>\n",
       "      <th>Percent</th>\n",
       "    </tr>\n",
       "  </thead>\n",
       "  <tbody>\n",
       "    <tr>\n",
       "      <th>distance</th>\n",
       "      <td>0</td>\n",
       "      <td>0.0</td>\n",
       "    </tr>\n",
       "    <tr>\n",
       "      <th>plane_on_time_pct</th>\n",
       "      <td>0</td>\n",
       "      <td>0.0</td>\n",
       "    </tr>\n",
       "    <tr>\n",
       "      <th>mean_taxi_in</th>\n",
       "      <td>0</td>\n",
       "      <td>0.0</td>\n",
       "    </tr>\n",
       "    <tr>\n",
       "      <th>mean_taxi_out</th>\n",
       "      <td>0</td>\n",
       "      <td>0.0</td>\n",
       "    </tr>\n",
       "    <tr>\n",
       "      <th>carrier_fuel_consumption</th>\n",
       "      <td>0</td>\n",
       "      <td>0.0</td>\n",
       "    </tr>\n",
       "    <tr>\n",
       "      <th>route_on_time_pct</th>\n",
       "      <td>0</td>\n",
       "      <td>0.0</td>\n",
       "    </tr>\n",
       "    <tr>\n",
       "      <th>fl_num_on_time_pct</th>\n",
       "      <td>0</td>\n",
       "      <td>0.0</td>\n",
       "    </tr>\n",
       "    <tr>\n",
       "      <th>origin_on_time_pct</th>\n",
       "      <td>0</td>\n",
       "      <td>0.0</td>\n",
       "    </tr>\n",
       "    <tr>\n",
       "      <th>carrier_on_time_pct</th>\n",
       "      <td>0</td>\n",
       "      <td>0.0</td>\n",
       "    </tr>\n",
       "    <tr>\n",
       "      <th>origin_weather_condition</th>\n",
       "      <td>0</td>\n",
       "      <td>0.0</td>\n",
       "    </tr>\n",
       "    <tr>\n",
       "      <th>crs_arr_hour</th>\n",
       "      <td>0</td>\n",
       "      <td>0.0</td>\n",
       "    </tr>\n",
       "    <tr>\n",
       "      <th>crs_dep_hour</th>\n",
       "      <td>0</td>\n",
       "      <td>0.0</td>\n",
       "    </tr>\n",
       "    <tr>\n",
       "      <th>week_day</th>\n",
       "      <td>0</td>\n",
       "      <td>0.0</td>\n",
       "    </tr>\n",
       "    <tr>\n",
       "      <th>dest_weather_severity</th>\n",
       "      <td>0</td>\n",
       "      <td>0.0</td>\n",
       "    </tr>\n",
       "    <tr>\n",
       "      <th>dest_weather_condition</th>\n",
       "      <td>0</td>\n",
       "      <td>0.0</td>\n",
       "    </tr>\n",
       "    <tr>\n",
       "      <th>origin_weather_severity</th>\n",
       "      <td>0</td>\n",
       "      <td>0.0</td>\n",
       "    </tr>\n",
       "    <tr>\n",
       "      <th>arr_delay</th>\n",
       "      <td>0</td>\n",
       "      <td>0.0</td>\n",
       "    </tr>\n",
       "  </tbody>\n",
       "</table>\n",
       "</div>"
      ],
      "text/plain": [
       "                          Total  Percent\n",
       "distance                      0      0.0\n",
       "plane_on_time_pct             0      0.0\n",
       "mean_taxi_in                  0      0.0\n",
       "mean_taxi_out                 0      0.0\n",
       "carrier_fuel_consumption      0      0.0\n",
       "route_on_time_pct             0      0.0\n",
       "fl_num_on_time_pct            0      0.0\n",
       "origin_on_time_pct            0      0.0\n",
       "carrier_on_time_pct           0      0.0\n",
       "origin_weather_condition      0      0.0\n",
       "crs_arr_hour                  0      0.0\n",
       "crs_dep_hour                  0      0.0\n",
       "week_day                      0      0.0\n",
       "dest_weather_severity         0      0.0\n",
       "dest_weather_condition        0      0.0\n",
       "origin_weather_severity       0      0.0\n",
       "arr_delay                     0      0.0"
      ]
     },
     "execution_count": 8,
     "metadata": {},
     "output_type": "execute_result"
    }
   ],
   "source": [
    "# Check missing data on flights\n",
    "flights_missing = check_missing_data(df_flights)\n",
    "flights_missing"
   ]
  },
  {
   "cell_type": "code",
   "execution_count": 9,
   "metadata": {},
   "outputs": [],
   "source": [
    "df_flights = df_flights.dropna(how='any',axis=0) "
   ]
  },
  {
   "cell_type": "code",
   "execution_count": 10,
   "metadata": {},
   "outputs": [],
   "source": [
    "numeric_cols = df_flights.dtypes[(df_flights.dtypes =='int64')|(df_flights.dtypes =='float64')].index.to_list()\n",
    "categorical_cols = df_flights.dtypes[df_flights.dtypes == 'object'].index.to_list()"
   ]
  },
  {
   "cell_type": "code",
   "execution_count": 11,
   "metadata": {},
   "outputs": [],
   "source": [
    "numeric_cols_exclude_target = list(set(numeric_cols) - {'arr_delay'} )"
   ]
  },
  {
   "cell_type": "code",
   "execution_count": 12,
   "metadata": {},
   "outputs": [
    {
     "data": {
      "image/png": "[encoded data removed]",
      "text/plain": [
       "<Figure size 648x432 with 2 Axes>"
      ]
     },
     "metadata": {
      "needs_background": "light"
     },
     "output_type": "display_data"
    }
   ],
   "source": [
    "# correlation matrix\n",
    "corrmat = df_flights[numeric_cols].corr()\n",
    "f, ax = plt.subplots(figsize=(9, 6))\n",
    "sns.heatmap(corrmat, vmax=.8, square=True,cmap=\"RdYlGn_r\");"
   ]
  },
  {
   "cell_type": "code",
   "execution_count": 13,
   "metadata": {},
   "outputs": [
    {
     "data": {
      "image/png": "[encoded data removed]",
      "text/plain": [
       "<Figure size 432x288 with 2 Axes>"
      ]
     },
     "metadata": {
      "needs_background": "light"
     },
     "output_type": "display_data"
    }
   ],
   "source": [
    "corr_matrix = corrmat.abs()\n",
    "\n",
    "# Select upper triangle of correlation matrix\n",
    "upper = corr_matrix.where(np.triu(np.ones(corr_matrix.shape), k=1).astype(np.bool_))\n",
    "\n",
    "# Find features with correlation greater than 0.2\n",
    "top_corr_features = [column for column in upper.columns if any(upper[column] > 0.2)]\n",
    "\n",
    "# most correlated features with arr_delay\n",
    "sns.heatmap(df_flights[top_corr_features].corr(),annot=True,cmap=\"RdYlGn_r\");"
   ]
  },
  {
   "cell_type": "code",
   "execution_count": 14,
   "metadata": {},
   "outputs": [],
   "source": [
    "df_dummy = pd.get_dummies(df_flights[categorical_cols], drop_first=True)"
   ]
  },
  {
   "cell_type": "code",
   "execution_count": 15,
   "metadata": {},
   "outputs": [],
   "source": [
    "df_num_scaled = StandardScaler().fit_transform(df_flights[numeric_cols_exclude_target])"
   ]
  },
  {
   "cell_type": "code",
   "execution_count": 16,
   "metadata": {},
   "outputs": [],
   "source": [
    "X_encoded = pd.concat([df_flights[numeric_cols_exclude_target], df_dummy], axis=1)\n",
    "X_encoded_scaled = np.hstack((df_num_scaled,df_dummy.to_numpy()))\n",
    "y = df_flights['arr_delay']"
   ]
  },
  {
   "cell_type": "code",
   "execution_count": 17,
   "metadata": {},
   "outputs": [
    {
     "data": {
      "text/html": [
       "<div>\n",
       "<style scoped>\n",
       "    .dataframe tbody tr th:only-of-type {\n",
       "        vertical-align: middle;\n",
       "    }\n",
       "\n",
       "    .dataframe tbody tr th {\n",
       "        vertical-align: top;\n",
       "    }\n",
       "\n",
       "    .dataframe thead th {\n",
       "        text-align: right;\n",
       "    }\n",
       "</style>\n",
       "<table border=\"1\" class=\"dataframe\">\n",
       "  <thead>\n",
       "    <tr style=\"text-align: right;\">\n",
       "      <th></th>\n",
       "      <th>plane_on_time_pct</th>\n",
       "      <th>fl_num_on_time_pct</th>\n",
       "      <th>route_on_time_pct</th>\n",
       "      <th>crs_arr_hour</th>\n",
       "      <th>mean_taxi_out</th>\n",
       "      <th>crs_dep_hour</th>\n",
       "      <th>distance</th>\n",
       "      <th>mean_taxi_in</th>\n",
       "      <th>carrier_on_time_pct</th>\n",
       "      <th>origin_on_time_pct</th>\n",
       "      <th>...</th>\n",
       "      <th>origin_weather_severity_Severe</th>\n",
       "      <th>dest_weather_condition_Clear</th>\n",
       "      <th>dest_weather_severity_Moderate</th>\n",
       "      <th>dest_weather_severity_Severe</th>\n",
       "      <th>week_day_Monday</th>\n",
       "      <th>week_day_Saturday</th>\n",
       "      <th>week_day_Sunday</th>\n",
       "      <th>week_day_Thursday</th>\n",
       "      <th>week_day_Tuesday</th>\n",
       "      <th>week_day_Wednesday</th>\n",
       "    </tr>\n",
       "  </thead>\n",
       "  <tbody>\n",
       "    <tr>\n",
       "      <th>0</th>\n",
       "      <td>0.698113</td>\n",
       "      <td>0.693182</td>\n",
       "      <td>0.815657</td>\n",
       "      <td>23</td>\n",
       "      <td>14.188559</td>\n",
       "      <td>21</td>\n",
       "      <td>157.0</td>\n",
       "      <td>9.765890</td>\n",
       "      <td>0.738134</td>\n",
       "      <td>0.832627</td>\n",
       "      <td>...</td>\n",
       "      <td>0</td>\n",
       "      <td>1</td>\n",
       "      <td>0</td>\n",
       "      <td>0</td>\n",
       "      <td>0</td>\n",
       "      <td>0</td>\n",
       "      <td>0</td>\n",
       "      <td>0</td>\n",
       "      <td>1</td>\n",
       "      <td>0</td>\n",
       "    </tr>\n",
       "    <tr>\n",
       "      <th>1</th>\n",
       "      <td>0.707224</td>\n",
       "      <td>0.688889</td>\n",
       "      <td>0.712934</td>\n",
       "      <td>11</td>\n",
       "      <td>18.247400</td>\n",
       "      <td>10</td>\n",
       "      <td>313.0</td>\n",
       "      <td>7.549458</td>\n",
       "      <td>0.738134</td>\n",
       "      <td>0.788449</td>\n",
       "      <td>...</td>\n",
       "      <td>0</td>\n",
       "      <td>0</td>\n",
       "      <td>1</td>\n",
       "      <td>0</td>\n",
       "      <td>0</td>\n",
       "      <td>0</td>\n",
       "      <td>0</td>\n",
       "      <td>0</td>\n",
       "      <td>1</td>\n",
       "      <td>0</td>\n",
       "    </tr>\n",
       "    <tr>\n",
       "      <th>2</th>\n",
       "      <td>0.697279</td>\n",
       "      <td>0.724409</td>\n",
       "      <td>0.675439</td>\n",
       "      <td>21</td>\n",
       "      <td>18.247400</td>\n",
       "      <td>20</td>\n",
       "      <td>396.0</td>\n",
       "      <td>7.549458</td>\n",
       "      <td>0.738134</td>\n",
       "      <td>0.788449</td>\n",
       "      <td>...</td>\n",
       "      <td>0</td>\n",
       "      <td>1</td>\n",
       "      <td>0</td>\n",
       "      <td>0</td>\n",
       "      <td>0</td>\n",
       "      <td>0</td>\n",
       "      <td>0</td>\n",
       "      <td>0</td>\n",
       "      <td>1</td>\n",
       "      <td>0</td>\n",
       "    </tr>\n",
       "    <tr>\n",
       "      <th>3</th>\n",
       "      <td>0.777090</td>\n",
       "      <td>0.737288</td>\n",
       "      <td>0.834515</td>\n",
       "      <td>13</td>\n",
       "      <td>15.585689</td>\n",
       "      <td>12</td>\n",
       "      <td>290.0</td>\n",
       "      <td>8.718280</td>\n",
       "      <td>0.738134</td>\n",
       "      <td>0.786831</td>\n",
       "      <td>...</td>\n",
       "      <td>0</td>\n",
       "      <td>1</td>\n",
       "      <td>0</td>\n",
       "      <td>0</td>\n",
       "      <td>0</td>\n",
       "      <td>0</td>\n",
       "      <td>0</td>\n",
       "      <td>0</td>\n",
       "      <td>1</td>\n",
       "      <td>0</td>\n",
       "    </tr>\n",
       "    <tr>\n",
       "      <th>4</th>\n",
       "      <td>0.750000</td>\n",
       "      <td>0.684932</td>\n",
       "      <td>0.843750</td>\n",
       "      <td>23</td>\n",
       "      <td>18.247400</td>\n",
       "      <td>22</td>\n",
       "      <td>310.0</td>\n",
       "      <td>7.549458</td>\n",
       "      <td>0.738134</td>\n",
       "      <td>0.788449</td>\n",
       "      <td>...</td>\n",
       "      <td>0</td>\n",
       "      <td>0</td>\n",
       "      <td>0</td>\n",
       "      <td>0</td>\n",
       "      <td>0</td>\n",
       "      <td>0</td>\n",
       "      <td>0</td>\n",
       "      <td>0</td>\n",
       "      <td>1</td>\n",
       "      <td>0</td>\n",
       "    </tr>\n",
       "  </tbody>\n",
       "</table>\n",
       "<p>5 rows × 23 columns</p>\n",
       "</div>"
      ],
      "text/plain": [
       "   plane_on_time_pct  fl_num_on_time_pct  route_on_time_pct  crs_arr_hour  \\\n",
       "0           0.698113            0.693182           0.815657            23   \n",
       "1           0.707224            0.688889           0.712934            11   \n",
       "2           0.697279            0.724409           0.675439            21   \n",
       "3           0.777090            0.737288           0.834515            13   \n",
       "4           0.750000            0.684932           0.843750            23   \n",
       "\n",
       "   mean_taxi_out  crs_dep_hour  distance  mean_taxi_in  carrier_on_time_pct  \\\n",
       "0      14.188559            21     157.0      9.765890             0.738134   \n",
       "1      18.247400            10     313.0      7.549458             0.738134   \n",
       "2      18.247400            20     396.0      7.549458             0.738134   \n",
       "3      15.585689            12     290.0      8.718280             0.738134   \n",
       "4      18.247400            22     310.0      7.549458             0.738134   \n",
       "\n",
       "   origin_on_time_pct  ...  origin_weather_severity_Severe  \\\n",
       "0            0.832627  ...                               0   \n",
       "1            0.788449  ...                               0   \n",
       "2            0.788449  ...                               0   \n",
       "3            0.786831  ...                               0   \n",
       "4            0.788449  ...                               0   \n",
       "\n",
       "   dest_weather_condition_Clear  dest_weather_severity_Moderate  \\\n",
       "0                             1                               0   \n",
       "1                             0                               1   \n",
       "2                             1                               0   \n",
       "3                             1                               0   \n",
       "4                             0                               0   \n",
       "\n",
       "   dest_weather_severity_Severe  week_day_Monday  week_day_Saturday  \\\n",
       "0                             0                0                  0   \n",
       "1                             0                0                  0   \n",
       "2                             0                0                  0   \n",
       "3                             0                0                  0   \n",
       "4                             0                0                  0   \n",
       "\n",
       "   week_day_Sunday  week_day_Thursday  week_day_Tuesday  week_day_Wednesday  \n",
       "0                0                  0                 1                   0  \n",
       "1                0                  0                 1                   0  \n",
       "2                0                  0                 1                   0  \n",
       "3                0                  0                 1                   0  \n",
       "4                0                  0                 1                   0  \n",
       "\n",
       "[5 rows x 23 columns]"
      ]
     },
     "execution_count": 17,
     "metadata": {},
     "output_type": "execute_result"
    }
   ],
   "source": [
    "X_encoded.head()"
   ]
  },
  {
   "cell_type": "code",
   "execution_count": 18,
   "metadata": {},
   "outputs": [],
   "source": [
    "# Train Test Split\n",
    "#X_train, X_val, y_train, y_val = train_test_split(X_encoded, y, test_size = 0.25)\n",
    "X_train, X_val, y_train, y_val = train_test_split(X_encoded_scaled, y, test_size = 0.25)"
   ]
  },
  {
   "cell_type": "markdown",
   "metadata": {},
   "source": [
    "### Feature Selection / Dimensionality Reduction"
   ]
  },
  {
   "cell_type": "markdown",
   "metadata": {},
   "source": [
    "We need to apply different selection techniques to find out which one will be the best for our problems.\n",
    "\n",
    "- Original Features vs. PCA conponents?"
   ]
  },
  {
   "cell_type": "code",
   "execution_count": 19,
   "metadata": {},
   "outputs": [],
   "source": [
    "n_components = 2\n",
    "pca = PCA(n_components = n_components)\n",
    "components = pca.fit_transform(X_encoded)"
   ]
  },
  {
   "cell_type": "code",
   "execution_count": 20,
   "metadata": {},
   "outputs": [],
   "source": [
    "X_train_pca, X_val_pca, y_train_pca, y_val_pca  = train_test_split(components, y, test_size = 0.25)"
   ]
  },
  {
   "cell_type": "code",
   "execution_count": null,
   "metadata": {},
   "outputs": [],
   "source": []
  },
  {
   "cell_type": "code",
   "execution_count": null,
   "metadata": {},
   "outputs": [],
   "source": []
  },
  {
   "cell_type": "code",
   "execution_count": null,
   "metadata": {},
   "outputs": [],
   "source": []
  },
  {
   "cell_type": "markdown",
   "metadata": {},
   "source": [
    "### Modeling"
   ]
  },
  {
   "cell_type": "markdown",
   "metadata": {},
   "source": [
    "Use different ML techniques to predict each problem.\n",
    "\n",
    "- linear / logistic / multinomial logistic regression\n",
    "- Naive Bayes\n",
    "- Random Forest\n",
    "- SVM\n",
    "- XGBoost\n",
    "- The ensemble of your own choice"
   ]
  },
  {
   "cell_type": "markdown",
   "metadata": {},
   "source": [
    "- Linear regression on scaled data"
   ]
  },
  {
   "cell_type": "raw",
   "metadata": {},
   "source": [
    "- Baseline \n",
    "R2 Score:  0.05266170767694389\n",
    "Mean Absolute Error:  23.774102816579667\n",
    "Mean Squared Error:  2492.8443766839696\n",
    "\n",
    "- Benchmark:\n",
    "R2 Score:  0.09736934242782491\n",
    "Mean Absolute Error:  10.323347201644165\n",
    "Mean Squared Error:  179.08666596351043"
   ]
  },
  {
   "cell_type": "code",
   "execution_count": 21,
   "metadata": {},
   "outputs": [
    {
     "name": "stdout",
     "output_type": "stream",
     "text": [
      "R2 Score:  0.0970109981648748\n",
      "Mean Absolute Error:  10.344345857040118\n",
      "Mean Squared Error:  179.9626572259398\n"
     ]
    }
   ],
   "source": [
    "l_reg = LinearRegression()\n",
    "l_reg.fit(X_train, y_train)\n",
    "y_pred_l_reg = l_reg.predict(X_val)\n",
    "regression_metrics(y_val, y_pred_l_reg)"
   ]
  },
  {
   "cell_type": "markdown",
   "metadata": {},
   "source": [
    "- Linear Regression on PCA Components: R2 is not good at all!"
   ]
  },
  {
   "cell_type": "code",
   "execution_count": 22,
   "metadata": {},
   "outputs": [
    {
     "data": {
      "text/plain": [
       "LinearRegression()"
      ]
     },
     "execution_count": 22,
     "metadata": {},
     "output_type": "execute_result"
    }
   ],
   "source": [
    "l_reg_pca = LinearRegression()\n",
    "l_reg_pca.fit(X_train_pca, y_train_pca)"
   ]
  },
  {
   "cell_type": "code",
   "execution_count": 23,
   "metadata": {},
   "outputs": [],
   "source": [
    "y_pred_l_reg_pca = l_reg_pca.predict(X_val_pca)"
   ]
  },
  {
   "cell_type": "code",
   "execution_count": 24,
   "metadata": {},
   "outputs": [
    {
     "name": "stdout",
     "output_type": "stream",
     "text": [
      "R2 Score:  0.003236380506954295\n",
      "Mean Absolute Error:  10.866934366453274\n",
      "Mean Squared Error:  198.1090644102639\n"
     ]
    }
   ],
   "source": [
    "regression_metrics(y_val_pca, y_pred_l_reg_pca)"
   ]
  },
  {
   "cell_type": "markdown",
   "metadata": {},
   "source": [
    "- Ridge Regression with GridSearchCV"
   ]
  },
  {
   "cell_type": "code",
   "execution_count": 25,
   "metadata": {},
   "outputs": [],
   "source": [
    "rr = Ridge()\n",
    "parameters = {'alpha':[0.01,0.1,0.5,1,5]}\n",
    "ridge_tuned = GridSearchCV(rr,param_grid=parameters, scoring='r2', cv=10)"
   ]
  },
  {
   "cell_type": "code",
   "execution_count": 26,
   "metadata": {
    "tags": []
   },
   "outputs": [
    {
     "data": {
      "text/plain": [
       "GridSearchCV(cv=10, estimator=Ridge(),\n",
       "             param_grid={'alpha': [0.01, 0.1, 0.5, 1, 5]}, scoring='r2')"
      ]
     },
     "execution_count": 26,
     "metadata": {},
     "output_type": "execute_result"
    }
   ],
   "source": [
    "ridge_tuned.fit(X_train,y_train)"
   ]
  },
  {
   "cell_type": "code",
   "execution_count": 27,
   "metadata": {},
   "outputs": [
    {
     "data": {
      "text/plain": [
       "{'alpha': 5}"
      ]
     },
     "execution_count": 27,
     "metadata": {},
     "output_type": "execute_result"
    }
   ],
   "source": [
    "ridge_tuned.best_params_"
   ]
  },
  {
   "cell_type": "code",
   "execution_count": 28,
   "metadata": {},
   "outputs": [],
   "source": [
    "y_pred_Ridge_tuned = ridge_tuned.predict(X_val)"
   ]
  },
  {
   "cell_type": "code",
   "execution_count": 29,
   "metadata": {},
   "outputs": [
    {
     "name": "stdout",
     "output_type": "stream",
     "text": [
      "R2 Score:  0.09701094349570516\n",
      "Mean Absolute Error:  10.344345590353761\n",
      "Mean Squared Error:  179.9626681213206\n"
     ]
    }
   ],
   "source": [
    "regression_metrics(y_val, y_pred_Ridge_tuned)"
   ]
  },
  {
   "cell_type": "markdown",
   "metadata": {},
   "source": [
    "- XGBoost\n"
   ]
  },
  {
   "cell_type": "raw",
   "metadata": {},
   "source": [
    "- Baseline \n",
    "R2 Score:  0.05260551605556518\n",
    "Mean Absolute Error:  23.976502283918904\n",
    "Mean Squared Error:  2525.88002504399\n",
    "    \n",
    "- Benchmark:\n",
    "R2 Score:  0.1434561072548428\n",
    "Mean Absolute Error:  10.047414788978895\n",
    "Mean Squared Error:  169.94280962683922"
   ]
  },
  {
   "cell_type": "code",
   "execution_count": 30,
   "metadata": {},
   "outputs": [
    {
     "data": {
      "text/plain": [
       "XGBRegressor(alpha=10, base_score=0.5, booster='gbtree', colsample_bylevel=1,\n",
       "             colsample_bynode=1, colsample_bytree=0.3, enable_categorical=False,\n",
       "             gamma=0, gpu_id=-1, importance_type=None,\n",
       "             interaction_constraints='', learning_rate=0.1, max_delta_step=0,\n",
       "             max_depth=10, min_child_weight=1, missing=nan,\n",
       "             monotone_constraints='()', n_estimators=150, n_jobs=8,\n",
       "             num_parallel_tree=1, predictor='auto', random_state=13,\n",
       "             reg_alpha=10, reg_lambda=1, scale_pos_weight=1, seed=13,\n",
       "             subsample=1, tree_method='exact', validate_parameters=1,\n",
       "             verbosity=None)"
      ]
     },
     "execution_count": 30,
     "metadata": {},
     "output_type": "execute_result"
    }
   ],
   "source": [
    "xg_reg = xgb.XGBRegressor(objective ='reg:squarederror', colsample_bytree = 0.3, learning_rate = 0.1,\n",
    "                max_depth = 10, alpha = 10, n_estimators = 150, seed=13)\n",
    "\n",
    "xg_reg.fit(X_train, y_train)"
   ]
  },
  {
   "cell_type": "code",
   "execution_count": 31,
   "metadata": {},
   "outputs": [],
   "source": [
    "y_pred_xgb_reg = xg_reg.predict(X_val)"
   ]
  },
  {
   "cell_type": "code",
   "execution_count": 32,
   "metadata": {},
   "outputs": [
    {
     "name": "stdout",
     "output_type": "stream",
     "text": [
      "R2 Score:  0.14191903726695576\n",
      "Mean Absolute Error:  10.078584994834657\n",
      "Mean Squared Error:  171.0126367592536\n"
     ]
    }
   ],
   "source": [
    "regression_metrics(y_val, y_pred_xgb_reg)"
   ]
  },
  {
   "cell_type": "code",
   "execution_count": 33,
   "metadata": {},
   "outputs": [],
   "source": [
    "params = {'n_estimators': [50, 100, 150],\n",
    "          'max_depth': [5, 10],\n",
    "          'booster': ['gbtree', 'gblinear']\n",
    "         }"
   ]
  },
  {
   "cell_type": "code",
   "execution_count": 34,
   "metadata": {},
   "outputs": [],
   "source": [
    "grix_xgb = GridSearchCV(estimator = xg_reg,\n",
    "                       param_grid = params,\n",
    "                       cv = 5)"
   ]
  },
  {
   "cell_type": "code",
   "execution_count": 35,
   "metadata": {},
   "outputs": [],
   "source": [
    "#grix_xgb.fit(X_train,y_train)"
   ]
  },
  {
   "cell_type": "code",
   "execution_count": 36,
   "metadata": {},
   "outputs": [],
   "source": [
    "#grix_xgb.best_params_"
   ]
  },
  {
   "cell_type": "markdown",
   "metadata": {},
   "source": [
    "- Random Forest"
   ]
  },
  {
   "cell_type": "code",
   "execution_count": 37,
   "metadata": {},
   "outputs": [],
   "source": [
    "rfr = RandomForestRegressor(n_estimators = 100, max_depth=8)"
   ]
  },
  {
   "cell_type": "code",
   "execution_count": 38,
   "metadata": {},
   "outputs": [
    {
     "data": {
      "text/plain": [
       "RandomForestRegressor(max_depth=8)"
      ]
     },
     "execution_count": 38,
     "metadata": {},
     "output_type": "execute_result"
    }
   ],
   "source": [
    "rfr.fit(X_train, y_train)"
   ]
  },
  {
   "cell_type": "code",
   "execution_count": 39,
   "metadata": {},
   "outputs": [],
   "source": [
    "y_pred_rfr = rfr.predict(X_val)"
   ]
  },
  {
   "cell_type": "code",
   "execution_count": 40,
   "metadata": {},
   "outputs": [
    {
     "name": "stdout",
     "output_type": "stream",
     "text": [
      "R2 Score:  0.09779595538540653\n",
      "Mean Absolute Error:  10.330099892658508\n",
      "Mean Squared Error:  179.8062179039453\n"
     ]
    }
   ],
   "source": [
    "regression_metrics(y_val, y_pred_rfr)"
   ]
  },
  {
   "cell_type": "markdown",
   "metadata": {},
   "source": [
    "### Evaluation"
   ]
  },
  {
   "cell_type": "code",
   "execution_count": null,
   "metadata": {},
   "outputs": [],
   "source": [
    "test_data = pd.read_csv('data/test_data_prepped.csv')\n",
    "test_data.drop(columns = 'Unnamed: 0', inplace=True)"
   ]
  },
  {
   "cell_type": "code",
   "execution_count": null,
   "metadata": {},
   "outputs": [],
   "source": [
    "# Using the XGBoost regressor model as it is the best model so far\n",
    "y_test_pred = xgb_r.predict(test_data)"
   ]
  },
  {
   "cell_type": "code",
   "execution_count": null,
   "metadata": {},
   "outputs": [],
   "source": []
  },
  {
   "cell_type": "markdown",
   "metadata": {},
   "source": [
    "You have data from 2018 and 2019 to develop models. Use different evaluation metrics for each problem and compare the performance of different models.\n",
    "\n",
    "You are required to predict delays on **out of sample** data from **first 7 days (1st-7th) of January 2020** and to share the file with LighthouseLabs. Sample submission can be found in the file **_sample_submission.csv_**"
   ]
  },
  {
   "cell_type": "code",
   "execution_count": 43,
   "metadata": {},
   "outputs": [],
   "source": []
  },
  {
   "cell_type": "code",
   "execution_count": null,
   "metadata": {},
   "outputs": [],
   "source": []
  },
  {
   "cell_type": "code",
   "execution_count": null,
   "metadata": {
    "tags": []
   },
   "outputs": [],
   "source": []
  },
  {
   "cell_type": "code",
   "execution_count": null,
   "metadata": {},
   "outputs": [],
   "source": []
  },
  {
   "cell_type": "code",
   "execution_count": null,
   "metadata": {},
   "outputs": [],
   "source": []
  },
  {
   "cell_type": "code",
   "execution_count": null,
   "metadata": {},
   "outputs": [],
   "source": []
  },
  {
   "cell_type": "markdown",
   "metadata": {},
   "source": [
    "======================================================================\n",
    "## Stretch Tasks"
   ]
  },
  {
   "cell_type": "markdown",
   "metadata": {},
   "source": [
    "### Multiclass Classification"
   ]
  },
  {
   "cell_type": "markdown",
   "metadata": {},
   "source": [
    "The target variables are **CARRIER_DELAY, WEATHER_DELAY, NAS_DELAY, SECURITY_DELAY, LATE_AIRCRAFT_DELAY**. We need to do additional transformations because these variables are not binary but continuos. For each flight that was delayed, we need to have one of these variables as 1 and others 0.\n",
    "\n",
    "It can happen that we have two types of delays with more than 0 minutes. In this case, take the bigger one as 1 and others as 0."
   ]
  },
  {
   "cell_type": "code",
   "execution_count": 22,
   "metadata": {},
   "outputs": [],
   "source": [
    "multiclass = pd.read_csv('data/multiclass_data.csv')\n",
    "multi_target = multiclass.delay_reason\n",
    "multiclass.drop('delay_reason',axis = 1, inplace=True)"
   ]
  },
  {
   "cell_type": "code",
   "execution_count": 8,
   "metadata": {},
   "outputs": [],
   "source": [
    "X_train, X_val, y_train, y_val = train_test_split(multiclass, multi_target, test_size = 0.25, random_state = 13)"
   ]
  },
  {
   "cell_type": "markdown",
   "metadata": {},
   "source": [
    "- SVM"
   ]
  },
  {
   "cell_type": "code",
   "execution_count": null,
   "metadata": {},
   "outputs": [],
   "source": [
    "svc = SVC()\n",
    "svc.fit(X_train, y_train)"
   ]
  },
  {
   "cell_type": "code",
   "execution_count": null,
   "metadata": {
    "tags": []
   },
   "outputs": [],
   "source": [
    "y_svc_predict = svc.predict(X_val)"
   ]
  },
  {
   "cell_type": "code",
   "execution_count": 10,
   "metadata": {},
   "outputs": [],
   "source": [
    "multiclassifier_metrics(y_svc_predict, y_val)"
   ]
  },
  {
   "cell_type": "markdown",
   "metadata": {},
   "source": [
    "- XGBoost"
   ]
  },
  {
   "cell_type": "code",
   "execution_count": 11,
   "metadata": {},
   "outputs": [],
   "source": [
    "xgb_c = xgb.XGBClassifier()\n",
    "xgb_c.fit(X_train, y_train)"
   ]
  },
  {
   "cell_type": "code",
   "execution_count": null,
   "metadata": {},
   "outputs": [],
   "source": [
    "y_xgb_c = xgb_c.predict(X_val)"
   ]
  },
  {
   "cell_type": "code",
   "execution_count": null,
   "metadata": {},
   "outputs": [],
   "source": [
    "multiclassifier_metrics(y_xgb_c, y_val)"
   ]
  },
  {
   "cell_type": "markdown",
   "metadata": {},
   "source": [
    "- Naive Bayes"
   ]
  },
  {
   "cell_type": "code",
   "execution_count": null,
   "metadata": {},
   "outputs": [],
   "source": [
    "gnb = GaussianNB()\n",
    "gnb.fit(X_train, y_train)"
   ]
  },
  {
   "cell_type": "code",
   "execution_count": null,
   "metadata": {},
   "outputs": [],
   "source": [
    "gnb_predict = gnb.predict(X_val)"
   ]
  },
  {
   "cell_type": "code",
   "execution_count": null,
   "metadata": {},
   "outputs": [],
   "source": [
    "multiclassifier_metrics(gnb_predict, y_val)"
   ]
  },
  {
   "cell_type": "markdown",
   "metadata": {},
   "source": [
    "### Binary Classification"
   ]
  },
  {
   "cell_type": "markdown",
   "metadata": {},
   "source": [
    "The target variable is **CANCELLED**. The main problem here is going to be huge class imbalance. We have only very little cancelled flights with comparison to all flights. It is important to do the right sampling before training and to choose correct evaluation metrics."
   ]
  },
  {
   "cell_type": "code",
   "execution_count": null,
   "metadata": {},
   "outputs": [],
   "source": []
  },
  {
   "cell_type": "code",
   "execution_count": null,
   "metadata": {},
   "outputs": [],
   "source": []
  },
  {
   "cell_type": "code",
   "execution_count": null,
   "metadata": {},
   "outputs": [],
   "source": []
  }
 ],
 "metadata": {
  "kernelspec": {
   "display_name": "Python 3",
   "language": "python",
   "name": "python3"
  },
  "language_info": {
   "codemirror_mode": {
    "name": "ipython",
    "version": 3
   },
   "file_extension": ".py",
   "mimetype": "text/x-python",
   "name": "python",
   "nbconvert_exporter": "python",
   "pygments_lexer": "ipython3",
   "version": "3.8.8"
  }
 },
 "nbformat": 4,
 "nbformat_minor": 4
}
