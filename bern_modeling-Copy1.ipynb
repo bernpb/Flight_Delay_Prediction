{
 "cells": [
  {
   "cell_type": "code",
   "execution_count": 1,
   "metadata": {},
   "outputs": [],
   "source": [
    "# Import the necessary libraries\n",
    "import pandas as pd\n",
    "import numpy as np\n",
    "import matplotlib.pyplot as plt\n",
    "import seaborn as sns\n",
    "import pickle\n",
    "\n",
    "# Preprocessing\n",
    "from sklearn.model_selection import train_test_split, GridSearchCV\n",
    "from sklearn.preprocessing import StandardScaler\n",
    "from sklearn.decomposition import PCA\n",
    "from sklearn.feature_selection import RFE, VarianceThreshold\n",
    "\n",
    "# Models\n",
    "from sklearn.ensemble import RandomForestRegressor\n",
    "from sklearn.linear_model import LinearRegression, Ridge, Lasso\n",
    "from sklearn.naive_bayes import GaussianNB\n",
    "from sklearn.svm import SVC\n",
    "from sklearn.cluster import KMeans\n",
    "import xgboost as xgb\n",
    "\n"
   ]
  },
  {
   "cell_type": "code",
   "execution_count": 40,
   "metadata": {},
   "outputs": [],
   "source": [
    "from filter_functions import drop_low_var\n",
    "from functions import regression_metrics, grid_search_results"
   ]
  },
  {
   "cell_type": "markdown",
   "metadata": {},
   "source": [
    "## Main Task: Regression Problem"
   ]
  },
  {
   "cell_type": "code",
   "execution_count": 3,
   "metadata": {},
   "outputs": [],
   "source": [
    "# from google.colab import drive\n",
    "# drive.mount('/content/drive')"
   ]
  },
  {
   "cell_type": "code",
   "execution_count": 4,
   "metadata": {},
   "outputs": [],
   "source": [
    "data = pd.read_csv('data/regression_data.csv')"
   ]
  },
  {
   "cell_type": "code",
   "execution_count": 5,
   "metadata": {},
   "outputs": [
    {
     "data": {
      "text/html": [
       "<div>\n",
       "<style scoped>\n",
       "    .dataframe tbody tr th:only-of-type {\n",
       "        vertical-align: middle;\n",
       "    }\n",
       "\n",
       "    .dataframe tbody tr th {\n",
       "        vertical-align: top;\n",
       "    }\n",
       "\n",
       "    .dataframe thead th {\n",
       "        text-align: right;\n",
       "    }\n",
       "</style>\n",
       "<table border=\"1\" class=\"dataframe\">\n",
       "  <thead>\n",
       "    <tr style=\"text-align: right;\">\n",
       "      <th></th>\n",
       "      <th>Unnamed: 0</th>\n",
       "      <th>type_is_Adverse_x</th>\n",
       "      <th>type_is_Clear_x</th>\n",
       "      <th>type_is_Light_x</th>\n",
       "      <th>type_is_Moderate_x</th>\n",
       "      <th>type_is_Severe_x</th>\n",
       "      <th>type_is_Adverse_y</th>\n",
       "      <th>type_is_Clear_y</th>\n",
       "      <th>type_is_Light_y</th>\n",
       "      <th>type_is_Moderate_y</th>\n",
       "      <th>...</th>\n",
       "      <th>plane_on_time_pct</th>\n",
       "      <th>fl_num_on_time_pct</th>\n",
       "      <th>origin_on_time_pct</th>\n",
       "      <th>route_on_time_pct</th>\n",
       "      <th>origin_taxi_out</th>\n",
       "      <th>carrier_fuel_consumption</th>\n",
       "      <th>mean_taxi_in</th>\n",
       "      <th>carrier_mean_delay</th>\n",
       "      <th>origin_mean_delay</th>\n",
       "      <th>arr_delay</th>\n",
       "    </tr>\n",
       "  </thead>\n",
       "  <tbody>\n",
       "    <tr>\n",
       "      <th>0</th>\n",
       "      <td>0</td>\n",
       "      <td>0</td>\n",
       "      <td>1</td>\n",
       "      <td>1</td>\n",
       "      <td>0</td>\n",
       "      <td>0</td>\n",
       "      <td>0</td>\n",
       "      <td>1</td>\n",
       "      <td>1</td>\n",
       "      <td>0</td>\n",
       "      <td>...</td>\n",
       "      <td>-0.762141</td>\n",
       "      <td>0.367852</td>\n",
       "      <td>1.155770</td>\n",
       "      <td>0.042167</td>\n",
       "      <td>-0.475455</td>\n",
       "      <td>-1.159495</td>\n",
       "      <td>1.081105</td>\n",
       "      <td>-0.19294</td>\n",
       "      <td>-0.011615</td>\n",
       "      <td>-7.0</td>\n",
       "    </tr>\n",
       "    <tr>\n",
       "      <th>1</th>\n",
       "      <td>1</td>\n",
       "      <td>1</td>\n",
       "      <td>0</td>\n",
       "      <td>1</td>\n",
       "      <td>0</td>\n",
       "      <td>0</td>\n",
       "      <td>1</td>\n",
       "      <td>0</td>\n",
       "      <td>1</td>\n",
       "      <td>0</td>\n",
       "      <td>...</td>\n",
       "      <td>0.327712</td>\n",
       "      <td>0.414815</td>\n",
       "      <td>-0.010761</td>\n",
       "      <td>-1.090683</td>\n",
       "      <td>-0.932123</td>\n",
       "      <td>-0.710796</td>\n",
       "      <td>1.081105</td>\n",
       "      <td>-0.19294</td>\n",
       "      <td>-0.058432</td>\n",
       "      <td>13.0</td>\n",
       "    </tr>\n",
       "    <tr>\n",
       "      <th>2</th>\n",
       "      <td>2</td>\n",
       "      <td>0</td>\n",
       "      <td>1</td>\n",
       "      <td>1</td>\n",
       "      <td>0</td>\n",
       "      <td>0</td>\n",
       "      <td>0</td>\n",
       "      <td>1</td>\n",
       "      <td>1</td>\n",
       "      <td>0</td>\n",
       "      <td>...</td>\n",
       "      <td>0.132343</td>\n",
       "      <td>0.079782</td>\n",
       "      <td>-0.375917</td>\n",
       "      <td>-0.340825</td>\n",
       "      <td>-0.216023</td>\n",
       "      <td>0.888111</td>\n",
       "      <td>1.081105</td>\n",
       "      <td>-0.19294</td>\n",
       "      <td>0.025399</td>\n",
       "      <td>-5.0</td>\n",
       "    </tr>\n",
       "    <tr>\n",
       "      <th>3</th>\n",
       "      <td>3</td>\n",
       "      <td>0</td>\n",
       "      <td>1</td>\n",
       "      <td>1</td>\n",
       "      <td>0</td>\n",
       "      <td>0</td>\n",
       "      <td>0</td>\n",
       "      <td>1</td>\n",
       "      <td>1</td>\n",
       "      <td>0</td>\n",
       "      <td>...</td>\n",
       "      <td>1.120333</td>\n",
       "      <td>-1.322857</td>\n",
       "      <td>-0.526199</td>\n",
       "      <td>0.272626</td>\n",
       "      <td>-0.662034</td>\n",
       "      <td>-0.139927</td>\n",
       "      <td>1.081105</td>\n",
       "      <td>-0.19294</td>\n",
       "      <td>0.637861</td>\n",
       "      <td>-6.0</td>\n",
       "    </tr>\n",
       "    <tr>\n",
       "      <th>4</th>\n",
       "      <td>4</td>\n",
       "      <td>0</td>\n",
       "      <td>1</td>\n",
       "      <td>1</td>\n",
       "      <td>0</td>\n",
       "      <td>0</td>\n",
       "      <td>1</td>\n",
       "      <td>0</td>\n",
       "      <td>1</td>\n",
       "      <td>0</td>\n",
       "      <td>...</td>\n",
       "      <td>1.120333</td>\n",
       "      <td>-1.322857</td>\n",
       "      <td>-0.946699</td>\n",
       "      <td>-0.542943</td>\n",
       "      <td>1.470320</td>\n",
       "      <td>-0.811735</td>\n",
       "      <td>1.081105</td>\n",
       "      <td>-0.19294</td>\n",
       "      <td>0.624587</td>\n",
       "      <td>6.0</td>\n",
       "    </tr>\n",
       "  </tbody>\n",
       "</table>\n",
       "<p>5 rows × 32 columns</p>\n",
       "</div>"
      ],
      "text/plain": [
       "   Unnamed: 0  type_is_Adverse_x  type_is_Clear_x  type_is_Light_x  \\\n",
       "0           0                  0                1                1   \n",
       "1           1                  1                0                1   \n",
       "2           2                  0                1                1   \n",
       "3           3                  0                1                1   \n",
       "4           4                  0                1                1   \n",
       "\n",
       "   type_is_Moderate_x  type_is_Severe_x  type_is_Adverse_y  type_is_Clear_y  \\\n",
       "0                   0                 0                  0                1   \n",
       "1                   0                 0                  1                0   \n",
       "2                   0                 0                  0                1   \n",
       "3                   0                 0                  0                1   \n",
       "4                   0                 0                  1                0   \n",
       "\n",
       "   type_is_Light_y  type_is_Moderate_y  ...  plane_on_time_pct  \\\n",
       "0                1                   0  ...          -0.762141   \n",
       "1                1                   0  ...           0.327712   \n",
       "2                1                   0  ...           0.132343   \n",
       "3                1                   0  ...           1.120333   \n",
       "4                1                   0  ...           1.120333   \n",
       "\n",
       "   fl_num_on_time_pct  origin_on_time_pct  route_on_time_pct  origin_taxi_out  \\\n",
       "0            0.367852            1.155770           0.042167        -0.475455   \n",
       "1            0.414815           -0.010761          -1.090683        -0.932123   \n",
       "2            0.079782           -0.375917          -0.340825        -0.216023   \n",
       "3           -1.322857           -0.526199           0.272626        -0.662034   \n",
       "4           -1.322857           -0.946699          -0.542943         1.470320   \n",
       "\n",
       "   carrier_fuel_consumption  mean_taxi_in  carrier_mean_delay  \\\n",
       "0                 -1.159495      1.081105            -0.19294   \n",
       "1                 -0.710796      1.081105            -0.19294   \n",
       "2                  0.888111      1.081105            -0.19294   \n",
       "3                 -0.139927      1.081105            -0.19294   \n",
       "4                 -0.811735      1.081105            -0.19294   \n",
       "\n",
       "   origin_mean_delay  arr_delay  \n",
       "0          -0.011615       -7.0  \n",
       "1          -0.058432       13.0  \n",
       "2           0.025399       -5.0  \n",
       "3           0.637861       -6.0  \n",
       "4           0.624587        6.0  \n",
       "\n",
       "[5 rows x 32 columns]"
      ]
     },
     "execution_count": 5,
     "metadata": {},
     "output_type": "execute_result"
    }
   ],
   "source": [
    "data.head()"
   ]
  },
  {
   "cell_type": "code",
   "execution_count": 6,
   "metadata": {},
   "outputs": [
    {
     "data": {
      "text/plain": [
       "(1079053, 32)"
      ]
     },
     "execution_count": 6,
     "metadata": {},
     "output_type": "execute_result"
    }
   ],
   "source": [
    "data.shape"
   ]
  },
  {
   "cell_type": "code",
   "execution_count": 7,
   "metadata": {},
   "outputs": [],
   "source": [
    "# Separate the target feature from the regression data\n",
    "\n",
    "target = data['arr_delay']\n",
    "data = data.drop(columns = ['arr_delay', 'Unnamed: 0'])"
   ]
  },
  {
   "cell_type": "code",
   "execution_count": 8,
   "metadata": {},
   "outputs": [
    {
     "data": {
      "text/plain": [
       "type_is_Adverse_x             int64\n",
       "type_is_Clear_x               int64\n",
       "type_is_Light_x               int64\n",
       "type_is_Moderate_x            int64\n",
       "type_is_Severe_x              int64\n",
       "type_is_Adverse_y             int64\n",
       "type_is_Clear_y               int64\n",
       "type_is_Light_y               int64\n",
       "type_is_Moderate_y            int64\n",
       "type_is_Severe_y              int64\n",
       "type_is_Friday                int64\n",
       "type_is_Monday                int64\n",
       "type_is_Saturday              int64\n",
       "type_is_Sunday                int64\n",
       "type_is_Thursday              int64\n",
       "type_is_Tuesday               int64\n",
       "type_is_Wednesday             int64\n",
       "distance                    float64\n",
       "crs_dep_hour                float64\n",
       "crs_arr_hour                float64\n",
       "carrier_on_time_pct         float64\n",
       "plane_on_time_pct           float64\n",
       "fl_num_on_time_pct          float64\n",
       "origin_on_time_pct          float64\n",
       "route_on_time_pct           float64\n",
       "origin_taxi_out             float64\n",
       "carrier_fuel_consumption    float64\n",
       "mean_taxi_in                float64\n",
       "carrier_mean_delay          float64\n",
       "origin_mean_delay           float64\n",
       "dtype: object"
      ]
     },
     "execution_count": 8,
     "metadata": {},
     "output_type": "execute_result"
    }
   ],
   "source": [
    "data.dtypes"
   ]
  },
  {
   "cell_type": "markdown",
   "metadata": {},
   "source": [
    "### Feature Selection / Dimensionality Reduction"
   ]
  },
  {
   "cell_type": "markdown",
   "metadata": {},
   "source": [
    "We need to apply different selection techniques to find out which one will be the best for our problems.\n",
    "\n",
    "- Original Features vs. PCA conponents?\n",
    "- PCA vs LDA?\n",
    "- Check for high correlation, low variance\n",
    "- Try some wrapper methods"
   ]
  },
  {
   "cell_type": "markdown",
   "metadata": {},
   "source": [
    "Try dropping features with low variance"
   ]
  },
  {
   "cell_type": "code",
   "execution_count": 9,
   "metadata": {},
   "outputs": [],
   "source": [
    "# data_train = drop_low_var(0.25, data_train)\n",
    "# data_train.shape"
   ]
  },
  {
   "cell_type": "code",
   "execution_count": 10,
   "metadata": {},
   "outputs": [],
   "source": [
    "# df_corr = data_train.corr()\n",
    "# fig, ax = plt.subplots(figsize=(15, 12))\n",
    "# sns.heatmap(df_corr, annot = False, cmap=\"YlGnBu\")\n"
   ]
  },
  {
   "cell_type": "code",
   "execution_count": 11,
   "metadata": {},
   "outputs": [],
   "source": [
    "# Create an alias for our regression data\n",
    "data_train = data"
   ]
  },
  {
   "cell_type": "markdown",
   "metadata": {},
   "source": [
    "# PCA\n",
    "\n",
    "Perform principal component analysis on the data to see if dimensionality reduction has an impact on the scores of our models.  \n",
    "Spoiler alert, it doesn't."
   ]
  },
  {
   "cell_type": "code",
   "execution_count": 12,
   "metadata": {},
   "outputs": [],
   "source": [
    "# Initialize pca with components = 2\n",
    "n_components = data_train.shape[1]\n",
    "pca = PCA(n_components = n_components)\n",
    "components = pca.fit_transform(data_train)"
   ]
  },
  {
   "cell_type": "code",
   "execution_count": 13,
   "metadata": {},
   "outputs": [
    {
     "data": {
      "text/plain": [
       "100.0"
      ]
     },
     "execution_count": 13,
     "metadata": {},
     "output_type": "execute_result"
    }
   ],
   "source": [
    "# Calculate and print the total variance\n",
    "total_variance = pca.explained_variance_ratio_.sum() * 100\n",
    "total_variance"
   ]
  },
  {
   "cell_type": "code",
   "execution_count": 14,
   "metadata": {},
   "outputs": [
    {
     "data": {
      "text/plain": [
       "array([2.56019464e+01, 1.20662315e+01, 9.34520669e+00, 7.48288407e+00,\n",
       "       6.98042037e+00, 6.39862547e+00, 5.61066599e+00, 5.24446896e+00,\n",
       "       3.33493774e+00, 3.05140423e+00, 2.76097736e+00, 2.31393981e+00,\n",
       "       1.95531742e+00, 1.13888817e+00, 1.06437935e+00, 9.73253169e-01,\n",
       "       8.74314345e-01, 8.63030160e-01, 8.48635807e-01, 4.84543859e-01,\n",
       "       4.63794965e-01, 4.41498783e-01, 2.55624037e-01, 2.37735663e-01,\n",
       "       2.07275682e-01, 3.71926501e-26, 1.49807300e-26, 7.73758730e-28,\n",
       "       5.06286738e-30, 1.39002784e-32])"
      ]
     },
     "execution_count": 14,
     "metadata": {},
     "output_type": "execute_result"
    }
   ],
   "source": [
    "pca.explained_variance_ratio_ * 100"
   ]
  },
  {
   "cell_type": "code",
   "execution_count": 15,
   "metadata": {},
   "outputs": [
    {
     "data": {
      "text/plain": [
       "Text(0.5, 1.0, 'Scree plot for 25 Component PCA Analysis')"
      ]
     },
     "execution_count": 15,
     "metadata": {},
     "output_type": "execute_result"
    },
    {
     "data": {
      "image/png": "[encoded data removed]",
      "text/plain": [
       "<Figure size 432x288 with 1 Axes>"
      ]
     },
     "metadata": {
      "needs_background": "light"
     },
     "output_type": "display_data"
    }
   ],
   "source": [
    "plt.plot(range(n_components), pca.explained_variance_ratio_)\n",
    "plt.xlabel('Number of Components')\n",
    "plt.ylabel('Explained variance')\n",
    "plt.title('Scree plot for 25 Component PCA Analysis')"
   ]
  },
  {
   "cell_type": "code",
   "execution_count": 16,
   "metadata": {},
   "outputs": [],
   "source": [
    "# Reinitialize PCA with 5 components\n",
    "n_components = 8\n",
    "pca = PCA(n_components = n_components)\n",
    "components = pca.fit_transform(data)"
   ]
  },
  {
   "cell_type": "code",
   "execution_count": 17,
   "metadata": {},
   "outputs": [
    {
     "data": {
      "text/plain": [
       "array([25.60194635, 12.06623155,  9.34520669,  7.48288406,  6.98042037,\n",
       "        6.39862547,  5.61066592,  5.24446887])"
      ]
     },
     "execution_count": 17,
     "metadata": {},
     "output_type": "execute_result"
    }
   ],
   "source": [
    "pca.explained_variance_ratio_ * 100"
   ]
  },
  {
   "cell_type": "code",
   "execution_count": null,
   "metadata": {},
   "outputs": [],
   "source": []
  },
  {
   "cell_type": "markdown",
   "metadata": {},
   "source": [
    "# Clustering\n",
    "\n",
    "Try clustering our data to see if there is any positive impact on the model by including clustering data"
   ]
  },
  {
   "cell_type": "code",
   "execution_count": 18,
   "metadata": {},
   "outputs": [],
   "source": [
    "# def plot_distortion(X,max_clusters = 15):\n",
    "#     distortions = []\n",
    "#     for i in range(1, max_clusters +1):\n",
    "#         km = KMeans(n_clusters=i,\n",
    "#                     init='k-means++',\n",
    "#                     n_init=10,\n",
    "#                     random_state=0)\n",
    "#         km.fit(X)\n",
    "#         distortions.append(km.inertia_)\n",
    "\n",
    "#     plt.plot(range(1,max_clusters +1), distortions, marker='o')\n",
    "#     plt.xlabel('Number of clusters')\n",
    "#     plt.ylabel('Distortion')\n",
    "#     plt.show() "
   ]
  },
  {
   "cell_type": "code",
   "execution_count": 19,
   "metadata": {},
   "outputs": [],
   "source": [
    "# plot_distortion(data_train, 10)"
   ]
  },
  {
   "cell_type": "code",
   "execution_count": 20,
   "metadata": {},
   "outputs": [],
   "source": [
    "# # Initialize the kmeans object with 3 clusters\n",
    "# k_means = km = KMeans(n_clusters = 3,\n",
    "#            n_init = 10,\n",
    "#            random_state = 13)"
   ]
  },
  {
   "cell_type": "code",
   "execution_count": 21,
   "metadata": {},
   "outputs": [],
   "source": [
    "# # Establish predicitons, assign the label to the dataset\n",
    "# y_km = km.fit_predict(data_train)\n",
    "# data_train['kmeans_label'] = y_km\n",
    "\n"
   ]
  },
  {
   "cell_type": "markdown",
   "metadata": {},
   "source": [
    "# Train Test Split\n",
    "\n",
    "Do two train test splits.  One for the standard data and another for data that underwent PCA"
   ]
  },
  {
   "cell_type": "code",
   "execution_count": 22,
   "metadata": {},
   "outputs": [],
   "source": [
    "X_train, X_val, y_train, y_val = train_test_split(data_train, target, test_size = 0.25, random_state = 13)"
   ]
  },
  {
   "cell_type": "code",
   "execution_count": 23,
   "metadata": {},
   "outputs": [],
   "source": [
    "X_train_pca, X_val_pca, y_train_pca, y_val_pca  = train_test_split(components, target, test_size = 0.25)"
   ]
  },
  {
   "cell_type": "markdown",
   "metadata": {},
   "source": [
    "# Modeling"
   ]
  },
  {
   "cell_type": "markdown",
   "metadata": {},
   "source": [
    "Use different ML techniques to predict each problem.\n",
    "\n",
    "- linear / logistic / multinomial logistic regression\n",
    "- Naive Bayes\n",
    "- Random Forest\n",
    "- SVM\n",
    "- XGBoost\n",
    "- The ensemble of your own choice"
   ]
  },
  {
   "cell_type": "markdown",
   "metadata": {},
   "source": [
    "# Random Forest"
   ]
  },
  {
   "cell_type": "code",
   "execution_count": 24,
   "metadata": {},
   "outputs": [],
   "source": [
    "# rfr = RandomForestRegressor(n_estimators = 100,\n",
    "#                             max_depth = 5)\n",
    "# rfr.fit(X_train, y_train)\n",
    "# "
   ]
  },
  {
   "cell_type": "code",
   "execution_count": 25,
   "metadata": {},
   "outputs": [],
   "source": [
    "# y_pred_rfr = rfr.predict(X_val)"
   ]
  },
  {
   "cell_type": "code",
   "execution_count": 26,
   "metadata": {},
   "outputs": [],
   "source": [
    "# regression_metrics(y_val, y_pred_rfr)"
   ]
  },
  {
   "cell_type": "code",
   "execution_count": null,
   "metadata": {},
   "outputs": [],
   "source": []
  },
  {
   "cell_type": "code",
   "execution_count": null,
   "metadata": {},
   "outputs": [],
   "source": []
  },
  {
   "cell_type": "markdown",
   "metadata": {},
   "source": [
    "# Linear Regression\n",
    "\n",
    "\n",
    "Baseline r2 = 0.0477 <br>\n",
    "PCA 20 component r2 = 0.383<br>\n",
    "\n",
    "Benchmark:<br>\n",
    "R2 Score:  0.09674605119603319<br>\n",
    "Mean Absolute Error:  10.34<br>\n",
    "Mean Squared Error:  179.70<br>\n"
   ]
  },
  {
   "cell_type": "code",
   "execution_count": 27,
   "metadata": {},
   "outputs": [
    {
     "data": {
      "text/plain": [
       "LinearRegression()"
      ]
     },
     "execution_count": 27,
     "metadata": {},
     "output_type": "execute_result"
    }
   ],
   "source": [
    "# Linear regression on raw data\n",
    "l_reg = LinearRegression()\n",
    "l_reg.fit(X_train, y_train)"
   ]
  },
  {
   "cell_type": "code",
   "execution_count": 28,
   "metadata": {},
   "outputs": [],
   "source": [
    "y_pred_l_reg = l_reg.predict(X_val)"
   ]
  },
  {
   "cell_type": "code",
   "execution_count": 29,
   "metadata": {},
   "outputs": [
    {
     "data": {
      "text/plain": [
       "array([ 1.24429665e+08,  1.24429663e+08, -9.92706279e+09, -9.92706279e+09,\n",
       "       -9.92706279e+09,  3.14986464e+09,  3.14986464e+09,  1.51404764e+11,\n",
       "        1.51404764e+11,  1.51404764e+11, -7.50278663e+10, -7.50278663e+10,\n",
       "       -7.50278663e+10, -7.50278663e+10, -7.50278663e+10, -7.50278663e+10,\n",
       "       -7.50278663e+10, -1.00868534e+00,  1.77597118e-01,  1.40756238e-01,\n",
       "        1.53260196e+00, -1.48576059e+00, -1.16026570e+00,  1.81528749e+00,\n",
       "       -2.40247493e+00,  1.98398673e-01, -1.05922794e-01,  1.15333669e-01,\n",
       "        1.51801066e+00,  2.62209442e+00])"
      ]
     },
     "execution_count": 29,
     "metadata": {},
     "output_type": "execute_result"
    }
   ],
   "source": [
    "l_reg.coef_"
   ]
  },
  {
   "cell_type": "code",
   "execution_count": 30,
   "metadata": {},
   "outputs": [
    {
     "name": "stdout",
     "output_type": "stream",
     "text": [
      "R2 Score:  0.10101473676353434\n",
      "Mean Absolute Error:  10.307541306015542\n",
      "Mean Squared Error:  179.0220546730076\n"
     ]
    }
   ],
   "source": [
    "regression_metrics(y_val, y_pred_l_reg)"
   ]
  },
  {
   "cell_type": "code",
   "execution_count": 31,
   "metadata": {},
   "outputs": [],
   "source": [
    "current_data = data_train.columns.to_list()"
   ]
  },
  {
   "cell_type": "code",
   "execution_count": 32,
   "metadata": {},
   "outputs": [],
   "source": [
    "coef_dict = dict(zip(current_data, l_reg.coef_))\n",
    "coef_df = pd.Series(coef_dict)\n",
    "# coef_df.sort_values()\n",
    "                "
   ]
  },
  {
   "cell_type": "code",
   "execution_count": 33,
   "metadata": {},
   "outputs": [],
   "source": [
    "# selector = RFE(estimator = l_reg,\n",
    "#               )\n",
    "# selector = selector.fit(X_train, y_train)\n",
    "# selector.support_"
   ]
  },
  {
   "cell_type": "markdown",
   "metadata": {},
   "source": [
    "# Ridge\n",
    "\n",
    "First grid search --> Best alpha was 10\n",
    "Second grid search --> Best alpha was 20\n",
    "Third grid search --> Best alpha was 50\n",
    "\n",
    "Benchmark: <br>\n",
    "R2 Score:  0.1010<br>\n",
    "Mean Absolute Error:  10.30<br>\n",
    "Mean Squared Error:  179.02<br>\n"
   ]
  },
  {
   "cell_type": "code",
   "execution_count": 34,
   "metadata": {},
   "outputs": [
    {
     "data": {
      "text/plain": [
       "array([ 1.24109903, -1.24109903,  0.68534375, -0.73816714,  0.05282339,\n",
       "        1.76661163, -1.76661163,  0.9813577 , -0.60323604, -0.37812167,\n",
       "        0.90703922,  0.25190403, -0.36619967, -0.3350204 ,  0.58025038,\n",
       "       -0.85896127, -0.17901229, -1.00876718,  0.1775751 ,  0.14076562,\n",
       "        1.52912021, -1.48550515, -1.16029048,  1.81336653, -2.40216123,\n",
       "        0.19753909, -0.1063342 ,  0.11490956,  1.5147821 ,  2.62004826])"
      ]
     },
     "execution_count": 34,
     "metadata": {},
     "output_type": "execute_result"
    }
   ],
   "source": [
    "ridge = Ridge(alpha = 50)\n",
    "ridge.fit(X_train, y_train)\n",
    "ridge.coef_"
   ]
  },
  {
   "cell_type": "code",
   "execution_count": 35,
   "metadata": {},
   "outputs": [],
   "source": [
    "ridge_predict = ridge.predict(X_val)"
   ]
  },
  {
   "cell_type": "code",
   "execution_count": 36,
   "metadata": {},
   "outputs": [
    {
     "name": "stdout",
     "output_type": "stream",
     "text": [
      "R2 Score:  0.10101579529477611\n",
      "Mean Absolute Error:  10.307533369642796\n",
      "Mean Squared Error:  179.02184387929879\n"
     ]
    }
   ],
   "source": [
    "regression_metrics(y_val, ridge_predict)"
   ]
  },
  {
   "cell_type": "code",
   "execution_count": null,
   "metadata": {},
   "outputs": [],
   "source": []
  },
  {
   "cell_type": "code",
   "execution_count": 37,
   "metadata": {},
   "outputs": [],
   "source": [
    "params = {'alpha':[50, 75, 100, 150]\n",
    "         }"
   ]
  },
  {
   "cell_type": "code",
   "execution_count": 38,
   "metadata": {},
   "outputs": [
    {
     "data": {
      "text/plain": [
       "GridSearchCV(cv=5, estimator=Ridge(alpha=50),\n",
       "             param_grid={'alpha': [50, 75, 100, 150]})"
      ]
     },
     "execution_count": 38,
     "metadata": {},
     "output_type": "execute_result"
    }
   ],
   "source": [
    "grid_ridge = GridSearchCV(estimator = ridge,\n",
    "                       param_grid = params,\n",
    "                       cv = 5)\n",
    "grid_ridge.fit(X_train, y_train)"
   ]
  },
  {
   "cell_type": "code",
   "execution_count": 41,
   "metadata": {},
   "outputs": [
    {
     "name": "stdout",
     "output_type": "stream",
     "text": [
      "Best Score:  0.1020116649634738\n",
      "Best Params:  {'alpha': 75}\n"
     ]
    }
   ],
   "source": [
    "grid_search_results(grid_ridge, X_train, y_train)"
   ]
  },
  {
   "cell_type": "markdown",
   "metadata": {},
   "source": [
    "# Lasso\n",
    "\n",
    "Benchmark: <br>\n",
    "R2 Score:  0.1010<br>\n",
    "Mean Absolute Error:  10.30<br>\n",
    "Mean Squared Error:  179.02<br>"
   ]
  },
  {
   "cell_type": "code",
   "execution_count": 42,
   "metadata": {},
   "outputs": [
    {
     "data": {
      "text/plain": [
       "Lasso(alpha=0.0001)"
      ]
     },
     "execution_count": 42,
     "metadata": {},
     "output_type": "execute_result"
    }
   ],
   "source": [
    "lasso = Lasso(alpha = 0.0001)\n",
    "lasso.fit(X_train, y_train)"
   ]
  },
  {
   "cell_type": "code",
   "execution_count": 43,
   "metadata": {},
   "outputs": [],
   "source": [
    "lasso_predict = lasso.predict(X_val)"
   ]
  },
  {
   "cell_type": "code",
   "execution_count": 44,
   "metadata": {},
   "outputs": [
    {
     "name": "stdout",
     "output_type": "stream",
     "text": [
      "R2 Score:  0.10101578710752068\n",
      "Mean Absolute Error:  10.307528493578934\n",
      "Mean Squared Error:  179.0218455096918\n"
     ]
    }
   ],
   "source": [
    "regression_metrics(y_val, lasso_predict)"
   ]
  },
  {
   "cell_type": "code",
   "execution_count": 45,
   "metadata": {},
   "outputs": [
    {
     "data": {
      "text/plain": [
       "GridSearchCV(cv=5, estimator=Lasso(alpha=0.0001),\n",
       "             param_grid={'alpha': [0.001, 0.01, 0.1]})"
      ]
     },
     "execution_count": 45,
     "metadata": {},
     "output_type": "execute_result"
    }
   ],
   "source": [
    "params = {'alpha':[0.001,0.01, 0.1]\n",
    "         }\n",
    "\n",
    "grid_lasso = GridSearchCV(estimator = lasso,\n",
    "                       param_grid = params,\n",
    "                       cv = 5)\n",
    "grid_lasso.fit(X_train, y_train)"
   ]
  },
  {
   "cell_type": "code",
   "execution_count": 46,
   "metadata": {},
   "outputs": [
    {
     "name": "stdout",
     "output_type": "stream",
     "text": [
      "Best Score:  0.10201032698500612\n",
      "Best Params:  {'alpha': 0.001}\n"
     ]
    }
   ],
   "source": [
    "grid_search_results(grid_lasso, X_train, y_train)"
   ]
  },
  {
   "cell_type": "code",
   "execution_count": null,
   "metadata": {},
   "outputs": [],
   "source": []
  },
  {
   "cell_type": "code",
   "execution_count": null,
   "metadata": {},
   "outputs": [],
   "source": []
  },
  {
   "cell_type": "markdown",
   "metadata": {},
   "source": [
    "# Linear Regression on PCA Components\n",
    "Benchmark:<br>\n",
    "R2 Score:  0.07661184040454239<br>\n",
    "Mean Absolute Error:  10.440522872762424<br>\n",
    "Mean Squared Error:  183.40646489367066<br>\n",
    "\n"
   ]
  },
  {
   "cell_type": "code",
   "execution_count": 47,
   "metadata": {},
   "outputs": [
    {
     "data": {
      "text/plain": [
       "LinearRegression()"
      ]
     },
     "execution_count": 47,
     "metadata": {},
     "output_type": "execute_result"
    }
   ],
   "source": [
    "# Linear regression on components\n",
    "l_reg_pca = LinearRegression()\n",
    "l_reg_pca.fit(X_train_pca, y_train_pca)"
   ]
  },
  {
   "cell_type": "code",
   "execution_count": 48,
   "metadata": {},
   "outputs": [],
   "source": [
    "y_pred_l_reg_pca = l_reg_pca.predict(X_val_pca)"
   ]
  },
  {
   "cell_type": "code",
   "execution_count": 49,
   "metadata": {},
   "outputs": [
    {
     "name": "stdout",
     "output_type": "stream",
     "text": [
      "R2 Score:  0.07174065067911084\n",
      "Mean Absolute Error:  10.444885157464373\n",
      "Mean Squared Error:  183.71074134858662\n"
     ]
    }
   ],
   "source": [
    "regression_metrics(y_val_pca, y_pred_l_reg_pca)"
   ]
  },
  {
   "cell_type": "code",
   "execution_count": null,
   "metadata": {},
   "outputs": [],
   "source": []
  },
  {
   "cell_type": "markdown",
   "metadata": {},
   "source": [
    "# XGBoost\n",
    "\n",
    "Bennchmark:<br>\n",
    "r2 - .1407<br>\n",
    "MAE - 10.07<br>\n",
    "MSE - 170.94<br>\n",
    "n_estimators = 150,\n",
    "                         max_depth = 10,"
   ]
  },
  {
   "cell_type": "code",
   "execution_count": 50,
   "metadata": {},
   "outputs": [],
   "source": [
    "xgb_r = xgb.XGBRegressor(objective = 'reg:squarederror',\n",
    "                        eta = 0.3,\n",
    "                         n_estimators = 125,\n",
    "                         max_depth = 8,\n",
    "                         seed = 13,\n",
    "                        tree_method = 'hist')"
   ]
  },
  {
   "cell_type": "code",
   "execution_count": 51,
   "metadata": {},
   "outputs": [
    {
     "data": {
      "text/plain": [
       "XGBRegressor(base_score=0.5, booster='gbtree', colsample_bylevel=1,\n",
       "             colsample_bynode=1, colsample_bytree=1, eta=0.3, gamma=0,\n",
       "             gpu_id=-1, importance_type='gain', interaction_constraints='',\n",
       "             learning_rate=0.300000012, max_delta_step=0, max_depth=8,\n",
       "             min_child_weight=1, missing=nan, monotone_constraints='()',\n",
       "             n_estimators=125, n_jobs=8, num_parallel_tree=1, random_state=13,\n",
       "             reg_alpha=0, reg_lambda=1, scale_pos_weight=1, seed=13,\n",
       "             subsample=1, tree_method='approx', validate_parameters=1,\n",
       "             verbosity=None)"
      ]
     },
     "execution_count": 51,
     "metadata": {},
     "output_type": "execute_result"
    }
   ],
   "source": [
    "xgb_r.fit(X_train, y_train)"
   ]
  },
  {
   "cell_type": "code",
   "execution_count": 52,
   "metadata": {},
   "outputs": [],
   "source": [
    "# # Save model to disk\n",
    "# filename_xgbr_model = 'xgbr_best.sav'\n",
    "# pickle.dump(xgb_r, open('pickle_jar/'+filename_xgbr_model, 'wb'))"
   ]
  },
  {
   "cell_type": "code",
   "execution_count": 53,
   "metadata": {},
   "outputs": [],
   "source": [
    "y_xgb = xgb_r.predict(X_val)"
   ]
  },
  {
   "cell_type": "code",
   "execution_count": 54,
   "metadata": {},
   "outputs": [
    {
     "name": "stdout",
     "output_type": "stream",
     "text": [
      "R2 Score:  0.14106366338314713\n",
      "Mean Absolute Error:  10.071238512625946\n",
      "Mean Squared Error:  171.04679476153817\n"
     ]
    }
   ],
   "source": [
    "regression_metrics(y_val, y_xgb)"
   ]
  },
  {
   "cell_type": "code",
   "execution_count": null,
   "metadata": {},
   "outputs": [],
   "source": [
    "y_xgb"
   ]
  },
  {
   "cell_type": "code",
   "execution_count": null,
   "metadata": {},
   "outputs": [],
   "source": [
    "# params = {'n_estimators': [75, 100, 125],\n",
    "#           'max_depth': [8, 10, 12],\n",
    "#           'booster': ['gbtree', 'gblinear']\n",
    "#          }"
   ]
  },
  {
   "cell_type": "code",
   "execution_count": null,
   "metadata": {},
   "outputs": [],
   "source": [
    "# grid_xgb = GridSearchCV(estimator = xgb_r,\n",
    "#                        param_grid = params,\n",
    "#                        cv = 5)"
   ]
  },
  {
   "cell_type": "code",
   "execution_count": null,
   "metadata": {},
   "outputs": [],
   "source": [
    "# grid_xgb.fit(X_train, y_train)"
   ]
  },
  {
   "cell_type": "code",
   "execution_count": null,
   "metadata": {},
   "outputs": [],
   "source": [
    "# grid_search_results(grid_xgb, X_train, y_train)"
   ]
  },
  {
   "cell_type": "markdown",
   "metadata": {},
   "source": [
    "### Evaluation"
   ]
  },
  {
   "cell_type": "markdown",
   "metadata": {},
   "source": [
    "You have data from 2018 and 2019 to develop models. Use different evaluation metrics for each problem and compare the performance of different models.\n",
    "\n",
    "You are required to predict delays on **out of sample** data from **first 7 days (1st-7th) of January 2020** and to share the file with LighthouseLabs. Sample submission can be found in the file **_sample_submission.csv_**"
   ]
  },
  {
   "cell_type": "code",
   "execution_count": null,
   "metadata": {},
   "outputs": [],
   "source": []
  },
  {
   "cell_type": "code",
   "execution_count": null,
   "metadata": {},
   "outputs": [],
   "source": [
    "# # Import the test dataset that has the same features as our model is expecting\n",
    "\n",
    "# test_data = pd.read_csv('data/test_data_prepped.csv')\n",
    "# test_data.shape"
   ]
  },
  {
   "cell_type": "code",
   "execution_count": null,
   "metadata": {},
   "outputs": [],
   "source": [
    "# # Drop the pesky Unnamed: 0 column\n",
    "# test_data.drop(columns = 'Unnamed: 0', inplace=True)\n",
    "# test_data.shape"
   ]
  },
  {
   "cell_type": "markdown",
   "metadata": {},
   "source": [
    "### We will be predicting our delay values using the XGBoost regressor model as it was consistently the best model that we trained.\n",
    "\n",
    "The r2 values were always higher than any other model by about .05 and the model was generalized enough to return good scores even with train test splits as low as 50/50."
   ]
  },
  {
   "cell_type": "code",
   "execution_count": null,
   "metadata": {},
   "outputs": [],
   "source": [
    "# make predicitions on the test data\n",
    "y_predictions = xgb_r.predict(test_data)"
   ]
  },
  {
   "cell_type": "code",
   "execution_count": null,
   "metadata": {},
   "outputs": [],
   "source": [
    "# load the formatted test data to make our submission\n",
    "pre_submit = pd.read_csv('data/pre_predictions.csv')"
   ]
  },
  {
   "cell_type": "code",
   "execution_count": null,
   "metadata": {},
   "outputs": [],
   "source": [
    "submission = copy.deepcopy(pre_submit)\n",
    "submission('predictions') = y_predictions\n",
    "submission.head()"
   ]
  },
  {
   "cell_type": "code",
   "execution_count": null,
   "metadata": {},
   "outputs": [],
   "source": [
    "submission.to_csv(submission)"
   ]
  },
  {
   "cell_type": "code",
   "execution_count": null,
   "metadata": {},
   "outputs": [],
   "source": []
  },
  {
   "cell_type": "markdown",
   "metadata": {},
   "source": [
    "======================================================================\n",
    "## Stretch Tasks"
   ]
  },
  {
   "cell_type": "markdown",
   "metadata": {},
   "source": [
    "### Multiclass Classification"
   ]
  },
  {
   "cell_type": "markdown",
   "metadata": {},
   "source": [
    "The target variables are **CARRIER_DELAY, WEATHER_DELAY, NAS_DELAY, SECURITY_DELAY, LATE_AIRCRAFT_DELAY**. We need to do additional transformations because these variables are not binary but continuos. For each flight that was delayed, we need to have one of these variables as 1 and others 0.\n",
    "\n",
    "It can happen that we have two types of delays with more than 0 minutes. In this case, take the bigger one as 1 and others as 0.\n",
    "\n",
    "## Because this is a classification problem, we will want to rectify the massive class imbalance between labels for these algorithms. "
   ]
  },
  {
   "cell_type": "code",
   "execution_count": null,
   "metadata": {},
   "outputs": [],
   "source": [
    "# Initiate a new train test split based on the multiclass target\n",
    "X_train, X_val, y_train, y_val = train_test_split(data_train, multiclass_target, test_size = 0.25, random_state = 13)"
   ]
  },
  {
   "cell_type": "markdown",
   "metadata": {},
   "source": [
    "# SVM"
   ]
  },
  {
   "cell_type": "code",
   "execution_count": null,
   "metadata": {},
   "outputs": [],
   "source": [
    "svc = SVC()\n",
    "svc.fit(X_train, y_train)"
   ]
  },
  {
   "cell_type": "code",
   "execution_count": null,
   "metadata": {},
   "outputs": [],
   "source": [
    "y_svc_predict = svc.predict(X_val)"
   ]
  },
  {
   "cell_type": "code",
   "execution_count": null,
   "metadata": {},
   "outputs": [],
   "source": [
    "multiclassifier_metrics(y_svc_predict, y_val)"
   ]
  },
  {
   "cell_type": "markdown",
   "metadata": {},
   "source": [
    "# Naive Bayes"
   ]
  },
  {
   "cell_type": "code",
   "execution_count": null,
   "metadata": {},
   "outputs": [],
   "source": [
    "gnb = GaussianNB()\n",
    "gnb.fit(X_train, y_train)"
   ]
  },
  {
   "cell_type": "code",
   "execution_count": null,
   "metadata": {},
   "outputs": [],
   "source": [
    "gnb_predict = gnb.predict(X_val)"
   ]
  },
  {
   "cell_type": "code",
   "execution_count": null,
   "metadata": {},
   "outputs": [],
   "source": [
    "multiclassifier_metrics(gnb_predict, y_val)"
   ]
  },
  {
   "cell_type": "markdown",
   "metadata": {},
   "source": [
    "# XGBoost"
   ]
  },
  {
   "cell_type": "code",
   "execution_count": null,
   "metadata": {},
   "outputs": [],
   "source": [
    "xgb_c = xgb.XGBClassifier()\n",
    "xgb_c.fit(X_train, y_train)\n"
   ]
  },
  {
   "cell_type": "code",
   "execution_count": null,
   "metadata": {},
   "outputs": [],
   "source": [
    "y_xgb_c = xgb_c.predict(X_val)"
   ]
  },
  {
   "cell_type": "code",
   "execution_count": null,
   "metadata": {},
   "outputs": [],
   "source": [
    "multiclassifier_metrics(y_xgb_c, y_val)"
   ]
  },
  {
   "cell_type": "markdown",
   "metadata": {},
   "source": [
    "### Binary Classification"
   ]
  },
  {
   "cell_type": "markdown",
   "metadata": {},
   "source": [
    "The target variable is **CANCELLED**. The main problem here is going to be huge class imbalance. We have only very little cancelled flights with comparison to all flights. It is important to do the right sampling before training and to choose correct evaluation metrics."
   ]
  },
  {
   "cell_type": "code",
   "execution_count": null,
   "metadata": {},
   "outputs": [],
   "source": []
  },
  {
   "cell_type": "code",
   "execution_count": null,
   "metadata": {},
   "outputs": [],
   "source": []
  },
  {
   "cell_type": "raw",
   "metadata": {},
   "source": []
  },
  {
   "cell_type": "raw",
   "metadata": {},
   "source": []
  },
  {
   "cell_type": "raw",
   "metadata": {},
   "source": []
  }
 ],
 "metadata": {
  "kernelspec": {
   "display_name": "bootcamp_env",
   "language": "python",
   "name": "bootcamp_env"
  },
  "language_info": {
   "codemirror_mode": {
    "name": "ipython",
    "version": 3
   },
   "file_extension": ".py",
   "mimetype": "text/x-python",
   "name": "python",
   "nbconvert_exporter": "python",
   "pygments_lexer": "ipython3",
   "version": "3.6.10"
  }
 },
 "nbformat": 4,
 "nbformat_minor": 4
}
