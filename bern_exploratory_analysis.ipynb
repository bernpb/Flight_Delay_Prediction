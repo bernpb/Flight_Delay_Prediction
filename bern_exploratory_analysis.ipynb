{
 "cells": [
  {
   "cell_type": "code",
   "execution_count": 1,
   "metadata": {},
   "outputs": [],
   "source": [
    "# imports of necessary packages\n",
    "import pandas as pd\n",
    "import numpy as np\n",
    "import matplotlib.pyplot as plt\n",
    "import seaborn as sns\n",
    "\n",
    "# Import custom functions\n",
    "from functions import statebreaker, get_hour, get_min, delay_binarizer, haul_type"
   ]
  },
  {
   "cell_type": "code",
   "execution_count": 2,
   "metadata": {},
   "outputs": [],
   "source": [
    "sns.set_context(context = 'talk')"
   ]
  },
  {
   "cell_type": "markdown",
   "metadata": {},
   "source": [
    "## Exploratory Data Analysis\n",
    "\n",
    "Use this notebook to get familiar with the datasets we have. There is 10 questions we need to answer during the EDA.\n",
    "\n",
    "* Check the cumulative delay minutes per tail number.  Do some planes have a higher tendency to be late due to mechanical issues.  --- YES!!!!\n",
    "* Do certain carriers have a higher likelihood of delays than others? Do certain airports? Flight numbers?\n",
    "* What time of day do most delays occur?\n",
    "* Weather, weather, weather\n",
    "\n"
   ]
  },
  {
   "cell_type": "code",
   "execution_count": 3,
   "metadata": {},
   "outputs": [],
   "source": [
    "data = pd.read_csv('data/flights_weather.csv', low_memory=False)"
   ]
  },
  {
   "cell_type": "code",
   "execution_count": 4,
   "metadata": {},
   "outputs": [
    {
     "data": {
      "text/html": [
       "<div>\n",
       "<style scoped>\n",
       "    .dataframe tbody tr th:only-of-type {\n",
       "        vertical-align: middle;\n",
       "    }\n",
       "\n",
       "    .dataframe tbody tr th {\n",
       "        vertical-align: top;\n",
       "    }\n",
       "\n",
       "    .dataframe thead th {\n",
       "        text-align: right;\n",
       "    }\n",
       "</style>\n",
       "<table border=\"1\" class=\"dataframe\">\n",
       "  <thead>\n",
       "    <tr style=\"text-align: right;\">\n",
       "      <th></th>\n",
       "      <th>Unnamed: 0</th>\n",
       "      <th>Unnamed: 0.1</th>\n",
       "      <th>fl_date</th>\n",
       "      <th>mkt_unique_carrier</th>\n",
       "      <th>branded_code_share</th>\n",
       "      <th>mkt_carrier</th>\n",
       "      <th>mkt_carrier_fl_num</th>\n",
       "      <th>op_unique_carrier</th>\n",
       "      <th>tail_num</th>\n",
       "      <th>op_carrier_fl_num</th>\n",
       "      <th>...</th>\n",
       "      <th>dep_hour</th>\n",
       "      <th>arr_hour</th>\n",
       "      <th>dep_period</th>\n",
       "      <th>arr_period</th>\n",
       "      <th>origin_match_code</th>\n",
       "      <th>dest_match_code</th>\n",
       "      <th>origin_weather_condition</th>\n",
       "      <th>origin_weather_severity</th>\n",
       "      <th>dest_weather_condition</th>\n",
       "      <th>dest_weather_severity</th>\n",
       "    </tr>\n",
       "  </thead>\n",
       "  <tbody>\n",
       "    <tr>\n",
       "      <th>0</th>\n",
       "      <td>0</td>\n",
       "      <td>0</td>\n",
       "      <td>2018-12-15</td>\n",
       "      <td>NK</td>\n",
       "      <td>NK</td>\n",
       "      <td>NK</td>\n",
       "      <td>393</td>\n",
       "      <td>NK</td>\n",
       "      <td>N506NK</td>\n",
       "      <td>393</td>\n",
       "      <td>...</td>\n",
       "      <td>15</td>\n",
       "      <td>16</td>\n",
       "      <td>Afternoon</td>\n",
       "      <td>Afternoon</td>\n",
       "      <td>ATL2018-12-15Afternoon</td>\n",
       "      <td>MSY2018-12-15Afternoon</td>\n",
       "      <td>Clear</td>\n",
       "      <td>Light</td>\n",
       "      <td>Clear</td>\n",
       "      <td>Light</td>\n",
       "    </tr>\n",
       "    <tr>\n",
       "      <th>1</th>\n",
       "      <td>1</td>\n",
       "      <td>1</td>\n",
       "      <td>2018-12-16</td>\n",
       "      <td>UA</td>\n",
       "      <td>UA_CODESHARE</td>\n",
       "      <td>UA</td>\n",
       "      <td>4119</td>\n",
       "      <td>EV</td>\n",
       "      <td>N14993</td>\n",
       "      <td>4119</td>\n",
       "      <td>...</td>\n",
       "      <td>19</td>\n",
       "      <td>21</td>\n",
       "      <td>Evening</td>\n",
       "      <td>Evening</td>\n",
       "      <td>EWR2018-12-16Evening</td>\n",
       "      <td>RIC2018-12-16Evening</td>\n",
       "      <td>Rain</td>\n",
       "      <td>Moderate</td>\n",
       "      <td>Clear</td>\n",
       "      <td>Light</td>\n",
       "    </tr>\n",
       "    <tr>\n",
       "      <th>2</th>\n",
       "      <td>2</td>\n",
       "      <td>2</td>\n",
       "      <td>2018-12-15</td>\n",
       "      <td>NK</td>\n",
       "      <td>NK</td>\n",
       "      <td>NK</td>\n",
       "      <td>443</td>\n",
       "      <td>NK</td>\n",
       "      <td>N681NK</td>\n",
       "      <td>443</td>\n",
       "      <td>...</td>\n",
       "      <td>20</td>\n",
       "      <td>22</td>\n",
       "      <td>Evening</td>\n",
       "      <td>Evening</td>\n",
       "      <td>BWI2018-12-15Evening</td>\n",
       "      <td>FLL2018-12-15Evening</td>\n",
       "      <td>Rain</td>\n",
       "      <td>Light</td>\n",
       "      <td>Rain</td>\n",
       "      <td>Light</td>\n",
       "    </tr>\n",
       "    <tr>\n",
       "      <th>3</th>\n",
       "      <td>3</td>\n",
       "      <td>3</td>\n",
       "      <td>2018-12-15</td>\n",
       "      <td>NK</td>\n",
       "      <td>NK</td>\n",
       "      <td>NK</td>\n",
       "      <td>445</td>\n",
       "      <td>NK</td>\n",
       "      <td>N504NK</td>\n",
       "      <td>445</td>\n",
       "      <td>...</td>\n",
       "      <td>6</td>\n",
       "      <td>8</td>\n",
       "      <td>Morning</td>\n",
       "      <td>Morning</td>\n",
       "      <td>CMH2018-12-15Morning</td>\n",
       "      <td>FLL2018-12-15Morning</td>\n",
       "      <td>Clear</td>\n",
       "      <td>Light</td>\n",
       "      <td>Clear</td>\n",
       "      <td>Light</td>\n",
       "    </tr>\n",
       "    <tr>\n",
       "      <th>4</th>\n",
       "      <td>4</td>\n",
       "      <td>4</td>\n",
       "      <td>2018-12-15</td>\n",
       "      <td>NK</td>\n",
       "      <td>NK</td>\n",
       "      <td>NK</td>\n",
       "      <td>446</td>\n",
       "      <td>NK</td>\n",
       "      <td>N621NK</td>\n",
       "      <td>446</td>\n",
       "      <td>...</td>\n",
       "      <td>8</td>\n",
       "      <td>14</td>\n",
       "      <td>Morning</td>\n",
       "      <td>Afternoon</td>\n",
       "      <td>LAS2018-12-15Morning</td>\n",
       "      <td>ORD2018-12-15Afternoon</td>\n",
       "      <td>Clear</td>\n",
       "      <td>Light</td>\n",
       "      <td>Clear</td>\n",
       "      <td>Light</td>\n",
       "    </tr>\n",
       "  </tbody>\n",
       "</table>\n",
       "<p>5 rows × 54 columns</p>\n",
       "</div>"
      ],
      "text/plain": [
       "   Unnamed: 0  Unnamed: 0.1     fl_date mkt_unique_carrier branded_code_share  \\\n",
       "0           0             0  2018-12-15                 NK                 NK   \n",
       "1           1             1  2018-12-16                 UA       UA_CODESHARE   \n",
       "2           2             2  2018-12-15                 NK                 NK   \n",
       "3           3             3  2018-12-15                 NK                 NK   \n",
       "4           4             4  2018-12-15                 NK                 NK   \n",
       "\n",
       "  mkt_carrier  mkt_carrier_fl_num op_unique_carrier tail_num  \\\n",
       "0          NK                 393                NK   N506NK   \n",
       "1          UA                4119                EV   N14993   \n",
       "2          NK                 443                NK   N681NK   \n",
       "3          NK                 445                NK   N504NK   \n",
       "4          NK                 446                NK   N621NK   \n",
       "\n",
       "   op_carrier_fl_num  ...  dep_hour arr_hour dep_period  arr_period  \\\n",
       "0                393  ...        15       16  Afternoon   Afternoon   \n",
       "1               4119  ...        19       21    Evening     Evening   \n",
       "2                443  ...        20       22    Evening     Evening   \n",
       "3                445  ...         6        8    Morning     Morning   \n",
       "4                446  ...         8       14    Morning   Afternoon   \n",
       "\n",
       "        origin_match_code         dest_match_code  origin_weather_condition  \\\n",
       "0  ATL2018-12-15Afternoon  MSY2018-12-15Afternoon                     Clear   \n",
       "1    EWR2018-12-16Evening    RIC2018-12-16Evening                      Rain   \n",
       "2    BWI2018-12-15Evening    FLL2018-12-15Evening                      Rain   \n",
       "3    CMH2018-12-15Morning    FLL2018-12-15Morning                     Clear   \n",
       "4    LAS2018-12-15Morning  ORD2018-12-15Afternoon                     Clear   \n",
       "\n",
       "   origin_weather_severity  dest_weather_condition  dest_weather_severity  \n",
       "0                    Light                   Clear                  Light  \n",
       "1                 Moderate                   Clear                  Light  \n",
       "2                    Light                    Rain                  Light  \n",
       "3                    Light                   Clear                  Light  \n",
       "4                    Light                   Clear                  Light  \n",
       "\n",
       "[5 rows x 54 columns]"
      ]
     },
     "execution_count": 4,
     "metadata": {},
     "output_type": "execute_result"
    }
   ],
   "source": [
    "# Let's get a sense of the data\n",
    "data.head()"
   ]
  },
  {
   "cell_type": "code",
   "execution_count": 5,
   "metadata": {},
   "outputs": [
    {
     "data": {
      "text/plain": [
       "Index(['Unnamed: 0', 'Unnamed: 0.1', 'fl_date', 'mkt_unique_carrier',\n",
       "       'branded_code_share', 'mkt_carrier', 'mkt_carrier_fl_num',\n",
       "       'op_unique_carrier', 'tail_num', 'op_carrier_fl_num',\n",
       "       'origin_airport_id', 'origin', 'origin_city_name', 'dest_airport_id',\n",
       "       'dest', 'dest_city_name', 'crs_dep_time', 'dep_time', 'dep_delay',\n",
       "       'taxi_out', 'wheels_off', 'wheels_on', 'taxi_in', 'crs_arr_time',\n",
       "       'arr_time', 'arr_delay', 'cancelled', 'cancellation_code', 'diverted',\n",
       "       'dup', 'crs_elapsed_time', 'actual_elapsed_time', 'air_time', 'flights',\n",
       "       'distance', 'carrier_delay', 'weather_delay', 'nas_delay',\n",
       "       'security_delay', 'late_aircraft_delay', 'first_dep_time',\n",
       "       'total_add_gtime', 'longest_add_gtime', 'no_name', 'dep_hour',\n",
       "       'arr_hour', 'dep_period', 'arr_period', 'origin_match_code',\n",
       "       'dest_match_code', 'origin_weather_condition',\n",
       "       'origin_weather_severity', 'dest_weather_condition',\n",
       "       'dest_weather_severity'],\n",
       "      dtype='object')"
      ]
     },
     "execution_count": 5,
     "metadata": {},
     "output_type": "execute_result"
    }
   ],
   "source": [
    "data.columns"
   ]
  },
  {
   "cell_type": "code",
   "execution_count": 6,
   "metadata": {},
   "outputs": [
    {
     "data": {
      "text/plain": [
       "count    1.317705e+06\n",
       "mean     1.159969e+01\n",
       "std      4.893111e+01\n",
       "min     -6.110000e+02\n",
       "25%     -5.000000e+00\n",
       "50%     -2.000000e+00\n",
       "75%      9.000000e+00\n",
       "max      2.007000e+03\n",
       "Name: dep_delay, dtype: float64"
      ]
     },
     "execution_count": 6,
     "metadata": {},
     "output_type": "execute_result"
    }
   ],
   "source": [
    "data.dep_delay.describe()"
   ]
  },
  {
   "cell_type": "code",
   "execution_count": 7,
   "metadata": {},
   "outputs": [],
   "source": [
    "# Remove outliers for arrival delay\n",
    "Q1 = data['arr_delay'].quantile(0.25)\n",
    "Q3 = data['arr_delay'].quantile(0.75)\n",
    "iqr = Q3 - Q1\n",
    "data = data.loc[(data['arr_delay'] >= (Q1 - 1.5*iqr)) & ((data['arr_delay'] <= Q3 + 1.5*iqr))]"
   ]
  },
  {
   "cell_type": "code",
   "execution_count": 8,
   "metadata": {},
   "outputs": [
    {
     "data": {
      "text/plain": [
       "(1200213, 54)"
      ]
     },
     "execution_count": 8,
     "metadata": {},
     "output_type": "execute_result"
    }
   ],
   "source": [
    "data.shape"
   ]
  },
  {
   "cell_type": "code",
   "execution_count": 9,
   "metadata": {},
   "outputs": [],
   "source": [
    "# Remove outliers for departure delay\n",
    "Q1 = data['dep_delay'].quantile(0.25)\n",
    "Q3 = data['dep_delay'].quantile(0.75)\n",
    "iqr = Q3 - Q1\n",
    "data = data.loc[(data['dep_delay'] >= (Q1 - 1.5*iqr)) & ((data['dep_delay'] <= Q3 + 1.5*iqr))]"
   ]
  },
  {
   "cell_type": "code",
   "execution_count": 10,
   "metadata": {},
   "outputs": [
    {
     "data": {
      "text/plain": [
       "(1079053, 54)"
      ]
     },
     "execution_count": 10,
     "metadata": {},
     "output_type": "execute_result"
    }
   ],
   "source": [
    "data.shape"
   ]
  },
  {
   "cell_type": "code",
   "execution_count": 11,
   "metadata": {},
   "outputs": [
    {
     "data": {
      "text/plain": [
       "Index(['Unnamed: 0', 'Unnamed: 0.1', 'fl_date', 'mkt_unique_carrier',\n",
       "       'branded_code_share', 'mkt_carrier', 'mkt_carrier_fl_num',\n",
       "       'op_unique_carrier', 'tail_num', 'op_carrier_fl_num',\n",
       "       'origin_airport_id', 'origin', 'origin_city_name', 'dest_airport_id',\n",
       "       'dest', 'dest_city_name', 'crs_dep_time', 'dep_time', 'dep_delay',\n",
       "       'taxi_out', 'wheels_off', 'wheels_on', 'taxi_in', 'crs_arr_time',\n",
       "       'arr_time', 'arr_delay', 'cancelled', 'cancellation_code', 'diverted',\n",
       "       'dup', 'crs_elapsed_time', 'actual_elapsed_time', 'air_time', 'flights',\n",
       "       'distance', 'carrier_delay', 'weather_delay', 'nas_delay',\n",
       "       'security_delay', 'late_aircraft_delay', 'first_dep_time',\n",
       "       'total_add_gtime', 'longest_add_gtime', 'no_name', 'dep_hour',\n",
       "       'arr_hour', 'dep_period', 'arr_period', 'origin_match_code',\n",
       "       'dest_match_code', 'origin_weather_condition',\n",
       "       'origin_weather_severity', 'dest_weather_condition',\n",
       "       'dest_weather_severity'],\n",
       "      dtype='object')"
      ]
     },
     "execution_count": 11,
     "metadata": {},
     "output_type": "execute_result"
    }
   ],
   "source": [
    "data.columns"
   ]
  },
  {
   "cell_type": "markdown",
   "metadata": {},
   "source": [
    "# Light Feature Engineering\n",
    "### These features are designed to facilitate date analysis\n",
    "\n",
    "Going to need to split the date into day, month, year for some of the analysis.  Might as well get it done now!"
   ]
  },
  {
   "cell_type": "code",
   "execution_count": 12,
   "metadata": {},
   "outputs": [],
   "source": [
    "# Break fl_date up into it's component day, month, year components\n",
    "\n",
    "\n",
    "data['year'] = pd.DatetimeIndex(data['fl_date']).year\n",
    "data['month'] = pd.DatetimeIndex(data['fl_date']).month\n",
    "data['day'] = pd.DatetimeIndex(data['fl_date']).day\n",
    "\n",
    "# Let's take a look at what delays look like grouped by day of week too\n",
    "data['week_day'] = pd.DatetimeIndex(data['fl_date']).dayofweek\n",
    "\n"
   ]
  },
  {
   "cell_type": "code",
   "execution_count": 13,
   "metadata": {},
   "outputs": [],
   "source": [
    "data['week_day'] = data['week_day'].replace({0: 'Monday',\n",
    "                                         1: 'Tuesday',\n",
    "                                         2: 'Wednesday',\n",
    "                                         3: 'Thursday',\n",
    "                                         4: 'Friday',\n",
    "                                         5: 'Saturday',\n",
    "                                         6: 'Sunday'},\n",
    "                                           )"
   ]
  },
  {
   "cell_type": "code",
   "execution_count": 14,
   "metadata": {},
   "outputs": [],
   "source": [
    "data = data.drop(columns = ['fl_date', \n",
    "                            'Unnamed: 0',\n",
    "                            'Unnamed: 0.1',\n",
    "                            'op_carrier_fl_num',\n",
    "                            'op_unique_carrier',\n",
    "                           'dup'])"
   ]
  },
  {
   "cell_type": "code",
   "execution_count": 15,
   "metadata": {},
   "outputs": [],
   "source": [
    "# Let's break up dep_time into it's component hours and minutes\n",
    "\n",
    "data['crs_dep_hour'] = data['crs_dep_time'].apply(get_hour)\n",
    "data['crs_dep_minutes'] = data['crs_dep_time'].apply(get_min)\n",
    "\n",
    "# Let's do the same for crs_arr_time\n",
    "data['crs_arr_hour'] = data['crs_arr_time'].apply(get_hour)\n",
    "data['crs_arr_minutes'] = data['crs_arr_time'].apply(get_min)"
   ]
  },
  {
   "cell_type": "code",
   "execution_count": 16,
   "metadata": {},
   "outputs": [],
   "source": [
    "# Let's separate the state from the city name using statebreaker.\n",
    "\n",
    "data['dep_state'] = data['origin_city_name'].apply(statebreaker)\n",
    "data['dest_state'] = data['dest_city_name'].apply(statebreaker)"
   ]
  },
  {
   "cell_type": "code",
   "execution_count": 17,
   "metadata": {},
   "outputs": [],
   "source": [
    "# Let's make a new feature representing the delta between the expected flight time and the actual flight time\n",
    "data['flight_time_change'] = data['crs_elapsed_time'] - data['actual_elapsed_time']\n",
    "\n",
    "# Add another binary feature based on flight_time_change stating whether or not the flight made up ground in the air\n",
    "data['made_up_time'] = data['flight_time_change'].apply(delay_binarizer)\n",
    "\n",
    "# Create a binary column for delay\n",
    "\n",
    "data['on_time'] = data['arr_delay'].apply(delay_binarizer)"
   ]
  },
  {
   "cell_type": "code",
   "execution_count": 18,
   "metadata": {},
   "outputs": [],
   "source": [
    "# Make a feature name for the type of haul\n",
    "data['haul_type'] = data['crs_elapsed_time'].apply(haul_type)\n",
    "\n"
   ]
  },
  {
   "cell_type": "code",
   "execution_count": 19,
   "metadata": {},
   "outputs": [],
   "source": [
    "# Make a feature name representing the route as a combination of origin and departure\n",
    "\n",
    "data['route'] = data['origin'].astype(str) + '_' + data['dest'].astype(str)"
   ]
  },
  {
   "cell_type": "code",
   "execution_count": 20,
   "metadata": {},
   "outputs": [
    {
     "data": {
      "text/plain": [
       "Index(['mkt_unique_carrier', 'branded_code_share', 'mkt_carrier',\n",
       "       'mkt_carrier_fl_num', 'tail_num', 'origin_airport_id', 'origin',\n",
       "       'origin_city_name', 'dest_airport_id', 'dest', 'dest_city_name',\n",
       "       'crs_dep_time', 'dep_time', 'dep_delay', 'taxi_out', 'wheels_off',\n",
       "       'wheels_on', 'taxi_in', 'crs_arr_time', 'arr_time', 'arr_delay',\n",
       "       'cancelled', 'cancellation_code', 'diverted', 'crs_elapsed_time',\n",
       "       'actual_elapsed_time', 'air_time', 'flights', 'distance',\n",
       "       'carrier_delay', 'weather_delay', 'nas_delay', 'security_delay',\n",
       "       'late_aircraft_delay', 'first_dep_time', 'total_add_gtime',\n",
       "       'longest_add_gtime', 'no_name', 'dep_hour', 'arr_hour', 'dep_period',\n",
       "       'arr_period', 'origin_match_code', 'dest_match_code',\n",
       "       'origin_weather_condition', 'origin_weather_severity',\n",
       "       'dest_weather_condition', 'dest_weather_severity', 'year', 'month',\n",
       "       'day', 'week_day', 'crs_dep_hour', 'crs_dep_minutes', 'crs_arr_hour',\n",
       "       'crs_arr_minutes', 'dep_state', 'dest_state', 'flight_time_change',\n",
       "       'made_up_time', 'on_time', 'haul_type', 'route'],\n",
       "      dtype='object')"
      ]
     },
     "execution_count": 20,
     "metadata": {},
     "output_type": "execute_result"
    }
   ],
   "source": [
    "data.columns"
   ]
  },
  {
   "cell_type": "code",
   "execution_count": 21,
   "metadata": {},
   "outputs": [
    {
     "name": "stdout",
     "output_type": "stream",
     "text": [
      "1    825627\n",
      "0    253426\n",
      "Name: on_time, dtype: int64\n"
     ]
    }
   ],
   "source": [
    "# What percentage of flights are on time?\n",
    "\n",
    "print(data['on_time'].value_counts())"
   ]
  },
  {
   "cell_type": "code",
   "execution_count": 22,
   "metadata": {},
   "outputs": [
    {
     "data": {
      "text/plain": [
       "<AxesSubplot:>"
      ]
     },
     "execution_count": 22,
     "metadata": {},
     "output_type": "execute_result"
    },
    {
     "data": {
      "image/png": "[encoded data removed]",
      "text/plain": [
       "<Figure size 1080x864 with 2 Axes>"
      ]
     },
     "metadata": {
      "needs_background": "light"
     },
     "output_type": "display_data"
    }
   ],
   "source": [
    "data_corr = data.corr()\n",
    "fig, ax = plt.subplots(figsize=(15, 12))\n",
    "sns.heatmap(data_corr, annot = False)\n",
    "\n"
   ]
  },
  {
   "cell_type": "markdown",
   "metadata": {},
   "source": [
    "### Let's visualize flight delay frequency by day of week"
   ]
  },
  {
   "cell_type": "code",
   "execution_count": 23,
   "metadata": {},
   "outputs": [
    {
     "data": {
      "text/html": [
       "<div>\n",
       "<style scoped>\n",
       "    .dataframe tbody tr th:only-of-type {\n",
       "        vertical-align: middle;\n",
       "    }\n",
       "\n",
       "    .dataframe tbody tr th {\n",
       "        vertical-align: top;\n",
       "    }\n",
       "\n",
       "    .dataframe thead th {\n",
       "        text-align: right;\n",
       "    }\n",
       "</style>\n",
       "<table border=\"1\" class=\"dataframe\">\n",
       "  <thead>\n",
       "    <tr style=\"text-align: right;\">\n",
       "      <th></th>\n",
       "      <th>arr_delay</th>\n",
       "    </tr>\n",
       "    <tr>\n",
       "      <th>week_day</th>\n",
       "      <th></th>\n",
       "    </tr>\n",
       "  </thead>\n",
       "  <tbody>\n",
       "    <tr>\n",
       "      <th>Friday</th>\n",
       "      <td>-7.195174</td>\n",
       "    </tr>\n",
       "    <tr>\n",
       "      <th>Monday</th>\n",
       "      <td>-8.031786</td>\n",
       "    </tr>\n",
       "    <tr>\n",
       "      <th>Saturday</th>\n",
       "      <td>-8.612711</td>\n",
       "    </tr>\n",
       "    <tr>\n",
       "      <th>Sunday</th>\n",
       "      <td>-8.650759</td>\n",
       "    </tr>\n",
       "    <tr>\n",
       "      <th>Thursday</th>\n",
       "      <td>-7.686347</td>\n",
       "    </tr>\n",
       "    <tr>\n",
       "      <th>Tuesday</th>\n",
       "      <td>-9.316652</td>\n",
       "    </tr>\n",
       "    <tr>\n",
       "      <th>Wednesday</th>\n",
       "      <td>-8.716679</td>\n",
       "    </tr>\n",
       "  </tbody>\n",
       "</table>\n",
       "</div>"
      ],
      "text/plain": [
       "           arr_delay\n",
       "week_day            \n",
       "Friday     -7.195174\n",
       "Monday     -8.031786\n",
       "Saturday   -8.612711\n",
       "Sunday     -8.650759\n",
       "Thursday   -7.686347\n",
       "Tuesday    -9.316652\n",
       "Wednesday  -8.716679"
      ]
     },
     "execution_count": 23,
     "metadata": {},
     "output_type": "execute_result"
    }
   ],
   "source": [
    "# Lets see how the day of the week impacts delays\n",
    "\n",
    "day_delays  = data[['week_day',\n",
    "                  'arr_delay',]]\n",
    "\n",
    "day_delays = day_delays.groupby('week_day').mean()\n",
    "day_delays"
   ]
  },
  {
   "cell_type": "code",
   "execution_count": 24,
   "metadata": {},
   "outputs": [
    {
     "data": {
      "image/png": "[encoded data removed]",
      "text/plain": [
       "<Figure size 1080x864 with 1 Axes>"
      ]
     },
     "metadata": {
      "needs_background": "light"
     },
     "output_type": "display_data"
    }
   ],
   "source": [
    "plt.subplots(figsize = (15,12))\n",
    "plt.bar(x=day_delays.index, height = day_delays['arr_delay'])\n",
    "plt.xticks(rotation = 90)\n",
    "plt.title('Mean Delay as a Function of Week Day')\n",
    "plt.ylabel('Mean Delay Time (minutes)')\n",
    "plt.show()"
   ]
  },
  {
   "cell_type": "markdown",
   "metadata": {},
   "source": [
    "#### **Task 1**: Test the hypothesis that the delay is from Normal distribution. and that **mean** of the delay is 0. Be careful about the outliers."
   ]
  },
  {
   "cell_type": "code",
   "execution_count": 25,
   "metadata": {},
   "outputs": [
    {
     "data": {
      "image/png": "[encoded data removed]",
      "text/plain": [
       "<Figure size 1080x864 with 1 Axes>"
      ]
     },
     "metadata": {},
     "output_type": "display_data"
    }
   ],
   "source": [
    "# Check the distribution of the data\n",
    "\n",
    "sns.set(style = 'darkgrid')\n",
    "sns.set_context(context = 'talk')\n",
    "fig, ax = plt.subplots(figsize=(15, 12))\n",
    "\n",
    "h = sns.histplot(data, x = data['arr_delay'])\n",
    "h.set(xlim = (-75, 150))\n",
    "plt.plot([0, 35000], color='red')\n",
    "plt.xlabel('Arrival time delta in minutes')\n",
    "plt.title('Checking for normal distribution')\n",
    "plt.show()"
   ]
  },
  {
   "cell_type": "code",
   "execution_count": 26,
   "metadata": {},
   "outputs": [
    {
     "name": "stdout",
     "output_type": "stream",
     "text": [
      "Mean flight arrival delta:  -8.344741175827323 minutes\n",
      "Median flight arrival delta:  -9.0 minutes\n"
     ]
    }
   ],
   "source": [
    "print('Mean flight arrival delta: ', data['arr_delay'].mean(), 'minutes')\n",
    "print('Median flight arrival delta: ', data['arr_delay'].median(), 'minutes')"
   ]
  },
  {
   "cell_type": "markdown",
   "metadata": {},
   "source": [
    "#### **Task 2**: Is average/median monthly delay different during the year? If yes, which are months with the biggest delays and what could be the reason?"
   ]
  },
  {
   "cell_type": "code",
   "execution_count": 27,
   "metadata": {},
   "outputs": [
    {
     "data": {
      "text/html": [
       "<div>\n",
       "<style scoped>\n",
       "    .dataframe tbody tr th:only-of-type {\n",
       "        vertical-align: middle;\n",
       "    }\n",
       "\n",
       "    .dataframe tbody tr th {\n",
       "        vertical-align: top;\n",
       "    }\n",
       "\n",
       "    .dataframe thead th {\n",
       "        text-align: right;\n",
       "    }\n",
       "</style>\n",
       "<table border=\"1\" class=\"dataframe\">\n",
       "  <thead>\n",
       "    <tr style=\"text-align: right;\">\n",
       "      <th></th>\n",
       "      <th>arr_delay</th>\n",
       "    </tr>\n",
       "    <tr>\n",
       "      <th>month</th>\n",
       "      <th></th>\n",
       "    </tr>\n",
       "  </thead>\n",
       "  <tbody>\n",
       "    <tr>\n",
       "      <th>1</th>\n",
       "      <td>-8.568723</td>\n",
       "    </tr>\n",
       "    <tr>\n",
       "      <th>12</th>\n",
       "      <td>-8.156259</td>\n",
       "    </tr>\n",
       "  </tbody>\n",
       "</table>\n",
       "</div>"
      ],
      "text/plain": [
       "       arr_delay\n",
       "month           \n",
       "1      -8.568723\n",
       "12     -8.156259"
      ]
     },
     "execution_count": 27,
     "metadata": {},
     "output_type": "execute_result"
    }
   ],
   "source": [
    "data[['month', 'arr_delay']].groupby('month').mean()"
   ]
  },
  {
   "cell_type": "markdown",
   "metadata": {},
   "source": [
    "Delays definitely seem to be slightly greater in January than in December.  Not really concerned with the other months at this point for the purposes of our analysis."
   ]
  },
  {
   "cell_type": "markdown",
   "metadata": {},
   "source": [
    "#### **Task 3**: Does the weather affect the delay? \n",
    "Use the API to pull the weather information for flights. There is no need to get weather for ALL flights. We can choose the right representative sample. Let's focus on four weather types:\n",
    "- sunny\n",
    "- cloudy\n",
    "- rainy\n",
    "- snow.\n",
    "Test the hypothesis that these 4 delays are from the same distribution. If they are not, which ones are significantly different?"
   ]
  },
  {
   "cell_type": "code",
   "execution_count": 28,
   "metadata": {},
   "outputs": [
    {
     "data": {
      "text/plain": [
       "Light       994315\n",
       "Moderate     47901\n",
       "Severe       34603\n",
       "Heavy         1005\n",
       "Other         1002\n",
       "UNK            227\n",
       "Name: origin_weather_severity, dtype: int64"
      ]
     },
     "execution_count": 28,
     "metadata": {},
     "output_type": "execute_result"
    }
   ],
   "source": [
    "# Let's see how weather severities are distributed\n",
    "data['origin_weather_severity'].value_counts()"
   ]
  },
  {
   "cell_type": "code",
   "execution_count": 29,
   "metadata": {},
   "outputs": [
    {
     "data": {
      "text/plain": [
       "Light       994315\n",
       "Moderate     47901\n",
       "Severe       36837\n",
       "Name: origin_weather_severity, dtype: int64"
      ]
     },
     "execution_count": 29,
     "metadata": {},
     "output_type": "execute_result"
    }
   ],
   "source": [
    "# Map severities of 'Heavy, other and UNK' to severe based on the high propensity for causing delays\n",
    "data['origin_weather_severity'] = data['origin_weather_severity'].replace({'Heavy': 'Severe', \n",
    "                                                                          'Other': 'Severe',\n",
    "                                                                          'UNK': 'Severe'},\n",
    "                                                                         )\n",
    "data['dest_weather_severity'] = data['dest_weather_severity'].replace({'Heavy': 'Severe', \n",
    "                                                                          'Other': 'Severe',\n",
    "                                                                          'UNK': 'Severe'},\n",
    "                                                                    )\n",
    "data['origin_weather_severity'].value_counts()"
   ]
  },
  {
   "cell_type": "code",
   "execution_count": 30,
   "metadata": {},
   "outputs": [],
   "source": [
    "# Simplify conditions to adverse or clear\n",
    "data['origin_weather_condition'] = data['origin_weather_condition'].replace({'Rain': 'Adverse', \n",
    "                                                                          'Snow': 'Adverse',\n",
    "                                                                          'Hail': 'Adverse',\n",
    "                                                                           'Storm': 'Adverse',\n",
    "                                                                            'Clear': 'Clear',\n",
    "                                                                            'Fog': 'Adverse',\n",
    "                                                                            'Cold': 'Adverse',\n",
    "                                                                            'Precipitation': 'Adverse'},\n",
    "                                                                         )\n",
    "\n",
    "data['dest_weather_condition'] = data['dest_weather_condition'].replace({'Rain': 'Adverse', \n",
    "                                                                          'Snow': 'Adverse',\n",
    "                                                                          'Hail': 'Adverse',\n",
    "                                                                           'Storm': 'Adverse',\n",
    "                                                                            'Clear': 'Clear',\n",
    "                                                                            'Fog': 'Adverse',\n",
    "                                                                            'Cold': 'Adverse',\n",
    "                                                                            'Precipitation': 'Adverse'},\n",
    "                                                                         )"
   ]
  },
  {
   "cell_type": "code",
   "execution_count": null,
   "metadata": {},
   "outputs": [],
   "source": []
  },
  {
   "cell_type": "code",
   "execution_count": 31,
   "metadata": {},
   "outputs": [],
   "source": [
    "origin_weather_chart = data[['origin_weather_condition', 'arr_delay']].groupby('origin_weather_condition').mean()\n",
    "dest_weather_chart = data[['dest_weather_condition', 'arr_delay']].groupby('dest_weather_condition').mean()\n",
    "origin_severity = data[['origin_weather_severity', 'arr_delay']].groupby('origin_weather_severity').mean()\n",
    "dest_severity = data[['dest_weather_severity', 'arr_delay']].groupby('dest_weather_severity').mean()"
   ]
  },
  {
   "cell_type": "code",
   "execution_count": 32,
   "metadata": {},
   "outputs": [
    {
     "data": {
      "image/png": "[encoded data removed]",
      "text/plain": [
       "<Figure size 1080x864 with 1 Axes>"
      ]
     },
     "metadata": {},
     "output_type": "display_data"
    }
   ],
   "source": [
    "plt.subplots(figsize = (15,12))\n",
    "plt.bar(x=origin_weather_chart.index, height = origin_weather_chart['arr_delay'])\n",
    "plt.xticks(rotation = 90)\n",
    "plt.title('Mean Delay as a Function of Weather at Origin')\n",
    "plt.ylabel('Mean Delay Time (minutes)')\n",
    "plt.show()"
   ]
  },
  {
   "cell_type": "code",
   "execution_count": 33,
   "metadata": {},
   "outputs": [
    {
     "data": {
      "image/png": "[encoded data removed]",
      "text/plain": [
       "<Figure size 1080x864 with 1 Axes>"
      ]
     },
     "metadata": {},
     "output_type": "display_data"
    }
   ],
   "source": [
    "plt.subplots(figsize = (15,12))\n",
    "plt.bar(x=dest_weather_chart.index, height = dest_weather_chart['arr_delay'])\n",
    "plt.xticks(rotation = 90)\n",
    "plt.title('Mean Delay as a Function of Weather at Destination')\n",
    "plt.ylabel('Mean Delay Time (minutes)')\n",
    "plt.show()"
   ]
  },
  {
   "cell_type": "code",
   "execution_count": 34,
   "metadata": {},
   "outputs": [
    {
     "data": {
      "image/png": "[encoded data removed]",
      "text/plain": [
       "<Figure size 1080x864 with 1 Axes>"
      ]
     },
     "metadata": {},
     "output_type": "display_data"
    }
   ],
   "source": [
    "plt.subplots(figsize = (15,12))\n",
    "plt.bar(x=origin_severity.index, height = origin_severity['arr_delay'])\n",
    "plt.xticks(rotation = 90)\n",
    "plt.title('Mean Delay as a Function of Weather Severity at Origin')\n",
    "plt.ylabel('Mean Delay Time (minutes)')\n",
    "plt.show()"
   ]
  },
  {
   "cell_type": "code",
   "execution_count": 35,
   "metadata": {},
   "outputs": [
    {
     "data": {
      "image/png": "[encoded data removed]",
      "text/plain": [
       "<Figure size 1080x864 with 1 Axes>"
      ]
     },
     "metadata": {},
     "output_type": "display_data"
    }
   ],
   "source": [
    "plt.subplots(figsize = (15,12))\n",
    "plt.bar(x=dest_severity.index, height = dest_severity['arr_delay'])\n",
    "plt.xticks(rotation = 90)\n",
    "plt.title('Mean Delay as a Function of Weather Severity at Destination')\n",
    "plt.ylabel('Mean Delay Time (minutes)')\n",
    "plt.show()"
   ]
  },
  {
   "cell_type": "markdown",
   "metadata": {},
   "source": [
    "#### **Task 4**: How taxi times changing during the day? Does higher traffic lead to bigger taxi times?"
   ]
  },
  {
   "cell_type": "code",
   "execution_count": null,
   "metadata": {},
   "outputs": [],
   "source": [
    "# Make a combined plot where the histogram shows the concentration of flights at a given time and a scatter plot (bubble) shows the duration of the taxi time.\n",
    "\n",
    "sns.set_context(context = 'talk')\n",
    "fig, ax = plt.subplots(figsize=(15, 12))\n",
    "# ax2 = ax.twinx()\n",
    "\n",
    "# h = sns.histplot(data = data, x = data['dep_time'], ax = ax)\n",
    "s = sns.scatterplot(data = data, \n",
    "                    x = data['dep_time'], \n",
    "                    y = data['taxi_out'], \n",
    "                    ax = ax, \n",
    "                    palette = 'seismic',\n",
    "                    hue = (data['arr_delay'] > 0))\n",
    "\n",
    "\n",
    "s.set(ylim = (0, 150))\n",
    "plt.title('Effect of Taxi Out time on Arrival Delay')\n",
    "plt.xlabel('Departure Time (hhmm)')\n",
    "plt.ylabel('Taxi Out Time')\n",
    "\n",
    "plt.show()"
   ]
  },
  {
   "cell_type": "markdown",
   "metadata": {},
   "source": [
    "How are taxi out times distributed by airport?"
   ]
  },
  {
   "cell_type": "code",
   "execution_count": null,
   "metadata": {},
   "outputs": [],
   "source": [
    "# Are certain origin airports more likely to be associated with long taxi times?\n",
    "taxi_port = data[['taxi_out', 'origin', 'arr_delay']].groupby(by = 'origin').mean()\n",
    "taxi_port\n"
   ]
  },
  {
   "cell_type": "code",
   "execution_count": null,
   "metadata": {},
   "outputs": [],
   "source": [
    "# Are certain destination airports more likely to be associated with long taxi times?\n",
    "taxi_dest = data[['taxi_in', 'origin', 'arr_delay']].groupby(by = 'origin').mean()\n",
    "taxi_dest"
   ]
  },
  {
   "cell_type": "code",
   "execution_count": null,
   "metadata": {},
   "outputs": [],
   "source": [
    "x = taxi_port['taxi_out']\n",
    "y = taxi_port['arr_delay']\n",
    "m, b = np.polyfit(x, y, 1)"
   ]
  },
  {
   "cell_type": "code",
   "execution_count": null,
   "metadata": {},
   "outputs": [],
   "source": [
    "# Plotting average delay of arrival vs airport mean taxi time\n",
    "plt.scatter(taxi_port['taxi_out'], taxi_port['arr_delay'])\n",
    "plt.plot(x, m*x + b, color = 'red')\n",
    "plt.xlabel('Taxi Out Time')\n",
    "plt.ylabel('Arrival delay')\n",
    "plt.show()"
   ]
  },
  {
   "cell_type": "code",
   "execution_count": null,
   "metadata": {},
   "outputs": [],
   "source": [
    "# Create a dicitonary of the mean taxi out time of each airport\n",
    "mean_taxi_out = dict(zip(taxi_port.index, taxi_port['taxi_out']))\n",
    "mean_taxi_in = dict(zip(taxi_dest.index, taxi_dest['taxi_in']))\n"
   ]
  },
  {
   "cell_type": "markdown",
   "metadata": {},
   "source": [
    "#### **Task 5**: What is the average percentage of delays that is already created before departure? (aka are arrival delays caused by departure delays?) Are airlines able to lower the delay during the flights?"
   ]
  },
  {
   "cell_type": "code",
   "execution_count": null,
   "metadata": {},
   "outputs": [],
   "source": [
    "# Try sesimic for the colour palette\n",
    "\n",
    "\n",
    "fig, ax = plt.subplots(figsize=(25, 10))\n",
    "sns.set_context(context = 'talk')\n",
    "s = sns.scatterplot(data = data, \n",
    "                    x = data['dep_time'],\n",
    "                    y = data['dep_delay'], \n",
    "                    ax = ax, \n",
    "                    palette = 'seismic_r',\n",
    "                    hue = (data['arr_delay']))\n",
    "plt.xlim(-50, 2750)\n",
    "plt.title('Are Delays Created Before the Plane Takes Off?')\n",
    "plt.xlabel('Departure Time (hhmm)')\n",
    "plt.ylabel('Change in departure time (minutes)')\n",
    "plt.legend(title = 'Arrival Delta \\n (Minutes)', loc = 'upper right')\n",
    "plt.show()"
   ]
  },
  {
   "cell_type": "markdown",
   "metadata": {},
   "source": [
    "\n",
    "#### **Task 6**: How many states cover 50% of US air traffic? "
   ]
  },
  {
   "cell_type": "code",
   "execution_count": null,
   "metadata": {},
   "outputs": [],
   "source": [
    "counts = data['dep_state'].value_counts() + data['dest_state'].value_counts()\n",
    "counts = counts.sort_values(ascending = False)"
   ]
  },
  {
   "cell_type": "code",
   "execution_count": null,
   "metadata": {},
   "outputs": [],
   "source": [
    "big_state_count = 0\n",
    "high_traffic_states = []\n",
    "i = 0\n",
    "while big_state_count <= counts.sum()/2:\n",
    "    big_state_count += counts[i]\n",
    "    high_traffic_states.append(counts.index[i])\n",
    "    i += 1\n",
    "print(\"50% of American air traffic occurs in these states: \\n\", high_traffic_states)"
   ]
  },
  {
   "cell_type": "code",
   "execution_count": null,
   "metadata": {},
   "outputs": [],
   "source": [
    "plt.bar(x = counts.index[:10], height = counts[:10])"
   ]
  },
  {
   "cell_type": "code",
   "execution_count": null,
   "metadata": {},
   "outputs": [],
   "source": []
  },
  {
   "cell_type": "code",
   "execution_count": null,
   "metadata": {},
   "outputs": [],
   "source": []
  },
  {
   "cell_type": "markdown",
   "metadata": {},
   "source": [
    "#### **Task 7**: Test the hypothesis whether planes fly faster when there is the departure delay? "
   ]
  },
  {
   "cell_type": "code",
   "execution_count": null,
   "metadata": {},
   "outputs": [],
   "source": [
    "# Make a histogram showing the flight time change for all flights\n",
    "\n",
    "sns.set(style = 'darkgrid')\n",
    "sns.set_context(context = 'talk')\n",
    "fig, ax = plt.subplots(figsize=(15, 12))\n",
    "\n",
    "h = sns.histplot(data, x = data['flight_time_change'])\n",
    "h.set(xlim = (-75, 150))\n",
    "plt.plot([0, 50000], color='red')\n",
    "plt.xlabel('Flight time change')\n",
    "plt.title('Do flights make up time in the air?')\n",
    "plt.show()\n",
    "# plt.scatter(data['dep_delay'], data['flight_time_change'])"
   ]
  },
  {
   "cell_type": "code",
   "execution_count": null,
   "metadata": {},
   "outputs": [],
   "source": [
    "# Create the same histogram, but this time only use the flights that departed late\n",
    "sns.set_context(context = 'talk')\n",
    "dep_delay = data[data['dep_delay'] > 0]\n",
    "\n",
    "fig, ax = plt.subplots(figsize=(15, 12))\n",
    "h = sns.histplot(dep_delay, x = dep_delay['flight_time_change'])\n",
    "h.set(xlim = (-75, 150))\n",
    "plt.plot([0, 17500], color='red')\n",
    "plt.xlabel('Flight time change')\n",
    "plt.title('Do delayed flights make up time in the air?')\n",
    "plt.show()\n"
   ]
  },
  {
   "cell_type": "code",
   "execution_count": null,
   "metadata": {},
   "outputs": [],
   "source": []
  },
  {
   "cell_type": "markdown",
   "metadata": {},
   "source": [
    "#### **Task 8**: When (which hour) do most 'LONG', 'SHORT', 'MEDIUM' haul flights take off?"
   ]
  },
  {
   "cell_type": "code",
   "execution_count": null,
   "metadata": {},
   "outputs": [],
   "source": [
    "arrays = [data['crs_dep_hour'], data['haul_type']]\n",
    "hauls = data['haul_type'].to_list()\n",
    "index = pd.MultiIndex.from_arrays(arrays, names=('Departure Hour', 'Haul Type'))\n",
    "\n",
    "df = pd.DataFrame(hauls, index=index)\n",
    "df = df.groupby(by =['Departure Hour', 'Haul Type']).count()"
   ]
  },
  {
   "cell_type": "code",
   "execution_count": null,
   "metadata": {},
   "outputs": [],
   "source": [
    "df = df.reset_index()"
   ]
  },
  {
   "cell_type": "code",
   "execution_count": null,
   "metadata": {},
   "outputs": [],
   "source": [
    "# Plot a bar plot of distance (mean) as a function of dep_time \n",
    "fig, ax = plt.subplots(figsize=(15, 12))\n",
    "sns.barplot(data = df, x = 'Departure Hour', y = 0, hue = 'Haul Type')\n",
    "plt.ylabel('Count')\n",
    "plt.title('Departure types by hour of day')"
   ]
  },
  {
   "cell_type": "code",
   "execution_count": null,
   "metadata": {},
   "outputs": [],
   "source": [
    "del_by_hr = data[['crs_dep_hour', 'arr_delay']]\n",
    "del_by_hr = del_by_hr.groupby('crs_dep_hour').mean()"
   ]
  },
  {
   "cell_type": "code",
   "execution_count": null,
   "metadata": {},
   "outputs": [],
   "source": [
    "fig, ax = plt.subplots(figsize=(15, 12))\n",
    "sns.barplot(data = del_by_hr, x = del_by_hr.index, y = 'arr_delay')\n",
    "plt.ylabel('Arrival Delta')\n",
    "plt.title('Arrival delta by hour of day')"
   ]
  },
  {
   "cell_type": "markdown",
   "metadata": {},
   "source": [
    "#### **Task 9**: Find the top 10 the bussiest airports. Does the biggest number of flights mean that the biggest number of passengers went through the particular airport? How much traffic do these 10 airports cover?"
   ]
  },
  {
   "cell_type": "markdown",
   "metadata": {},
   "source": [
    "Going to compare number of flights per airport vs the number of passengers per airport.  Found that number of flights is correlated with number of passengers, however it is not perfect.  Some of the airports ranked below number 5 in terms of total flights are not even in the top 10 when it comes to passenger count.  \n",
    "\n",
    "The top 10 airports represent 32.4% of passenger traffic"
   ]
  },
  {
   "cell_type": "code",
   "execution_count": null,
   "metadata": {},
   "outputs": [],
   "source": [
    "# Create a list of the most heavily trafficked airports by number of flights\n",
    "\n",
    "airport_counts = data['origin'].value_counts() + data['dest'].value_counts()\n",
    "flight_counts = airport_counts.sort_values(ascending = False).head(10).index.to_list()"
   ]
  },
  {
   "cell_type": "code",
   "execution_count": null,
   "metadata": {},
   "outputs": [],
   "source": [
    "passengers = pd.read_csv('data/passengers.csv')\n",
    "passengers = passengers[(passengers['origin_country_name'] == 'United States') & (passengers['dest_country_name'] == 'United States')]\n",
    "\n",
    "passengers.head(10)"
   ]
  },
  {
   "cell_type": "code",
   "execution_count": null,
   "metadata": {},
   "outputs": [],
   "source": [
    "passengers.columns"
   ]
  },
  {
   "cell_type": "code",
   "execution_count": null,
   "metadata": {},
   "outputs": [],
   "source": []
  },
  {
   "cell_type": "code",
   "execution_count": null,
   "metadata": {},
   "outputs": [],
   "source": [
    "pass_dest = passengers[['dest', 'passengers']]\n",
    "pass_origin = passengers[['origin', 'passengers']]"
   ]
  },
  {
   "cell_type": "code",
   "execution_count": null,
   "metadata": {},
   "outputs": [],
   "source": [
    "# Create lists of the most heavily trafficked airports by passengers\n",
    "\n",
    "dest_traffic = pass_dest.groupby('dest').sum().sort_values(by = 'passengers', ascending = False).head(10)\n",
    "origin_traffic = pass_origin.groupby('origin').sum().sort_values(by='passengers', ascending = False).head(10)\n"
   ]
  },
  {
   "cell_type": "code",
   "execution_count": null,
   "metadata": {},
   "outputs": [],
   "source": [
    "# Get the sums of the 10 highest trafficed airports\n",
    "sum_dest_traffic = dest_traffic.head(10).sum()\n",
    "sum_origin_traffic = origin_traffic.head(10).sum()\n",
    "print('Destination Traffic: ', sum_dest_traffic)\n",
    "print('Origin Traffic: ', sum_origin_traffic)"
   ]
  },
  {
   "cell_type": "code",
   "execution_count": null,
   "metadata": {},
   "outputs": [],
   "source": [
    "# Convert to lists\n",
    "dest_traffic_list = dest_traffic.head(10).index.to_list()\n",
    "origin_traffic_list = origin_traffic.head(10).index.to_list()"
   ]
  },
  {
   "cell_type": "code",
   "execution_count": null,
   "metadata": {},
   "outputs": [],
   "source": [
    "print(flight_counts)\n",
    "print(dest_traffic_list)\n",
    "print(origin_traffic_list)"
   ]
  },
  {
   "cell_type": "code",
   "execution_count": null,
   "metadata": {},
   "outputs": [],
   "source": [
    "print('Top 10 airports as a percentage of total destination traffic:' , sum_dest_traffic / passengers['passengers'].sum())\n",
    "print('Top 10 airports as a percentage of total origin traffic:' , sum_origin_traffic / passengers['passengers'].sum())"
   ]
  },
  {
   "cell_type": "markdown",
   "metadata": {},
   "source": [
    "# Delay as a function of distance"
   ]
  },
  {
   "cell_type": "code",
   "execution_count": null,
   "metadata": {},
   "outputs": [],
   "source": [
    "m, n = np.polyfit(data['distance'], data['arr_delay'], 1)"
   ]
  },
  {
   "cell_type": "code",
   "execution_count": null,
   "metadata": {},
   "outputs": [],
   "source": [
    "plt.scatter(data['distance'], data['arr_delay'])\n",
    "plt.plot(data['distance'], m*data['distance'] + n, color = 'red')\n",
    "plt.xlabel('Distance')\n",
    "plt.ylabel('Arr_Delay')\n",
    "plt.title('Arrival delay as a function of flight distance')\n",
    "plt.show()"
   ]
  },
  {
   "cell_type": "markdown",
   "metadata": {},
   "source": [
    "# Delay as a function of elapsed time"
   ]
  },
  {
   "cell_type": "code",
   "execution_count": null,
   "metadata": {},
   "outputs": [],
   "source": [
    "m, b = np.polyfit(data['crs_elapsed_time'], data['arr_delay'], 1)"
   ]
  },
  {
   "cell_type": "code",
   "execution_count": null,
   "metadata": {},
   "outputs": [],
   "source": [
    "# plt.scatter(data['crs_elapsed_time'], data['arr_delay'])\n",
    "# plt.plot(data['crs_elapsed_time'], m*data['distance'] + b, color = 'red')\n",
    "# plt.xlabel('crs_elapsed_time')\n",
    "# plt.ylabel('Arr_Delay')\n",
    "# plt.title('Arrival delay as a function of flight distance')\n",
    "# plt.show()"
   ]
  },
  {
   "cell_type": "code",
   "execution_count": null,
   "metadata": {},
   "outputs": [],
   "source": []
  },
  {
   "cell_type": "markdown",
   "metadata": {},
   "source": [
    "# **Task 10**: Do bigger delays lead to bigger fuel comsumption per passenger? \n",
    "We need to do four things to answer this as accurate as possible:\n",
    "- Find out average monthly delay per air carrier (monthly delay is sum of all delays in 1 month)\n",
    "- Find out distance covered monthly by different air carriers\n",
    "- Find out number of passengers that were carried by different air carriers\n",
    "- Find out total fuel comsumption per air carrier.\n",
    "\n",
    "Use this information to get the average fuel comsumption per passenger per km. Is this higher for the airlines with bigger average delays?"
   ]
  },
  {
   "cell_type": "code",
   "execution_count": null,
   "metadata": {},
   "outputs": [],
   "source": [
    "# Get the average monthly delay by carrier\n",
    "q10_carrier= data[['mkt_unique_carrier', 'arr_delay']].groupby(by = ['mkt_unique_carrier']).mean().rename(columns={'arr_delay':'mean_delay'})\n"
   ]
  },
  {
   "cell_type": "code",
   "execution_count": null,
   "metadata": {},
   "outputs": [],
   "source": [
    "# Get the carrier distance \n",
    "q10_cardist = data[['mkt_unique_carrier', 'distance']].groupby(by=['mkt_unique_carrier']).sum().rename(columns = {'arr_delay': 'total_distance'})\n"
   ]
  },
  {
   "cell_type": "code",
   "execution_count": null,
   "metadata": {},
   "outputs": [],
   "source": [
    "carrier_list = ['AA','AS','B6','DL','F9','G4','HA','NK','UA','VX','WN']"
   ]
  },
  {
   "cell_type": "code",
   "execution_count": null,
   "metadata": {},
   "outputs": [],
   "source": [
    "# Monthly passenger count by carrier\n",
    "q10_pass = passengers[['carrier', 'month', 'year','passengers']]\n",
    "q10_pass = q10_pass[(q10_pass['month'] == 1) | (q10_pass['month'] == 12)]\n",
    "q10_pass = q10_pass[(q10_pass['year'] == 2018) | (q10_pass['year'] == 2019)]\n",
    "q10_pass = q10_pass[q10_pass['carrier'].isin(carrier_list)].drop(columns='year')\n",
    "q10_pass = q10_pass[['carrier', 'passengers']].groupby(by=['carrier']).sum().rename(columns = {'passengers': 'total_monthly_passengers'})\n"
   ]
  },
  {
   "cell_type": "code",
   "execution_count": null,
   "metadata": {},
   "outputs": [],
   "source": [
    "# Load the fuel dataset\n",
    "fuel = pd.read_csv('data/fuel.csv')"
   ]
  },
  {
   "cell_type": "code",
   "execution_count": null,
   "metadata": {},
   "outputs": [],
   "source": []
  },
  {
   "cell_type": "code",
   "execution_count": null,
   "metadata": {},
   "outputs": [],
   "source": [
    "# Filter the fuel dataset so that the dates correspond to jan, dec of 2018, 2019\n",
    "\n",
    "\n",
    "\n",
    "fuel = fuel[(fuel['month'] == 1) | (fuel['month'] == 12)]\n",
    "fuel = fuel[(fuel['year'] == 2018) | (fuel['year'] == 2019)]\n",
    "fuel = fuel[[ 'carrier', 'tdomt_gallons']]\n",
    "fuel = fuel[fuel['carrier'].isin(carrier_list)].groupby(by=['carrier']).sum()\n",
    "\n",
    "# # Add VX based on mean of other carriers \n",
    "\n"
   ]
  },
  {
   "cell_type": "code",
   "execution_count": null,
   "metadata": {},
   "outputs": [],
   "source": [
    "q10 = pd.concat([fuel, q10_pass, q10_cardist, q10_carrier], axis = 1)\n",
    "\n",
    "q10['fuel_consumption'] = q10.tdomt_gallons / q10.distance\n",
    "q10['fuel_per_passenger'] = q10.fuel_consumption / q10.total_monthly_passengers\n",
    "\n",
    "# Add VX based on mean of other carriers \n",
    "calc = q10['fuel_per_passenger'].mean()\n",
    "q10['fuel_per_passenger'].fillna(value=calc, inplace=True)"
   ]
  },
  {
   "cell_type": "code",
   "execution_count": null,
   "metadata": {},
   "outputs": [],
   "source": [
    "\n",
    "q10"
   ]
  },
  {
   "cell_type": "code",
   "execution_count": null,
   "metadata": {},
   "outputs": [],
   "source": [
    "fig, ax = plt.subplots(figsize=(12, 9))\n",
    "\n",
    "sns.scatterplot(data = q10, x = q10['fuel_per_passenger'],y = q10['mean_delay'], hue = q10.index)\n",
    "\n",
    "plt.xlabel('Fuel Consumption (Per Passenger Per Mile)')\n",
    "plt.ylabel('Mean delay')\n",
    "plt.title('Carrier Fuel Consumption')"
   ]
  },
  {
   "cell_type": "code",
   "execution_count": null,
   "metadata": {},
   "outputs": [],
   "source": [
    "fuel_dict = dict(zip(q10.index, q10.fuel_per_passenger))\n",
    "fuel_dict"
   ]
  },
  {
   "cell_type": "code",
   "execution_count": null,
   "metadata": {},
   "outputs": [],
   "source": []
  },
  {
   "cell_type": "markdown",
   "metadata": {},
   "source": [
    "# Checking out carrier stats"
   ]
  },
  {
   "cell_type": "code",
   "execution_count": null,
   "metadata": {},
   "outputs": [],
   "source": [
    "# Calculate the mean delay by carrier\n",
    "mean_carrier_delays = data[['mkt_unique_carrier','arr_delay']].groupby('mkt_unique_carrier').mean().rename(columns = {'arr_delay': 'mean_delay'})\n",
    "median_carrier_delays = data[['mkt_unique_carrier','arr_delay']].groupby('mkt_unique_carrier').median().rename(columns = {'arr_delay': 'median_delay'})\n",
    "carrier_flight_count = data[['mkt_unique_carrier','arr_delay']].groupby('mkt_unique_carrier').count().rename(columns = {'arr_delay': 'flight_count'})\n",
    "c_delays = data[['mkt_unique_carrier','on_time']].groupby('mkt_unique_carrier').sum().rename(columns = {'arr_delay': 'on_time'})\n",
    "\n",
    "# Merge the various value count tables created\n",
    "carrier_delays = mean_carrier_delays.merge(median_carrier_delays,left_index = True, right_index = True)\n",
    "carrier_delays = carrier_delays.merge(carrier_flight_count, left_index = True, right_index = True)\n",
    "carrier_delays = carrier_delays.merge(c_delays, left_index = True, right_index = True)\n",
    "\n",
    "# Calculate on time % as a function of the elements in the table\n",
    "carrier_delays['on_time_pct'] = carrier_delays['on_time']/carrier_delays['flight_count']"
   ]
  },
  {
   "cell_type": "code",
   "execution_count": null,
   "metadata": {},
   "outputs": [],
   "source": [
    "carrier_delays.sort_values(by='on_time_pct')"
   ]
  },
  {
   "cell_type": "code",
   "execution_count": null,
   "metadata": {},
   "outputs": [],
   "source": []
  },
  {
   "cell_type": "code",
   "execution_count": null,
   "metadata": {},
   "outputs": [],
   "source": [
    "# Create a dictionary with the relevant on time percentage (values) and airlines(keys)\n",
    "carrier_pct = dict(zip(carrier_delays.index, carrier_delays['on_time_pct']))\n",
    "\n",
    "# Create a dictionary with the mean delay by airline\n",
    "carrier_mean_delay = dict(zip(carrier_delays.index, carrier_delays['mean_delay']))"
   ]
  },
  {
   "cell_type": "code",
   "execution_count": null,
   "metadata": {},
   "outputs": [],
   "source": [
    "# Create a dictionary of airlines and their carrier codes\n",
    "airlines = {'AA': 'American Airlines',\n",
    "           'AS': 'Alaska Airlines',\n",
    "           'B6': 'JetBlue',\n",
    "           'DL': 'Delta',\n",
    "           'F9': 'Frontier',\n",
    "           'G4': 'Allegiant',\n",
    "           'HA': 'Hawaiian Airlines',\n",
    "           'NK': 'Spirit Airlines',\n",
    "           'UA': 'United Airlines',\n",
    "           'VX': 'Virgin America',\n",
    "           'WN': 'Southwest Airlines'}"
   ]
  },
  {
   "cell_type": "markdown",
   "metadata": {},
   "source": [
    "# Individual Plane Delays\n",
    "Creating a feature quantifying the on-time percentage for each tail number"
   ]
  },
  {
   "cell_type": "code",
   "execution_count": null,
   "metadata": {},
   "outputs": [],
   "source": [
    "# Create a summary dataframe of how bad each plane is in terms of delays\n",
    "\n",
    "# Summary columns\n",
    "mean_plane_delays = data[['tail_num','arr_delay']].groupby('tail_num').mean().rename(columns = {'arr_delay': 'mean_delay'})\n",
    "median_plane_delays = data[['tail_num','arr_delay']].groupby('tail_num').median().rename(columns = {'arr_delay': 'median_delay'})\n",
    "plane_counts = data[['tail_num','arr_delay']].groupby('tail_num').count().rename(columns = {'arr_delay': 'flight_count'})\n",
    "delays = data[['tail_num', 'on_time']].groupby('tail_num').sum().rename(columns = {'arr_delay': 'on_time'})\n",
    "\n",
    "# Merging of columns\n",
    "plane_mex = mean_plane_delays.merge(median_plane_delays, left_index = True, right_index = True)\n",
    "plane_mex = plane_mex.merge(plane_counts, left_index = True, right_index = True)\n",
    "plane_mex = plane_mex.merge(delays, left_index = True, right_index  = True)\n",
    "plane_mex = plane_mex.dropna(axis = 0)\n",
    "plane_mex['on_time_pct'] = plane_mex['on_time'] / plane_mex['flight_count']"
   ]
  },
  {
   "cell_type": "code",
   "execution_count": null,
   "metadata": {},
   "outputs": [],
   "source": [
    "plane_mex.sort_values(by='on_time_pct', ascending = True).head(5)"
   ]
  },
  {
   "cell_type": "code",
   "execution_count": null,
   "metadata": {},
   "outputs": [],
   "source": [
    "# Create a dictionary of tail numbers (keys) and on_time_pct (values)\n",
    "plane_pct = dict(zip(plane_mex.index, plane_mex['on_time_pct']))"
   ]
  },
  {
   "cell_type": "markdown",
   "metadata": {},
   "source": [
    "# Checking out airport delays \n",
    "Creating a feature quantifying the percentage of time that the origin airport is involved in an arrival delay"
   ]
  },
  {
   "cell_type": "code",
   "execution_count": null,
   "metadata": {},
   "outputs": [],
   "source": [
    "# Create a summary dataframe of how bad each airport is for delays\n",
    "\n",
    "# Summary columns\n",
    "mean_dest_arr_delays = data[['dest','arr_delay']].groupby('dest').mean().rename(columns = {'arr_delay': 'mean_dest_arr_delay'})\n",
    "mean_origin_dep_delays = data[['origin','dep_delay']].groupby('origin').mean().rename(columns = {'dep_delay': 'mean_origin_dep_delay'})\n",
    "median_origin_dep_delays = data[['origin','dep_delay']].groupby('origin').median().rename(columns = {'dep_delay': 'median_origin_dep_delay'})\n",
    "ap_counts = data[['origin','arr_delay']].groupby('origin').count().rename(columns = {'arr_delay': 'flight_count'})\n",
    "delays = data[['origin', 'on_time']].groupby('origin').sum().rename(columns = {'arr_delay': 'on_time'})\n",
    "\n",
    "# Merging of columns\n",
    "ap_delay = mean_dest_arr_delays.merge(mean_origin_dep_delays, left_index = True, right_index = True)\n",
    "ap_delay = ap_delay.merge(median_origin_dep_delays, left_index = True, right_index = True)\n",
    "ap_delay = ap_delay.merge(ap_counts, left_index = True, right_index = True)\n",
    "ap_delay = ap_delay.merge(delays, left_index = True, right_index  = True)\n",
    "\n",
    "# Make a new column for the percentage of time a flight leaving this location is on time\n",
    "ap_delay['on_time_pct'] = ap_delay['on_time'] / ap_delay['flight_count']"
   ]
  },
  {
   "cell_type": "code",
   "execution_count": null,
   "metadata": {},
   "outputs": [],
   "source": [
    "ap_delay[ap_delay['flight_count'] > 1000].sort_values(by='on_time_pct')"
   ]
  },
  {
   "cell_type": "markdown",
   "metadata": {},
   "source": []
  },
  {
   "cell_type": "code",
   "execution_count": null,
   "metadata": {},
   "outputs": [],
   "source": [
    "# Create a dict to store the on time percentages of the various origin airports\n",
    "origin_pct = dict(zip(ap_delay.index, ap_delay['on_time_pct']))\n",
    "\n",
    "# Create a dict to store the mean delay of a flight leaving this location\n",
    "origin_mean_dep_delay = dict(zip(ap_delay.index, ap_delay['mean_origin_dep_delay']))\n",
    "\n",
    "# Create a dict to store the mean delay of a flight arriving at a location\n",
    "dest_mean_arr_delay = dict(zip(ap_delay.index, ap_delay['mean_dest_arr_delay']))"
   ]
  },
  {
   "cell_type": "markdown",
   "metadata": {},
   "source": [
    "# Flight number delays\n",
    "Quantifying the percentage of time that a specific flight number is on time."
   ]
  },
  {
   "cell_type": "code",
   "execution_count": null,
   "metadata": {},
   "outputs": [],
   "source": [
    "# Create a summary dataframe of how bad each flight is for delays\n",
    "\n",
    "# Summary columns\n",
    "mean_flight_delays = data[['mkt_carrier_fl_num','arr_delay']].groupby('mkt_carrier_fl_num').mean().rename(columns = {'arr_delay': 'mean_delay'})\n",
    "median_flight_delays = data[['mkt_carrier_fl_num','arr_delay']].groupby('mkt_carrier_fl_num').median().rename(columns = {'arr_delay': 'median_delay'})\n",
    "flight_counts = data[['mkt_carrier_fl_num','arr_delay']].groupby('mkt_carrier_fl_num').count().rename(columns = {'arr_delay': 'flight_count'})\n",
    "flight_delays = data[['mkt_carrier_fl_num', 'on_time']].groupby('mkt_carrier_fl_num').sum().rename(columns = {'arr_delay': 'on_time'})\n",
    "\n",
    "# Merging of columns\n",
    "fl_delay = mean_flight_delays.merge(median_flight_delays, left_index = True, right_index = True)\n",
    "fl_delay = fl_delay.merge(flight_counts, left_index = True, right_index = True)\n",
    "fl_delay = fl_delay.merge(flight_delays, left_index = True, right_index  = True)\n",
    "fl_delay['on_time_pct'] = fl_delay['on_time'] / fl_delay['flight_count']"
   ]
  },
  {
   "cell_type": "code",
   "execution_count": null,
   "metadata": {},
   "outputs": [],
   "source": [
    "fl_delay.sort_values(by='on_time_pct')"
   ]
  },
  {
   "cell_type": "code",
   "execution_count": null,
   "metadata": {},
   "outputs": [],
   "source": [
    "# Create a dict to store the on-time percentages of various flights\n",
    "fl_num_pct = dict(zip(fl_delay.index, fl_delay['on_time_pct']))"
   ]
  },
  {
   "cell_type": "markdown",
   "metadata": {},
   "source": [
    "# Does Route as a feature improve upon the previous metrics?"
   ]
  },
  {
   "cell_type": "code",
   "execution_count": null,
   "metadata": {},
   "outputs": [],
   "source": []
  },
  {
   "cell_type": "code",
   "execution_count": null,
   "metadata": {},
   "outputs": [],
   "source": [
    "# Summary columns\n",
    "mean_route_delays = data[['route','arr_delay']].groupby('route').mean().rename(columns = {'arr_delay': 'mean_delay'})\n",
    "median_route_delays = data[['route','arr_delay']].groupby('route').median().rename(columns = {'arr_delay': 'median_delay'})\n",
    "route_counts = data[['route','arr_delay']].groupby('route').count().rename(columns = {'arr_delay': 'flight_count'})\n",
    "route_delays = data[['route', 'on_time']].groupby('route').sum().rename(columns = {'arr_delay': 'on_time'})\n",
    "\n",
    "# Merging of columns\n",
    "r_delay = mean_route_delays.merge(median_route_delays, left_index = True, right_index = True)\n",
    "r_delay = r_delay.merge(route_counts, left_index = True, right_index = True)\n",
    "r_delay = r_delay.merge(route_delays, left_index = True, right_index  = True)\n",
    "r_delay['on_time_pct'] = r_delay['on_time'] / r_delay['flight_count']"
   ]
  },
  {
   "cell_type": "code",
   "execution_count": null,
   "metadata": {},
   "outputs": [],
   "source": [
    "r_delay.sort_values(by='on_time_pct')"
   ]
  },
  {
   "cell_type": "code",
   "execution_count": null,
   "metadata": {},
   "outputs": [],
   "source": [
    "route_pct = dict(zip(r_delay.index, r_delay['on_time_pct']))"
   ]
  },
  {
   "cell_type": "markdown",
   "metadata": {},
   "source": [
    "# Dropping Remaining Columns\n",
    "\n",
    "\n",
    "## Columns to Drop\n",
    "\n",
    "* Flights - There is only one value in thw whole table\n",
    "* All 5 features with the _delay tag\n",
    "* OP_carrier_fl_num, op_unique_carrier\n",
    "* Taxi in, Taxi Out\n",
    "* branded_code_share\n",
    "* origin_airport_id, dest_airport_id\n",
    "* Wheels_off, wheels_on\n",
    "* Cancelled, cancellation code\n",
    "* Diverted\n",
    "\n",
    "\n",
    "The following columns will be dropped for the final dataframe for two reasons. <br>\n",
    "Either the information is duplicated in some way, elsewhere in the table.  Or the information relates to flights in progress or that have \n",
    "already happened, therefore, they cannot be used to predict future flights."
   ]
  },
  {
   "cell_type": "code",
   "execution_count": null,
   "metadata": {},
   "outputs": [],
   "source": [
    "data = data.drop(columns = ['branded_code_share',\n",
    "                           'mkt_carrier',\n",
    "                           'origin_airport_id',\n",
    "                            'origin_city_name',\n",
    "                            'dest_city_name',\n",
    "                           'dest_airport_id',\n",
    "                           'wheels_off',\n",
    "                           'wheels_on',\n",
    "                           'taxi_in',\n",
    "                           'taxi_out',\n",
    "                           'diverted',\n",
    "                           'longest_add_gtime',\n",
    "                           'total_add_gtime',\n",
    "                           'crs_elapsed_time',\n",
    "                           'actual_elapsed_time',\n",
    "                           'air_time',\n",
    "                           'flight_time_change',\n",
    "                           'made_up_time', \n",
    "                           'no_name',\n",
    "                           'arr_time',\n",
    "                           'flights',\n",
    "                           'dep_time',\n",
    "                           'dep_delay',\n",
    "                            'dep_hour',\n",
    "                            'arr_hour',\n",
    "                            'first_dep_time',])"
   ]
  },
  {
   "cell_type": "code",
   "execution_count": null,
   "metadata": {},
   "outputs": [],
   "source": [
    "data.columns"
   ]
  },
  {
   "cell_type": "code",
   "execution_count": null,
   "metadata": {},
   "outputs": [],
   "source": [
    "data.head()"
   ]
  },
  {
   "cell_type": "markdown",
   "metadata": {},
   "source": [
    "\n",
    "## Feature Addition\n",
    "\n",
    "* Split fl_date into day, month, year\n",
    "* Created columns for departure state and destination state\n",
    "* Created a column called flight_time_change representing the change in actual vs expected flight time\n",
    "* Split the crs_dep_time column into dep_hour and dep_minute for analysis\n",
    "* Created a haul_type column where flight times are classified as long, short or medium haul\n",
    "* Plane, airline and airport on-time percentages\n",
    "* Weather Severity\n",
    "* Weather conditions\n",
    "<br><br>\n",
    "The principal features that we want to engineer here are the on time percentages for each plane, route, carrier and origin airport.\n",
    "<br> * Features for carrier fuel consumption \n",
    "<br> * Mean taxi in and mean taxi out for each airport\n",
    "<br>\n",
    "Features are mapped to their respective observations in the dataframe via dictionary.  These dictionaries will need to be exported to .txt files in JSON format so that they can be applied to the data."
   ]
  },
  {
   "cell_type": "code",
   "execution_count": null,
   "metadata": {},
   "outputs": [],
   "source": [
    "# Create a list of the feature engineering dictionaries for export\n",
    "dict_list_export = [carrier_pct,\n",
    "                   plane_pct,\n",
    "                   origin_pct,\n",
    "                   fl_num_pct,\n",
    "                   route_pct,\n",
    "                   fuel_dict,\n",
    "                   mean_taxi_out,\n",
    "                   mean_taxi_in,\n",
    "                   carrier_mean_delay,\n",
    "                   origin_mean_dep_delay,\n",
    "                   dest_mean_arr_delay]\n",
    "\n",
    "filenames = ['carrier_pct',\n",
    "            'plane_pct',\n",
    "            'origin_pct',\n",
    "            'fl_num_pct',\n",
    "            'route_pct',\n",
    "            'fuel_dict',\n",
    "            'mean_taxi_out',\n",
    "            'mean_taxi_in',\n",
    "            'carrier_mean_delay',\n",
    "            'origin_mean_dep_delay',\n",
    "            'dest_mean_arr_delay']\n",
    "\n",
    "# Export dictionaries to text in JSON format\n",
    "import json\n",
    "\n",
    "# Iterate through the lists of dictionaries and names, writing the required JSON files\n",
    "index = 0\n",
    "for d in dict_list_export:\n",
    "    filename = f'data/dicts/{filenames[index]}.json'\n",
    "    with open(filename, mode = 'w') as f:\n",
    "        json.dump(d,f)\n",
    "        index += 1"
   ]
  },
  {
   "cell_type": "code",
   "execution_count": null,
   "metadata": {},
   "outputs": [],
   "source": [
    "# # Write data to csv\n",
    "# data.to_csv('data/post_explore.csv')"
   ]
  }
 ],
 "metadata": {
  "kernelspec": {
   "display_name": "bootcamp_env",
   "language": "python",
   "name": "bootcamp_env"
  },
  "language_info": {
   "codemirror_mode": {
    "name": "ipython",
    "version": 3
   },
   "file_extension": ".py",
   "mimetype": "text/x-python",
   "name": "python",
   "nbconvert_exporter": "python",
   "pygments_lexer": "ipython3",
   "version": "3.6.10"
  },
  "toc": {
   "base_numbering": 1,
   "nav_menu": {},
   "number_sections": true,
   "sideBar": true,
   "skip_h1_title": false,
   "title_cell": "Table of Contents",
   "title_sidebar": "Contents",
   "toc_cell": false,
   "toc_position": {},
   "toc_section_display": true,
   "toc_window_display": false
  },
  "varInspector": {
   "cols": {
    "lenName": 16,
    "lenType": 16,
    "lenVar": 40
   },
   "kernels_config": {
    "python": {
     "delete_cmd_postfix": "",
     "delete_cmd_prefix": "del ",
     "library": "var_list.py",
     "varRefreshCmd": "print(var_dic_list())"
    },
    "r": {
     "delete_cmd_postfix": ") ",
     "delete_cmd_prefix": "rm(",
     "library": "var_list.r",
     "varRefreshCmd": "cat(var_dic_list()) "
    }
   },
   "types_to_exclude": [
    "module",
    "function",
    "builtin_function_or_method",
    "instance",
    "_Feature"
   ],
   "window_display": false
  }
 },
 "nbformat": 4,
 "nbformat_minor": 4
}
